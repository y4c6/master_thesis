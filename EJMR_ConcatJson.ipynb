{
  "nbformat": 4,
  "nbformat_minor": 0,
  "metadata": {
    "colab": {
      "provenance": [],
      "authorship_tag": "ABX9TyMWhOTZQF+D6q84z1f41ykt",
      "include_colab_link": true
    },
    "kernelspec": {
      "name": "python3",
      "display_name": "Python 3"
    },
    "language_info": {
      "name": "python"
    }
  },
  "cells": [
    {
      "cell_type": "markdown",
      "metadata": {
        "id": "view-in-github",
        "colab_type": "text"
      },
      "source": [
        "<a href=\"https://colab.research.google.com/github/y4c6/master_thesis/blob/main/EJMR_ConcatJson.ipynb\" target=\"_parent\"><img src=\"https://colab.research.google.com/assets/colab-badge.svg\" alt=\"Open In Colab\"/></a>"
      ]
    },
    {
      "cell_type": "code",
      "execution_count": 24,
      "metadata": {
        "id": "ma9L5UjeN59k",
        "colab": {
          "base_uri": "https://localhost:8080/"
        },
        "outputId": "d85ec86e-53f4-4406-b162-6e32a9c54dec"
      },
      "outputs": [
        {
          "output_type": "stream",
          "name": "stdout",
          "text": [
            "Drive already mounted at /content/gdrive; to attempt to forcibly remount, call drive.mount(\"/content/gdrive\", force_remount=True).\n"
          ]
        }
      ],
      "source": [
        "from google.colab import drive\n",
        "# directory\n",
        "drive.mount('/content/gdrive')"
      ]
    },
    {
      "cell_type": "code",
      "source": [
        "dir = '/content/gdrive/MyDrive/論文相關材料/EJMRpost_11_20/'"
      ],
      "metadata": {
        "id": "U0KJUNn8QHCu"
      },
      "execution_count": 25,
      "outputs": []
    },
    {
      "cell_type": "code",
      "source": [
        "os.chdir(dir)"
      ],
      "metadata": {
        "id": "-U3X3oiXTCCH"
      },
      "execution_count": 29,
      "outputs": []
    },
    {
      "cell_type": "code",
      "source": [
        "for f in os.listdir(dir):\n",
        "    print(f)"
      ],
      "metadata": {
        "colab": {
          "base_uri": "https://localhost:8080/"
        },
        "id": "siZmytucQ2nO",
        "outputId": "ef65eb3e-8a8c-4eaf-ecd5-3d3186fd0c77"
      },
      "execution_count": 26,
      "outputs": [
        {
          "output_type": "stream",
          "name": "stdout",
          "text": [
            "EJMRpost11.json\n",
            "EJMRpost12.json\n",
            "EJMRpost13.json\n",
            "EJMRpost14.json\n",
            "EJMRpost15.json\n",
            "EJMRpost16.json\n",
            "EJMRpost17.json\n",
            "EJMRpost18.json\n",
            "EJMRpost19.json\n",
            "EJMRpost20.json\n"
          ]
        }
      ]
    },
    {
      "cell_type": "code",
      "source": [
        "# Import Module\n",
        "import os\n",
        "import json\n",
        "\n",
        "data = {'topic':[], 'posts':[]}\n",
        "\n",
        "def loadjsons(data_json):\n",
        "  with open(data_json) as jsonfile:\n",
        "    df = json.load(jsonfile)\n",
        "  return df\n",
        "\n",
        "\n",
        "for file in os.listdir(dir):\n",
        "  if file.endswith(\".json\"):\n",
        "    df = loadjsons(file)\n",
        "    data['topic'].append( df['topic'] )\n",
        "    data['posts'].append( df['posts'] )\n",
        "\n",
        "def listmerger(dictionaryKey):\n",
        "    # used for concat lists in dict.values\n",
        "  OneList = []\n",
        "  for l in range(len(dictionaryKey)):\n",
        "    OneList.extend(dictionaryKey[l])\n",
        "  return OneList\n",
        "\n",
        "data = {'topic': listmerger(data['topic']), 'posts': listmerger( data['posts'] )}\n"
      ],
      "metadata": {
        "id": "1QQdqP3RPy-y"
      },
      "execution_count": 30,
      "outputs": []
    },
    {
      "cell_type": "code",
      "source": [
        "len(data['posts'])"
      ],
      "metadata": {
        "colab": {
          "base_uri": "https://localhost:8080/"
        },
        "id": "OMwEsrIITL7F",
        "outputId": "bde0fb64-89c1-443b-9e0b-8961452b28e7"
      },
      "execution_count": 40,
      "outputs": [
        {
          "output_type": "execute_result",
          "data": {
            "text/plain": [
              "70000"
            ]
          },
          "metadata": {},
          "execution_count": 40
        }
      ]
    },
    {
      "cell_type": "code",
      "source": [
        "with open(\"/content/gdrive/MyDrive/論文相關材料/EJMRpost_11_20.json\", \"w\") as outfile:\n",
        "    json.dump(data, outfile)"
      ],
      "metadata": {
        "id": "qZERLYPBQLE4"
      },
      "execution_count": 38,
      "outputs": []
    },
    {
      "cell_type": "code",
      "source": [
        "with open(\"/content/gdrive/MyDrive/論文相關材料/EJMRpost_11_20.json\", \"r\") as testfile:\n",
        "    test = json.load(testfile)\n",
        "\n",
        "len(test['topic'])"
      ],
      "metadata": {
        "colab": {
          "base_uri": "https://localhost:8080/"
        },
        "id": "vuIspOvLTi-k",
        "outputId": "5447c0e4-4adb-4a29-e5da-f7a9b448f318"
      },
      "execution_count": 42,
      "outputs": [
        {
          "output_type": "execute_result",
          "data": {
            "text/plain": [
              "70000"
            ]
          },
          "metadata": {},
          "execution_count": 42
        }
      ]
    }
  ]
}