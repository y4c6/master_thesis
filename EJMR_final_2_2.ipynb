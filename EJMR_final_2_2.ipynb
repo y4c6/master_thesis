{
  "nbformat": 4,
  "nbformat_minor": 0,
  "metadata": {
    "colab": {
      "provenance": [],
      "authorship_tag": "ABX9TyPBvPxWK4wyY62BU1iVIidq",
      "include_colab_link": true
    },
    "kernelspec": {
      "name": "python3",
      "display_name": "Python 3"
    },
    "language_info": {
      "name": "python"
    }
  },
  "cells": [
    {
      "cell_type": "markdown",
      "metadata": {
        "id": "view-in-github",
        "colab_type": "text"
      },
      "source": [
        "<a href=\"https://colab.research.google.com/github/y4c6/master_thesis/blob/main/EJMR_final_2_2.ipynb\" target=\"_parent\"><img src=\"https://colab.research.google.com/assets/colab-badge.svg\" alt=\"Open In Colab\"/></a>"
      ]
    },
    {
      "cell_type": "markdown",
      "source": [
        "co2"
      ],
      "metadata": {
        "id": "_MiGVak998hS"
      }
    },
    {
      "cell_type": "markdown",
      "metadata": {
        "id": "p-Nr5T8HvJai"
      },
      "source": [
        "# 套件"
      ]
    },
    {
      "cell_type": "code",
      "execution_count": 1,
      "metadata": {
        "colab": {
          "base_uri": "https://localhost:8080/"
        },
        "id": "c2vWTM7IvPwx",
        "outputId": "16395a1a-465f-4c98-8d7e-27203e0a6b05"
      },
      "outputs": [
        {
          "output_type": "stream",
          "name": "stdout",
          "text": [
            "Mounted at /content/gdrive\n"
          ]
        }
      ],
      "source": [
        "from google.colab import drive\n",
        "# directory\n",
        "drive.mount('/content/gdrive')"
      ]
    },
    {
      "cell_type": "code",
      "execution_count": 4,
      "metadata": {
        "id": "dDteai2K9123"
      },
      "outputs": [],
      "source": [
        "import numpy as np\n",
        "import pandas as pd\n",
        "import json"
      ]
    },
    {
      "cell_type": "code",
      "source": [
        "asia_target = ['china', 'chinese', 'asian', 'asia', 'korea', 'korean', 'japan', 'japanese', 'taiwan', 'taiwanese', 'hongkong', 'tibet', 'xinjiang']\n",
        "china_target = ['china', 'chinese']"
      ],
      "metadata": {
        "id": "nCxaekXm_nxI"
      },
      "execution_count": 5,
      "outputs": []
    },
    {
      "cell_type": "markdown",
      "source": [
        "# READ SAVED FILE"
      ],
      "metadata": {
        "id": "bdcMAsZ0h-zP"
      }
    },
    {
      "cell_type": "markdown",
      "source": [
        "## co"
      ],
      "metadata": {
        "id": "swgkoIn7B-6R"
      }
    },
    {
      "cell_type": "code",
      "source": [
        "df_co = pd.read_pickle(\"/content/gdrive/MyDrive/Thesis_Data&Result/EJMR_co_tokens.pkl\")\n",
        "print(df_co.shape)\n",
        "\n",
        "from sklearn.feature_extraction.text import CountVectorizer\n",
        "\n",
        "# I've have the tokens, so i pass dummy function in cv.\n",
        "def dummy(doc):\n",
        "    return doc\n",
        "\n",
        "# Create a matrix using CountVectorizer\n",
        "vectorizer = CountVectorizer(preprocessor = dummy, \n",
        "            tokenizer = dummy, \n",
        "            strip_accents = 'ascii',\n",
        "            max_features = 10000)\n",
        "\n",
        "# Defining all the conditions inside a function\n",
        "def remove_target(x):\n",
        "  return [word for word in x if word not in (china_target)]\n",
        "\n",
        "# Applying the conditions\n",
        "df_co['lemmatized_cleaned'] = df_co['lemmatized_tokenized'].apply(remove_target)\n",
        "df_co['stemmed_cleaned'] = df_co['stemmed_tokenized'].apply(remove_target)\n",
        "# df_co.head(3)\n",
        "\n",
        "# Lemma BOW ####\n",
        "lemmatized_matrix = vectorizer.fit_transform(df_co['lemmatized_cleaned'])\n",
        "\n",
        "# Print the matrix\n",
        "print(lemmatized_matrix.toarray())\n",
        "# print(lemmatized_matrix.toarray().shape)\n",
        "\n",
        "data_lemma = pd.DataFrame(lemmatized_matrix.toarray(), columns = vectorizer.get_feature_names_out())\n",
        "data_lemma['y'] = list(df_co.y)\n",
        "\n",
        "print(data_lemma.shape)\n",
        "data_lemma.head(3)\n",
        "\n",
        "# save to file\n",
        "data_lemma.to_pickle(\"/content/gdrive/MyDrive/Thesis_Data&Result/EJMR_data_lemma_co.pkl\")\n",
        "\n",
        "# Stem BOW ####\n",
        "stemmed_matrix = vectorizer.fit_transform(df_co['stemmed_cleaned'])\n",
        "\n",
        "# Print the matrix\n",
        "print(stemmed_matrix.toarray().shape)\n",
        "# print(stemmed_matrix.toarray())\n",
        "\n",
        "data_stem = pd.DataFrame(stemmed_matrix.toarray(), columns = vectorizer.get_feature_names_out())\n",
        "data_stem['y'] = list(df_co.y)\n",
        "\n",
        "print(data_stem.shape)\n",
        "data_stem.head(3)\n",
        "\n",
        "# save to file\n",
        "data_stem.to_pickle(\"/content/gdrive/MyDrive/Thesis_Data&Result/EJMR_data_stem_co.pkl\")"
      ],
      "metadata": {
        "id": "0t9VQP-0iCHF"
      },
      "execution_count": null,
      "outputs": []
    },
    {
      "cell_type": "markdown",
      "source": [
        "## ao"
      ],
      "metadata": {
        "id": "pvFJzbnDCHsm"
      }
    },
    {
      "cell_type": "code",
      "source": [
        "df_ao = pd.read_pickle(\"/content/gdrive/MyDrive/Thesis_Data&Result/EJMR_ao_tokens.pkl\")\n",
        "print(df_ao.shape)\n",
        "\n",
        "from sklearn.feature_extraction.text import CountVectorizer\n",
        "\n",
        "# I've have the tokens, so i pass dummy function in cv.\n",
        "def dummy(doc):\n",
        "    return doc\n",
        "\n",
        "# Create a matrix using CountVectorizer\n",
        "vectorizer = CountVectorizer(preprocessor = dummy, \n",
        "            tokenizer = dummy, \n",
        "            strip_accents = 'ascii',\n",
        "            max_features = 10000)\n",
        "\n",
        "# Defining all the conditions inside a function\n",
        "def remove_target(x):\n",
        "  return [word for word in x if word not in (asia_target)]\n",
        "\n",
        "# Applying the conditions\n",
        "df_ao['lemmatized_cleaned'] = df_ao['lemmatized_tokenized'].apply(remove_target)\n",
        "df_ao['stemmed_cleaned'] = df_ao['stemmed_tokenized'].apply(remove_target)\n",
        "# df_co.head(3)\n",
        "\n",
        "# Lemma BOW ####\n",
        "lemmatized_matrix = vectorizer.fit_transform(df_ao['lemmatized_cleaned'])\n",
        "\n",
        "# Print the matrix\n",
        "# print(lemmatized_matrix.toarray())\n",
        "print(lemmatized_matrix.toarray().shape)\n",
        "\n",
        "data_lemma = pd.DataFrame(lemmatized_matrix.toarray(), columns = vectorizer.get_feature_names_out())\n",
        "data_lemma['y'] = list(df_ao.y)\n",
        "\n",
        "print(data_lemma.shape)\n",
        "data_lemma.head(3)\n",
        "\n",
        "# save to file\n",
        "data_lemma.to_pickle(\"/content/gdrive/MyDrive/Thesis_Data&Result/EJMR_data_lemma_ao.pkl\")\n",
        "\n",
        "# Stem BOW ####\n",
        "stemmed_matrix = vectorizer.fit_transform(df_ao['stemmed_cleaned'])\n",
        "\n",
        "# Print the matrix\n",
        "print(stemmed_matrix.toarray().shape)\n",
        "# print(stemmed_matrix.toarray())\n",
        "\n",
        "data_stem = pd.DataFrame(stemmed_matrix.toarray(), columns = vectorizer.get_feature_names_out())\n",
        "data_stem['y'] = list(df_ao.y)\n",
        "\n",
        "print(data_stem.shape)\n",
        "data_stem.head(3)\n",
        "\n",
        "# save to file\n",
        "data_stem.to_pickle(\"/content/gdrive/MyDrive/Thesis_Data&Result/EJMR_data_stem_ao.pkl\")"
      ],
      "metadata": {
        "id": "fSGAxGD6CHsn",
        "colab": {
          "base_uri": "https://localhost:8080/"
        },
        "outputId": "3f645eed-7fe9-4481-8297-373dd0c12763"
      },
      "execution_count": 6,
      "outputs": [
        {
          "output_type": "stream",
          "name": "stdout",
          "text": [
            "(15544, 3)\n"
          ]
        },
        {
          "output_type": "stream",
          "name": "stderr",
          "text": [
            "/usr/local/lib/python3.10/dist-packages/sklearn/feature_extraction/text.py:528: UserWarning: The parameter 'token_pattern' will not be used since 'tokenizer' is not None'\n",
            "  warnings.warn(\n"
          ]
        },
        {
          "output_type": "stream",
          "name": "stdout",
          "text": [
            "[[0 0 0 ... 0 0 0]\n",
            " [0 0 0 ... 0 0 0]\n",
            " [0 0 0 ... 0 0 0]\n",
            " ...\n",
            " [0 0 0 ... 0 0 0]\n",
            " [0 0 0 ... 0 0 0]\n",
            " [0 0 0 ... 0 0 0]]\n",
            "(15544, 10001)\n"
          ]
        },
        {
          "output_type": "stream",
          "name": "stderr",
          "text": [
            "/usr/local/lib/python3.10/dist-packages/sklearn/feature_extraction/text.py:528: UserWarning: The parameter 'token_pattern' will not be used since 'tokenizer' is not None'\n",
            "  warnings.warn(\n"
          ]
        },
        {
          "output_type": "stream",
          "name": "stdout",
          "text": [
            "(15544, 10000)\n",
            "(15544, 10001)\n"
          ]
        }
      ]
    },
    {
      "cell_type": "markdown",
      "source": [
        "## co2"
      ],
      "metadata": {
        "id": "TpdpSnW-DSWL"
      }
    },
    {
      "cell_type": "code",
      "source": [
        "df_co2 = pd.read_pickle(\"/content/gdrive/MyDrive/Thesis_Data&Result/EJMR_co2_tokens.pkl\")\n",
        "print(df_co2.shape)\n",
        "\n",
        "from sklearn.feature_extraction.text import CountVectorizer\n",
        "\n",
        "# I've have the tokens, so i pass dummy function in cv.\n",
        "def dummy(doc):\n",
        "    return doc\n",
        "\n",
        "# Create a matrix using CountVectorizer\n",
        "vectorizer = CountVectorizer(preprocessor = dummy, \n",
        "            tokenizer = dummy, \n",
        "            strip_accents = 'ascii',\n",
        "            max_features = 10000)\n",
        "\n",
        "# Defining all the conditions inside a function\n",
        "def remove_target(x):\n",
        "  return [word for word in x if word not in (china_target)]\n",
        "\n",
        "# Applying the conditions\n",
        "df_co2['lemmatized_cleaned'] = df_co2['lemmatized_tokenized'].apply(remove_target)\n",
        "df_co2['stemmed_cleaned'] = df_co2['stemmed_tokenized'].apply(remove_target)\n",
        "# df_co.head(3)\n",
        "\n",
        "# Lemma BOW ####\n",
        "lemmatized_matrix = vectorizer.fit_transform(df_co2['lemmatized_cleaned'])\n",
        "\n",
        "# Print the matrix\n",
        "# print(lemmatized_matrix.toarray())\n",
        "print(lemmatized_matrix.toarray().shape)\n",
        "\n",
        "data_lemma = pd.DataFrame(lemmatized_matrix.toarray(), columns = vectorizer.get_feature_names_out())\n",
        "data_lemma['y'] = list(df_co2.y)\n",
        "\n",
        "print(data_lemma.shape)\n",
        "data_lemma.head(3)\n",
        "\n",
        "# save to file\n",
        "data_lemma.to_pickle(\"/content/gdrive/MyDrive/Thesis_Data&Result/EJMR_data_lemma_co2.pkl\")\n",
        "\n",
        "# Stem BOW ####\n",
        "stemmed_matrix = vectorizer.fit_transform(df_co2['stemmed_cleaned'])\n",
        "\n",
        "# Print the matrix\n",
        "print(stemmed_matrix.toarray().shape)\n",
        "# print(stemmed_matrix.toarray())\n",
        "\n",
        "data_stem = pd.DataFrame(stemmed_matrix.toarray(), columns = vectorizer.get_feature_names_out())\n",
        "data_stem['y'] = list(df_co2.y)\n",
        "\n",
        "print(data_stem.shape)\n",
        "data_stem.head(3)\n",
        "\n",
        "# save to file\n",
        "data_stem.to_pickle(\"/content/gdrive/MyDrive/Thesis_Data&Result/EJMR_data_stem_co2.pkl\")"
      ],
      "metadata": {
        "id": "mlmcRYpQDSWM",
        "colab": {
          "base_uri": "https://localhost:8080/"
        },
        "outputId": "9b6d41ae-9d1d-4def-b1f4-44e082b535f5"
      },
      "execution_count": 7,
      "outputs": [
        {
          "output_type": "stream",
          "name": "stdout",
          "text": [
            "(15162, 3)\n"
          ]
        },
        {
          "output_type": "stream",
          "name": "stderr",
          "text": [
            "/usr/local/lib/python3.10/dist-packages/sklearn/feature_extraction/text.py:528: UserWarning: The parameter 'token_pattern' will not be used since 'tokenizer' is not None'\n",
            "  warnings.warn(\n"
          ]
        },
        {
          "output_type": "stream",
          "name": "stdout",
          "text": [
            "(15162, 10000)\n",
            "(15162, 10001)\n"
          ]
        },
        {
          "output_type": "stream",
          "name": "stderr",
          "text": [
            "/usr/local/lib/python3.10/dist-packages/sklearn/feature_extraction/text.py:528: UserWarning: The parameter 'token_pattern' will not be used since 'tokenizer' is not None'\n",
            "  warnings.warn(\n"
          ]
        },
        {
          "output_type": "stream",
          "name": "stdout",
          "text": [
            "(15162, 10000)\n",
            "(15162, 10001)\n"
          ]
        }
      ]
    },
    {
      "cell_type": "markdown",
      "source": [
        "## ao2"
      ],
      "metadata": {
        "id": "RYFjJiMYDSWN"
      }
    },
    {
      "cell_type": "code",
      "source": [
        "df_ao2 = pd.read_pickle(\"/content/gdrive/MyDrive/Thesis_Data&Result/EJMR_ao2_tokens.pkl\")\n",
        "print(df_ao2.shape)\n",
        "\n",
        "from sklearn.feature_extraction.text import CountVectorizer\n",
        "\n",
        "# I've have the tokens, so i pass dummy function in cv.\n",
        "def dummy(doc):\n",
        "    return doc\n",
        "\n",
        "# Create a matrix using CountVectorizer\n",
        "vectorizer = CountVectorizer(preprocessor = dummy, \n",
        "            tokenizer = dummy, \n",
        "            strip_accents = 'ascii',\n",
        "            max_features = 10000)\n",
        "\n",
        "# Defining all the conditions inside a function\n",
        "def remove_target(x):\n",
        "  return [word for word in x if word not in (asia_target)]\n",
        "\n",
        "# Applying the conditions\n",
        "df_ao2['lemmatized_cleaned'] = df_ao2['lemmatized_tokenized'].apply(remove_target)\n",
        "df_ao2['stemmed_cleaned'] = df_ao2['stemmed_tokenized'].apply(remove_target)\n",
        "# df_co.head(3)\n",
        "\n",
        "# Lemma BOW ####\n",
        "lemmatized_matrix = vectorizer.fit_transform(df_ao2['lemmatized_cleaned'])\n",
        "\n",
        "# Print the matrix\n",
        "# print(lemmatized_matrix.toarray())\n",
        "print(lemmatized_matrix.toarray().shape)\n",
        "\n",
        "data_lemma = pd.DataFrame(lemmatized_matrix.toarray(), columns = vectorizer.get_feature_names_out())\n",
        "data_lemma['y'] = list(df_ao2.y)\n",
        "\n",
        "print(data_lemma.shape)\n",
        "data_lemma.head(3)\n",
        "\n",
        "# save to file\n",
        "data_lemma.to_pickle(\"/content/gdrive/MyDrive/Thesis_Data&Result/EJMR_data_lemma_ao2.pkl\")\n",
        "\n",
        "# Stem BOW ####\n",
        "stemmed_matrix = vectorizer.fit_transform(df_ao2['stemmed_cleaned'])\n",
        "\n",
        "# Print the matrix\n",
        "print(stemmed_matrix.toarray().shape)\n",
        "# print(stemmed_matrix.toarray())\n",
        "\n",
        "data_stem = pd.DataFrame(stemmed_matrix.toarray(), columns = vectorizer.get_feature_names_out())\n",
        "data_stem['y'] = list(df_ao2.y)\n",
        "\n",
        "print(data_stem.shape)\n",
        "data_stem.head(3)\n",
        "\n",
        "# save to file\n",
        "data_stem.to_pickle(\"/content/gdrive/MyDrive/Thesis_Data&Result/EJMR_data_stem_ao2.pkl\")"
      ],
      "metadata": {
        "id": "LEyrhv2UDSWO",
        "colab": {
          "base_uri": "https://localhost:8080/"
        },
        "outputId": "00ebd020-2dcf-4186-df5b-a715c6950a15"
      },
      "execution_count": 9,
      "outputs": [
        {
          "output_type": "stream",
          "name": "stdout",
          "text": [
            "(23340, 3)\n"
          ]
        },
        {
          "output_type": "stream",
          "name": "stderr",
          "text": [
            "/usr/local/lib/python3.10/dist-packages/sklearn/feature_extraction/text.py:528: UserWarning: The parameter 'token_pattern' will not be used since 'tokenizer' is not None'\n",
            "  warnings.warn(\n"
          ]
        },
        {
          "output_type": "stream",
          "name": "stdout",
          "text": [
            "(23340, 10000)\n",
            "(23340, 10000)\n"
          ]
        },
        {
          "output_type": "stream",
          "name": "stderr",
          "text": [
            "/usr/local/lib/python3.10/dist-packages/sklearn/feature_extraction/text.py:528: UserWarning: The parameter 'token_pattern' will not be used since 'tokenizer' is not None'\n",
            "  warnings.warn(\n"
          ]
        },
        {
          "output_type": "stream",
          "name": "stdout",
          "text": [
            "(23340, 10000)\n",
            "(23340, 10001)\n"
          ]
        }
      ]
    },
    {
      "cell_type": "markdown",
      "source": [
        "# 123"
      ],
      "metadata": {
        "id": "NTeIc2yjHRau"
      }
    },
    {
      "cell_type": "code",
      "source": [
        "data_stem = pd.read_pickle(\"/content/gdrive/MyDrive/Thesis_Data&Result/EJMR_data_stem_co.pkl\")\n",
        "print(data_stem.shape)\n",
        "data_stem.head()"
      ],
      "metadata": {
        "colab": {
          "base_uri": "https://localhost:8080/",
          "height": 253
        },
        "id": "d9umbfuHHZb1",
        "outputId": "92eec4ad-96ff-4f4e-bd83-1b76b6d5de05"
      },
      "execution_count": 12,
      "outputs": [
        {
          "output_type": "stream",
          "name": "stdout",
          "text": [
            "(10093, 10001)\n"
          ]
        },
        {
          "output_type": "execute_result",
          "data": {
            "text/plain": [
              "   aa  aaea  ab  abadi  abandon  abbrevi  abc  abd  abdc  abel  ...  zoo  \\\n",
              "0   0     0   0      0        0        0    0    0     0     0  ...    0   \n",
              "1   0     0   0      0        0        0    0    0     0     0  ...    0   \n",
              "2   0     0   0      0        0        0    0    0     0     0  ...    0   \n",
              "3   0     0   0      0        0        0    0    0     0     0  ...    1   \n",
              "4   0     0   0      0        0        0    0    0     0     0  ...    0   \n",
              "\n",
              "   zoom  zoomer  zoonot  zou  zu  zuckerberg  zuel  zurich  y  \n",
              "0     0       0       0    0   0           0     0       0  1  \n",
              "1     0       0       0    0   0           0     0       0  1  \n",
              "2     0       0       0    0   0           0     0       0  1  \n",
              "3     0       0       0    0   0           0     0       0  1  \n",
              "4     0       0       0    0   0           0     0       0  1  \n",
              "\n",
              "[5 rows x 10001 columns]"
            ],
            "text/html": [
              "\n",
              "  <div id=\"df-d7f27bce-e86e-442a-b28a-3ac477f2f41c\">\n",
              "    <div class=\"colab-df-container\">\n",
              "      <div>\n",
              "<style scoped>\n",
              "    .dataframe tbody tr th:only-of-type {\n",
              "        vertical-align: middle;\n",
              "    }\n",
              "\n",
              "    .dataframe tbody tr th {\n",
              "        vertical-align: top;\n",
              "    }\n",
              "\n",
              "    .dataframe thead th {\n",
              "        text-align: right;\n",
              "    }\n",
              "</style>\n",
              "<table border=\"1\" class=\"dataframe\">\n",
              "  <thead>\n",
              "    <tr style=\"text-align: right;\">\n",
              "      <th></th>\n",
              "      <th>aa</th>\n",
              "      <th>aaea</th>\n",
              "      <th>ab</th>\n",
              "      <th>abadi</th>\n",
              "      <th>abandon</th>\n",
              "      <th>abbrevi</th>\n",
              "      <th>abc</th>\n",
              "      <th>abd</th>\n",
              "      <th>abdc</th>\n",
              "      <th>abel</th>\n",
              "      <th>...</th>\n",
              "      <th>zoo</th>\n",
              "      <th>zoom</th>\n",
              "      <th>zoomer</th>\n",
              "      <th>zoonot</th>\n",
              "      <th>zou</th>\n",
              "      <th>zu</th>\n",
              "      <th>zuckerberg</th>\n",
              "      <th>zuel</th>\n",
              "      <th>zurich</th>\n",
              "      <th>y</th>\n",
              "    </tr>\n",
              "  </thead>\n",
              "  <tbody>\n",
              "    <tr>\n",
              "      <th>0</th>\n",
              "      <td>0</td>\n",
              "      <td>0</td>\n",
              "      <td>0</td>\n",
              "      <td>0</td>\n",
              "      <td>0</td>\n",
              "      <td>0</td>\n",
              "      <td>0</td>\n",
              "      <td>0</td>\n",
              "      <td>0</td>\n",
              "      <td>0</td>\n",
              "      <td>...</td>\n",
              "      <td>0</td>\n",
              "      <td>0</td>\n",
              "      <td>0</td>\n",
              "      <td>0</td>\n",
              "      <td>0</td>\n",
              "      <td>0</td>\n",
              "      <td>0</td>\n",
              "      <td>0</td>\n",
              "      <td>0</td>\n",
              "      <td>1</td>\n",
              "    </tr>\n",
              "    <tr>\n",
              "      <th>1</th>\n",
              "      <td>0</td>\n",
              "      <td>0</td>\n",
              "      <td>0</td>\n",
              "      <td>0</td>\n",
              "      <td>0</td>\n",
              "      <td>0</td>\n",
              "      <td>0</td>\n",
              "      <td>0</td>\n",
              "      <td>0</td>\n",
              "      <td>0</td>\n",
              "      <td>...</td>\n",
              "      <td>0</td>\n",
              "      <td>0</td>\n",
              "      <td>0</td>\n",
              "      <td>0</td>\n",
              "      <td>0</td>\n",
              "      <td>0</td>\n",
              "      <td>0</td>\n",
              "      <td>0</td>\n",
              "      <td>0</td>\n",
              "      <td>1</td>\n",
              "    </tr>\n",
              "    <tr>\n",
              "      <th>2</th>\n",
              "      <td>0</td>\n",
              "      <td>0</td>\n",
              "      <td>0</td>\n",
              "      <td>0</td>\n",
              "      <td>0</td>\n",
              "      <td>0</td>\n",
              "      <td>0</td>\n",
              "      <td>0</td>\n",
              "      <td>0</td>\n",
              "      <td>0</td>\n",
              "      <td>...</td>\n",
              "      <td>0</td>\n",
              "      <td>0</td>\n",
              "      <td>0</td>\n",
              "      <td>0</td>\n",
              "      <td>0</td>\n",
              "      <td>0</td>\n",
              "      <td>0</td>\n",
              "      <td>0</td>\n",
              "      <td>0</td>\n",
              "      <td>1</td>\n",
              "    </tr>\n",
              "    <tr>\n",
              "      <th>3</th>\n",
              "      <td>0</td>\n",
              "      <td>0</td>\n",
              "      <td>0</td>\n",
              "      <td>0</td>\n",
              "      <td>0</td>\n",
              "      <td>0</td>\n",
              "      <td>0</td>\n",
              "      <td>0</td>\n",
              "      <td>0</td>\n",
              "      <td>0</td>\n",
              "      <td>...</td>\n",
              "      <td>1</td>\n",
              "      <td>0</td>\n",
              "      <td>0</td>\n",
              "      <td>0</td>\n",
              "      <td>0</td>\n",
              "      <td>0</td>\n",
              "      <td>0</td>\n",
              "      <td>0</td>\n",
              "      <td>0</td>\n",
              "      <td>1</td>\n",
              "    </tr>\n",
              "    <tr>\n",
              "      <th>4</th>\n",
              "      <td>0</td>\n",
              "      <td>0</td>\n",
              "      <td>0</td>\n",
              "      <td>0</td>\n",
              "      <td>0</td>\n",
              "      <td>0</td>\n",
              "      <td>0</td>\n",
              "      <td>0</td>\n",
              "      <td>0</td>\n",
              "      <td>0</td>\n",
              "      <td>...</td>\n",
              "      <td>0</td>\n",
              "      <td>0</td>\n",
              "      <td>0</td>\n",
              "      <td>0</td>\n",
              "      <td>0</td>\n",
              "      <td>0</td>\n",
              "      <td>0</td>\n",
              "      <td>0</td>\n",
              "      <td>0</td>\n",
              "      <td>1</td>\n",
              "    </tr>\n",
              "  </tbody>\n",
              "</table>\n",
              "<p>5 rows × 10001 columns</p>\n",
              "</div>\n",
              "      <button class=\"colab-df-convert\" onclick=\"convertToInteractive('df-d7f27bce-e86e-442a-b28a-3ac477f2f41c')\"\n",
              "              title=\"Convert this dataframe to an interactive table.\"\n",
              "              style=\"display:none;\">\n",
              "        \n",
              "  <svg xmlns=\"http://www.w3.org/2000/svg\" height=\"24px\"viewBox=\"0 0 24 24\"\n",
              "       width=\"24px\">\n",
              "    <path d=\"M0 0h24v24H0V0z\" fill=\"none\"/>\n",
              "    <path d=\"M18.56 5.44l.94 2.06.94-2.06 2.06-.94-2.06-.94-.94-2.06-.94 2.06-2.06.94zm-11 1L8.5 8.5l.94-2.06 2.06-.94-2.06-.94L8.5 2.5l-.94 2.06-2.06.94zm10 10l.94 2.06.94-2.06 2.06-.94-2.06-.94-.94-2.06-.94 2.06-2.06.94z\"/><path d=\"M17.41 7.96l-1.37-1.37c-.4-.4-.92-.59-1.43-.59-.52 0-1.04.2-1.43.59L10.3 9.45l-7.72 7.72c-.78.78-.78 2.05 0 2.83L4 21.41c.39.39.9.59 1.41.59.51 0 1.02-.2 1.41-.59l7.78-7.78 2.81-2.81c.8-.78.8-2.07 0-2.86zM5.41 20L4 18.59l7.72-7.72 1.47 1.35L5.41 20z\"/>\n",
              "  </svg>\n",
              "      </button>\n",
              "      \n",
              "  <style>\n",
              "    .colab-df-container {\n",
              "      display:flex;\n",
              "      flex-wrap:wrap;\n",
              "      gap: 12px;\n",
              "    }\n",
              "\n",
              "    .colab-df-convert {\n",
              "      background-color: #E8F0FE;\n",
              "      border: none;\n",
              "      border-radius: 50%;\n",
              "      cursor: pointer;\n",
              "      display: none;\n",
              "      fill: #1967D2;\n",
              "      height: 32px;\n",
              "      padding: 0 0 0 0;\n",
              "      width: 32px;\n",
              "    }\n",
              "\n",
              "    .colab-df-convert:hover {\n",
              "      background-color: #E2EBFA;\n",
              "      box-shadow: 0px 1px 2px rgba(60, 64, 67, 0.3), 0px 1px 3px 1px rgba(60, 64, 67, 0.15);\n",
              "      fill: #174EA6;\n",
              "    }\n",
              "\n",
              "    [theme=dark] .colab-df-convert {\n",
              "      background-color: #3B4455;\n",
              "      fill: #D2E3FC;\n",
              "    }\n",
              "\n",
              "    [theme=dark] .colab-df-convert:hover {\n",
              "      background-color: #434B5C;\n",
              "      box-shadow: 0px 1px 3px 1px rgba(0, 0, 0, 0.15);\n",
              "      filter: drop-shadow(0px 1px 2px rgba(0, 0, 0, 0.3));\n",
              "      fill: #FFFFFF;\n",
              "    }\n",
              "  </style>\n",
              "\n",
              "      <script>\n",
              "        const buttonEl =\n",
              "          document.querySelector('#df-d7f27bce-e86e-442a-b28a-3ac477f2f41c button.colab-df-convert');\n",
              "        buttonEl.style.display =\n",
              "          google.colab.kernel.accessAllowed ? 'block' : 'none';\n",
              "\n",
              "        async function convertToInteractive(key) {\n",
              "          const element = document.querySelector('#df-d7f27bce-e86e-442a-b28a-3ac477f2f41c');\n",
              "          const dataTable =\n",
              "            await google.colab.kernel.invokeFunction('convertToInteractive',\n",
              "                                                     [key], {});\n",
              "          if (!dataTable) return;\n",
              "\n",
              "          const docLinkHtml = 'Like what you see? Visit the ' +\n",
              "            '<a target=\"_blank\" href=https://colab.research.google.com/notebooks/data_table.ipynb>data table notebook</a>'\n",
              "            + ' to learn more about interactive tables.';\n",
              "          element.innerHTML = '';\n",
              "          dataTable['output_type'] = 'display_data';\n",
              "          await google.colab.output.renderOutput(dataTable, element);\n",
              "          const docLink = document.createElement('div');\n",
              "          docLink.innerHTML = docLinkHtml;\n",
              "          element.appendChild(docLink);\n",
              "        }\n",
              "      </script>\n",
              "    </div>\n",
              "  </div>\n",
              "  "
            ]
          },
          "metadata": {},
          "execution_count": 12
        }
      ]
    },
    {
      "cell_type": "code",
      "source": [
        "data_lemma = pd.read_pickle(\"/content/gdrive/MyDrive/Thesis_Data&Result/EJMR_data_lemma_.pkl\")\n",
        "print(data_lemma.shape)\n",
        "data_lemma.head()"
      ],
      "metadata": {
        "colab": {
          "base_uri": "https://localhost:8080/",
          "height": 236
        },
        "id": "LYt1NrLlGmnq",
        "outputId": "b2c23bd8-517a-4bb7-8c47-5f3d210e22d4"
      },
      "execution_count": 11,
      "outputs": [
        {
          "output_type": "execute_result",
          "data": {
            "text/plain": [
              "   aa  aaa  aacsb  ab  aba  abandon  abc  abd  abduct  abe  ...  zone  zoo  \\\n",
              "0   0    0      0   0    0        0    0    0       0    0  ...     0    0   \n",
              "1   0    0      0   0    0        0    0    0       0    0  ...     0    0   \n",
              "2   0    0      0   0    0        0    0    0       0    0  ...     0    0   \n",
              "3   0    0      0   0    0        0    0    0       0    0  ...     0    0   \n",
              "4   0    0      0   0    0        0    0    0       0    0  ...     0    0   \n",
              "\n",
              "   zoom  zoomer  zu  zuckerberg  zucman  zuel  zurich  y  \n",
              "0     0       0   0           0       0     0       0  0  \n",
              "1     0       0   0           0       0     0       0  1  \n",
              "2     0       0   0           0       0     0       0  0  \n",
              "3     0       0   0           0       0     0       0  0  \n",
              "4     0       0   0           0       0     0       0  0  \n",
              "\n",
              "[5 rows x 10001 columns]"
            ],
            "text/html": [
              "\n",
              "  <div id=\"df-a3696547-94fd-4c9f-90cc-7753096f509d\">\n",
              "    <div class=\"colab-df-container\">\n",
              "      <div>\n",
              "<style scoped>\n",
              "    .dataframe tbody tr th:only-of-type {\n",
              "        vertical-align: middle;\n",
              "    }\n",
              "\n",
              "    .dataframe tbody tr th {\n",
              "        vertical-align: top;\n",
              "    }\n",
              "\n",
              "    .dataframe thead th {\n",
              "        text-align: right;\n",
              "    }\n",
              "</style>\n",
              "<table border=\"1\" class=\"dataframe\">\n",
              "  <thead>\n",
              "    <tr style=\"text-align: right;\">\n",
              "      <th></th>\n",
              "      <th>aa</th>\n",
              "      <th>aaa</th>\n",
              "      <th>aacsb</th>\n",
              "      <th>ab</th>\n",
              "      <th>aba</th>\n",
              "      <th>abandon</th>\n",
              "      <th>abc</th>\n",
              "      <th>abd</th>\n",
              "      <th>abduct</th>\n",
              "      <th>abe</th>\n",
              "      <th>...</th>\n",
              "      <th>zone</th>\n",
              "      <th>zoo</th>\n",
              "      <th>zoom</th>\n",
              "      <th>zoomer</th>\n",
              "      <th>zu</th>\n",
              "      <th>zuckerberg</th>\n",
              "      <th>zucman</th>\n",
              "      <th>zuel</th>\n",
              "      <th>zurich</th>\n",
              "      <th>y</th>\n",
              "    </tr>\n",
              "  </thead>\n",
              "  <tbody>\n",
              "    <tr>\n",
              "      <th>0</th>\n",
              "      <td>0</td>\n",
              "      <td>0</td>\n",
              "      <td>0</td>\n",
              "      <td>0</td>\n",
              "      <td>0</td>\n",
              "      <td>0</td>\n",
              "      <td>0</td>\n",
              "      <td>0</td>\n",
              "      <td>0</td>\n",
              "      <td>0</td>\n",
              "      <td>...</td>\n",
              "      <td>0</td>\n",
              "      <td>0</td>\n",
              "      <td>0</td>\n",
              "      <td>0</td>\n",
              "      <td>0</td>\n",
              "      <td>0</td>\n",
              "      <td>0</td>\n",
              "      <td>0</td>\n",
              "      <td>0</td>\n",
              "      <td>0</td>\n",
              "    </tr>\n",
              "    <tr>\n",
              "      <th>1</th>\n",
              "      <td>0</td>\n",
              "      <td>0</td>\n",
              "      <td>0</td>\n",
              "      <td>0</td>\n",
              "      <td>0</td>\n",
              "      <td>0</td>\n",
              "      <td>0</td>\n",
              "      <td>0</td>\n",
              "      <td>0</td>\n",
              "      <td>0</td>\n",
              "      <td>...</td>\n",
              "      <td>0</td>\n",
              "      <td>0</td>\n",
              "      <td>0</td>\n",
              "      <td>0</td>\n",
              "      <td>0</td>\n",
              "      <td>0</td>\n",
              "      <td>0</td>\n",
              "      <td>0</td>\n",
              "      <td>0</td>\n",
              "      <td>1</td>\n",
              "    </tr>\n",
              "    <tr>\n",
              "      <th>2</th>\n",
              "      <td>0</td>\n",
              "      <td>0</td>\n",
              "      <td>0</td>\n",
              "      <td>0</td>\n",
              "      <td>0</td>\n",
              "      <td>0</td>\n",
              "      <td>0</td>\n",
              "      <td>0</td>\n",
              "      <td>0</td>\n",
              "      <td>0</td>\n",
              "      <td>...</td>\n",
              "      <td>0</td>\n",
              "      <td>0</td>\n",
              "      <td>0</td>\n",
              "      <td>0</td>\n",
              "      <td>0</td>\n",
              "      <td>0</td>\n",
              "      <td>0</td>\n",
              "      <td>0</td>\n",
              "      <td>0</td>\n",
              "      <td>0</td>\n",
              "    </tr>\n",
              "    <tr>\n",
              "      <th>3</th>\n",
              "      <td>0</td>\n",
              "      <td>0</td>\n",
              "      <td>0</td>\n",
              "      <td>0</td>\n",
              "      <td>0</td>\n",
              "      <td>0</td>\n",
              "      <td>0</td>\n",
              "      <td>0</td>\n",
              "      <td>0</td>\n",
              "      <td>0</td>\n",
              "      <td>...</td>\n",
              "      <td>0</td>\n",
              "      <td>0</td>\n",
              "      <td>0</td>\n",
              "      <td>0</td>\n",
              "      <td>0</td>\n",
              "      <td>0</td>\n",
              "      <td>0</td>\n",
              "      <td>0</td>\n",
              "      <td>0</td>\n",
              "      <td>0</td>\n",
              "    </tr>\n",
              "    <tr>\n",
              "      <th>4</th>\n",
              "      <td>0</td>\n",
              "      <td>0</td>\n",
              "      <td>0</td>\n",
              "      <td>0</td>\n",
              "      <td>0</td>\n",
              "      <td>0</td>\n",
              "      <td>0</td>\n",
              "      <td>0</td>\n",
              "      <td>0</td>\n",
              "      <td>0</td>\n",
              "      <td>...</td>\n",
              "      <td>0</td>\n",
              "      <td>0</td>\n",
              "      <td>0</td>\n",
              "      <td>0</td>\n",
              "      <td>0</td>\n",
              "      <td>0</td>\n",
              "      <td>0</td>\n",
              "      <td>0</td>\n",
              "      <td>0</td>\n",
              "      <td>0</td>\n",
              "    </tr>\n",
              "  </tbody>\n",
              "</table>\n",
              "<p>5 rows × 10001 columns</p>\n",
              "</div>\n",
              "      <button class=\"colab-df-convert\" onclick=\"convertToInteractive('df-a3696547-94fd-4c9f-90cc-7753096f509d')\"\n",
              "              title=\"Convert this dataframe to an interactive table.\"\n",
              "              style=\"display:none;\">\n",
              "        \n",
              "  <svg xmlns=\"http://www.w3.org/2000/svg\" height=\"24px\"viewBox=\"0 0 24 24\"\n",
              "       width=\"24px\">\n",
              "    <path d=\"M0 0h24v24H0V0z\" fill=\"none\"/>\n",
              "    <path d=\"M18.56 5.44l.94 2.06.94-2.06 2.06-.94-2.06-.94-.94-2.06-.94 2.06-2.06.94zm-11 1L8.5 8.5l.94-2.06 2.06-.94-2.06-.94L8.5 2.5l-.94 2.06-2.06.94zm10 10l.94 2.06.94-2.06 2.06-.94-2.06-.94-.94-2.06-.94 2.06-2.06.94z\"/><path d=\"M17.41 7.96l-1.37-1.37c-.4-.4-.92-.59-1.43-.59-.52 0-1.04.2-1.43.59L10.3 9.45l-7.72 7.72c-.78.78-.78 2.05 0 2.83L4 21.41c.39.39.9.59 1.41.59.51 0 1.02-.2 1.41-.59l7.78-7.78 2.81-2.81c.8-.78.8-2.07 0-2.86zM5.41 20L4 18.59l7.72-7.72 1.47 1.35L5.41 20z\"/>\n",
              "  </svg>\n",
              "      </button>\n",
              "      \n",
              "  <style>\n",
              "    .colab-df-container {\n",
              "      display:flex;\n",
              "      flex-wrap:wrap;\n",
              "      gap: 12px;\n",
              "    }\n",
              "\n",
              "    .colab-df-convert {\n",
              "      background-color: #E8F0FE;\n",
              "      border: none;\n",
              "      border-radius: 50%;\n",
              "      cursor: pointer;\n",
              "      display: none;\n",
              "      fill: #1967D2;\n",
              "      height: 32px;\n",
              "      padding: 0 0 0 0;\n",
              "      width: 32px;\n",
              "    }\n",
              "\n",
              "    .colab-df-convert:hover {\n",
              "      background-color: #E2EBFA;\n",
              "      box-shadow: 0px 1px 2px rgba(60, 64, 67, 0.3), 0px 1px 3px 1px rgba(60, 64, 67, 0.15);\n",
              "      fill: #174EA6;\n",
              "    }\n",
              "\n",
              "    [theme=dark] .colab-df-convert {\n",
              "      background-color: #3B4455;\n",
              "      fill: #D2E3FC;\n",
              "    }\n",
              "\n",
              "    [theme=dark] .colab-df-convert:hover {\n",
              "      background-color: #434B5C;\n",
              "      box-shadow: 0px 1px 3px 1px rgba(0, 0, 0, 0.15);\n",
              "      filter: drop-shadow(0px 1px 2px rgba(0, 0, 0, 0.3));\n",
              "      fill: #FFFFFF;\n",
              "    }\n",
              "  </style>\n",
              "\n",
              "      <script>\n",
              "        const buttonEl =\n",
              "          document.querySelector('#df-a3696547-94fd-4c9f-90cc-7753096f509d button.colab-df-convert');\n",
              "        buttonEl.style.display =\n",
              "          google.colab.kernel.accessAllowed ? 'block' : 'none';\n",
              "\n",
              "        async function convertToInteractive(key) {\n",
              "          const element = document.querySelector('#df-a3696547-94fd-4c9f-90cc-7753096f509d');\n",
              "          const dataTable =\n",
              "            await google.colab.kernel.invokeFunction('convertToInteractive',\n",
              "                                                     [key], {});\n",
              "          if (!dataTable) return;\n",
              "\n",
              "          const docLinkHtml = 'Like what you see? Visit the ' +\n",
              "            '<a target=\"_blank\" href=https://colab.research.google.com/notebooks/data_table.ipynb>data table notebook</a>'\n",
              "            + ' to learn more about interactive tables.';\n",
              "          element.innerHTML = '';\n",
              "          dataTable['output_type'] = 'display_data';\n",
              "          await google.colab.output.renderOutput(dataTable, element);\n",
              "          const docLink = document.createElement('div');\n",
              "          docLink.innerHTML = docLinkHtml;\n",
              "          element.appendChild(docLink);\n",
              "        }\n",
              "      </script>\n",
              "    </div>\n",
              "  </div>\n",
              "  "
            ]
          },
          "metadata": {},
          "execution_count": 11
        }
      ]
    },
    {
      "cell_type": "markdown",
      "source": [
        "# split"
      ],
      "metadata": {
        "id": "Pg180dCjHdkx"
      }
    },
    {
      "cell_type": "code",
      "source": [
        "from sklearn.model_selection import train_test_split\n",
        "\n",
        "train_stem, test_stem = train_test_split(data_stem, test_size=0.5,  random_state = 2510, shuffle=True)\n",
        "\n",
        "print('Shape of training set: ', train_stem.shape)\n",
        "print('Shape of testing set: ', test_stem.shape)\n",
        "\n",
        "import matplotlib.pyplot as plt\n",
        "\n",
        "fig, ax = plt.subplots(1, 2)\n",
        "ax[0].pie(train_stem.groupby(['y']).size(),\n",
        "        labels = ['china', 'other'],\n",
        "         autopct = '%1.0f%%',\n",
        "         )\n",
        "ax[0].set_title('Set 1')\n",
        "\n",
        "ax[1].pie(test_stem.groupby(['y']).size(),\n",
        "        labels = ['china', 'other'],\n",
        "         autopct = '%1.0f%%',\n",
        "         )\n",
        "ax[1].set_title('Set 2')\n",
        "\n",
        "fig.suptitle('Targets in stem_co')\n",
        "plt.show()"
      ],
      "metadata": {
        "colab": {
          "base_uri": "https://localhost:8080/",
          "height": 417
        },
        "id": "drbvw-4BHgF5",
        "outputId": "8f79693d-82ce-4569-d0f6-f4a16687e46a"
      },
      "execution_count": 14,
      "outputs": [
        {
          "output_type": "stream",
          "name": "stdout",
          "text": [
            "Shape of training set:  (5046, 10001)\n",
            "Shape of testing set:  (5047, 10001)\n"
          ]
        },
        {
          "output_type": "display_data",
          "data": {
            "text/plain": [
              "<Figure size 640x480 with 2 Axes>"
            ],
            "image/png": "[encoded data removed]"
          },
          "metadata": {}
        }
      ]
    },
    {
      "cell_type": "code",
      "source": [
        "from sklearn.linear_model import LassoCV\n",
        "\n",
        "clf = LassoCV(tol=0.01)\n",
        "clf.fit(train_stem.loc[:, train_stem.columns != 'y'], train_stem['y'])\n",
        "print(clf.coef_[:10])"
      ],
      "metadata": {
        "colab": {
          "base_uri": "https://localhost:8080/"
        },
        "id": "_m9lVwPxIXsJ",
        "outputId": "5e1f2cf4-af0f-46be-cb71-f7ba3351a39e"
      },
      "execution_count": 15,
      "outputs": [
        {
          "output_type": "stream",
          "name": "stdout",
          "text": [
            "[ 0. -0.  0. -0. -0. -0.  0.  0. -0.  0.]\n"
          ]
        }
      ]
    },
    {
      "cell_type": "code",
      "source": [
        "print(len(clf.coef_[clf.coef_!=0]))\n",
        "\n",
        "stemmed_D = data_stem.keys()[:-1][clf.coef_!=0] # remove y\n",
        "print(stemmed_D)\n",
        "\n"
      ],
      "metadata": {
        "colab": {
          "base_uri": "https://localhost:8080/"
        },
        "id": "lR-r-rd0LnKA",
        "outputId": "399b7926-30a1-44fa-8afe-e335cb2b091a"
      },
      "execution_count": 17,
      "outputs": [
        {
          "output_type": "stream",
          "name": "stdout",
          "text": [
            "40\n",
            "Index(['america', 'asian', 'beij', 'ccp', 'chinabro', 'chines', 'countri',\n",
            "       'date', 'dont', 'get', 'good', 'govern', 'great', 'im', 'india', 'job',\n",
            "       'know', 'kung', 'like', 'mao', 'offer', 'oh', 'peopl', 'read', 'russia',\n",
            "       'school', 'student', 'think', 'trade', 'us', 'usa', 'use', 'viru', 'w',\n",
            "       'western', 'work', 'world', 'write', 'your', 'zhang'],\n",
            "      dtype='object')\n"
          ]
        }
      ]
    },
    {
      "cell_type": "code",
      "source": [
        "pd.Series(stemmed_D).to_csv(r'/content/gdrive/MyDrive/Thesis_Data&Result/EJMR_co_stem_D.csv', index=False, header=False)"
      ],
      "metadata": {
        "id": "3sJa1nq2NUq6"
      },
      "execution_count": 18,
      "outputs": []
    },
    {
      "cell_type": "code",
      "source": [
        "stemmed_D = pd.read_csv('/content/gdrive/MyDrive/Thesis_Data&Result/EJMR_co_stem_D.csv', header=None)\n",
        "print(stemmed_D)"
      ],
      "metadata": {
        "colab": {
          "base_uri": "https://localhost:8080/"
        },
        "id": "Ew6_Za2zNcjf",
        "outputId": "0d1977ea-5224-4708-9748-9b8911df2569"
      },
      "execution_count": 19,
      "outputs": [
        {
          "output_type": "stream",
          "name": "stdout",
          "text": [
            "           0\n",
            "0    america\n",
            "1      asian\n",
            "2       beij\n",
            "3        ccp\n",
            "4   chinabro\n",
            "5     chines\n",
            "6    countri\n",
            "7       date\n",
            "8       dont\n",
            "9        get\n",
            "10      good\n",
            "11    govern\n",
            "12     great\n",
            "13        im\n",
            "14     india\n",
            "15       job\n",
            "16      know\n",
            "17      kung\n",
            "18      like\n",
            "19       mao\n",
            "20     offer\n",
            "21        oh\n",
            "22     peopl\n",
            "23      read\n",
            "24    russia\n",
            "25    school\n",
            "26   student\n",
            "27     think\n",
            "28     trade\n",
            "29        us\n",
            "30       usa\n",
            "31       use\n",
            "32      viru\n",
            "33         w\n",
            "34   western\n",
            "35      work\n",
            "36     world\n",
            "37     write\n",
            "38      your\n",
            "39     zhang\n"
          ]
        }
      ]
    }
  ]
}