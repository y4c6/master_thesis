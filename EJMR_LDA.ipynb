{
  "nbformat": 4,
  "nbformat_minor": 0,
  "metadata": {
    "colab": {
      "provenance": [],
      "authorship_tag": "ABX9TyM5wAr7A5w7pvjL+WUyn37R",
      "include_colab_link": true
    },
    "kernelspec": {
      "name": "python3",
      "display_name": "Python 3"
    },
    "language_info": {
      "name": "python"
    }
  },
  "cells": [
    {
      "cell_type": "markdown",
      "metadata": {
        "id": "view-in-github",
        "colab_type": "text"
      },
      "source": [
        "<a href=\"https://colab.research.google.com/github/y4c6/master_thesis/blob/main/EJMR_LDA.ipynb\" target=\"_parent\"><img src=\"https://colab.research.google.com/assets/colab-badge.svg\" alt=\"Open In Colab\"/></a>"
      ]
    },
    {
      "cell_type": "code",
      "source": [
        "import numpy as np\n",
        "import pandas as pd\n",
        "import json"
      ],
      "metadata": {
        "id": "jsbWCGOMvgjj"
      },
      "execution_count": 2,
      "outputs": []
    },
    {
      "cell_type": "code",
      "source": [
        "from google.colab import drive\n",
        "# directory\n",
        "drive.mount('/content/gdrive')"
      ],
      "metadata": {
        "colab": {
          "base_uri": "https://localhost:8080/"
        },
        "id": "k-9QqaF2vi-0",
        "outputId": "f5ea1742-c23c-4051-bace-39816f560f74"
      },
      "execution_count": 3,
      "outputs": [
        {
          "output_type": "stream",
          "name": "stdout",
          "text": [
            "Mounted at /content/gdrive\n"
          ]
        }
      ]
    },
    {
      "cell_type": "markdown",
      "source": [
        "## preparing data"
      ],
      "metadata": {
        "id": "wItv7VK20PC9"
      }
    },
    {
      "cell_type": "code",
      "execution_count": 4,
      "metadata": {
        "id": "5zKoAGhyvZUn"
      },
      "outputs": [],
      "source": [
        "import glob\n",
        "import json\n",
        "\n",
        "def list_json_files(path, start_with): \n",
        "    # get a list of json files that starts with specific word \n",
        "    json_files = glob.glob(path + f'/{start_with}*.json')\n",
        "    return json_files\n",
        "\n",
        "def concat_json_files(file_paths):\n",
        "    # concatenate the content of all the files in the list\n",
        "    data = {'topic':[], 'posts':[]}\n",
        "    for file_path in file_paths:\n",
        "        with open(file_path, 'r') as f:\n",
        "            file_data = json.load(f)\n",
        "            data['topic'].extend(file_data['topic'])\n",
        "            data['posts'].extend(file_data['posts'])\n",
        "    return data\n",
        "\n",
        "def concat_json_files_with_start(path, start_with):\n",
        "    json_files = list_json_files(path, start_with)\n",
        "    data = concat_json_files(json_files)\n",
        "    return data\n"
      ]
    },
    {
      "cell_type": "code",
      "source": [
        "path = '/content/gdrive/MyDrive/論文相關材料/'\n",
        "start_with = 'EJMRpost_'\n",
        "data = concat_json_files_with_start(path, start_with)"
      ],
      "metadata": {
        "id": "cJSDy6axzczQ"
      },
      "execution_count": 5,
      "outputs": []
    },
    {
      "cell_type": "code",
      "source": [
        "len(data['topic'])"
      ],
      "metadata": {
        "colab": {
          "base_uri": "https://localhost:8080/"
        },
        "id": "XtiH-_bA3woD",
        "outputId": "0c4f17ee-71fc-4991-9bb5-bbec877d7de3"
      },
      "execution_count": 15,
      "outputs": [
        {
          "output_type": "execute_result",
          "data": {
            "text/plain": [
              "150000"
            ]
          },
          "metadata": {},
          "execution_count": 15
        }
      ]
    },
    {
      "cell_type": "code",
      "source": [
        "## construct the dictionary to dataframe"
      ],
      "metadata": {
        "id": "kie9xVOiTkOy"
      },
      "execution_count": 1,
      "outputs": []
    },
    {
      "cell_type": "code",
      "source": [
        "df = pd.DataFrame(data)\n",
        "df.head(3)"
      ],
      "metadata": {
        "colab": {
          "base_uri": "https://localhost:8080/",
          "height": 143
        },
        "id": "KzvrLnM8qGNG",
        "outputId": "3754ec22-f7a6-46fa-adaa-1425a8374e36"
      },
      "execution_count": 6,
      "outputs": [
        {
          "output_type": "execute_result",
          "data": {
            "text/plain": [
              "                                               topic  \\\n",
              "0    https://www.econjobrumors.com/topic/rbb-or-kari   \n",
              "1  https://www.econjobrumors.com/topic/as-ian-ame...   \n",
              "2  https://www.econjobrumors.com/topic/russia-chi...   \n",
              "\n",
              "                                               posts  \n",
              "0  [Whose more of a dishonest cringe dooshbag?, I...  \n",
              "1  [https://www.nytimes.com/2022/03/06/nyregion/a...  \n",
              "2  [Is this the genius outcome the West was looki...  "
            ],
            "text/html": [
              "\n",
              "  <div id=\"df-f7204dec-1a0c-4aab-b316-2e5c7d3f868e\">\n",
              "    <div class=\"colab-df-container\">\n",
              "      <div>\n",
              "<style scoped>\n",
              "    .dataframe tbody tr th:only-of-type {\n",
              "        vertical-align: middle;\n",
              "    }\n",
              "\n",
              "    .dataframe tbody tr th {\n",
              "        vertical-align: top;\n",
              "    }\n",
              "\n",
              "    .dataframe thead th {\n",
              "        text-align: right;\n",
              "    }\n",
              "</style>\n",
              "<table border=\"1\" class=\"dataframe\">\n",
              "  <thead>\n",
              "    <tr style=\"text-align: right;\">\n",
              "      <th></th>\n",
              "      <th>topic</th>\n",
              "      <th>posts</th>\n",
              "    </tr>\n",
              "  </thead>\n",
              "  <tbody>\n",
              "    <tr>\n",
              "      <th>0</th>\n",
              "      <td>https://www.econjobrumors.com/topic/rbb-or-kari</td>\n",
              "      <td>[Whose more of a dishonest cringe dooshbag?, I...</td>\n",
              "    </tr>\n",
              "    <tr>\n",
              "      <th>1</th>\n",
              "      <td>https://www.econjobrumors.com/topic/as-ian-ame...</td>\n",
              "      <td>[https://www.nytimes.com/2022/03/06/nyregion/a...</td>\n",
              "    </tr>\n",
              "    <tr>\n",
              "      <th>2</th>\n",
              "      <td>https://www.econjobrumors.com/topic/russia-chi...</td>\n",
              "      <td>[Is this the genius outcome the West was looki...</td>\n",
              "    </tr>\n",
              "  </tbody>\n",
              "</table>\n",
              "</div>\n",
              "      <button class=\"colab-df-convert\" onclick=\"convertToInteractive('df-f7204dec-1a0c-4aab-b316-2e5c7d3f868e')\"\n",
              "              title=\"Convert this dataframe to an interactive table.\"\n",
              "              style=\"display:none;\">\n",
              "        \n",
              "  <svg xmlns=\"http://www.w3.org/2000/svg\" height=\"24px\"viewBox=\"0 0 24 24\"\n",
              "       width=\"24px\">\n",
              "    <path d=\"M0 0h24v24H0V0z\" fill=\"none\"/>\n",
              "    <path d=\"M18.56 5.44l.94 2.06.94-2.06 2.06-.94-2.06-.94-.94-2.06-.94 2.06-2.06.94zm-11 1L8.5 8.5l.94-2.06 2.06-.94-2.06-.94L8.5 2.5l-.94 2.06-2.06.94zm10 10l.94 2.06.94-2.06 2.06-.94-2.06-.94-.94-2.06-.94 2.06-2.06.94z\"/><path d=\"M17.41 7.96l-1.37-1.37c-.4-.4-.92-.59-1.43-.59-.52 0-1.04.2-1.43.59L10.3 9.45l-7.72 7.72c-.78.78-.78 2.05 0 2.83L4 21.41c.39.39.9.59 1.41.59.51 0 1.02-.2 1.41-.59l7.78-7.78 2.81-2.81c.8-.78.8-2.07 0-2.86zM5.41 20L4 18.59l7.72-7.72 1.47 1.35L5.41 20z\"/>\n",
              "  </svg>\n",
              "      </button>\n",
              "      \n",
              "  <style>\n",
              "    .colab-df-container {\n",
              "      display:flex;\n",
              "      flex-wrap:wrap;\n",
              "      gap: 12px;\n",
              "    }\n",
              "\n",
              "    .colab-df-convert {\n",
              "      background-color: #E8F0FE;\n",
              "      border: none;\n",
              "      border-radius: 50%;\n",
              "      cursor: pointer;\n",
              "      display: none;\n",
              "      fill: #1967D2;\n",
              "      height: 32px;\n",
              "      padding: 0 0 0 0;\n",
              "      width: 32px;\n",
              "    }\n",
              "\n",
              "    .colab-df-convert:hover {\n",
              "      background-color: #E2EBFA;\n",
              "      box-shadow: 0px 1px 2px rgba(60, 64, 67, 0.3), 0px 1px 3px 1px rgba(60, 64, 67, 0.15);\n",
              "      fill: #174EA6;\n",
              "    }\n",
              "\n",
              "    [theme=dark] .colab-df-convert {\n",
              "      background-color: #3B4455;\n",
              "      fill: #D2E3FC;\n",
              "    }\n",
              "\n",
              "    [theme=dark] .colab-df-convert:hover {\n",
              "      background-color: #434B5C;\n",
              "      box-shadow: 0px 1px 3px 1px rgba(0, 0, 0, 0.15);\n",
              "      filter: drop-shadow(0px 1px 2px rgba(0, 0, 0, 0.3));\n",
              "      fill: #FFFFFF;\n",
              "    }\n",
              "  </style>\n",
              "\n",
              "      <script>\n",
              "        const buttonEl =\n",
              "          document.querySelector('#df-f7204dec-1a0c-4aab-b316-2e5c7d3f868e button.colab-df-convert');\n",
              "        buttonEl.style.display =\n",
              "          google.colab.kernel.accessAllowed ? 'block' : 'none';\n",
              "\n",
              "        async function convertToInteractive(key) {\n",
              "          const element = document.querySelector('#df-f7204dec-1a0c-4aab-b316-2e5c7d3f868e');\n",
              "          const dataTable =\n",
              "            await google.colab.kernel.invokeFunction('convertToInteractive',\n",
              "                                                     [key], {});\n",
              "          if (!dataTable) return;\n",
              "\n",
              "          const docLinkHtml = 'Like what you see? Visit the ' +\n",
              "            '<a target=\"_blank\" href=https://colab.research.google.com/notebooks/data_table.ipynb>data table notebook</a>'\n",
              "            + ' to learn more about interactive tables.';\n",
              "          element.innerHTML = '';\n",
              "          dataTable['output_type'] = 'display_data';\n",
              "          await google.colab.output.renderOutput(dataTable, element);\n",
              "          const docLink = document.createElement('div');\n",
              "          docLink.innerHTML = docLinkHtml;\n",
              "          element.appendChild(docLink);\n",
              "        }\n",
              "      </script>\n",
              "    </div>\n",
              "  </div>\n",
              "  "
            ]
          },
          "metadata": {},
          "execution_count": 6
        }
      ]
    },
    {
      "cell_type": "code",
      "source": [
        "df.to_pickle(\"./ejmr_20.pkl\")"
      ],
      "metadata": {
        "id": "JphOBMQawT8R"
      },
      "execution_count": 7,
      "outputs": []
    },
    {
      "cell_type": "code",
      "source": [
        "unpickled_df = pd.read_pickle(\"./ejmr_20.pkl\")  \n",
        "unpickled_df.head(3)"
      ],
      "metadata": {
        "colab": {
          "base_uri": "https://localhost:8080/",
          "height": 143
        },
        "id": "gq_cvwI3x49j",
        "outputId": "13d1fa3f-6ae9-400a-86ca-6a39ae88b669"
      },
      "execution_count": 9,
      "outputs": [
        {
          "output_type": "execute_result",
          "data": {
            "text/plain": [
              "                                               topic  \\\n",
              "0    https://www.econjobrumors.com/topic/rbb-or-kari   \n",
              "1  https://www.econjobrumors.com/topic/as-ian-ame...   \n",
              "2  https://www.econjobrumors.com/topic/russia-chi...   \n",
              "\n",
              "                                               posts  \n",
              "0  [Whose more of a dishonest cringe dooshbag?, I...  \n",
              "1  [https://www.nytimes.com/2022/03/06/nyregion/a...  \n",
              "2  [Is this the genius outcome the West was looki...  "
            ],
            "text/html": [
              "\n",
              "  <div id=\"df-5caf8183-2ea0-455c-ae1f-109667b5c2a1\">\n",
              "    <div class=\"colab-df-container\">\n",
              "      <div>\n",
              "<style scoped>\n",
              "    .dataframe tbody tr th:only-of-type {\n",
              "        vertical-align: middle;\n",
              "    }\n",
              "\n",
              "    .dataframe tbody tr th {\n",
              "        vertical-align: top;\n",
              "    }\n",
              "\n",
              "    .dataframe thead th {\n",
              "        text-align: right;\n",
              "    }\n",
              "</style>\n",
              "<table border=\"1\" class=\"dataframe\">\n",
              "  <thead>\n",
              "    <tr style=\"text-align: right;\">\n",
              "      <th></th>\n",
              "      <th>topic</th>\n",
              "      <th>posts</th>\n",
              "    </tr>\n",
              "  </thead>\n",
              "  <tbody>\n",
              "    <tr>\n",
              "      <th>0</th>\n",
              "      <td>https://www.econjobrumors.com/topic/rbb-or-kari</td>\n",
              "      <td>[Whose more of a dishonest cringe dooshbag?, I...</td>\n",
              "    </tr>\n",
              "    <tr>\n",
              "      <th>1</th>\n",
              "      <td>https://www.econjobrumors.com/topic/as-ian-ame...</td>\n",
              "      <td>[https://www.nytimes.com/2022/03/06/nyregion/a...</td>\n",
              "    </tr>\n",
              "    <tr>\n",
              "      <th>2</th>\n",
              "      <td>https://www.econjobrumors.com/topic/russia-chi...</td>\n",
              "      <td>[Is this the genius outcome the West was looki...</td>\n",
              "    </tr>\n",
              "  </tbody>\n",
              "</table>\n",
              "</div>\n",
              "      <button class=\"colab-df-convert\" onclick=\"convertToInteractive('df-5caf8183-2ea0-455c-ae1f-109667b5c2a1')\"\n",
              "              title=\"Convert this dataframe to an interactive table.\"\n",
              "              style=\"display:none;\">\n",
              "        \n",
              "  <svg xmlns=\"http://www.w3.org/2000/svg\" height=\"24px\"viewBox=\"0 0 24 24\"\n",
              "       width=\"24px\">\n",
              "    <path d=\"M0 0h24v24H0V0z\" fill=\"none\"/>\n",
              "    <path d=\"M18.56 5.44l.94 2.06.94-2.06 2.06-.94-2.06-.94-.94-2.06-.94 2.06-2.06.94zm-11 1L8.5 8.5l.94-2.06 2.06-.94-2.06-.94L8.5 2.5l-.94 2.06-2.06.94zm10 10l.94 2.06.94-2.06 2.06-.94-2.06-.94-.94-2.06-.94 2.06-2.06.94z\"/><path d=\"M17.41 7.96l-1.37-1.37c-.4-.4-.92-.59-1.43-.59-.52 0-1.04.2-1.43.59L10.3 9.45l-7.72 7.72c-.78.78-.78 2.05 0 2.83L4 21.41c.39.39.9.59 1.41.59.51 0 1.02-.2 1.41-.59l7.78-7.78 2.81-2.81c.8-.78.8-2.07 0-2.86zM5.41 20L4 18.59l7.72-7.72 1.47 1.35L5.41 20z\"/>\n",
              "  </svg>\n",
              "      </button>\n",
              "      \n",
              "  <style>\n",
              "    .colab-df-container {\n",
              "      display:flex;\n",
              "      flex-wrap:wrap;\n",
              "      gap: 12px;\n",
              "    }\n",
              "\n",
              "    .colab-df-convert {\n",
              "      background-color: #E8F0FE;\n",
              "      border: none;\n",
              "      border-radius: 50%;\n",
              "      cursor: pointer;\n",
              "      display: none;\n",
              "      fill: #1967D2;\n",
              "      height: 32px;\n",
              "      padding: 0 0 0 0;\n",
              "      width: 32px;\n",
              "    }\n",
              "\n",
              "    .colab-df-convert:hover {\n",
              "      background-color: #E2EBFA;\n",
              "      box-shadow: 0px 1px 2px rgba(60, 64, 67, 0.3), 0px 1px 3px 1px rgba(60, 64, 67, 0.15);\n",
              "      fill: #174EA6;\n",
              "    }\n",
              "\n",
              "    [theme=dark] .colab-df-convert {\n",
              "      background-color: #3B4455;\n",
              "      fill: #D2E3FC;\n",
              "    }\n",
              "\n",
              "    [theme=dark] .colab-df-convert:hover {\n",
              "      background-color: #434B5C;\n",
              "      box-shadow: 0px 1px 3px 1px rgba(0, 0, 0, 0.15);\n",
              "      filter: drop-shadow(0px 1px 2px rgba(0, 0, 0, 0.3));\n",
              "      fill: #FFFFFF;\n",
              "    }\n",
              "  </style>\n",
              "\n",
              "      <script>\n",
              "        const buttonEl =\n",
              "          document.querySelector('#df-5caf8183-2ea0-455c-ae1f-109667b5c2a1 button.colab-df-convert');\n",
              "        buttonEl.style.display =\n",
              "          google.colab.kernel.accessAllowed ? 'block' : 'none';\n",
              "\n",
              "        async function convertToInteractive(key) {\n",
              "          const element = document.querySelector('#df-5caf8183-2ea0-455c-ae1f-109667b5c2a1');\n",
              "          const dataTable =\n",
              "            await google.colab.kernel.invokeFunction('convertToInteractive',\n",
              "                                                     [key], {});\n",
              "          if (!dataTable) return;\n",
              "\n",
              "          const docLinkHtml = 'Like what you see? Visit the ' +\n",
              "            '<a target=\"_blank\" href=https://colab.research.google.com/notebooks/data_table.ipynb>data table notebook</a>'\n",
              "            + ' to learn more about interactive tables.';\n",
              "          element.innerHTML = '';\n",
              "          dataTable['output_type'] = 'display_data';\n",
              "          await google.colab.output.renderOutput(dataTable, element);\n",
              "          const docLink = document.createElement('div');\n",
              "          docLink.innerHTML = docLinkHtml;\n",
              "          element.appendChild(docLink);\n",
              "        }\n",
              "      </script>\n",
              "    </div>\n",
              "  </div>\n",
              "  "
            ]
          },
          "metadata": {},
          "execution_count": 9
        }
      ]
    },
    {
      "cell_type": "markdown",
      "source": [
        "## select out the asian-related posts"
      ],
      "metadata": {
        "id": "I90VyWyz3Rnx"
      }
    },
    {
      "cell_type": "code",
      "source": [
        "asian_target = ['asian', 'asia', 'korea', 'korean', 'japan', 'japanese', 'taiwan', 'taiwanese', 'east', 'hongkong']\n",
        "china_target = ['china', 'chinese']"
      ],
      "metadata": {
        "id": "blnrqnj93Zv4"
      },
      "execution_count": 16,
      "outputs": []
    },
    {
      "cell_type": "code",
      "source": [
        "# initialize an empty list to store the indexes\n",
        "asian_topic_indices = []\n",
        "\n",
        "# iterate over the topics list\n",
        "for i, topic in enumerate(data['topic']):\n",
        "  # check if any of the target words are in the current topic\n",
        "  if any(word in topic for word in asian_target):\n",
        "    # if the target word is found, append the index to the indexes list\n",
        "    asian_topic_indices.append(i)\n",
        "\n",
        "print(asian_topic_indices[:15])\n",
        "len(asian_topic_indices)"
      ],
      "metadata": {
        "colab": {
          "base_uri": "https://localhost:8080/"
        },
        "id": "50bgrpZS3mvo",
        "outputId": "915a40c8-1872-4f87-99b0-5f3cd1aeca2b"
      },
      "execution_count": 17,
      "outputs": [
        {
          "output_type": "stream",
          "name": "stdout",
          "text": [
            "[2, 23, 44, 69, 79, 110, 129, 154, 158, 215, 232, 243, 265, 283, 288]\n"
          ]
        },
        {
          "output_type": "execute_result",
          "data": {
            "text/plain": [
              "4830"
            ]
          },
          "metadata": {},
          "execution_count": 17
        }
      ]
    },
    {
      "cell_type": "code",
      "source": [
        "asian_topic_indicator_array = np.zeros(len(data['topic']))\n",
        "asian_topic_indicator_array[asian_topic_idices] = 1\n",
        "asian_topic_indicator_array"
      ],
      "metadata": {
        "colab": {
          "base_uri": "https://localhost:8080/"
        },
        "id": "o83l_iSO52JQ",
        "outputId": "3ddb472d-ef94-4bda-981a-b3ae5c345d40"
      },
      "execution_count": 20,
      "outputs": [
        {
          "output_type": "execute_result",
          "data": {
            "text/plain": [
              "array([0., 0., 1., ..., 0., 0., 0.])"
            ]
          },
          "metadata": {},
          "execution_count": 20
        }
      ]
    },
    {
      "cell_type": "code",
      "source": [
        "len(asian_topic_idices) / len( data['posts']) # to see the ratio "
      ],
      "metadata": {
        "colab": {
          "base_uri": "https://localhost:8080/"
        },
        "id": "RCL-WOdR6NN7",
        "outputId": "10172b3b-2e5d-4dcb-c895-c3c733086698"
      },
      "execution_count": 21,
      "outputs": [
        {
          "output_type": "execute_result",
          "data": {
            "text/plain": [
              "0.0322"
            ]
          },
          "metadata": {},
          "execution_count": 21
        }
      ]
    },
    {
      "cell_type": "code",
      "source": [
        "asian_posts = [data['posts'][i] for i in asian_topic_idices]"
      ],
      "metadata": {
        "id": "-QfZcSxI6R1J"
      },
      "execution_count": 22,
      "outputs": []
    },
    {
      "cell_type": "code",
      "source": [
        "flatten_asian_posts = [' '.join(i).lower() for i in asian_posts]"
      ],
      "metadata": {
        "id": "MPW_UU2O_BCL"
      },
      "execution_count": null,
      "outputs": []
    },
    {
      "cell_type": "markdown",
      "source": [
        "## Word-embedding (Word2vec) & Topic Modelling (LDA)"
      ],
      "metadata": {
        "id": "4-MDMj6q6cSq"
      }
    },
    {
      "cell_type": "markdown",
      "source": [
        "It is worth noting that this method is not widely used and there are other ways to combine LDA and word2vec such as using word2vec vectors as priors for LDA or using LDA topics as features for word2vec.\n",
        "Also, LDA is unsupervised method while word2vec is supervised method, so the way you combine them is important and it depends on your application.\n",
        "It is recommended to consult with experts in this field and validate the results to see whether this approach is beneficial for your task or not."
      ],
      "metadata": {
        "id": "4-5YCtsb8gcu"
      }
    },
    {
      "cell_type": "markdown",
      "source": [
        "ref hw2"
      ],
      "metadata": {
        "id": "p60ycAjXPF-7"
      }
    },
    {
      "cell_type": "code",
      "source": [
        "## check library\n",
        "import gensim\n",
        "\n",
        "## ignore warnings\n",
        "import warnings\n",
        "warnings.filterwarnings('ignore')\n",
        "\n",
        "# # if you want to see the training messages, you can use it\n",
        "# import logging\n",
        "# logging.basicConfig(format='%(asctime)s : %(levelname)s : %(message)s', level=logging.INFO)\n",
        "\n",
        "## the input type\n",
        "train_df['text_tokenized'] = train_df['text'].apply(lambda x: nltk.word_tokenize(x))\n",
        "train_df[['id', 'text', 'text_tokenized']].head()"
      ],
      "metadata": {
        "id": "LAU-1mtWPA-l"
      },
      "execution_count": null,
      "outputs": []
    },
    {
      "cell_type": "code",
      "source": [
        "## create the training corpus\n",
        "training_corpus = train_df['text_tokenized'].values\n",
        "training_corpus[:3]"
      ],
      "metadata": {
        "id": "JKQ52XGqPPAE"
      },
      "execution_count": null,
      "outputs": []
    },
    {
      "cell_type": "code",
      "source": [
        "#from gensim.models import Word2Vec\n",
        "\n",
        "## setting\n",
        "vector_dim = 100\n",
        "window_size = 5\n",
        "min_count = 1\n",
        "training_epochs = 20\n",
        "\n",
        "## model\n",
        "word2vec_model = Word2Vec(sentences=training_corpus, \n",
        "                          vector_size=vector_dim, window=window_size, \n",
        "                          min_count=min_count, epochs=training_epochs)"
      ],
      "metadata": {
        "id": "rQdUcnhuPTOc"
      },
      "execution_count": null,
      "outputs": []
    },
    {
      "cell_type": "code",
      "source": [
        "# Get the most similar words\n",
        "word = 'happy'\n",
        "topn = 10\n",
        "word2vec_model.wv.most_similar(word, topn=topn)"
      ],
      "metadata": {
        "id": "7C6CEX_bPZIJ"
      },
      "execution_count": null,
      "outputs": []
    },
    {
      "cell_type": "markdown",
      "source": [
        "^^^^^^^"
      ],
      "metadata": {
        "id": "Q2aLJzChPL-_"
      }
    },
    {
      "cell_type": "code",
      "source": [
        "from gensim.models import Word2Vec\n",
        "\n",
        "# Train the Word2Vec model on the sentences\n",
        "w2v_model = Word2Vec(asian_posts, min_count=1)"
      ],
      "metadata": {
        "id": "T1lji_zy6bt4"
      },
      "execution_count": 25,
      "outputs": []
    },
    {
      "cell_type": "code",
      "source": [
        "word_vectors = w2v_model.wv"
      ],
      "metadata": {
        "id": "kwQcekB5-FLx"
      },
      "execution_count": 27,
      "outputs": []
    },
    {
      "cell_type": "code",
      "source": [
        "type(word_vectors)"
      ],
      "metadata": {
        "colab": {
          "base_uri": "https://localhost:8080/"
        },
        "id": "Uq7DBJcp-NdB",
        "outputId": "1cb15621-9d3c-4779-93bb-e3fde47cd40e"
      },
      "execution_count": 28,
      "outputs": [
        {
          "output_type": "execute_result",
          "data": {
            "text/plain": [
              "gensim.models.keyedvectors.Word2VecKeyedVectors"
            ]
          },
          "metadata": {},
          "execution_count": 28
        }
      ]
    },
    {
      "cell_type": "code",
      "source": [
        "for item in word_vectors.most_similar('china'):\n",
        "    print(item)"
      ],
      "metadata": {
        "colab": {
          "base_uri": "https://localhost:8080/"
        },
        "id": "opcowfFM-VZ-",
        "outputId": "2fbe88fc-d05f-4307-f8a3-8f59096b3db5"
      },
      "execution_count": 31,
      "outputs": [
        {
          "output_type": "stream",
          "name": "stdout",
          "text": [
            "(\"Princeton I remember had one of the lowest percentages of Asians in the late 90s, something like 11%. They've doubled that since.\", 0.4637858271598816)\n",
            "('Strong able bodied slàves dvmb enough not to rebel > strong able bodied slàves with iq high enough to rebel', 0.3971552848815918)\n",
            "('Okay, Igor.', 0.39317411184310913)\n",
            "('A testament to those who take genuine interest in Taiwan.', 0.3869967460632324)\n",
            "('if you teach only one course', 0.38309216499328613)\n",
            "('PIC: https://imgur.com/a/gG1zdXW', 0.37933504581451416)\n",
            "('global economic boom\\nboom in culture\\nboom in peace', 0.377951979637146)\n",
            "('Racial inequity is real.', 0.36936408281326294)\n",
            "('yes.  Masking outside in open air when you are by yourself is certainly dangerous and you are better to stay at home in china', 0.36899322271347046)\n",
            "('Their employees would be Chinese.', 0.3626231551170349)\n"
          ]
        }
      ]
    }
  ]
}