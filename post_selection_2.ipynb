{
  "cells": [
    {
      "cell_type": "markdown",
      "metadata": {
        "id": "view-in-github",
        "colab_type": "text"
      },
      "source": [
        "<a href=\"https://colab.research.google.com/github/y4c6/master_thesis/blob/main/post_selection_2.ipynb\" target=\"_parent\"><img src=\"https://colab.research.google.com/assets/colab-badge.svg\" alt=\"Open In Colab\"/></a>"
      ]
    },
    {
      "cell_type": "code",
      "execution_count": 1,
      "metadata": {
        "colab": {
          "base_uri": "https://localhost:8080/"
        },
        "id": "c9e893bjhaEi",
        "outputId": "10bc8f58-6c01-4b45-ade8-32e5f9534faa"
      },
      "outputs": [
        {
          "output_type": "stream",
          "name": "stdout",
          "text": [
            "Drive already mounted at /content/gdrive; to attempt to forcibly remount, call drive.mount(\"/content/gdrive\", force_remount=True).\n"
          ]
        }
      ],
      "source": [
        "from google.colab import drive\n",
        "# directory\n",
        "drive.mount('/content/gdrive')"
      ]
    },
    {
      "cell_type": "code",
      "execution_count": 2,
      "metadata": {
        "id": "tLGb40WkhrCK"
      },
      "outputs": [],
      "source": [
        "import numpy as np\n",
        "import pandas as pd\n",
        "import json"
      ]
    },
    {
      "cell_type": "code",
      "source": [
        "from sklearn.linear_model import LassoCV, Lasso\n",
        "from sklearn.linear_model import LinearRegression\n",
        "\n",
        "class postLasso:\n",
        "    def __init__(self, random_state=None, target=None, set1=None, set2=None, token = {'stem', 'lemma'}):\n",
        "        self.random_state = random_state\n",
        "        self.token = token  # {stem, lemma}\n",
        "        self.set1 = set1\n",
        "        self.set2 = set2\n",
        "        self.target = target #\n",
        "        #self.treatment = treatment\n",
        "        self.selectX = None # param passthrough from lasso to ols\n",
        "        self.alpha = None # param passthrough from lassocv to lasso\n",
        "        self.lassocv = None\n",
        "        self.lasso = None\n",
        "        self.ols = None\n",
        "\n",
        "\n",
        "    def lasso_fit(self, target):\n",
        "        # Step 1: LassoCV for feature selection\n",
        "        self.lasso_cv = LassoCV(random_state=self.random_state, cv=5, tol=0.1)\n",
        "\n",
        "        self.lasso_cv.fit(self.set1.loc[:, self.set1.columns != self.target],\n",
        "                 self.set1[self.target])\n",
        "\n",
        "        # Step 2: Lasso with alpha from LassoCV\n",
        "        self.alpha = self.lasso_cv.alpha_\n",
        "        self.lasso = Lasso(alpha=self.alpha)\n",
        "        self.lasso.fit(self.set1.loc[:, self.set1.columns != self.target],\n",
        "                 self.set1[self.target])\n",
        "        self.selectX = list(self.set1.keys()[self.set1.columns != self.target][self.lasso.coef_!=0])\n",
        "\n",
        "    def get_selectX(self):\n",
        "        return self.selectX\n",
        "\n",
        "    def post_lasso_fit(self, target, treatment, selected):\n",
        "        # Step 3: OLS with selected features\n",
        "        #self.selectX = list(self.set1.keys()[self.set1.columns != self.target][self.lasso.coef_!=0])\n",
        "\n",
        "        self.treatment = treatment\n",
        "        self.selected = selected\n",
        "        self.ols = LinearRegression()\n",
        "        self.ols.fit(self.set2[ self.treatment + self.selected ],\n",
        "              self.set2[ self.target ])\n",
        "\n",
        "    # def predict(self, X):\n",
        "    #     X_selected = X[:, self.selected_features]\n",
        "    #     return self.ols.predict(X_selected)\n",
        "\n",
        "    def get_ols_model(self):\n",
        "        return self.ols"
      ],
      "metadata": {
        "id": "z4rIau_8Qud_"
      },
      "execution_count": 3,
      "outputs": []
    },
    {
      "cell_type": "markdown",
      "metadata": {
        "id": "wfRTpBociXfd"
      },
      "source": [
        "# stem"
      ]
    },
    {
      "cell_type": "code",
      "execution_count": 4,
      "metadata": {
        "id": "We7lU4y4h5D4"
      },
      "outputs": [],
      "source": [
        "data_stem = pd.read_pickle(\"/content/gdrive/MyDrive/Thesis_Data&Result/EJMR_data_stem_ao2_a.pkl\")\n",
        "data_stem.rename(columns = {'y':'asian'}, inplace = True)"
      ]
    },
    {
      "cell_type": "code",
      "execution_count": 5,
      "metadata": {
        "colab": {
          "base_uri": "https://localhost:8080/",
          "height": 190
        },
        "id": "bYbroLv2h7cA",
        "outputId": "26c9c9df-334d-4f5e-b466-a997fb42e045"
      },
      "outputs": [
        {
          "output_type": "stream",
          "name": "stdout",
          "text": [
            "(23337, 10001)\n"
          ]
        },
        {
          "output_type": "execute_result",
          "data": {
            "text/plain": [
              "   aa  aacsb  ab  abandon  abbott  abbrevi  abc  abd  abe  abel  ...  zone  \\\n",
              "0   0      0   0        0       0        0    0    0    0     0  ...     0   \n",
              "1   0      0   0        0       0        0    0    0    0     0  ...     0   \n",
              "2   0      0   0        0       0        0    0    0    0     0  ...     0   \n",
              "\n",
              "   zoo  zoom  zoomer  zu  zuckerberg  zucman  zuel  zurich  asian  \n",
              "0    0     0       0   0           0       0     0       0      0  \n",
              "1    0     0       0   0           0       0     0       0      1  \n",
              "2    0     0       0   0           0       0     0       0      0  \n",
              "\n",
              "[3 rows x 10001 columns]"
            ],
            "text/html": [
              "\n",
              "  <div id=\"df-be55c8e5-1fb8-47d4-8d4c-62fb7304f4de\">\n",
              "    <div class=\"colab-df-container\">\n",
              "      <div>\n",
              "<style scoped>\n",
              "    .dataframe tbody tr th:only-of-type {\n",
              "        vertical-align: middle;\n",
              "    }\n",
              "\n",
              "    .dataframe tbody tr th {\n",
              "        vertical-align: top;\n",
              "    }\n",
              "\n",
              "    .dataframe thead th {\n",
              "        text-align: right;\n",
              "    }\n",
              "</style>\n",
              "<table border=\"1\" class=\"dataframe\">\n",
              "  <thead>\n",
              "    <tr style=\"text-align: right;\">\n",
              "      <th></th>\n",
              "      <th>aa</th>\n",
              "      <th>aacsb</th>\n",
              "      <th>ab</th>\n",
              "      <th>abandon</th>\n",
              "      <th>abbott</th>\n",
              "      <th>abbrevi</th>\n",
              "      <th>abc</th>\n",
              "      <th>abd</th>\n",
              "      <th>abe</th>\n",
              "      <th>abel</th>\n",
              "      <th>...</th>\n",
              "      <th>zone</th>\n",
              "      <th>zoo</th>\n",
              "      <th>zoom</th>\n",
              "      <th>zoomer</th>\n",
              "      <th>zu</th>\n",
              "      <th>zuckerberg</th>\n",
              "      <th>zucman</th>\n",
              "      <th>zuel</th>\n",
              "      <th>zurich</th>\n",
              "      <th>asian</th>\n",
              "    </tr>\n",
              "  </thead>\n",
              "  <tbody>\n",
              "    <tr>\n",
              "      <th>0</th>\n",
              "      <td>0</td>\n",
              "      <td>0</td>\n",
              "      <td>0</td>\n",
              "      <td>0</td>\n",
              "      <td>0</td>\n",
              "      <td>0</td>\n",
              "      <td>0</td>\n",
              "      <td>0</td>\n",
              "      <td>0</td>\n",
              "      <td>0</td>\n",
              "      <td>...</td>\n",
              "      <td>0</td>\n",
              "      <td>0</td>\n",
              "      <td>0</td>\n",
              "      <td>0</td>\n",
              "      <td>0</td>\n",
              "      <td>0</td>\n",
              "      <td>0</td>\n",
              "      <td>0</td>\n",
              "      <td>0</td>\n",
              "      <td>0</td>\n",
              "    </tr>\n",
              "    <tr>\n",
              "      <th>1</th>\n",
              "      <td>0</td>\n",
              "      <td>0</td>\n",
              "      <td>0</td>\n",
              "      <td>0</td>\n",
              "      <td>0</td>\n",
              "      <td>0</td>\n",
              "      <td>0</td>\n",
              "      <td>0</td>\n",
              "      <td>0</td>\n",
              "      <td>0</td>\n",
              "      <td>...</td>\n",
              "      <td>0</td>\n",
              "      <td>0</td>\n",
              "      <td>0</td>\n",
              "      <td>0</td>\n",
              "      <td>0</td>\n",
              "      <td>0</td>\n",
              "      <td>0</td>\n",
              "      <td>0</td>\n",
              "      <td>0</td>\n",
              "      <td>1</td>\n",
              "    </tr>\n",
              "    <tr>\n",
              "      <th>2</th>\n",
              "      <td>0</td>\n",
              "      <td>0</td>\n",
              "      <td>0</td>\n",
              "      <td>0</td>\n",
              "      <td>0</td>\n",
              "      <td>0</td>\n",
              "      <td>0</td>\n",
              "      <td>0</td>\n",
              "      <td>0</td>\n",
              "      <td>0</td>\n",
              "      <td>...</td>\n",
              "      <td>0</td>\n",
              "      <td>0</td>\n",
              "      <td>0</td>\n",
              "      <td>0</td>\n",
              "      <td>0</td>\n",
              "      <td>0</td>\n",
              "      <td>0</td>\n",
              "      <td>0</td>\n",
              "      <td>0</td>\n",
              "      <td>0</td>\n",
              "    </tr>\n",
              "  </tbody>\n",
              "</table>\n",
              "<p>3 rows × 10001 columns</p>\n",
              "</div>\n",
              "      <button class=\"colab-df-convert\" onclick=\"convertToInteractive('df-be55c8e5-1fb8-47d4-8d4c-62fb7304f4de')\"\n",
              "              title=\"Convert this dataframe to an interactive table.\"\n",
              "              style=\"display:none;\">\n",
              "        \n",
              "  <svg xmlns=\"http://www.w3.org/2000/svg\" height=\"24px\"viewBox=\"0 0 24 24\"\n",
              "       width=\"24px\">\n",
              "    <path d=\"M0 0h24v24H0V0z\" fill=\"none\"/>\n",
              "    <path d=\"M18.56 5.44l.94 2.06.94-2.06 2.06-.94-2.06-.94-.94-2.06-.94 2.06-2.06.94zm-11 1L8.5 8.5l.94-2.06 2.06-.94-2.06-.94L8.5 2.5l-.94 2.06-2.06.94zm10 10l.94 2.06.94-2.06 2.06-.94-2.06-.94-.94-2.06-.94 2.06-2.06.94z\"/><path d=\"M17.41 7.96l-1.37-1.37c-.4-.4-.92-.59-1.43-.59-.52 0-1.04.2-1.43.59L10.3 9.45l-7.72 7.72c-.78.78-.78 2.05 0 2.83L4 21.41c.39.39.9.59 1.41.59.51 0 1.02-.2 1.41-.59l7.78-7.78 2.81-2.81c.8-.78.8-2.07 0-2.86zM5.41 20L4 18.59l7.72-7.72 1.47 1.35L5.41 20z\"/>\n",
              "  </svg>\n",
              "      </button>\n",
              "      \n",
              "  <style>\n",
              "    .colab-df-container {\n",
              "      display:flex;\n",
              "      flex-wrap:wrap;\n",
              "      gap: 12px;\n",
              "    }\n",
              "\n",
              "    .colab-df-convert {\n",
              "      background-color: #E8F0FE;\n",
              "      border: none;\n",
              "      border-radius: 50%;\n",
              "      cursor: pointer;\n",
              "      display: none;\n",
              "      fill: #1967D2;\n",
              "      height: 32px;\n",
              "      padding: 0 0 0 0;\n",
              "      width: 32px;\n",
              "    }\n",
              "\n",
              "    .colab-df-convert:hover {\n",
              "      background-color: #E2EBFA;\n",
              "      box-shadow: 0px 1px 2px rgba(60, 64, 67, 0.3), 0px 1px 3px 1px rgba(60, 64, 67, 0.15);\n",
              "      fill: #174EA6;\n",
              "    }\n",
              "\n",
              "    [theme=dark] .colab-df-convert {\n",
              "      background-color: #3B4455;\n",
              "      fill: #D2E3FC;\n",
              "    }\n",
              "\n",
              "    [theme=dark] .colab-df-convert:hover {\n",
              "      background-color: #434B5C;\n",
              "      box-shadow: 0px 1px 3px 1px rgba(0, 0, 0, 0.15);\n",
              "      filter: drop-shadow(0px 1px 2px rgba(0, 0, 0, 0.3));\n",
              "      fill: #FFFFFF;\n",
              "    }\n",
              "  </style>\n",
              "\n",
              "      <script>\n",
              "        const buttonEl =\n",
              "          document.querySelector('#df-be55c8e5-1fb8-47d4-8d4c-62fb7304f4de button.colab-df-convert');\n",
              "        buttonEl.style.display =\n",
              "          google.colab.kernel.accessAllowed ? 'block' : 'none';\n",
              "\n",
              "        async function convertToInteractive(key) {\n",
              "          const element = document.querySelector('#df-be55c8e5-1fb8-47d4-8d4c-62fb7304f4de');\n",
              "          const dataTable =\n",
              "            await google.colab.kernel.invokeFunction('convertToInteractive',\n",
              "                                                     [key], {});\n",
              "          if (!dataTable) return;\n",
              "\n",
              "          const docLinkHtml = 'Like what you see? Visit the ' +\n",
              "            '<a target=\"_blank\" href=https://colab.research.google.com/notebooks/data_table.ipynb>data table notebook</a>'\n",
              "            + ' to learn more about interactive tables.';\n",
              "          element.innerHTML = '';\n",
              "          dataTable['output_type'] = 'display_data';\n",
              "          await google.colab.output.renderOutput(dataTable, element);\n",
              "          const docLink = document.createElement('div');\n",
              "          docLink.innerHTML = docLinkHtml;\n",
              "          element.appendChild(docLink);\n",
              "        }\n",
              "      </script>\n",
              "    </div>\n",
              "  </div>\n",
              "  "
            ]
          },
          "metadata": {},
          "execution_count": 5
        }
      ],
      "source": [
        "print(data_stem.shape)\n",
        "data_stem.head(3)"
      ]
    },
    {
      "cell_type": "code",
      "execution_count": 6,
      "metadata": {
        "id": "gyRsSIpknFXR"
      },
      "outputs": [],
      "source": [
        "from sklearn.model_selection import train_test_split\n",
        "\n",
        "train_stem, test_stem = train_test_split(data_stem, test_size=0.5,  random_state = 2510, shuffle=True)"
      ]
    },
    {
      "cell_type": "code",
      "source": [
        "del data_stem"
      ],
      "metadata": {
        "id": "N6q3d_V9t8Af"
      },
      "execution_count": 12,
      "outputs": []
    },
    {
      "cell_type": "code",
      "source": [
        "# behavior = ['hardwork', 'cheat', 'encourag']\n",
        "appearance = ['golddigger', 'ugli', 'fivefooteight', 'undesir', 'despis']\n",
        "# intellengence = ['braindamag', 'brainwash', 'creativ',\n",
        "#                  'submoron', 'stjupid', 'stpid', 'mediocr', 'talent']\n",
        "# trash = ['rubbish', 'trash', 'rag']\n",
        "# fword = ['fuaak', 'phuyk', 'flopper']\n",
        "# sword = ['shit', 'shiet', 'shi', 'stter']\n",
        "# adjs = ['shame','weak','solid','stronger','good','strongest','great','bad','impress','weaker','terribl','clear','well']"
      ],
      "metadata": {
        "id": "6-wB_3CZc9YD"
      },
      "execution_count": null,
      "outputs": []
    },
    {
      "cell_type": "code",
      "execution_count": 8,
      "metadata": {
        "colab": {
          "base_uri": "https://localhost:8080/"
        },
        "id": "FzORbvZZh7Xw",
        "outputId": "b52fe1c0-8669-4998-ffca-35c41af3e77b"
      },
      "outputs": [
        {
          "output_type": "stream",
          "name": "stdout",
          "text": [
            "3\n",
            "['rubbish', 'trash', 'rag']\n"
          ]
        }
      ],
      "source": [
        "trash = ['rubbish', 'trash', 'rag']\n",
        "\n",
        "D_name = trash\n",
        "\n",
        "target = 'asian'\n",
        "\n",
        "D_name = [w for w, i in zip( D_name, [( w in list(train_stem.columns)) & ( w in list(test_stem.columns) )  for w in D_name]) if i]\n",
        "# w for word, i for index\n",
        "print(len(D_name))\n",
        "print(D_name)"
      ]
    },
    {
      "cell_type": "code",
      "source": [
        "selectX = ['adb', 'american', 'chines', 'countri', 'crime', 'east', 'econom', 'happi', 'hk', 'immigr', 'indian', 'interview', 'japanes', 'job', 'journal', 'karl', 'kimchi', 'ntu', 'one', 'paper', 'read', 'sat', 'singapor', 'south', 'student', 'taiwanes', 'tax', 'test', 'time', 'tokyo', 'use', 'white', 'women', 'work', 'year']"
      ],
      "metadata": {
        "id": "3gkEeR5KYdIq"
      },
      "execution_count": 24,
      "outputs": []
    },
    {
      "cell_type": "code",
      "source": [
        "asian_model = postLasso(random_state=4205, target='asian', set1=train_stem, set2=test_stem, token = 'stem')"
      ],
      "metadata": {
        "id": "d9mtATuyZl42"
      },
      "execution_count": 15,
      "outputs": []
    },
    {
      "cell_type": "code",
      "source": [
        "asian_model.post_lasso_fit(target='asian', treatment=D_name, selected = selectX)\n",
        "ols2 = asian_model.get_ols_model()\n",
        "ols2.coef_"
      ],
      "metadata": {
        "colab": {
          "base_uri": "https://localhost:8080/"
        },
        "id": "Y6rnarSAZXjB",
        "outputId": "27f13ece-1a34-40fe-bea0-cdb5b3614be8"
      },
      "execution_count": 16,
      "outputs": [
        {
          "output_type": "execute_result",
          "data": {
            "text/plain": [
              "array([-1.73780689e-02,  7.05006357e-03, -7.20384143e-02,  3.52344496e-03,\n",
              "        5.15928906e-03, -4.85427494e-03,  1.03542346e-03,  1.47391543e-02,\n",
              "        2.29122789e-02, -2.33032765e-03, -1.24141136e-02,  9.47286350e-04,\n",
              "        3.85128178e-03, -2.14856622e-03, -1.00775252e-04,  2.39386704e-02,\n",
              "       -3.85042367e-04, -7.77288893e-05,  3.16576908e-04, -5.49023360e-03,\n",
              "        9.35432691e-02,  2.20759205e-04, -6.51826167e-04, -5.60298223e-03,\n",
              "       -4.16310944e-03,  3.61269381e-03,  2.72721812e-02,  7.54963022e-04,\n",
              "        8.40543017e-03, -3.16672980e-03,  1.05130171e-03, -2.27036709e-03,\n",
              "        6.99671561e-02, -1.69332672e-03,  1.11398686e-02,  2.41483403e-04,\n",
              "       -4.97066552e-04, -8.88594148e-04])"
            ]
          },
          "metadata": {},
          "execution_count": 16
        }
      ]
    },
    {
      "cell_type": "code",
      "source": [
        "pd.DataFrame({'word': D_name + list(selectX),\n",
        "      'coef': ols2.coef_})#.to_csv('/content/gdrive/Shareddrives/Files_forMeeting/Meeting_0614/stem_asian_trash.csv')"
      ],
      "metadata": {
        "id": "VxtkunlPbeh2"
      },
      "execution_count": 18,
      "outputs": []
    },
    {
      "cell_type": "markdown",
      "source": [
        "## ugli, strong, stupid"
      ],
      "metadata": {
        "id": "-5KhF7AQt69H"
      }
    },
    {
      "cell_type": "code",
      "source": [
        "target = 'stupid'\n",
        "D_name = ['asian']"
      ],
      "metadata": {
        "id": "z-N8tPQbeceo"
      },
      "execution_count": null,
      "outputs": []
    },
    {
      "cell_type": "code",
      "source": [
        "train_stem.loc[train_stem[target] != 0, target] = 1"
      ],
      "metadata": {
        "id": "l0Glr3BWhqeI"
      },
      "execution_count": null,
      "outputs": []
    },
    {
      "cell_type": "code",
      "source": [
        "ugli_model = postLasso(random_state=4205, target=target, set1=train_stem, set2=test_stem, token = 'stem')\n",
        "ugli_model.lasso_fit(target=target)\n",
        "ugli_model.post_lasso_fit(target=target, treatment=D_name)\n",
        "ols2 = ugli_model.get_ols_model()\n",
        "ols2.coef_"
      ],
      "metadata": {
        "colab": {
          "base_uri": "https://localhost:8080/"
        },
        "id": "mFRKCS2ehJtW",
        "outputId": "52ed6e5b-09d0-47d4-ffc3-3d76145b7dfa"
      },
      "execution_count": null,
      "outputs": [
        {
          "output_type": "execute_result",
          "data": {
            "text/plain": [
              "array([-0.01054964, -0.06063244,  0.01869299,  0.02887523])"
            ]
          },
          "metadata": {},
          "execution_count": 31
        }
      ]
    },
    {
      "cell_type": "code",
      "source": [
        "lasso_X = ugli_model.get_selectX()"
      ],
      "metadata": {
        "id": "VmVUt2z7ldfz"
      },
      "execution_count": null,
      "outputs": []
    },
    {
      "cell_type": "code",
      "source": [
        "pd.DataFrame({'word': D_name + list(lasso_X),\n",
        "      'coef': ols2.coef_}).to_csv('/content/gdrive/MyDrive/Tempf/Meeting_0614/stem_stupid.csv')"
      ],
      "metadata": {
        "id": "IPCDoWlhhXJI"
      },
      "execution_count": null,
      "outputs": []
    },
    {
      "cell_type": "markdown",
      "source": [
        "# Lemma"
      ],
      "metadata": {
        "id": "LhbVyHwAi-bf"
      }
    },
    {
      "cell_type": "code",
      "source": [
        "data_lemma = pd.read_pickle(\"/content/gdrive/MyDrive/Thesis_Data&Result/EJMR_data_lemma_ao2_a_0613.pkl\")\n",
        "#### data_lemma.rename(columns = {'y':'asian'}, inplace = True) #他本來就有y了\n",
        "print(data_lemma.shape)\n",
        "data_lemma.head(3)"
      ],
      "metadata": {
        "id": "IYBjazFY1OjE",
        "colab": {
          "base_uri": "https://localhost:8080/",
          "height": 190
        },
        "outputId": "95844636-8251-40de-9a66-7863770ae88a"
      },
      "execution_count": 5,
      "outputs": [
        {
          "output_type": "stream",
          "name": "stdout",
          "text": [
            "(23337, 10001)\n"
          ]
        },
        {
          "output_type": "execute_result",
          "data": {
            "text/plain": [
              "   aa  aacsb  ab  abandon  abandoned  abandoning  abc  abd  abe  ability  ...  \\\n",
              "0   0      0   0        0          0           0    0    0    0        0  ...   \n",
              "1   0      0   0        0          0           0    0    0    0        0  ...   \n",
              "2   0      0   0        0          0           0    0    0    0        0  ...   \n",
              "\n",
              "   zju  zombie  zone  zoning  zoom  zu  zuckerberg  zucman  zurich  asian  \n",
              "0    0       0     0       0     0   0           0       0       0      1  \n",
              "1    0       0     0       0     0   0           0       0       0      1  \n",
              "2    0       0     0       0     0   0           0       0       0      1  \n",
              "\n",
              "[3 rows x 10001 columns]"
            ],
            "text/html": [
              "\n",
              "  <div id=\"df-072445ca-0a6a-4b6b-9d5b-c4597504be56\">\n",
              "    <div class=\"colab-df-container\">\n",
              "      <div>\n",
              "<style scoped>\n",
              "    .dataframe tbody tr th:only-of-type {\n",
              "        vertical-align: middle;\n",
              "    }\n",
              "\n",
              "    .dataframe tbody tr th {\n",
              "        vertical-align: top;\n",
              "    }\n",
              "\n",
              "    .dataframe thead th {\n",
              "        text-align: right;\n",
              "    }\n",
              "</style>\n",
              "<table border=\"1\" class=\"dataframe\">\n",
              "  <thead>\n",
              "    <tr style=\"text-align: right;\">\n",
              "      <th></th>\n",
              "      <th>aa</th>\n",
              "      <th>aacsb</th>\n",
              "      <th>ab</th>\n",
              "      <th>abandon</th>\n",
              "      <th>abandoned</th>\n",
              "      <th>abandoning</th>\n",
              "      <th>abc</th>\n",
              "      <th>abd</th>\n",
              "      <th>abe</th>\n",
              "      <th>ability</th>\n",
              "      <th>...</th>\n",
              "      <th>zju</th>\n",
              "      <th>zombie</th>\n",
              "      <th>zone</th>\n",
              "      <th>zoning</th>\n",
              "      <th>zoom</th>\n",
              "      <th>zu</th>\n",
              "      <th>zuckerberg</th>\n",
              "      <th>zucman</th>\n",
              "      <th>zurich</th>\n",
              "      <th>asian</th>\n",
              "    </tr>\n",
              "  </thead>\n",
              "  <tbody>\n",
              "    <tr>\n",
              "      <th>0</th>\n",
              "      <td>0</td>\n",
              "      <td>0</td>\n",
              "      <td>0</td>\n",
              "      <td>0</td>\n",
              "      <td>0</td>\n",
              "      <td>0</td>\n",
              "      <td>0</td>\n",
              "      <td>0</td>\n",
              "      <td>0</td>\n",
              "      <td>0</td>\n",
              "      <td>...</td>\n",
              "      <td>0</td>\n",
              "      <td>0</td>\n",
              "      <td>0</td>\n",
              "      <td>0</td>\n",
              "      <td>0</td>\n",
              "      <td>0</td>\n",
              "      <td>0</td>\n",
              "      <td>0</td>\n",
              "      <td>0</td>\n",
              "      <td>1</td>\n",
              "    </tr>\n",
              "    <tr>\n",
              "      <th>1</th>\n",
              "      <td>0</td>\n",
              "      <td>0</td>\n",
              "      <td>0</td>\n",
              "      <td>0</td>\n",
              "      <td>0</td>\n",
              "      <td>0</td>\n",
              "      <td>0</td>\n",
              "      <td>0</td>\n",
              "      <td>0</td>\n",
              "      <td>0</td>\n",
              "      <td>...</td>\n",
              "      <td>0</td>\n",
              "      <td>0</td>\n",
              "      <td>0</td>\n",
              "      <td>0</td>\n",
              "      <td>0</td>\n",
              "      <td>0</td>\n",
              "      <td>0</td>\n",
              "      <td>0</td>\n",
              "      <td>0</td>\n",
              "      <td>1</td>\n",
              "    </tr>\n",
              "    <tr>\n",
              "      <th>2</th>\n",
              "      <td>0</td>\n",
              "      <td>0</td>\n",
              "      <td>0</td>\n",
              "      <td>0</td>\n",
              "      <td>0</td>\n",
              "      <td>0</td>\n",
              "      <td>0</td>\n",
              "      <td>0</td>\n",
              "      <td>0</td>\n",
              "      <td>0</td>\n",
              "      <td>...</td>\n",
              "      <td>0</td>\n",
              "      <td>0</td>\n",
              "      <td>0</td>\n",
              "      <td>0</td>\n",
              "      <td>0</td>\n",
              "      <td>0</td>\n",
              "      <td>0</td>\n",
              "      <td>0</td>\n",
              "      <td>0</td>\n",
              "      <td>1</td>\n",
              "    </tr>\n",
              "  </tbody>\n",
              "</table>\n",
              "<p>3 rows × 10001 columns</p>\n",
              "</div>\n",
              "      <button class=\"colab-df-convert\" onclick=\"convertToInteractive('df-072445ca-0a6a-4b6b-9d5b-c4597504be56')\"\n",
              "              title=\"Convert this dataframe to an interactive table.\"\n",
              "              style=\"display:none;\">\n",
              "        \n",
              "  <svg xmlns=\"http://www.w3.org/2000/svg\" height=\"24px\"viewBox=\"0 0 24 24\"\n",
              "       width=\"24px\">\n",
              "    <path d=\"M0 0h24v24H0V0z\" fill=\"none\"/>\n",
              "    <path d=\"M18.56 5.44l.94 2.06.94-2.06 2.06-.94-2.06-.94-.94-2.06-.94 2.06-2.06.94zm-11 1L8.5 8.5l.94-2.06 2.06-.94-2.06-.94L8.5 2.5l-.94 2.06-2.06.94zm10 10l.94 2.06.94-2.06 2.06-.94-2.06-.94-.94-2.06-.94 2.06-2.06.94z\"/><path d=\"M17.41 7.96l-1.37-1.37c-.4-.4-.92-.59-1.43-.59-.52 0-1.04.2-1.43.59L10.3 9.45l-7.72 7.72c-.78.78-.78 2.05 0 2.83L4 21.41c.39.39.9.59 1.41.59.51 0 1.02-.2 1.41-.59l7.78-7.78 2.81-2.81c.8-.78.8-2.07 0-2.86zM5.41 20L4 18.59l7.72-7.72 1.47 1.35L5.41 20z\"/>\n",
              "  </svg>\n",
              "      </button>\n",
              "      \n",
              "  <style>\n",
              "    .colab-df-container {\n",
              "      display:flex;\n",
              "      flex-wrap:wrap;\n",
              "      gap: 12px;\n",
              "    }\n",
              "\n",
              "    .colab-df-convert {\n",
              "      background-color: #E8F0FE;\n",
              "      border: none;\n",
              "      border-radius: 50%;\n",
              "      cursor: pointer;\n",
              "      display: none;\n",
              "      fill: #1967D2;\n",
              "      height: 32px;\n",
              "      padding: 0 0 0 0;\n",
              "      width: 32px;\n",
              "    }\n",
              "\n",
              "    .colab-df-convert:hover {\n",
              "      background-color: #E2EBFA;\n",
              "      box-shadow: 0px 1px 2px rgba(60, 64, 67, 0.3), 0px 1px 3px 1px rgba(60, 64, 67, 0.15);\n",
              "      fill: #174EA6;\n",
              "    }\n",
              "\n",
              "    [theme=dark] .colab-df-convert {\n",
              "      background-color: #3B4455;\n",
              "      fill: #D2E3FC;\n",
              "    }\n",
              "\n",
              "    [theme=dark] .colab-df-convert:hover {\n",
              "      background-color: #434B5C;\n",
              "      box-shadow: 0px 1px 3px 1px rgba(0, 0, 0, 0.15);\n",
              "      filter: drop-shadow(0px 1px 2px rgba(0, 0, 0, 0.3));\n",
              "      fill: #FFFFFF;\n",
              "    }\n",
              "  </style>\n",
              "\n",
              "      <script>\n",
              "        const buttonEl =\n",
              "          document.querySelector('#df-072445ca-0a6a-4b6b-9d5b-c4597504be56 button.colab-df-convert');\n",
              "        buttonEl.style.display =\n",
              "          google.colab.kernel.accessAllowed ? 'block' : 'none';\n",
              "\n",
              "        async function convertToInteractive(key) {\n",
              "          const element = document.querySelector('#df-072445ca-0a6a-4b6b-9d5b-c4597504be56');\n",
              "          const dataTable =\n",
              "            await google.colab.kernel.invokeFunction('convertToInteractive',\n",
              "                                                     [key], {});\n",
              "          if (!dataTable) return;\n",
              "\n",
              "          const docLinkHtml = 'Like what you see? Visit the ' +\n",
              "            '<a target=\"_blank\" href=https://colab.research.google.com/notebooks/data_table.ipynb>data table notebook</a>'\n",
              "            + ' to learn more about interactive tables.';\n",
              "          element.innerHTML = '';\n",
              "          dataTable['output_type'] = 'display_data';\n",
              "          await google.colab.output.renderOutput(dataTable, element);\n",
              "          const docLink = document.createElement('div');\n",
              "          docLink.innerHTML = docLinkHtml;\n",
              "          element.appendChild(docLink);\n",
              "        }\n",
              "      </script>\n",
              "    </div>\n",
              "  </div>\n",
              "  "
            ]
          },
          "metadata": {},
          "execution_count": 5
        }
      ]
    },
    {
      "cell_type": "code",
      "source": [
        "from sklearn.model_selection import train_test_split\n",
        "\n",
        "train_lemma, test_lemma = train_test_split(data_lemma, test_size=0.5,  random_state = 2510, shuffle=True)"
      ],
      "metadata": {
        "id": "Xh4RMcsOcPZ0"
      },
      "execution_count": 6,
      "outputs": []
    },
    {
      "cell_type": "code",
      "source": [
        "print(sum(data_lemma.columns == train_lemma.columns))\n",
        "print(sum(data_lemma.columns == test_lemma.columns))"
      ],
      "metadata": {
        "colab": {
          "base_uri": "https://localhost:8080/"
        },
        "id": "payKfsMqdk1C",
        "outputId": "b7633e48-12a7-483d-90b3-96e18946c770"
      },
      "execution_count": 7,
      "outputs": [
        {
          "output_type": "stream",
          "name": "stdout",
          "text": [
            "10001\n",
            "10001\n"
          ]
        }
      ]
    },
    {
      "cell_type": "code",
      "source": [
        "del data_lemma"
      ],
      "metadata": {
        "id": "StX9hOxydm2t"
      },
      "execution_count": 8,
      "outputs": []
    },
    {
      "cell_type": "code",
      "source": [
        "# manner = ['rude', 'dickhad', 'cocking']\n",
        "# appearance = ['obese', 'fivefooteight', 'golddigger']\n",
        "# intellegence = ['brainwashed', 'overratedbogus',\n",
        "#  'mediocre', 'submoron', 'stjupid', 'dorkness']\n",
        "# fword = ['fawk', 'fleckistan',\n",
        "#  'fuaak', 'fawhk', 'fk', 'mf']\n",
        "# sword = ['sheethole',\n",
        "#  'shit', 'shiiiit', 'shtholes', 'shiat']\n",
        "# trash = ['dvmpster',\n",
        "#  'trxsh', 'rubbish', 'rag', 'trash']\n",
        "# adjs = ['weak', 'weaker', 'weakest',\n",
        "# 'bad', 'well', 'bright', 'shamed', 'shameful', 'unimpressive',\n",
        "# 'disgiusting', 'disappointing', 'fierce', 'terrible', 'embarrassing']"
      ],
      "metadata": {
        "id": "ttUidDerc3-l"
      },
      "execution_count": null,
      "outputs": []
    },
    {
      "cell_type": "code",
      "source": [
        "adjs = ['weak', 'weaker', 'weakest',\n",
        "'bad', 'well', 'bright', 'shamed', 'shameful', 'unimpressive',\n",
        "'disgiusting', 'disappointing', 'fierce', 'terrible', 'embarrassing']\n",
        "D_name = adjs\n",
        "\n",
        "target = 'asian'\n",
        "\n",
        "D_name = [w for w, i in zip( D_name, [( w in list(train_lemma.columns)) & ( w in list(test_lemma.columns) )  for w in D_name]) if i]\n",
        "# w for word, i for index\n",
        "print(len(D_name))\n",
        "print(D_name)"
      ],
      "metadata": {
        "colab": {
          "base_uri": "https://localhost:8080/"
        },
        "id": "B36ntg2UcdIc",
        "outputId": "5f8526c5-885a-471e-e142-8ef9e89ae2d7"
      },
      "execution_count": 31,
      "outputs": [
        {
          "output_type": "stream",
          "name": "stdout",
          "text": [
            "12\n",
            "['weak', 'weaker', 'weakest', 'bad', 'well', 'bright', 'shamed', 'shameful', 'disappointing', 'fierce', 'terrible', 'embarrassing']\n"
          ]
        }
      ]
    },
    {
      "cell_type": "markdown",
      "source": [
        "## $ Asian \\sim Word + X$"
      ],
      "metadata": {
        "id": "tCooAXe8h5dZ"
      }
    },
    {
      "cell_type": "markdown",
      "source": [
        "### lasso"
      ],
      "metadata": {
        "id": "wXCEVbPrVP14"
      }
    },
    {
      "cell_type": "code",
      "source": [
        "asian_model = postLasso(random_state=4205, target='asian', set1=train_lemma, set2=test_lemma, token = 'lemma')\n",
        "asian_model.lasso_fit(target='asian')"
      ],
      "metadata": {
        "colab": {
          "base_uri": "https://localhost:8080/"
        },
        "id": "VMh6L1StilCi",
        "outputId": "0f26f7cb-c861-467c-e77c-4fb0d12c5130"
      },
      "execution_count": null,
      "outputs": [
        {
          "output_type": "stream",
          "name": "stderr",
          "text": [
            "/usr/local/lib/python3.10/dist-packages/sklearn/linear_model/_coordinate_descent.py:631: ConvergenceWarning: Objective did not converge. You might want to increase the number of iterations, check the scale of the features or consider increasing regularisation. Duality gap: 2.138e+02, tolerance: 2.054e+02\n",
            "  model = cd_fast.enet_coordinate_descent(\n",
            "/usr/local/lib/python3.10/dist-packages/sklearn/linear_model/_coordinate_descent.py:631: ConvergenceWarning: Objective did not converge. You might want to increase the number of iterations, check the scale of the features or consider increasing regularisation. Duality gap: 2.236e+02, tolerance: 2.069e+02\n",
            "  model = cd_fast.enet_coordinate_descent(\n",
            "/usr/local/lib/python3.10/dist-packages/sklearn/linear_model/_coordinate_descent.py:631: ConvergenceWarning: Objective did not converge. You might want to increase the number of iterations, check the scale of the features or consider increasing regularisation. Duality gap: 2.145e+02, tolerance: 2.069e+02\n",
            "  model = cd_fast.enet_coordinate_descent(\n",
            "/usr/local/lib/python3.10/dist-packages/sklearn/linear_model/_coordinate_descent.py:631: ConvergenceWarning: Objective did not converge. You might want to increase the number of iterations, check the scale of the features or consider increasing regularisation. Duality gap: 2.133e+02, tolerance: 2.058e+02\n",
            "  model = cd_fast.enet_coordinate_descent(\n",
            "/usr/local/lib/python3.10/dist-packages/sklearn/linear_model/_coordinate_descent.py:631: ConvergenceWarning: Objective did not converge. You might want to increase the number of iterations, check the scale of the features or consider increasing regularisation. Duality gap: 2.311e+02, tolerance: 2.058e+02\n",
            "  model = cd_fast.enet_coordinate_descent(\n"
          ]
        }
      ]
    },
    {
      "cell_type": "code",
      "source": [
        "selectX = asian_model.get_selectX()"
      ],
      "metadata": {
        "id": "7loJrteWjBY7"
      },
      "execution_count": null,
      "outputs": []
    },
    {
      "cell_type": "code",
      "source": [
        "print(len(selectX))\n",
        "print(selectX)"
      ],
      "metadata": {
        "colab": {
          "base_uri": "https://localhost:8080/"
        },
        "id": "Jgvck1hjjCQ1",
        "outputId": "d39196f0-5dc9-4031-992e-f7529cf8fea7"
      },
      "execution_count": null,
      "outputs": [
        {
          "output_type": "stream",
          "name": "stdout",
          "text": [
            "46\n",
            "['adb', 'american', 'beijing', 'better', 'ccp', 'chinabro', 'class', 'contract', 'country', 'culture', 'economist', 'english', 'get', 'happiness', 'hong', 'im', 'india', 'indian', 'interview', 'job', 'journal', 'karl', 'like', 'make', 'model', 'ntu', 'offer', 'paper', 'phd', 'school', 'soe', 'south', 'state', 'tax', 'time', 'u', 'university', 'virus', 'way', 'white', 'work', 'world', 'xi', 'year', 'youre', 'zhang']\n"
          ]
        }
      ]
    },
    {
      "cell_type": "code",
      "source": [
        "asian_model.post_lasso_fit(target='asian', treatment=D_name)\n",
        "ols2 = asian_model.get_ols_model()\n",
        "ols2.coef_"
      ],
      "metadata": {
        "colab": {
          "base_uri": "https://localhost:8080/"
        },
        "id": "49X03GNf6OeF",
        "outputId": "6a9e0ad3-ea9d-40fa-8533-94b965a777bb"
      },
      "execution_count": null,
      "outputs": [
        {
          "output_type": "execute_result",
          "data": {
            "text/plain": [
              "array([ 3.14557063e-02,  4.79714015e-03,  5.14063996e-03,  7.23281353e-02,\n",
              "       -3.68552915e-03,  8.97437169e-03,  7.09172908e-02, -1.23727410e-02,\n",
              "        7.60681730e-03,  4.07699326e-03, -5.45900201e-03, -5.22060791e-03,\n",
              "        1.49326206e-02, -3.50038119e-03, -1.35046699e-02,  2.02783005e-02,\n",
              "       -7.34049498e-03,  6.59211507e-03,  2.94681210e-03, -1.55331565e-03,\n",
              "       -1.15116553e-03, -2.82461569e-03, -2.76890339e-02, -3.21736673e-03,\n",
              "       -2.81049487e-03, -6.28014573e-03,  1.14338905e-01,  4.62162350e-03,\n",
              "       -6.45574376e-04, -7.63726863e-04,  1.90318839e-03,  8.21101751e-02,\n",
              "        2.27018068e-02, -4.37858775e-03, -7.46825400e-03, -2.95435899e-03,\n",
              "        1.03208569e-02, -6.83747758e-04,  1.25509246e-02, -6.30283590e-03,\n",
              "        9.86028009e-03, -1.31999590e-03,  1.64151117e-02,  2.96823561e-02,\n",
              "        1.29270159e-05, -1.24245579e-02,  3.55473460e-02])"
            ]
          },
          "metadata": {},
          "execution_count": 30
        }
      ]
    },
    {
      "cell_type": "code",
      "source": [
        "pd.DataFrame({'word': D_name + list(selectX),\n",
        "      'coef': ols2.coef_})#.to_csv('/content/gdrive/MyDrive/Tempf/Meeting_0614/lemma_asian_.csv')"
      ],
      "metadata": {
        "id": "neZbEJdU6feZ"
      },
      "execution_count": null,
      "outputs": []
    },
    {
      "cell_type": "markdown",
      "source": [
        "### 有D檔案的讀法"
      ],
      "metadata": {
        "id": "br9u7LN6Tpig"
      }
    },
    {
      "cell_type": "code",
      "source": [
        "selectX = ['adb', 'american', 'beijing', 'better', 'ccp', 'chinabro', 'class', 'contract', 'country', 'culture', 'economist', 'english', 'get', 'happiness', 'hong', 'im', 'india', 'indian', 'interview', 'job', 'journal', 'karl', 'like', 'make', 'model', 'ntu', 'offer', 'paper', 'phd', 'school', 'soe', 'south', 'state', 'tax', 'time', 'u', 'university', 'virus', 'way', 'white', 'work', 'world', 'xi', 'year', 'youre', 'zhang']"
      ],
      "metadata": {
        "id": "UjgnV5sHSGTa"
      },
      "execution_count": 11,
      "outputs": []
    },
    {
      "cell_type": "code",
      "source": [
        "asian_model = postLasso(random_state=4205, target='asian', set1=train_lemma, set2=test_lemma, token = 'lemma')"
      ],
      "metadata": {
        "id": "X2PmAbdURwDR"
      },
      "execution_count": 14,
      "outputs": []
    },
    {
      "cell_type": "markdown",
      "source": [
        "------"
      ],
      "metadata": {
        "id": "-eJ6wModV3Bk"
      }
    },
    {
      "cell_type": "code",
      "source": [
        "asian_model.post_lasso_fit(target='asian', treatment=D_name, selected = selectX)\n",
        "ols2 = asian_model.get_ols_model()\n",
        "ols2.coef_"
      ],
      "metadata": {
        "colab": {
          "base_uri": "https://localhost:8080/"
        },
        "id": "WMugfvy1SZy3",
        "outputId": "603e3d4a-0dad-4395-a7c0-75ba4c68756a"
      },
      "execution_count": 32,
      "outputs": [
        {
          "output_type": "execute_result",
          "data": {
            "text/plain": [
              "array([ 0.00072588,  0.03857933,  0.01214845,  0.00302298,  0.00096055,\n",
              "        0.0288517 , -0.13645175, -0.02072618, -0.0520496 , -0.00661817,\n",
              "       -0.01161372, -0.04740593,  0.00455329,  0.00505403,  0.07208862,\n",
              "       -0.00381626,  0.00918132,  0.07219496, -0.01307262,  0.00677214,\n",
              "        0.00382329, -0.00516919, -0.00529515,  0.01492368, -0.00364215,\n",
              "       -0.01199889,  0.02002181, -0.00775158,  0.00739608,  0.00296154,\n",
              "       -0.00151647, -0.00086843, -0.00290534, -0.02839935, -0.00299092,\n",
              "       -0.00231948, -0.00644939,  0.11495475,  0.00439885, -0.00074377,\n",
              "       -0.00091491,  0.00200271,  0.08343007,  0.02229439, -0.00430926,\n",
              "       -0.00731565, -0.00260876,  0.01050827, -0.00077692,  0.01398245,\n",
              "       -0.00635142,  0.01001096, -0.00152051,  0.01632242,  0.02950456,\n",
              "       -0.00031958, -0.01256857,  0.03552173])"
            ]
          },
          "metadata": {},
          "execution_count": 32
        }
      ]
    },
    {
      "cell_type": "code",
      "source": [
        "pd.DataFrame({'word': D_name + list(selectX),\n",
        "      'coef': ols2.coef_})#.to_csv('/content/gdrive/Shareddrives/Files_forMeeting/Meeting_0614/lemma_asian_adjs.csv')"
      ],
      "metadata": {
        "id": "wb9tlQgYTmDq"
      },
      "execution_count": 33,
      "outputs": []
    },
    {
      "cell_type": "markdown",
      "source": [
        "## $Word \\sim Asian + X$"
      ],
      "metadata": {
        "id": "DNagCySGhdMX"
      }
    },
    {
      "cell_type": "code",
      "source": [
        "target ="
      ],
      "metadata": {
        "id": "70Zdnf6pdG2u"
      },
      "execution_count": null,
      "outputs": []
    },
    {
      "cell_type": "code",
      "source": [
        "# for target is not asian\n",
        "train_stem.loc[train_stem[target] != 0, target] = 1"
      ],
      "metadata": {
        "id": "N4pZsmm6cdIc"
      },
      "execution_count": null,
      "outputs": []
    },
    {
      "cell_type": "code",
      "source": [
        "ugli_model = postLasso(random_state=4205, target=target, set1=train_stem, set2=test_stem, token = 'stem')\n",
        "ugli_model.lasso_fit(target=target)\n",
        "ugli_model.post_lasso_fit(target=target, treatment=D_name)\n",
        "ols2 = ugli_model.get_ols_model()\n",
        "ols2.coef_"
      ],
      "metadata": {
        "colab": {
          "base_uri": "https://localhost:8080/"
        },
        "outputId": "52ed6e5b-09d0-47d4-ffc3-3d76145b7dfa",
        "id": "5ei8wdu1cdIc"
      },
      "execution_count": null,
      "outputs": [
        {
          "output_type": "execute_result",
          "data": {
            "text/plain": [
              "array([-0.01054964, -0.06063244,  0.01869299,  0.02887523])"
            ]
          },
          "metadata": {},
          "execution_count": 31
        }
      ]
    },
    {
      "cell_type": "code",
      "source": [
        "lasso_X = ugli_model.get_selectX()"
      ],
      "metadata": {
        "id": "WkkWdjD-cdIe"
      },
      "execution_count": null,
      "outputs": []
    },
    {
      "cell_type": "code",
      "source": [
        "pd.DataFrame({'word': D_name + list(lasso_X),\n",
        "      'coef': ols2.coef_}).to_csv('/content/gdrive/MyDrive/Tempf/Meeting_0614/stem_stupid.csv')"
      ],
      "metadata": {
        "id": "LCiCt6bocdIf"
      },
      "execution_count": null,
      "outputs": []
    },
    {
      "cell_type": "markdown",
      "source": [
        "# old things"
      ],
      "metadata": {
        "id": "BfXHP7ZReS32"
      }
    },
    {
      "cell_type": "code",
      "execution_count": null,
      "metadata": {
        "id": "iSJpm7fAmMsu"
      },
      "outputs": [],
      "source": [
        "from sklearn.linear_model import LassoCV"
      ]
    },
    {
      "cell_type": "code",
      "execution_count": null,
      "metadata": {
        "colab": {
          "base_uri": "https://localhost:8080/"
        },
        "id": "zkZ15E0qmZ0r",
        "outputId": "07240ad6-8154-4353-b996-c66919545aa5"
      },
      "outputs": [
        {
          "output_type": "stream",
          "name": "stderr",
          "text": [
            "/usr/local/lib/python3.10/dist-packages/sklearn/linear_model/_coordinate_descent.py:631: ConvergenceWarning: Objective did not converge. You might want to increase the number of iterations, check the scale of the features or consider increasing regularisation. Duality gap: 1.277e+02, tolerance: 8.803e+01\n",
            "  model = cd_fast.enet_coordinate_descent(\n",
            "/usr/local/lib/python3.10/dist-packages/sklearn/linear_model/_coordinate_descent.py:631: ConvergenceWarning: Objective did not converge. You might want to increase the number of iterations, check the scale of the features or consider increasing regularisation. Duality gap: 1.087e+02, tolerance: 8.803e+01\n",
            "  model = cd_fast.enet_coordinate_descent(\n",
            "/usr/local/lib/python3.10/dist-packages/sklearn/linear_model/_coordinate_descent.py:631: ConvergenceWarning: Objective did not converge. You might want to increase the number of iterations, check the scale of the features or consider increasing regularisation. Duality gap: 1.078e+02, tolerance: 8.803e+01\n",
            "  model = cd_fast.enet_coordinate_descent(\n",
            "/usr/local/lib/python3.10/dist-packages/sklearn/linear_model/_coordinate_descent.py:631: ConvergenceWarning: Objective did not converge. You might want to increase the number of iterations, check the scale of the features or consider increasing regularisation. Duality gap: 9.482e+01, tolerance: 8.803e+01\n",
            "  model = cd_fast.enet_coordinate_descent(\n",
            "/usr/local/lib/python3.10/dist-packages/sklearn/linear_model/_coordinate_descent.py:631: ConvergenceWarning: Objective did not converge. You might want to increase the number of iterations, check the scale of the features or consider increasing regularisation. Duality gap: 1.064e+02, tolerance: 8.889e+01\n",
            "  model = cd_fast.enet_coordinate_descent(\n",
            "/usr/local/lib/python3.10/dist-packages/sklearn/linear_model/_coordinate_descent.py:631: ConvergenceWarning: Objective did not converge. You might want to increase the number of iterations, check the scale of the features or consider increasing regularisation. Duality gap: 1.846e+02, tolerance: 8.889e+01\n",
            "  model = cd_fast.enet_coordinate_descent(\n",
            "/usr/local/lib/python3.10/dist-packages/sklearn/linear_model/_coordinate_descent.py:631: ConvergenceWarning: Objective did not converge. You might want to increase the number of iterations, check the scale of the features or consider increasing regularisation. Duality gap: 1.638e+02, tolerance: 8.889e+01\n",
            "  model = cd_fast.enet_coordinate_descent(\n",
            "/usr/local/lib/python3.10/dist-packages/sklearn/linear_model/_coordinate_descent.py:631: ConvergenceWarning: Objective did not converge. You might want to increase the number of iterations, check the scale of the features or consider increasing regularisation. Duality gap: 1.545e+02, tolerance: 8.889e+01\n",
            "  model = cd_fast.enet_coordinate_descent(\n",
            "/usr/local/lib/python3.10/dist-packages/sklearn/linear_model/_coordinate_descent.py:631: ConvergenceWarning: Objective did not converge. You might want to increase the number of iterations, check the scale of the features or consider increasing regularisation. Duality gap: 1.508e+02, tolerance: 8.889e+01\n",
            "  model = cd_fast.enet_coordinate_descent(\n",
            "/usr/local/lib/python3.10/dist-packages/sklearn/linear_model/_coordinate_descent.py:631: ConvergenceWarning: Objective did not converge. You might want to increase the number of iterations, check the scale of the features or consider increasing regularisation. Duality gap: 1.025e+02, tolerance: 8.889e+01\n",
            "  model = cd_fast.enet_coordinate_descent(\n",
            "/usr/local/lib/python3.10/dist-packages/sklearn/linear_model/_coordinate_descent.py:631: ConvergenceWarning: Objective did not converge. You might want to increase the number of iterations, check the scale of the features or consider increasing regularisation. Duality gap: 1.027e+02, tolerance: 8.889e+01\n",
            "  model = cd_fast.enet_coordinate_descent(\n",
            "/usr/local/lib/python3.10/dist-packages/sklearn/linear_model/_coordinate_descent.py:631: ConvergenceWarning: Objective did not converge. You might want to increase the number of iterations, check the scale of the features or consider increasing regularisation. Duality gap: 1.025e+02, tolerance: 9.148e+01\n",
            "  model = cd_fast.enet_coordinate_descent(\n",
            "/usr/local/lib/python3.10/dist-packages/sklearn/linear_model/_coordinate_descent.py:631: ConvergenceWarning: Objective did not converge. You might want to increase the number of iterations, check the scale of the features or consider increasing regularisation. Duality gap: 1.322e+02, tolerance: 8.874e+01\n",
            "  model = cd_fast.enet_coordinate_descent(\n",
            "/usr/local/lib/python3.10/dist-packages/sklearn/linear_model/_coordinate_descent.py:631: ConvergenceWarning: Objective did not converge. You might want to increase the number of iterations, check the scale of the features or consider increasing regularisation. Duality gap: 1.173e+02, tolerance: 8.874e+01\n",
            "  model = cd_fast.enet_coordinate_descent(\n",
            "/usr/local/lib/python3.10/dist-packages/sklearn/linear_model/_coordinate_descent.py:631: ConvergenceWarning: Objective did not converge. You might want to increase the number of iterations, check the scale of the features or consider increasing regularisation. Duality gap: 1.346e+02, tolerance: 8.874e+01\n",
            "  model = cd_fast.enet_coordinate_descent(\n",
            "/usr/local/lib/python3.10/dist-packages/sklearn/linear_model/_coordinate_descent.py:631: ConvergenceWarning: Objective did not converge. You might want to increase the number of iterations, check the scale of the features or consider increasing regularisation. Duality gap: 1.258e+02, tolerance: 8.874e+01\n",
            "  model = cd_fast.enet_coordinate_descent(\n"
          ]
        }
      ],
      "source": [
        "stem1 = LassoCV(cv=5, random_state=1115, tol = 0.1)\\\n",
        "     .fit( X = train_stem.loc[:, train_stem.columns != 'asian'],\n",
        "         y = train_stem['asian'])"
      ]
    },
    {
      "cell_type": "code",
      "execution_count": null,
      "metadata": {
        "id": "hMz9XFPaN06t",
        "colab": {
          "base_uri": "https://localhost:8080/"
        },
        "outputId": "5dd8f44e-9fc4-43d6-ded9-a1bccc404ae3"
      },
      "outputs": [
        {
          "output_type": "stream",
          "name": "stdout",
          "text": [
            "44\n",
            "Index(['adb', 'american', 'anyon', 'chines', 'countri', 'crime', 'cultur',\n",
            "       'discrimin', 'dont', 'east', 'econom', 'get', 'happi', 'hk', 'immigr',\n",
            "       'indian', 'interview', 'japanes', 'job', 'journal', 'karl', 'kimchi',\n",
            "       'like', 'make', 'much', 'ntu', 'one', 'paper', 'read', 'sat',\n",
            "       'singapor', 'south', 'student', 'taiwanes', 'test', 'time', 'tokyo',\n",
            "       'us', 'use', 'way', 'white', 'women', 'work', 'year'],\n",
            "      dtype='object')\n"
          ]
        }
      ],
      "source": [
        "print(len(stem1.coef_[stem1.coef_!=0]))\n",
        "\n",
        "stem1_select = train_stem.keys()[train_stem.columns != 'asian'][stem1.coef_!=0] # remove y\n",
        "print(stem1_select)"
      ]
    },
    {
      "cell_type": "code",
      "source": [
        "from sklearn.linear_model import Lasso"
      ],
      "metadata": {
        "id": "HwtjgIjJ8r2d"
      },
      "execution_count": null,
      "outputs": []
    },
    {
      "cell_type": "code",
      "source": [
        "stem2 = Lasso( alpha = stem1.alpha_)\\\n",
        "     .fit( X = train_stem.loc[:, train_stem.columns != 'asian'],\n",
        "         y = train_stem['asian'])"
      ],
      "metadata": {
        "id": "p_okXgUV8l8u"
      },
      "execution_count": null,
      "outputs": []
    },
    {
      "cell_type": "code",
      "source": [
        "print(len(stem2.coef_[stem2.coef_!=0]))\n",
        "\n",
        "stem2_select = train_stem.keys()[train_stem.columns != 'asian'][stem2.coef_!=0] # remove y_word\n",
        "print(stem2_select)"
      ],
      "metadata": {
        "colab": {
          "base_uri": "https://localhost:8080/"
        },
        "id": "ZbEQpVO_9BQm",
        "outputId": "8db3ac23-2843-441f-bf3a-bb9ba90dfe03"
      },
      "execution_count": null,
      "outputs": [
        {
          "output_type": "stream",
          "name": "stdout",
          "text": [
            "35\n",
            "Index(['adb', 'american', 'chines', 'countri', 'crime', 'east', 'econom',\n",
            "       'happi', 'hk', 'immigr', 'indian', 'interview', 'japanes', 'job',\n",
            "       'journal', 'karl', 'kimchi', 'ntu', 'one', 'paper', 'read', 'sat',\n",
            "       'singapor', 'south', 'student', 'taiwanes', 'tax', 'test', 'time',\n",
            "       'tokyo', 'use', 'white', 'women', 'work', 'year'],\n",
            "      dtype='object')\n"
          ]
        }
      ]
    },
    {
      "cell_type": "code",
      "source": [
        "stem2_df = pd.DataFrame({'word':list(stem2_select),\n",
        "      'coef': stem1.coef_[stem2.coef_!=0]})"
      ],
      "metadata": {
        "id": "o9btsM3B8X9X"
      },
      "execution_count": null,
      "outputs": []
    },
    {
      "cell_type": "code",
      "source": [
        "stem2_df#.to_csv('/content/gdrive/MyDrive/Tempf/Meeting_0614/stem_asian_select.csv')"
      ],
      "metadata": {
        "id": "7NwYBIpc9OSC"
      },
      "execution_count": null,
      "outputs": []
    },
    {
      "cell_type": "code",
      "execution_count": null,
      "metadata": {
        "id": "npT93yv--hvV"
      },
      "outputs": [],
      "source": [
        "from sklearn.linear_model import LinearRegression"
      ]
    },
    {
      "cell_type": "code",
      "execution_count": null,
      "metadata": {
        "id": "gkV68QPfJ8lW"
      },
      "outputs": [],
      "source": [
        "post_stem1 = LinearRegression()\\\n",
        "     .fit( X = train_stem[['rubbish', 'trash', 'rag'] + list(stem2_select)],\n",
        "         y = train_stem['asian'])"
      ]
    },
    {
      "cell_type": "code",
      "source": [
        "pd.DataFrame({'word': ['rubbish', 'trash', 'rag'] + list(stem2_select),\n",
        "      'coef': post_stem1.coef_})#.to_csv('/content/gdrive/MyDrive/Tempf/Meeting_0614/stem_asian.csv')"
      ],
      "metadata": {
        "id": "4TqYlS3Q9mPB"
      },
      "execution_count": null,
      "outputs": []
    }
  ],
  "metadata": {
    "colab": {
      "provenance": [],
      "authorship_tag": "ABX9TyMOqdE9rNbj6Iv/QMBuWZyH",
      "include_colab_link": true
    },
    "kernelspec": {
      "display_name": "Python 3",
      "name": "python3"
    },
    "language_info": {
      "name": "python"
    }
  },
  "nbformat": 4,
  "nbformat_minor": 0
}