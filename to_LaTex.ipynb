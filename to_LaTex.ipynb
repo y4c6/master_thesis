{
  "nbformat": 4,
  "nbformat_minor": 0,
  "metadata": {
    "colab": {
      "provenance": [],
      "mount_file_id": "1Jl-UGR0LA1EVZayPh2DBU5UAIsNvapPi",
      "authorship_tag": "ABX9TyOiROKhKZ8XbFunuOzWo974",
      "include_colab_link": true
    },
    "kernelspec": {
      "name": "python3",
      "display_name": "Python 3"
    },
    "language_info": {
      "name": "python"
    }
  },
  "cells": [
    {
      "cell_type": "markdown",
      "metadata": {
        "id": "view-in-github",
        "colab_type": "text"
      },
      "source": [
        "<a href=\"https://colab.research.google.com/github/y4c6/master_thesis/blob/main/to_LaTex.ipynb\" target=\"_parent\"><img src=\"https://colab.research.google.com/assets/colab-badge.svg\" alt=\"Open In Colab\"/></a>"
      ]
    },
    {
      "cell_type": "code",
      "source": [
        "from google.colab import drive\n",
        "drive.mount('/content/drive')"
      ],
      "metadata": {
        "id": "ATD_6DxsIfyd",
        "colab": {
          "base_uri": "https://localhost:8080/"
        },
        "outputId": "f062a9e6-e5af-4027-8608-2a6cfe0c225a"
      },
      "execution_count": 1,
      "outputs": [
        {
          "output_type": "stream",
          "name": "stdout",
          "text": [
            "Drive already mounted at /content/drive; to attempt to forcibly remount, call drive.mount(\"/content/drive\", force_remount=True).\n"
          ]
        }
      ]
    },
    {
      "cell_type": "code",
      "source": [
        "import pandas as pd"
      ],
      "metadata": {
        "id": "_6MYNgT5T_R5"
      },
      "execution_count": 2,
      "outputs": []
    },
    {
      "cell_type": "code",
      "source": [
        "import os\n",
        "path = '/content/drive/Shareddrives/Files_forMeeting/Meeting_0622/'\n",
        "os.chdir(path)"
      ],
      "metadata": {
        "id": "cSq0Fk3AVS6s"
      },
      "execution_count": 14,
      "outputs": []
    },
    {
      "cell_type": "code",
      "source": [
        "import glob\n",
        "print(glob.glob(\"*.csv\"))"
      ],
      "metadata": {
        "id": "bKFzN7ZhIfCU",
        "colab": {
          "base_uri": "https://localhost:8080/"
        },
        "outputId": "2669948e-7666-4444-88fa-218fb2945997"
      },
      "execution_count": 15,
      "outputs": [
        {
          "output_type": "stream",
          "name": "stdout",
          "text": [
            "['stem_folds1_post.csv', 'stem_folds2_post.csv', 'lemma_folds1_post.csv', 'stem_folds2.csv', 'stem_folds5.csv', 'stem_folds1.csv', 'lemma_folds5.csv', 'lemma_folds2.csv', 'lemma_folds1.csv', 'lemma_folds2_post.csv', 'lemma_folds5_post_frac01.csv', 'stem_folds5_post_post_frac01.csv', 'corr_stem_2.csv', 'corr_lemma_2.csv']\n"
          ]
        }
      ]
    },
    {
      "cell_type": "code",
      "source": [
        "csvs = glob.glob(\"*.csv\")\n",
        "csvs"
      ],
      "metadata": {
        "colab": {
          "base_uri": "https://localhost:8080/"
        },
        "id": "aaLeDu1jJ1Gh",
        "outputId": "74e8519e-cedc-4d2f-9c30-3181bdf07f65"
      },
      "execution_count": 16,
      "outputs": [
        {
          "output_type": "execute_result",
          "data": {
            "text/plain": [
              "['stem_folds1_post.csv',\n",
              " 'stem_folds2_post.csv',\n",
              " 'lemma_folds1_post.csv',\n",
              " 'stem_folds2.csv',\n",
              " 'stem_folds5.csv',\n",
              " 'stem_folds1.csv',\n",
              " 'lemma_folds5.csv',\n",
              " 'lemma_folds2.csv',\n",
              " 'lemma_folds1.csv',\n",
              " 'lemma_folds2_post.csv',\n",
              " 'lemma_folds5_post_frac01.csv',\n",
              " 'stem_folds5_post_post_frac01.csv',\n",
              " 'corr_stem_2.csv',\n",
              " 'corr_lemma_2.csv']"
            ]
          },
          "metadata": {},
          "execution_count": 16
        }
      ]
    },
    {
      "cell_type": "code",
      "source": [
        "for i in range(len(csvs)):\n",
        "  csvdf = pd.read_csv(csvs[i])\n",
        "  csvdf.style.to_latex('/content/drive/MyDrive/Thesis_Data&Result/EJMR_ao2_tex/'+ csvs[i][:-4] + '.tex')\n",
        "  #csvs[i][:-4]"
      ],
      "metadata": {
        "id": "53cfWsPAXfWx"
      },
      "execution_count": 19,
      "outputs": []
    },
    {
      "cell_type": "code",
      "source": [
        "df.to_latex('mytable.tex')"
      ],
      "metadata": {
        "id": "2_nsT6F3Mkde"
      },
      "execution_count": null,
      "outputs": []
    },
    {
      "cell_type": "code",
      "source": [
        "df = pd.read_pickle(\"/content/drive/MyDrive/Thesis_Data&Result/EJMR_CA_tokens.pkl\")\n",
        "df.head(30)"
      ],
      "metadata": {
        "colab": {
          "base_uri": "https://localhost:8080/",
          "height": 990
        },
        "id": "r7axwKDrhpnF",
        "outputId": "6444d07a-f691-4a19-c081-37196797268e"
      },
      "execution_count": null,
      "outputs": [
        {
          "output_type": "execute_result",
          "data": {
            "text/plain": [
              "     y                                  stemmed_tokenized  \\\n",
              "2    0  [geniu, outcom, west, look, russian, financ, t...   \n",
              "23   1  [even, account, indian, quant, club, univers, ...   \n",
              "44   0                     [never, forget, never, forgiv]   \n",
              "69   0  [olymp, olymp, news, whether, would, war, russ...   \n",
              "110  1  [laptop, leetcod, theyr, liter, grind, leetcod...   \n",
              "129  0  [sever, russian, bank, said, sunday, would, so...   \n",
              "154  0  [that, war, target, take, secur, clearanc, awa...   \n",
              "158  0  [cheank, look, funni, oh, funni, funni, like, ...   \n",
              "232  0  [size, three, ukrain, take, back, go, broke, r...   \n",
              "243  1  [nrme, applaud, lol, nuke, largest, countri, e...   \n",
              "265  0                         [support, russia, support]   \n",
              "283  1  [congratul, u, got, imagin, would, happen, rus...   \n",
              "288  0  [border, poland, layen, fact, want, write, tit...   \n",
              "290  0  [matter, time, make, big, mistak, us, collaps,...   \n",
              "385  1  [north, korea, geograph, perfect, keep, peopl,...   \n",
              "399  0  [singapor, would, good, choic, chines, descent...   \n",
              "457  1  [last, week, bomb, civilian, bangladeshi, ship...   \n",
              "468  0        [wear, vat, central, brood, hatch, station]   \n",
              "486  0  [china, india, bro, keep, cri, dont, get, job,...   \n",
              "522  1  [genuin, funni, compar, advantag, american, du...   \n",
              "535  0  [west, doesnt, stand, chanc, id, like, see, us...   \n",
              "538  0  [wonder, one, nuke, first, ask, one, nuke, fir...   \n",
              "548  0  [alli, quit, time, allianc, strengthen, china,...   \n",
              "560  0              [multipolar, world, dawn, look, east]   \n",
              "562  0  [broadcast, paraolymp, china, go, hard, suppor...   \n",
              "606  1  [one, talk, incessantli, join, pvtin, htler, o...   \n",
              "648  1  [one, better, real, gtfo, loser, idea, journal...   \n",
              "713  0  [block, twitter, facebook, putin, block, twitt...   \n",
              "720  0  [meanwhil, us, franc, uk, combin, total, nucle...   \n",
              "816  0  [russia, ria, news, say, china, enact, reveng,...   \n",
              "\n",
              "                                  lemmatized_tokenized  \n",
              "2    [genius, outcome, west, looking, russian, fina...  \n",
              "23   [even, accounting, indian, quant, club, univer...  \n",
              "44                     [never, forget, never, forgive]  \n",
              "69   [olympics, olympics, news, whether, would, war...  \n",
              "110  [laptop, leetcode, theyre, literally, grinding...  \n",
              "129  [several, russian, bank, said, sunday, would, ...  \n",
              "154  [thats, war, target, taking, security, clearan...  \n",
              "158  [cheanks, look, funny, oh, funny, funny, like,...  \n",
              "232  [size, three, ukraine, take, back, go, broke, ...  \n",
              "243  [nrmes, applauding, lol, nuke, largest, countr...  \n",
              "265                         [support, russia, support]  \n",
              "283  [congratulation, u, got, imagine, would, happe...  \n",
              "288  [bordering, poland, layen, fact, wanted, write...  \n",
              "290  [matter, time, make, big, mistake, u, collapse...  \n",
              "385  [north, korea, geographically, perfect, keepin...  \n",
              "399  [singapore, would, good, choice, chinese, desc...  \n",
              "457  [last, week, bombed, civilian, bangladeshi, sh...  \n",
              "468     [wear, vat, central, brood, hatching, station]  \n",
              "486  [china, india, bros, keep, cry, dont, get, job...  \n",
              "522  [genuinely, funny, comparative, advantage, ame...  \n",
              "535  [west, doesnt, stand, chance, id, like, see, u...  \n",
              "538  [wonderful, one, nuked, first, ask, one, nuked...  \n",
              "548  [ally, quite, time, alliance, strengthening, c...  \n",
              "560              [multipolar, world, dawn, look, east]  \n",
              "562  [broadcasting, paraolympics, china, going, har...  \n",
              "606  [one, talking, incessantly, join, pvtin, htler...  \n",
              "648  [one, better, real, gtfo, loser, idea, journal...  \n",
              "713  [blocking, twitter, facebook, putin, blocked, ...  \n",
              "720  [meanwhile, u, france, uk, combined, total, nu...  \n",
              "816  [russia, ria, news, say, china, enact, revenge...  "
            ],
            "text/html": [
              "\n",
              "  <div id=\"df-b4a6c420-54ca-4b93-85b9-45d6008590fd\">\n",
              "    <div class=\"colab-df-container\">\n",
              "      <div>\n",
              "<style scoped>\n",
              "    .dataframe tbody tr th:only-of-type {\n",
              "        vertical-align: middle;\n",
              "    }\n",
              "\n",
              "    .dataframe tbody tr th {\n",
              "        vertical-align: top;\n",
              "    }\n",
              "\n",
              "    .dataframe thead th {\n",
              "        text-align: right;\n",
              "    }\n",
              "</style>\n",
              "<table border=\"1\" class=\"dataframe\">\n",
              "  <thead>\n",
              "    <tr style=\"text-align: right;\">\n",
              "      <th></th>\n",
              "      <th>y</th>\n",
              "      <th>stemmed_tokenized</th>\n",
              "      <th>lemmatized_tokenized</th>\n",
              "    </tr>\n",
              "  </thead>\n",
              "  <tbody>\n",
              "    <tr>\n",
              "      <th>2</th>\n",
              "      <td>0</td>\n",
              "      <td>[geniu, outcom, west, look, russian, financ, t...</td>\n",
              "      <td>[genius, outcome, west, looking, russian, fina...</td>\n",
              "    </tr>\n",
              "    <tr>\n",
              "      <th>23</th>\n",
              "      <td>1</td>\n",
              "      <td>[even, account, indian, quant, club, univers, ...</td>\n",
              "      <td>[even, accounting, indian, quant, club, univer...</td>\n",
              "    </tr>\n",
              "    <tr>\n",
              "      <th>44</th>\n",
              "      <td>0</td>\n",
              "      <td>[never, forget, never, forgiv]</td>\n",
              "      <td>[never, forget, never, forgive]</td>\n",
              "    </tr>\n",
              "    <tr>\n",
              "      <th>69</th>\n",
              "      <td>0</td>\n",
              "      <td>[olymp, olymp, news, whether, would, war, russ...</td>\n",
              "      <td>[olympics, olympics, news, whether, would, war...</td>\n",
              "    </tr>\n",
              "    <tr>\n",
              "      <th>110</th>\n",
              "      <td>1</td>\n",
              "      <td>[laptop, leetcod, theyr, liter, grind, leetcod...</td>\n",
              "      <td>[laptop, leetcode, theyre, literally, grinding...</td>\n",
              "    </tr>\n",
              "    <tr>\n",
              "      <th>129</th>\n",
              "      <td>0</td>\n",
              "      <td>[sever, russian, bank, said, sunday, would, so...</td>\n",
              "      <td>[several, russian, bank, said, sunday, would, ...</td>\n",
              "    </tr>\n",
              "    <tr>\n",
              "      <th>154</th>\n",
              "      <td>0</td>\n",
              "      <td>[that, war, target, take, secur, clearanc, awa...</td>\n",
              "      <td>[thats, war, target, taking, security, clearan...</td>\n",
              "    </tr>\n",
              "    <tr>\n",
              "      <th>158</th>\n",
              "      <td>0</td>\n",
              "      <td>[cheank, look, funni, oh, funni, funni, like, ...</td>\n",
              "      <td>[cheanks, look, funny, oh, funny, funny, like,...</td>\n",
              "    </tr>\n",
              "    <tr>\n",
              "      <th>232</th>\n",
              "      <td>0</td>\n",
              "      <td>[size, three, ukrain, take, back, go, broke, r...</td>\n",
              "      <td>[size, three, ukraine, take, back, go, broke, ...</td>\n",
              "    </tr>\n",
              "    <tr>\n",
              "      <th>243</th>\n",
              "      <td>1</td>\n",
              "      <td>[nrme, applaud, lol, nuke, largest, countri, e...</td>\n",
              "      <td>[nrmes, applauding, lol, nuke, largest, countr...</td>\n",
              "    </tr>\n",
              "    <tr>\n",
              "      <th>265</th>\n",
              "      <td>0</td>\n",
              "      <td>[support, russia, support]</td>\n",
              "      <td>[support, russia, support]</td>\n",
              "    </tr>\n",
              "    <tr>\n",
              "      <th>283</th>\n",
              "      <td>1</td>\n",
              "      <td>[congratul, u, got, imagin, would, happen, rus...</td>\n",
              "      <td>[congratulation, u, got, imagine, would, happe...</td>\n",
              "    </tr>\n",
              "    <tr>\n",
              "      <th>288</th>\n",
              "      <td>0</td>\n",
              "      <td>[border, poland, layen, fact, want, write, tit...</td>\n",
              "      <td>[bordering, poland, layen, fact, wanted, write...</td>\n",
              "    </tr>\n",
              "    <tr>\n",
              "      <th>290</th>\n",
              "      <td>0</td>\n",
              "      <td>[matter, time, make, big, mistak, us, collaps,...</td>\n",
              "      <td>[matter, time, make, big, mistake, u, collapse...</td>\n",
              "    </tr>\n",
              "    <tr>\n",
              "      <th>385</th>\n",
              "      <td>1</td>\n",
              "      <td>[north, korea, geograph, perfect, keep, peopl,...</td>\n",
              "      <td>[north, korea, geographically, perfect, keepin...</td>\n",
              "    </tr>\n",
              "    <tr>\n",
              "      <th>399</th>\n",
              "      <td>0</td>\n",
              "      <td>[singapor, would, good, choic, chines, descent...</td>\n",
              "      <td>[singapore, would, good, choice, chinese, desc...</td>\n",
              "    </tr>\n",
              "    <tr>\n",
              "      <th>457</th>\n",
              "      <td>1</td>\n",
              "      <td>[last, week, bomb, civilian, bangladeshi, ship...</td>\n",
              "      <td>[last, week, bombed, civilian, bangladeshi, sh...</td>\n",
              "    </tr>\n",
              "    <tr>\n",
              "      <th>468</th>\n",
              "      <td>0</td>\n",
              "      <td>[wear, vat, central, brood, hatch, station]</td>\n",
              "      <td>[wear, vat, central, brood, hatching, station]</td>\n",
              "    </tr>\n",
              "    <tr>\n",
              "      <th>486</th>\n",
              "      <td>0</td>\n",
              "      <td>[china, india, bro, keep, cri, dont, get, job,...</td>\n",
              "      <td>[china, india, bros, keep, cry, dont, get, job...</td>\n",
              "    </tr>\n",
              "    <tr>\n",
              "      <th>522</th>\n",
              "      <td>1</td>\n",
              "      <td>[genuin, funni, compar, advantag, american, du...</td>\n",
              "      <td>[genuinely, funny, comparative, advantage, ame...</td>\n",
              "    </tr>\n",
              "    <tr>\n",
              "      <th>535</th>\n",
              "      <td>0</td>\n",
              "      <td>[west, doesnt, stand, chanc, id, like, see, us...</td>\n",
              "      <td>[west, doesnt, stand, chance, id, like, see, u...</td>\n",
              "    </tr>\n",
              "    <tr>\n",
              "      <th>538</th>\n",
              "      <td>0</td>\n",
              "      <td>[wonder, one, nuke, first, ask, one, nuke, fir...</td>\n",
              "      <td>[wonderful, one, nuked, first, ask, one, nuked...</td>\n",
              "    </tr>\n",
              "    <tr>\n",
              "      <th>548</th>\n",
              "      <td>0</td>\n",
              "      <td>[alli, quit, time, allianc, strengthen, china,...</td>\n",
              "      <td>[ally, quite, time, alliance, strengthening, c...</td>\n",
              "    </tr>\n",
              "    <tr>\n",
              "      <th>560</th>\n",
              "      <td>0</td>\n",
              "      <td>[multipolar, world, dawn, look, east]</td>\n",
              "      <td>[multipolar, world, dawn, look, east]</td>\n",
              "    </tr>\n",
              "    <tr>\n",
              "      <th>562</th>\n",
              "      <td>0</td>\n",
              "      <td>[broadcast, paraolymp, china, go, hard, suppor...</td>\n",
              "      <td>[broadcasting, paraolympics, china, going, har...</td>\n",
              "    </tr>\n",
              "    <tr>\n",
              "      <th>606</th>\n",
              "      <td>1</td>\n",
              "      <td>[one, talk, incessantli, join, pvtin, htler, o...</td>\n",
              "      <td>[one, talking, incessantly, join, pvtin, htler...</td>\n",
              "    </tr>\n",
              "    <tr>\n",
              "      <th>648</th>\n",
              "      <td>1</td>\n",
              "      <td>[one, better, real, gtfo, loser, idea, journal...</td>\n",
              "      <td>[one, better, real, gtfo, loser, idea, journal...</td>\n",
              "    </tr>\n",
              "    <tr>\n",
              "      <th>713</th>\n",
              "      <td>0</td>\n",
              "      <td>[block, twitter, facebook, putin, block, twitt...</td>\n",
              "      <td>[blocking, twitter, facebook, putin, blocked, ...</td>\n",
              "    </tr>\n",
              "    <tr>\n",
              "      <th>720</th>\n",
              "      <td>0</td>\n",
              "      <td>[meanwhil, us, franc, uk, combin, total, nucle...</td>\n",
              "      <td>[meanwhile, u, france, uk, combined, total, nu...</td>\n",
              "    </tr>\n",
              "    <tr>\n",
              "      <th>816</th>\n",
              "      <td>0</td>\n",
              "      <td>[russia, ria, news, say, china, enact, reveng,...</td>\n",
              "      <td>[russia, ria, news, say, china, enact, revenge...</td>\n",
              "    </tr>\n",
              "  </tbody>\n",
              "</table>\n",
              "</div>\n",
              "      <button class=\"colab-df-convert\" onclick=\"convertToInteractive('df-b4a6c420-54ca-4b93-85b9-45d6008590fd')\"\n",
              "              title=\"Convert this dataframe to an interactive table.\"\n",
              "              style=\"display:none;\">\n",
              "        \n",
              "  <svg xmlns=\"http://www.w3.org/2000/svg\" height=\"24px\"viewBox=\"0 0 24 24\"\n",
              "       width=\"24px\">\n",
              "    <path d=\"M0 0h24v24H0V0z\" fill=\"none\"/>\n",
              "    <path d=\"M18.56 5.44l.94 2.06.94-2.06 2.06-.94-2.06-.94-.94-2.06-.94 2.06-2.06.94zm-11 1L8.5 8.5l.94-2.06 2.06-.94-2.06-.94L8.5 2.5l-.94 2.06-2.06.94zm10 10l.94 2.06.94-2.06 2.06-.94-2.06-.94-.94-2.06-.94 2.06-2.06.94z\"/><path d=\"M17.41 7.96l-1.37-1.37c-.4-.4-.92-.59-1.43-.59-.52 0-1.04.2-1.43.59L10.3 9.45l-7.72 7.72c-.78.78-.78 2.05 0 2.83L4 21.41c.39.39.9.59 1.41.59.51 0 1.02-.2 1.41-.59l7.78-7.78 2.81-2.81c.8-.78.8-2.07 0-2.86zM5.41 20L4 18.59l7.72-7.72 1.47 1.35L5.41 20z\"/>\n",
              "  </svg>\n",
              "      </button>\n",
              "      \n",
              "  <style>\n",
              "    .colab-df-container {\n",
              "      display:flex;\n",
              "      flex-wrap:wrap;\n",
              "      gap: 12px;\n",
              "    }\n",
              "\n",
              "    .colab-df-convert {\n",
              "      background-color: #E8F0FE;\n",
              "      border: none;\n",
              "      border-radius: 50%;\n",
              "      cursor: pointer;\n",
              "      display: none;\n",
              "      fill: #1967D2;\n",
              "      height: 32px;\n",
              "      padding: 0 0 0 0;\n",
              "      width: 32px;\n",
              "    }\n",
              "\n",
              "    .colab-df-convert:hover {\n",
              "      background-color: #E2EBFA;\n",
              "      box-shadow: 0px 1px 2px rgba(60, 64, 67, 0.3), 0px 1px 3px 1px rgba(60, 64, 67, 0.15);\n",
              "      fill: #174EA6;\n",
              "    }\n",
              "\n",
              "    [theme=dark] .colab-df-convert {\n",
              "      background-color: #3B4455;\n",
              "      fill: #D2E3FC;\n",
              "    }\n",
              "\n",
              "    [theme=dark] .colab-df-convert:hover {\n",
              "      background-color: #434B5C;\n",
              "      box-shadow: 0px 1px 3px 1px rgba(0, 0, 0, 0.15);\n",
              "      filter: drop-shadow(0px 1px 2px rgba(0, 0, 0, 0.3));\n",
              "      fill: #FFFFFF;\n",
              "    }\n",
              "  </style>\n",
              "\n",
              "      <script>\n",
              "        const buttonEl =\n",
              "          document.querySelector('#df-b4a6c420-54ca-4b93-85b9-45d6008590fd button.colab-df-convert');\n",
              "        buttonEl.style.display =\n",
              "          google.colab.kernel.accessAllowed ? 'block' : 'none';\n",
              "\n",
              "        async function convertToInteractive(key) {\n",
              "          const element = document.querySelector('#df-b4a6c420-54ca-4b93-85b9-45d6008590fd');\n",
              "          const dataTable =\n",
              "            await google.colab.kernel.invokeFunction('convertToInteractive',\n",
              "                                                     [key], {});\n",
              "          if (!dataTable) return;\n",
              "\n",
              "          const docLinkHtml = 'Like what you see? Visit the ' +\n",
              "            '<a target=\"_blank\" href=https://colab.research.google.com/notebooks/data_table.ipynb>data table notebook</a>'\n",
              "            + ' to learn more about interactive tables.';\n",
              "          element.innerHTML = '';\n",
              "          dataTable['output_type'] = 'display_data';\n",
              "          await google.colab.output.renderOutput(dataTable, element);\n",
              "          const docLink = document.createElement('div');\n",
              "          docLink.innerHTML = docLinkHtml;\n",
              "          element.appendChild(docLink);\n",
              "        }\n",
              "      </script>\n",
              "    </div>\n",
              "  </div>\n",
              "  "
            ]
          },
          "metadata": {},
          "execution_count": 7
        }
      ]
    },
    {
      "cell_type": "code",
      "source": [
        "i = 27\n",
        "print(' '.join(df.iloc[i]['stemmed_tokenized']))\n",
        "print(' '.join(df.iloc[i]['lemmatized_tokenized']))"
      ],
      "metadata": {
        "colab": {
          "base_uri": "https://localhost:8080/"
        },
        "id": "iDiz5jySjD07",
        "outputId": "1ebd3923-8f85-4d51-8fa3-2c6b7f99ec53"
      },
      "execution_count": null,
      "outputs": [
        {
          "output_type": "stream",
          "name": "stdout",
          "text": [
            "block twitter facebook putin block twitter fb invas countri without richenough heavili monitor fbi societi like us twitter facebook caus chao particularli import develop countri freedom boundari countri leader clear us freedom boundari cant copi countri putin block twitter fb invas putin block twitter fb invas\n",
            "blocking twitter facebook putin blocked twitter fb invasion country without richenough heavily monitored fbi society like u twitter facebook cause chaos particularly important developing country freedom boundary country leader clear u freedom boundary cant copied country putin blocked twitter fb invasion putin blocked twitter fb invasion\n"
          ]
        }
      ]
    }
  ]
}