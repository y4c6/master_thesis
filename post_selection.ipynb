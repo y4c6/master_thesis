{
  "cells": [
    {
      "cell_type": "markdown",
      "metadata": {
        "id": "view-in-github",
        "colab_type": "text"
      },
      "source": [
        "<a href=\"https://colab.research.google.com/github/y4c6/master_thesis/blob/main/post_selection.ipynb\" target=\"_parent\"><img src=\"https://colab.research.google.com/assets/colab-badge.svg\" alt=\"Open In Colab\"/></a>"
      ]
    },
    {
      "cell_type": "markdown",
      "metadata": {
        "id": "8vxDKsR-tvr5"
      },
      "source": [
        "無法分辨上一個到底怎麼了。普通的斷線了。"
      ]
    },
    {
      "cell_type": "code",
      "execution_count": 2,
      "metadata": {
        "colab": {
          "base_uri": "https://localhost:8080/"
        },
        "id": "MVd0rxN-thSz",
        "outputId": "a02f62b3-af00-4c13-dfdc-9f8b3be5f175"
      },
      "outputs": [
        {
          "output_type": "stream",
          "name": "stdout",
          "text": [
            "Drive already mounted at /content/gdrive; to attempt to forcibly remount, call drive.mount(\"/content/gdrive\", force_remount=True).\n"
          ]
        }
      ],
      "source": [
        "from google.colab import drive\n",
        "# directory\n",
        "drive.mount('/content/gdrive')"
      ]
    },
    {
      "cell_type": "code",
      "execution_count": 3,
      "metadata": {
        "id": "RlDQROg6t2hU"
      },
      "outputs": [],
      "source": [
        "import numpy as np\n",
        "import pandas as pd\n",
        "import json"
      ]
    },
    {
      "cell_type": "code",
      "execution_count": null,
      "metadata": {
        "colab": {
          "base_uri": "https://localhost:8080/",
          "height": 190
        },
        "id": "JnWjgmOAuA_J",
        "outputId": "c5d0191b-0ffa-48d1-fecc-761133b0ebb5"
      },
      "outputs": [
        {
          "name": "stdout",
          "output_type": "stream",
          "text": [
            "(23337, 10001)\n"
          ]
        },
        {
          "data": {
            "text/html": [
              "\n",
              "  <div id=\"df-a020ff81-41c1-4f12-93c6-4153f25e0360\">\n",
              "    <div class=\"colab-df-container\">\n",
              "      <div>\n",
              "<style scoped>\n",
              "    .dataframe tbody tr th:only-of-type {\n",
              "        vertical-align: middle;\n",
              "    }\n",
              "\n",
              "    .dataframe tbody tr th {\n",
              "        vertical-align: top;\n",
              "    }\n",
              "\n",
              "    .dataframe thead th {\n",
              "        text-align: right;\n",
              "    }\n",
              "</style>\n",
              "<table border=\"1\" class=\"dataframe\">\n",
              "  <thead>\n",
              "    <tr style=\"text-align: right;\">\n",
              "      <th></th>\n",
              "      <th>aa</th>\n",
              "      <th>aacsb</th>\n",
              "      <th>ab</th>\n",
              "      <th>abandon</th>\n",
              "      <th>abbott</th>\n",
              "      <th>abbrevi</th>\n",
              "      <th>abc</th>\n",
              "      <th>abd</th>\n",
              "      <th>abe</th>\n",
              "      <th>abel</th>\n",
              "      <th>...</th>\n",
              "      <th>zone</th>\n",
              "      <th>zoo</th>\n",
              "      <th>zoom</th>\n",
              "      <th>zoomer</th>\n",
              "      <th>zu</th>\n",
              "      <th>zuckerberg</th>\n",
              "      <th>zucman</th>\n",
              "      <th>zuel</th>\n",
              "      <th>zurich</th>\n",
              "      <th>asian</th>\n",
              "    </tr>\n",
              "  </thead>\n",
              "  <tbody>\n",
              "    <tr>\n",
              "      <th>0</th>\n",
              "      <td>0</td>\n",
              "      <td>0</td>\n",
              "      <td>0</td>\n",
              "      <td>0</td>\n",
              "      <td>0</td>\n",
              "      <td>0</td>\n",
              "      <td>0</td>\n",
              "      <td>0</td>\n",
              "      <td>0</td>\n",
              "      <td>0</td>\n",
              "      <td>...</td>\n",
              "      <td>0</td>\n",
              "      <td>0</td>\n",
              "      <td>0</td>\n",
              "      <td>0</td>\n",
              "      <td>0</td>\n",
              "      <td>0</td>\n",
              "      <td>0</td>\n",
              "      <td>0</td>\n",
              "      <td>0</td>\n",
              "      <td>0</td>\n",
              "    </tr>\n",
              "    <tr>\n",
              "      <th>1</th>\n",
              "      <td>0</td>\n",
              "      <td>0</td>\n",
              "      <td>0</td>\n",
              "      <td>0</td>\n",
              "      <td>0</td>\n",
              "      <td>0</td>\n",
              "      <td>0</td>\n",
              "      <td>0</td>\n",
              "      <td>0</td>\n",
              "      <td>0</td>\n",
              "      <td>...</td>\n",
              "      <td>0</td>\n",
              "      <td>0</td>\n",
              "      <td>0</td>\n",
              "      <td>0</td>\n",
              "      <td>0</td>\n",
              "      <td>0</td>\n",
              "      <td>0</td>\n",
              "      <td>0</td>\n",
              "      <td>0</td>\n",
              "      <td>1</td>\n",
              "    </tr>\n",
              "    <tr>\n",
              "      <th>2</th>\n",
              "      <td>0</td>\n",
              "      <td>0</td>\n",
              "      <td>0</td>\n",
              "      <td>0</td>\n",
              "      <td>0</td>\n",
              "      <td>0</td>\n",
              "      <td>0</td>\n",
              "      <td>0</td>\n",
              "      <td>0</td>\n",
              "      <td>0</td>\n",
              "      <td>...</td>\n",
              "      <td>0</td>\n",
              "      <td>0</td>\n",
              "      <td>0</td>\n",
              "      <td>0</td>\n",
              "      <td>0</td>\n",
              "      <td>0</td>\n",
              "      <td>0</td>\n",
              "      <td>0</td>\n",
              "      <td>0</td>\n",
              "      <td>0</td>\n",
              "    </tr>\n",
              "  </tbody>\n",
              "</table>\n",
              "<p>3 rows × 10001 columns</p>\n",
              "</div>\n",
              "      <button class=\"colab-df-convert\" onclick=\"convertToInteractive('df-a020ff81-41c1-4f12-93c6-4153f25e0360')\"\n",
              "              title=\"Convert this dataframe to an interactive table.\"\n",
              "              style=\"display:none;\">\n",
              "        \n",
              "  <svg xmlns=\"http://www.w3.org/2000/svg\" height=\"24px\"viewBox=\"0 0 24 24\"\n",
              "       width=\"24px\">\n",
              "    <path d=\"M0 0h24v24H0V0z\" fill=\"none\"/>\n",
              "    <path d=\"M18.56 5.44l.94 2.06.94-2.06 2.06-.94-2.06-.94-.94-2.06-.94 2.06-2.06.94zm-11 1L8.5 8.5l.94-2.06 2.06-.94-2.06-.94L8.5 2.5l-.94 2.06-2.06.94zm10 10l.94 2.06.94-2.06 2.06-.94-2.06-.94-.94-2.06-.94 2.06-2.06.94z\"/><path d=\"M17.41 7.96l-1.37-1.37c-.4-.4-.92-.59-1.43-.59-.52 0-1.04.2-1.43.59L10.3 9.45l-7.72 7.72c-.78.78-.78 2.05 0 2.83L4 21.41c.39.39.9.59 1.41.59.51 0 1.02-.2 1.41-.59l7.78-7.78 2.81-2.81c.8-.78.8-2.07 0-2.86zM5.41 20L4 18.59l7.72-7.72 1.47 1.35L5.41 20z\"/>\n",
              "  </svg>\n",
              "      </button>\n",
              "      \n",
              "  <style>\n",
              "    .colab-df-container {\n",
              "      display:flex;\n",
              "      flex-wrap:wrap;\n",
              "      gap: 12px;\n",
              "    }\n",
              "\n",
              "    .colab-df-convert {\n",
              "      background-color: #E8F0FE;\n",
              "      border: none;\n",
              "      border-radius: 50%;\n",
              "      cursor: pointer;\n",
              "      display: none;\n",
              "      fill: #1967D2;\n",
              "      height: 32px;\n",
              "      padding: 0 0 0 0;\n",
              "      width: 32px;\n",
              "    }\n",
              "\n",
              "    .colab-df-convert:hover {\n",
              "      background-color: #E2EBFA;\n",
              "      box-shadow: 0px 1px 2px rgba(60, 64, 67, 0.3), 0px 1px 3px 1px rgba(60, 64, 67, 0.15);\n",
              "      fill: #174EA6;\n",
              "    }\n",
              "\n",
              "    [theme=dark] .colab-df-convert {\n",
              "      background-color: #3B4455;\n",
              "      fill: #D2E3FC;\n",
              "    }\n",
              "\n",
              "    [theme=dark] .colab-df-convert:hover {\n",
              "      background-color: #434B5C;\n",
              "      box-shadow: 0px 1px 3px 1px rgba(0, 0, 0, 0.15);\n",
              "      filter: drop-shadow(0px 1px 2px rgba(0, 0, 0, 0.3));\n",
              "      fill: #FFFFFF;\n",
              "    }\n",
              "  </style>\n",
              "\n",
              "      <script>\n",
              "        const buttonEl =\n",
              "          document.querySelector('#df-a020ff81-41c1-4f12-93c6-4153f25e0360 button.colab-df-convert');\n",
              "        buttonEl.style.display =\n",
              "          google.colab.kernel.accessAllowed ? 'block' : 'none';\n",
              "\n",
              "        async function convertToInteractive(key) {\n",
              "          const element = document.querySelector('#df-a020ff81-41c1-4f12-93c6-4153f25e0360');\n",
              "          const dataTable =\n",
              "            await google.colab.kernel.invokeFunction('convertToInteractive',\n",
              "                                                     [key], {});\n",
              "          if (!dataTable) return;\n",
              "\n",
              "          const docLinkHtml = 'Like what you see? Visit the ' +\n",
              "            '<a target=\"_blank\" href=https://colab.research.google.com/notebooks/data_table.ipynb>data table notebook</a>'\n",
              "            + ' to learn more about interactive tables.';\n",
              "          element.innerHTML = '';\n",
              "          dataTable['output_type'] = 'display_data';\n",
              "          await google.colab.output.renderOutput(dataTable, element);\n",
              "          const docLink = document.createElement('div');\n",
              "          docLink.innerHTML = docLinkHtml;\n",
              "          element.appendChild(docLink);\n",
              "        }\n",
              "      </script>\n",
              "    </div>\n",
              "  </div>\n",
              "  "
            ],
            "text/plain": [
              "   aa  aacsb  ab  abandon  abbott  abbrevi  abc  abd  abe  abel  ...  zone  \\\n",
              "0   0      0   0        0       0        0    0    0    0     0  ...     0   \n",
              "1   0      0   0        0       0        0    0    0    0     0  ...     0   \n",
              "2   0      0   0        0       0        0    0    0    0     0  ...     0   \n",
              "\n",
              "   zoo  zoom  zoomer  zu  zuckerberg  zucman  zuel  zurich  asian  \n",
              "0    0     0       0   0           0       0     0       0      0  \n",
              "1    0     0       0   0           0       0     0       0      1  \n",
              "2    0     0       0   0           0       0     0       0      0  \n",
              "\n",
              "[3 rows x 10001 columns]"
            ]
          },
          "execution_count": 3,
          "metadata": {},
          "output_type": "execute_result"
        }
      ],
      "source": [
        "data_stem = pd.read_pickle(\"/content/gdrive/MyDrive/Thesis_Data&Result/EJMR_data_stem_ao2_a.pkl\")\n",
        "data_stem.rename(columns = {'y':'asian'}, inplace = True)\n",
        "print(data_stem.shape)\n",
        "data_stem.head(3)"
      ]
    },
    {
      "cell_type": "code",
      "execution_count": null,
      "metadata": {
        "id": "U9PBPt8Fu-uy"
      },
      "outputs": [],
      "source": [
        "from sklearn.model_selection import train_test_split\n",
        "\n",
        "train_stem, test_stem = train_test_split(data_stem, test_size=0.5,  random_state = 2510, shuffle=True)"
      ]
    },
    {
      "cell_type": "code",
      "execution_count": null,
      "metadata": {
        "colab": {
          "base_uri": "https://localhost:8080/"
        },
        "id": "JIkrW46QvHNI",
        "outputId": "525dd0c7-432e-4be0-ca72-b86035f7871d"
      },
      "outputs": [
        {
          "name": "stdout",
          "output_type": "stream",
          "text": [
            "10001\n",
            "10001\n"
          ]
        }
      ],
      "source": [
        "print(sum(data_stem.columns == train_stem.columns))\n",
        "print(sum(data_stem.columns == test_stem.columns))"
      ]
    },
    {
      "cell_type": "code",
      "execution_count": null,
      "metadata": {
        "id": "5n95XM-vvqYU"
      },
      "outputs": [],
      "source": [
        "del data_stem"
      ]
    },
    {
      "cell_type": "code",
      "source": [
        "data_lemma = pd.read_pickle(\"/content/gdrive/MyDrive/Thesis_Data&Result/EJMR_data_lemma_ao2_a.pkl\")\n",
        "data_lemma.rename(columns = {'y':'asian'})#, inplace = True)\n",
        "print(data_lemma.shape)\n",
        "data_lemma'shape???'.head(3) "
      ],
      "metadata": {
        "colab": {
          "base_uri": "https://localhost:8080/",
          "height": 190
        },
        "id": "2HXbdGI5jCjW",
        "outputId": "a674391e-c9ce-4ebe-bc17-f47e7e7c155a"
      },
      "execution_count": 4,
      "outputs": [
        {
          "output_type": "stream",
          "name": "stdout",
          "text": [
            "(23337, 10000)\n"
          ]
        },
        {
          "output_type": "execute_result",
          "data": {
            "text/plain": [
              "   aa  aacsb  ab  abandon  abandoned  abandoning  abc  abd  abe  ability  ...  \\\n",
              "0   0      0   0        0          0           0    0    0    0        0  ...   \n",
              "1   0      0   0        0          0           0    0    0    0        0  ...   \n",
              "2   0      0   0        0          0           0    0    0    0        0  ...   \n",
              "\n",
              "   zip  zju  zombie  zone  zoning  zoom  zu  zuckerberg  zucman  zurich  \n",
              "0    0    0       0     0       0     0   0           0       0       0  \n",
              "1    0    0       0     0       0     0   0           0       0       0  \n",
              "2    0    0       0     0       0     0   0           0       0       0  \n",
              "\n",
              "[3 rows x 10000 columns]"
            ],
            "text/html": [
              "\n",
              "  <div id=\"df-7b0b0d52-d10a-4e4a-abbf-d454c462ff0d\">\n",
              "    <div class=\"colab-df-container\">\n",
              "      <div>\n",
              "<style scoped>\n",
              "    .dataframe tbody tr th:only-of-type {\n",
              "        vertical-align: middle;\n",
              "    }\n",
              "\n",
              "    .dataframe tbody tr th {\n",
              "        vertical-align: top;\n",
              "    }\n",
              "\n",
              "    .dataframe thead th {\n",
              "        text-align: right;\n",
              "    }\n",
              "</style>\n",
              "<table border=\"1\" class=\"dataframe\">\n",
              "  <thead>\n",
              "    <tr style=\"text-align: right;\">\n",
              "      <th></th>\n",
              "      <th>aa</th>\n",
              "      <th>aacsb</th>\n",
              "      <th>ab</th>\n",
              "      <th>abandon</th>\n",
              "      <th>abandoned</th>\n",
              "      <th>abandoning</th>\n",
              "      <th>abc</th>\n",
              "      <th>abd</th>\n",
              "      <th>abe</th>\n",
              "      <th>ability</th>\n",
              "      <th>...</th>\n",
              "      <th>zip</th>\n",
              "      <th>zju</th>\n",
              "      <th>zombie</th>\n",
              "      <th>zone</th>\n",
              "      <th>zoning</th>\n",
              "      <th>zoom</th>\n",
              "      <th>zu</th>\n",
              "      <th>zuckerberg</th>\n",
              "      <th>zucman</th>\n",
              "      <th>zurich</th>\n",
              "    </tr>\n",
              "  </thead>\n",
              "  <tbody>\n",
              "    <tr>\n",
              "      <th>0</th>\n",
              "      <td>0</td>\n",
              "      <td>0</td>\n",
              "      <td>0</td>\n",
              "      <td>0</td>\n",
              "      <td>0</td>\n",
              "      <td>0</td>\n",
              "      <td>0</td>\n",
              "      <td>0</td>\n",
              "      <td>0</td>\n",
              "      <td>0</td>\n",
              "      <td>...</td>\n",
              "      <td>0</td>\n",
              "      <td>0</td>\n",
              "      <td>0</td>\n",
              "      <td>0</td>\n",
              "      <td>0</td>\n",
              "      <td>0</td>\n",
              "      <td>0</td>\n",
              "      <td>0</td>\n",
              "      <td>0</td>\n",
              "      <td>0</td>\n",
              "    </tr>\n",
              "    <tr>\n",
              "      <th>1</th>\n",
              "      <td>0</td>\n",
              "      <td>0</td>\n",
              "      <td>0</td>\n",
              "      <td>0</td>\n",
              "      <td>0</td>\n",
              "      <td>0</td>\n",
              "      <td>0</td>\n",
              "      <td>0</td>\n",
              "      <td>0</td>\n",
              "      <td>0</td>\n",
              "      <td>...</td>\n",
              "      <td>0</td>\n",
              "      <td>0</td>\n",
              "      <td>0</td>\n",
              "      <td>0</td>\n",
              "      <td>0</td>\n",
              "      <td>0</td>\n",
              "      <td>0</td>\n",
              "      <td>0</td>\n",
              "      <td>0</td>\n",
              "      <td>0</td>\n",
              "    </tr>\n",
              "    <tr>\n",
              "      <th>2</th>\n",
              "      <td>0</td>\n",
              "      <td>0</td>\n",
              "      <td>0</td>\n",
              "      <td>0</td>\n",
              "      <td>0</td>\n",
              "      <td>0</td>\n",
              "      <td>0</td>\n",
              "      <td>0</td>\n",
              "      <td>0</td>\n",
              "      <td>0</td>\n",
              "      <td>...</td>\n",
              "      <td>0</td>\n",
              "      <td>0</td>\n",
              "      <td>0</td>\n",
              "      <td>0</td>\n",
              "      <td>0</td>\n",
              "      <td>0</td>\n",
              "      <td>0</td>\n",
              "      <td>0</td>\n",
              "      <td>0</td>\n",
              "      <td>0</td>\n",
              "    </tr>\n",
              "  </tbody>\n",
              "</table>\n",
              "<p>3 rows × 10000 columns</p>\n",
              "</div>\n",
              "      <button class=\"colab-df-convert\" onclick=\"convertToInteractive('df-7b0b0d52-d10a-4e4a-abbf-d454c462ff0d')\"\n",
              "              title=\"Convert this dataframe to an interactive table.\"\n",
              "              style=\"display:none;\">\n",
              "        \n",
              "  <svg xmlns=\"http://www.w3.org/2000/svg\" height=\"24px\"viewBox=\"0 0 24 24\"\n",
              "       width=\"24px\">\n",
              "    <path d=\"M0 0h24v24H0V0z\" fill=\"none\"/>\n",
              "    <path d=\"M18.56 5.44l.94 2.06.94-2.06 2.06-.94-2.06-.94-.94-2.06-.94 2.06-2.06.94zm-11 1L8.5 8.5l.94-2.06 2.06-.94-2.06-.94L8.5 2.5l-.94 2.06-2.06.94zm10 10l.94 2.06.94-2.06 2.06-.94-2.06-.94-.94-2.06-.94 2.06-2.06.94z\"/><path d=\"M17.41 7.96l-1.37-1.37c-.4-.4-.92-.59-1.43-.59-.52 0-1.04.2-1.43.59L10.3 9.45l-7.72 7.72c-.78.78-.78 2.05 0 2.83L4 21.41c.39.39.9.59 1.41.59.51 0 1.02-.2 1.41-.59l7.78-7.78 2.81-2.81c.8-.78.8-2.07 0-2.86zM5.41 20L4 18.59l7.72-7.72 1.47 1.35L5.41 20z\"/>\n",
              "  </svg>\n",
              "      </button>\n",
              "      \n",
              "  <style>\n",
              "    .colab-df-container {\n",
              "      display:flex;\n",
              "      flex-wrap:wrap;\n",
              "      gap: 12px;\n",
              "    }\n",
              "\n",
              "    .colab-df-convert {\n",
              "      background-color: #E8F0FE;\n",
              "      border: none;\n",
              "      border-radius: 50%;\n",
              "      cursor: pointer;\n",
              "      display: none;\n",
              "      fill: #1967D2;\n",
              "      height: 32px;\n",
              "      padding: 0 0 0 0;\n",
              "      width: 32px;\n",
              "    }\n",
              "\n",
              "    .colab-df-convert:hover {\n",
              "      background-color: #E2EBFA;\n",
              "      box-shadow: 0px 1px 2px rgba(60, 64, 67, 0.3), 0px 1px 3px 1px rgba(60, 64, 67, 0.15);\n",
              "      fill: #174EA6;\n",
              "    }\n",
              "\n",
              "    [theme=dark] .colab-df-convert {\n",
              "      background-color: #3B4455;\n",
              "      fill: #D2E3FC;\n",
              "    }\n",
              "\n",
              "    [theme=dark] .colab-df-convert:hover {\n",
              "      background-color: #434B5C;\n",
              "      box-shadow: 0px 1px 3px 1px rgba(0, 0, 0, 0.15);\n",
              "      filter: drop-shadow(0px 1px 2px rgba(0, 0, 0, 0.3));\n",
              "      fill: #FFFFFF;\n",
              "    }\n",
              "  </style>\n",
              "\n",
              "      <script>\n",
              "        const buttonEl =\n",
              "          document.querySelector('#df-7b0b0d52-d10a-4e4a-abbf-d454c462ff0d button.colab-df-convert');\n",
              "        buttonEl.style.display =\n",
              "          google.colab.kernel.accessAllowed ? 'block' : 'none';\n",
              "\n",
              "        async function convertToInteractive(key) {\n",
              "          const element = document.querySelector('#df-7b0b0d52-d10a-4e4a-abbf-d454c462ff0d');\n",
              "          const dataTable =\n",
              "            await google.colab.kernel.invokeFunction('convertToInteractive',\n",
              "                                                     [key], {});\n",
              "          if (!dataTable) return;\n",
              "\n",
              "          const docLinkHtml = 'Like what you see? Visit the ' +\n",
              "            '<a target=\"_blank\" href=https://colab.research.google.com/notebooks/data_table.ipynb>data table notebook</a>'\n",
              "            + ' to learn more about interactive tables.';\n",
              "          element.innerHTML = '';\n",
              "          dataTable['output_type'] = 'display_data';\n",
              "          await google.colab.output.renderOutput(dataTable, element);\n",
              "          const docLink = document.createElement('div');\n",
              "          docLink.innerHTML = docLinkHtml;\n",
              "          element.appendChild(docLink);\n",
              "        }\n",
              "      </script>\n",
              "    </div>\n",
              "  </div>\n",
              "  "
            ]
          },
          "metadata": {},
          "execution_count": 4
        }
      ]
    },
    {
      "cell_type": "code",
      "source": [
        "data_lemma.columns"
      ],
      "metadata": {
        "colab": {
          "base_uri": "https://localhost:8080/"
        },
        "id": "r4JacxOZjkMY",
        "outputId": "54cc40a4-1ad4-4358-a958-77dbfbe43f5a"
      },
      "execution_count": 6,
      "outputs": [
        {
          "output_type": "execute_result",
          "data": {
            "text/plain": [
              "Index(['aa', 'aacsb', 'ab', 'abandon', 'abandoned', 'abandoning', 'abc', 'abd',\n",
              "       'abe', 'ability',\n",
              "       ...\n",
              "       'zip', 'zju', 'zombie', 'zone', 'zoning', 'zoom', 'zu', 'zuckerberg',\n",
              "       'zucman', 'zurich'],\n",
              "      dtype='object', length=10000)"
            ]
          },
          "metadata": {},
          "execution_count": 6
        }
      ]
    },
    {
      "cell_type": "code",
      "source": [
        "from sklearn.model_selection import train_test_split\n",
        "\n",
        "train_lemma, test_lemma = train_test_split(data_lemma, test_size=0.5,  random_state = 2510, shuffle=True)"
      ],
      "metadata": {
        "id": "Ug4hXShxjUZg"
      },
      "execution_count": 103,
      "outputs": []
    },
    {
      "cell_type": "code",
      "source": [
        "print(sum(data_lemma.columns == train_lemma.columns))\n",
        "print(sum(data_lemma.columns == test_lemma.columns))"
      ],
      "metadata": {
        "colab": {
          "base_uri": "https://localhost:8080/"
        },
        "id": "dDT74qF9jLdY",
        "outputId": "5dac491c-69f7-4305-bf0a-5379da4db147"
      },
      "execution_count": 104,
      "outputs": [
        {
          "output_type": "stream",
          "name": "stdout",
          "text": [
            "10000\n",
            "10000\n"
          ]
        }
      ]
    },
    {
      "cell_type": "code",
      "source": [
        "from sklearn.linear_model import LassoCV, Lasso\n",
        "from sklearn.linear_model import LinearRegression\n",
        "\n",
        "class postLasso:\n",
        "    def __init__(self, random_state=None, target=None, set1=None, set2=None, token = {'stem', 'lemma'}):\n",
        "        self.random_state = random_state\n",
        "        self.token = token  # {stem, lemma}\n",
        "        self.set1 = set1\n",
        "        self.set2 = set2\n",
        "        self.target = target #\n",
        "        #self.treatment = treatment\n",
        "        self.selectX = None # param passthrough from lasso to ols\n",
        "        self.alpha = None # param passthrough from lassocv to lasso\n",
        "        self.lassocv = None\n",
        "        self.lasso = None\n",
        "        self.ols = None\n",
        "\n",
        "    def lasso_fit(self, target):\n",
        "        # Step 1: LassoCV for feature selection\n",
        "        self.lasso_cv = LassoCV(random_state=self.random_state, cv=5, tol=0.1)\n",
        "\n",
        "        self.lasso_cv.fit(self.set1.loc[:, self.set1.columns != self.target],\n",
        "                 self.set1[self.target])\n",
        "\n",
        "        # Step 2: Lasso with alpha from LassoCV\n",
        "        self.alpha = self.lasso_cv.alpha_\n",
        "        self.lasso = Lasso(alpha=self.alpha)\n",
        "        self.lasso.fit(self.set1.loc[:, self.set1.columns != self.target],\n",
        "                 self.set1[self.target])\n",
        "        self.selectX = list(self.set1.keys()[self.set1.columns != self.target][self.lasso.coef_!=0])\n",
        "\n",
        "    def get_selectX(self):\n",
        "        return self.selectX\n",
        "\n",
        "    def post_lasso_fit(self, target, treatment):\n",
        "        # Step 3: OLS with selected features\n",
        "        #self.selectX = list(self.set1.keys()[self.set1.columns != self.target][self.lasso.coef_!=0])\n",
        "        \n",
        "        self.treatment = treatment\n",
        "        self.ols = LinearRegression()\n",
        "        self.ols.fit(self.set2[ self.treatment + self.selectX ], \n",
        "              self.set2[ self.target ])\n",
        "\n",
        "    # def predict(self, X):\n",
        "    #     X_selected = X[:, self.selected_features]\n",
        "    #     return self.ols.predict(X_selected)\n",
        "\n",
        "    def get_ols_model(self):\n",
        "        return self.ols\n",
        "\n",
        "\n"
      ],
      "metadata": {
        "id": "mVZb3XQ2SYGF"
      },
      "execution_count": 16,
      "outputs": []
    },
    {
      "cell_type": "code",
      "source": [
        "##########stem##########\n",
        "## behavior = ['hardwork', 'cheat', 'encourag']  # stem_asian_behavior.csv\n",
        "## appearance = ['golddigger', 'ugli', 'fivefooteight', 'undesir', 'despis']      # stem_asian_appearance.csv\n",
        "## intellengence = ['braindamag', 'brainwash', 'creativ', \n",
        "#                  'submoron', 'stjupid', 'stpid', 'mediocr', 'talent'] # stem_asian_intellengence.csv\n",
        "## trash = ['rubbish', 'trash', 'rag']                          # stem_asian_trash.csv\n",
        "# fword = ['fuaak', 'phuyk', 'flopper']                          # none of these in colname\n",
        "# sword = ['shit', 'shiet', 'shi', 'stter']                       # stem_asian_shiit.csv\n",
        "# adjs = ['shame','weak','solid','stronger','good','strongest','great','bad','impress','weaker','terribl','clear','well']  # stem_asian_adjs.csv"
      ],
      "metadata": {
        "id": "9ePbdMM5XDA-"
      },
      "execution_count": null,
      "outputs": []
    },
    {
      "cell_type": "code",
      "execution_count": 51,
      "metadata": {
        "id": "9Cj9YFvU1XNG"
      },
      "outputs": [],
      "source": [
        "y_name = 'asian'"
      ]
    },
    {
      "cell_type": "code",
      "source": [
        "adjs = ['shame','weak','solid','stronger','good','strongest','great','bad','impress','weaker','terribl','clear','well']"
      ],
      "metadata": {
        "id": "A_57SBoXa77-"
      },
      "execution_count": 96,
      "outputs": []
    },
    {
      "cell_type": "code",
      "execution_count": 97,
      "metadata": {
        "colab": {
          "base_uri": "https://localhost:8080/"
        },
        "id": "E8haOF9a3aOY",
        "outputId": "a7f8e5fa-509d-4052-8089-c4dde08b4413"
      },
      "outputs": [
        {
          "output_type": "stream",
          "name": "stdout",
          "text": [
            "shame True\n",
            "weak True\n",
            "solid True\n",
            "stronger True\n",
            "good True\n",
            "strongest True\n",
            "great True\n",
            "bad True\n",
            "impress True\n",
            "weaker True\n",
            "terribl True\n",
            "clear True\n",
            "well True\n"
          ]
        }
      ],
      "source": [
        "for w in adjs:\n",
        "  print(w, ( w in list(train_stem.columns)) & ( w in list(test_stem.columns) ) ) #w in list(data_stem.columns)"
      ]
    },
    {
      "cell_type": "markdown",
      "source": [
        "----"
      ],
      "metadata": {
        "id": "PtRa4D5ciGdt"
      }
    },
    {
      "cell_type": "code",
      "source": [
        "asian_model = postLasso(random_state=4205, target='asian', set1=train_stem, set2=test_stem, token = 'stem')\n",
        "asian_model.lasso_fit(target='asian')"
      ],
      "metadata": {
        "id": "57cEj1fTSldb"
      },
      "execution_count": 37,
      "outputs": []
    },
    {
      "cell_type": "code",
      "source": [
        "selectX = asian_model.get_selectX()"
      ],
      "metadata": {
        "id": "WiM3XEoCX9yu"
      },
      "execution_count": 48,
      "outputs": []
    },
    {
      "cell_type": "code",
      "source": [
        "print(len(selectX))\n",
        "print(selectX)"
      ],
      "metadata": {
        "colab": {
          "base_uri": "https://localhost:8080/"
        },
        "id": "E-oVS2zPYh7s",
        "outputId": "1285b4a5-413a-4e05-d2fe-a20c6fbd1382"
      },
      "execution_count": 70,
      "outputs": [
        {
          "output_type": "stream",
          "name": "stdout",
          "text": [
            "35\n",
            "['adb', 'american', 'chines', 'countri', 'crime', 'east', 'econom', 'happi', 'hk', 'immigr', 'indian', 'interview', 'japanes', 'job', 'journal', 'karl', 'kimchi', 'ntu', 'one', 'paper', 'read', 'sat', 'singapor', 'south', 'student', 'taiwanes', 'tax', 'test', 'time', 'tokyo', 'use', 'white', 'women', 'work', 'year']\n"
          ]
        }
      ]
    },
    {
      "cell_type": "markdown",
      "source": [
        "_______"
      ],
      "metadata": {
        "id": "tryF4nPTcjip"
      }
    },
    {
      "cell_type": "code",
      "source": [
        "D_name = adjs#[ sword[i] for i in [0,1,2] ]"
      ],
      "metadata": {
        "id": "3cbzxtCsZuj3"
      },
      "execution_count": 98,
      "outputs": []
    },
    {
      "cell_type": "code",
      "source": [
        "asian_model.post_lasso_fit(target='asian', treatment=D_name)\n",
        "ols2 = asian_model.get_ols_model()\n",
        "ols2.coef_"
      ],
      "metadata": {
        "colab": {
          "base_uri": "https://localhost:8080/"
        },
        "id": "FqwapSaWVGTj",
        "outputId": "b14fe3b4-1afa-4101-f138-22feba3ff21e"
      },
      "execution_count": 99,
      "outputs": [
        {
          "output_type": "execute_result",
          "data": {
            "text/plain": [
              "array([-6.58325181e-03,  6.39454026e-03,  2.81533105e-03,  2.98115768e-03,\n",
              "       -2.59498396e-03, -1.65424620e-02, -3.45280320e-03,  8.05141389e-03,\n",
              "        8.56445869e-03, -1.21491876e-03,  2.85395730e-03, -3.00352197e-03,\n",
              "        1.21242578e-04,  3.44606797e-03,  5.31086215e-03, -4.91665593e-03,\n",
              "        8.52719625e-04,  1.53951332e-02,  2.24673801e-02, -2.19169139e-03,\n",
              "       -1.18896400e-02,  1.29871177e-03,  3.72818654e-03, -1.75467295e-03,\n",
              "       -2.50118389e-04,  2.36906552e-02, -3.50087960e-04, -1.52676007e-04,\n",
              "       -2.15528828e-05, -8.88391014e-03,  9.76475464e-02,  3.15014214e-04,\n",
              "       -6.54969610e-04, -5.20623626e-03, -3.40393196e-03,  4.56492650e-03,\n",
              "        2.75834413e-02,  6.11860064e-04,  8.81477929e-03, -3.24833372e-03,\n",
              "        1.10897892e-03, -2.11952406e-03,  6.98190266e-02, -1.62445374e-03,\n",
              "        1.08434058e-02,  3.06996268e-04, -5.75755661e-04, -6.47143103e-04])"
            ]
          },
          "metadata": {},
          "execution_count": 99
        }
      ]
    },
    {
      "cell_type": "code",
      "source": [
        "pd.DataFrame({'word': D_name + list(lasso_X),\n",
        "      'coef': ols2.coef_}).to_csv('/content/gdrive/MyDrive/Tempf/Meeting_0614/stem_asian_adjs.csv')"
      ],
      "metadata": {
        "id": "rXtfhFsHXiIA"
      },
      "execution_count": 100,
      "outputs": []
    },
    {
      "cell_type": "code",
      "source": [
        "##########lemma##########"
      ],
      "metadata": {
        "id": "1As9g2SGVTIN"
      },
      "execution_count": null,
      "outputs": []
    },
    {
      "cell_type": "code",
      "source": [
        "# manner = ['rude', 'dickhad', 'cocking']\n",
        "# appearance = ['obese', 'fivefooteight', 'golddigger']\n",
        "# intellegence = ['brainwashed', 'overratedbogus',\n",
        "#  'mediocre', 'submoron', 'stjupid', 'dorkness']\n",
        "# fword = ['fawk', 'fleckistan',\n",
        "#  'fuaak', 'fawhk', 'fk', 'mf']\n",
        "# sword = ['sheethole',\n",
        "#  'shit', 'shiiiit', 'shtholes', 'shiat'] \n",
        "# trash = ['dvmpster',\n",
        "#  'trxsh', 'rubbish', 'rag', 'trash']\n",
        "# adjs = ['weak', 'weaker', 'weakest',\n",
        "# 'bad', 'well', 'bright', 'shamed', 'shameful', 'unimpressive',\n",
        "# 'disgiusting', 'disappointing', 'fierce', 'terrible', 'embarrassing']"
      ],
      "metadata": {
        "id": "mwxpdV5TXmk4"
      },
      "execution_count": null,
      "outputs": []
    },
    {
      "cell_type": "code",
      "source": [
        "asian_model = postLasso(random_state=4205, target='asian', set1=train_lemma, set2=test_lemma, token = 'lemma')\n",
        "asian_model.lasso_fit(target='lemma')"
      ],
      "metadata": {
        "id": "G3uxl1ECibTf"
      },
      "execution_count": null,
      "outputs": []
    },
    {
      "cell_type": "markdown",
      "metadata": {
        "id": "UZmSiUj4FBlh"
      },
      "source": [
        "# old things"
      ]
    },
    {
      "cell_type": "code",
      "execution_count": null,
      "metadata": {
        "colab": {
          "background_save": true,
          "base_uri": "https://localhost:8080/"
        },
        "id": "ZnVDChR6FDd2",
        "outputId": "7519dbb0-31d9-4134-dc45-e84758d7456b"
      },
      "outputs": [
        {
          "name": "stderr",
          "output_type": "stream",
          "text": [
            "/usr/local/lib/python3.10/dist-packages/sklearn/linear_model/_coordinate_descent.py:631: ConvergenceWarning: Objective did not converge. You might want to increase the number of iterations, check the scale of the features or consider increasing regularisation. Duality gap: 1.277e+02, tolerance: 8.803e+01\n",
            "  model = cd_fast.enet_coordinate_descent(\n",
            "/usr/local/lib/python3.10/dist-packages/sklearn/linear_model/_coordinate_descent.py:631: ConvergenceWarning: Objective did not converge. You might want to increase the number of iterations, check the scale of the features or consider increasing regularisation. Duality gap: 1.087e+02, tolerance: 8.803e+01\n",
            "  model = cd_fast.enet_coordinate_descent(\n",
            "/usr/local/lib/python3.10/dist-packages/sklearn/linear_model/_coordinate_descent.py:631: ConvergenceWarning: Objective did not converge. You might want to increase the number of iterations, check the scale of the features or consider increasing regularisation. Duality gap: 1.078e+02, tolerance: 8.803e+01\n",
            "  model = cd_fast.enet_coordinate_descent(\n",
            "/usr/local/lib/python3.10/dist-packages/sklearn/linear_model/_coordinate_descent.py:631: ConvergenceWarning: Objective did not converge. You might want to increase the number of iterations, check the scale of the features or consider increasing regularisation. Duality gap: 9.482e+01, tolerance: 8.803e+01\n",
            "  model = cd_fast.enet_coordinate_descent(\n",
            "/usr/local/lib/python3.10/dist-packages/sklearn/linear_model/_coordinate_descent.py:631: ConvergenceWarning: Objective did not converge. You might want to increase the number of iterations, check the scale of the features or consider increasing regularisation. Duality gap: 1.064e+02, tolerance: 8.889e+01\n",
            "  model = cd_fast.enet_coordinate_descent(\n",
            "/usr/local/lib/python3.10/dist-packages/sklearn/linear_model/_coordinate_descent.py:631: ConvergenceWarning: Objective did not converge. You might want to increase the number of iterations, check the scale of the features or consider increasing regularisation. Duality gap: 1.846e+02, tolerance: 8.889e+01\n",
            "  model = cd_fast.enet_coordinate_descent(\n",
            "/usr/local/lib/python3.10/dist-packages/sklearn/linear_model/_coordinate_descent.py:631: ConvergenceWarning: Objective did not converge. You might want to increase the number of iterations, check the scale of the features or consider increasing regularisation. Duality gap: 1.638e+02, tolerance: 8.889e+01\n",
            "  model = cd_fast.enet_coordinate_descent(\n",
            "/usr/local/lib/python3.10/dist-packages/sklearn/linear_model/_coordinate_descent.py:631: ConvergenceWarning: Objective did not converge. You might want to increase the number of iterations, check the scale of the features or consider increasing regularisation. Duality gap: 1.545e+02, tolerance: 8.889e+01\n",
            "  model = cd_fast.enet_coordinate_descent(\n",
            "/usr/local/lib/python3.10/dist-packages/sklearn/linear_model/_coordinate_descent.py:631: ConvergenceWarning: Objective did not converge. You might want to increase the number of iterations, check the scale of the features or consider increasing regularisation. Duality gap: 1.508e+02, tolerance: 8.889e+01\n",
            "  model = cd_fast.enet_coordinate_descent(\n",
            "/usr/local/lib/python3.10/dist-packages/sklearn/linear_model/_coordinate_descent.py:631: ConvergenceWarning: Objective did not converge. You might want to increase the number of iterations, check the scale of the features or consider increasing regularisation. Duality gap: 1.025e+02, tolerance: 8.889e+01\n",
            "  model = cd_fast.enet_coordinate_descent(\n",
            "/usr/local/lib/python3.10/dist-packages/sklearn/linear_model/_coordinate_descent.py:631: ConvergenceWarning: Objective did not converge. You might want to increase the number of iterations, check the scale of the features or consider increasing regularisation. Duality gap: 1.027e+02, tolerance: 8.889e+01\n",
            "  model = cd_fast.enet_coordinate_descent(\n",
            "/usr/local/lib/python3.10/dist-packages/sklearn/linear_model/_coordinate_descent.py:631: ConvergenceWarning: Objective did not converge. You might want to increase the number of iterations, check the scale of the features or consider increasing regularisation. Duality gap: 1.025e+02, tolerance: 9.148e+01\n",
            "  model = cd_fast.enet_coordinate_descent(\n",
            "/usr/local/lib/python3.10/dist-packages/sklearn/linear_model/_coordinate_descent.py:631: ConvergenceWarning: Objective did not converge. You might want to increase the number of iterations, check the scale of the features or consider increasing regularisation. Duality gap: 1.322e+02, tolerance: 8.874e+01\n",
            "  model = cd_fast.enet_coordinate_descent(\n",
            "/usr/local/lib/python3.10/dist-packages/sklearn/linear_model/_coordinate_descent.py:631: ConvergenceWarning: Objective did not converge. You might want to increase the number of iterations, check the scale of the features or consider increasing regularisation. Duality gap: 1.173e+02, tolerance: 8.874e+01\n",
            "  model = cd_fast.enet_coordinate_descent(\n",
            "/usr/local/lib/python3.10/dist-packages/sklearn/linear_model/_coordinate_descent.py:631: ConvergenceWarning: Objective did not converge. You might want to increase the number of iterations, check the scale of the features or consider increasing regularisation. Duality gap: 1.346e+02, tolerance: 8.874e+01\n",
            "  model = cd_fast.enet_coordinate_descent(\n",
            "/usr/local/lib/python3.10/dist-packages/sklearn/linear_model/_coordinate_descent.py:631: ConvergenceWarning: Objective did not converge. You might want to increase the number of iterations, check the scale of the features or consider increasing regularisation. Duality gap: 1.258e+02, tolerance: 8.874e+01\n",
            "  model = cd_fast.enet_coordinate_descent(\n"
          ]
        },
        {
          "name": "stdout",
          "output_type": "stream",
          "text": [
            "Number of selected covariates: 35\n",
            "['adb', 'american', 'chines', 'countri', 'crime', 'east', 'econom', 'happi', 'hk', 'immigr', 'indian', 'interview', 'japanes', 'job', 'journal', 'karl', 'kimchi', 'ntu', 'one', 'paper', 'read', 'sat', 'singapor', 'south', 'student', 'taiwanes', 'tax', 'test', 'time', 'tokyo', 'use', 'white', 'women', 'work', 'year']\n",
            "stem_asian_select.csv is saved\n"
          ]
        }
      ],
      "source": [
        "lasso_X = post_lasso(train_stem, test_stem, y_name=y_name, random_state=5222, token='stem')"
      ]
    },
    {
      "cell_type": "code",
      "execution_count": 18,
      "metadata": {
        "id": "icwD2IL10xKy"
      },
      "outputs": [],
      "source": [
        "## 3rd step: post-Lasso OLS\n",
        "post_OLS = LinearRegression()\\\n",
        "       .fit(X = test_stem[ D_name + lasso_X ], \n",
        "         y = test_stem[y_name])"
      ]
    },
    {
      "cell_type": "code",
      "source": [
        "pd.DataFrame({'word': D_name + list(lasso_X),\n",
        "      'coef': post_OLS.coef_}).to_csv('/content/gdrive/MyDrive/Tempf/Meeting_0614/stem_ugli.csv')"
      ],
      "metadata": {
        "id": "MwoxchK7Sxrg"
      },
      "execution_count": 28,
      "outputs": []
    },
    {
      "cell_type": "code",
      "execution_count": 30,
      "metadata": {
        "colab": {
          "base_uri": "https://localhost:8080/",
          "height": 237
        },
        "id": "pdGeJgYBZVVE",
        "outputId": "05316e69-e37f-4e2e-d974-af6c241d03b3"
      },
      "outputs": [
        {
          "output_type": "error",
          "ename": "TypeError",
          "evalue": "ignored",
          "traceback": [
            "\u001b[0;31m---------------------------------------------------------------------------\u001b[0m",
            "\u001b[0;31mTypeError\u001b[0m                                 Traceback (most recent call last)",
            "\u001b[0;32m<ipython-input-30-b616ac324ad2>\u001b[0m in \u001b[0;36m<cell line: 4>\u001b[0;34m()\u001b[0m\n\u001b[1;32m      2\u001b[0m \u001b[0;32mimport\u001b[0m \u001b[0mstatsmodels\u001b[0m\u001b[0;34m.\u001b[0m\u001b[0mregression\u001b[0m\u001b[0;34m.\u001b[0m\u001b[0mlinear_model\u001b[0m \u001b[0;32mas\u001b[0m \u001b[0msm\u001b[0m\u001b[0;34m\u001b[0m\u001b[0;34m\u001b[0m\u001b[0m\n\u001b[1;32m      3\u001b[0m \u001b[0;34m\u001b[0m\u001b[0m\n\u001b[0;32m----> 4\u001b[0;31m model = sm.OLS(endo = test_stem[ D_name + lasso_X ], \n\u001b[0m\u001b[1;32m      5\u001b[0m          Y = test_stem[y_name])\n\u001b[1;32m      6\u001b[0m \u001b[0mresults\u001b[0m \u001b[0;34m=\u001b[0m \u001b[0mmodel\u001b[0m\u001b[0;34m.\u001b[0m\u001b[0mfit\u001b[0m\u001b[0;34m(\u001b[0m\u001b[0;34m)\u001b[0m\u001b[0;34m\u001b[0m\u001b[0;34m\u001b[0m\u001b[0m\n",
            "\u001b[0;31mTypeError\u001b[0m: OLS.__init__() missing 1 required positional argument: 'endog'"
          ]
        }
      ],
      "source": [
        "import statsmodels.formula.api as smf\n",
        "import statsmodels.regression.linear_model as sm\n",
        "\n",
        "model = sm.OLS(endo = test_stem[ D_name + lasso_X ], \n",
        "         Y = test_stem[y_name])\n",
        "results = model.fit()\n",
        "\n",
        "results.t_test([0,1])"
      ]
    },
    {
      "cell_type": "code",
      "execution_count": null,
      "metadata": {
        "colab": {
          "base_uri": "https://localhost:8080/"
        },
        "id": "R-ZpyKVXyHOf",
        "outputId": "73bbdb01-6104-4bee-a130-b5ba1c55443f"
      },
      "outputs": [
        {
          "data": {
            "text/plain": [
              "0.00464099887136029"
            ]
          },
          "execution_count": 66,
          "metadata": {},
          "output_type": "execute_result"
        }
      ],
      "source": [
        "stem1.alpha_"
      ]
    },
    {
      "cell_type": "code",
      "execution_count": null,
      "metadata": {
        "colab": {
          "base_uri": "https://localhost:8080/"
        },
        "id": "BIv2-2LwDssd",
        "outputId": "53b1e6be-43b8-48b2-e5b2-ed8a4e8b7b93"
      },
      "outputs": [
        {
          "data": {
            "text/plain": [
              "sklearn.linear_model._base.LinearRegression"
            ]
          },
          "execution_count": 83,
          "metadata": {},
          "output_type": "execute_result"
        }
      ],
      "source": [
        "type(stem_OLS)"
      ]
    },
    {
      "cell_type": "code",
      "execution_count": null,
      "metadata": {
        "colab": {
          "base_uri": "https://localhost:8080/"
        },
        "id": "ounRkNLGxPGe",
        "outputId": "6a35412d-6488-4985-c357-658d39b48878"
      },
      "outputs": [
        {
          "data": {
            "text/plain": [
              "array([ 1.71435943e-02, -1.89833862e-02, -2.05683850e-02,  1.85070622e-02,\n",
              "        2.36500914e-02, -2.69382025e-02,  2.59145359e-02,  2.50187745e-03,\n",
              "        6.80545956e-04,  1.20540786e-02,  5.07507769e-03, -2.59359615e-02,\n",
              "        1.28586588e-02, -2.06937857e-03, -1.12614795e-02,  1.01617274e-02,\n",
              "        1.72084845e-02,  2.03867928e-02, -2.05444754e-03, -4.31643670e-03,\n",
              "        1.55042398e-02,  5.58457203e-03,  1.53032062e-01, -3.40953463e-03,\n",
              "        3.67470103e-03, -4.53978972e-04, -1.77311771e-02,  1.79904537e-02,\n",
              "        5.24321230e-03, -5.46492782e-03, -9.89434821e-03, -2.06165428e-02,\n",
              "        2.91007044e-03, -1.11325605e-02, -4.28180789e-03,  2.38927733e-02,\n",
              "        2.19534330e-02,  2.16066219e-02, -1.26822126e-02,  1.18640913e-01,\n",
              "       -2.15679706e-02, -2.12277806e-02,  3.25291959e-02, -1.03275325e-02,\n",
              "       -5.93126885e-02,  6.38886141e-03, -2.00513259e-02,  1.31278223e-03,\n",
              "        3.90647405e-02,  2.27758026e-03, -3.65731948e-02,  1.90559341e-02,\n",
              "       -8.47323383e-03,  8.76211518e-02,  1.77329273e-02,  1.50649045e-02,\n",
              "        2.51106332e-03,  1.64463391e-02,  2.09072975e-03,  6.33591886e-02,\n",
              "        3.38147071e-02, -1.81851676e-02, -1.53410344e-03, -8.90549393e-03,\n",
              "       -1.65702819e-02,  6.21884241e-03, -1.65538612e-02, -1.79534818e-02,\n",
              "       -8.90839248e-03,  5.44801504e-03, -1.55179938e-02,  1.16400852e-04,\n",
              "        2.15852833e-02,  1.94161446e-03, -1.29371204e-02,  1.66508814e-02,\n",
              "        1.04945783e-02,  4.27086587e-03, -1.59259806e-02,  6.94606361e-04,\n",
              "       -1.08519972e-02,  4.59539573e-02, -7.28248166e-03, -4.64173903e-02,\n",
              "       -1.63729540e-02, -2.32505908e-02,  1.29296842e-02,  2.80685756e-02,\n",
              "       -1.34184422e-02])"
            ]
          },
          "execution_count": 74,
          "metadata": {},
          "output_type": "execute_result"
        }
      ],
      "source": [
        "stem_OLS.coef_"
      ]
    },
    {
      "cell_type": "code",
      "execution_count": null,
      "metadata": {
        "id": "KEXZhEbCxd6M"
      },
      "outputs": [],
      "source": [
        "pd.DataFrame({'word': [D_name] + list(stem2_select),\n",
        "      'coef': stem_OLS.coef_}).to_csv('/content/gdrive/MyDrive/Tempf/Meeting_0614/stem_stupid.csv')"
      ]
    },
    {
      "cell_type": "code",
      "execution_count": null,
      "metadata": {
        "colab": {
          "base_uri": "https://localhost:8080/",
          "height": 35
        },
        "id": "HAgj40ZYzLC5",
        "outputId": "fe96945b-d1d5-4d28-ccd5-d80e40bc8d3d"
      },
      "outputs": [
        {
          "data": {
            "application/vnd.google.colaboratory.intrinsic+json": {
              "type": "string"
            },
            "text/plain": [
              "'stupid'"
            ]
          },
          "execution_count": 76,
          "metadata": {},
          "output_type": "execute_result"
        }
      ],
      "source": [
        "y_name"
      ]
    },
    {
      "cell_type": "code",
      "execution_count": null,
      "metadata": {
        "id": "pbmsfM_62bOh"
      },
      "outputs": [],
      "source": [
        "# from sklearn.linear_model import LassoCV # determine alpha_ (lambda in R)\n",
        "# from sklearn.linear_model import Lasso # select covariates\n",
        "# from sklearn.linear_model import LinearRegression # post-lasso\n",
        "\n",
        "# def post_lasso(set1, set2, y_name:str, random_state:int, token={'stem', 'lemma'}):\n",
        "#   '''\n",
        "#   y_name: independent vars.\n",
        "#   D_name: treatment var(s). #D_name:list\n",
        "#   set1: (pd.df) random half of the dataframe\n",
        "#   set2: (pd.df) the other random half of the dataframe\n",
        "#   random_state: (int) for LassoCV(), may be different to the one in train_test_split\n",
        "#   '''\n",
        "\n",
        "#   # 如果一篇主題討論文中有出現關鍵字，那就算一(不論出現次數)\n",
        "#   set1.loc[set1[y_name] != 0, y_name] = 1\n",
        "\n",
        "#   ## 1st step: lassoCV \n",
        "#   lasso1 = LassoCV(cv=5, random_state = random_state, tol = 0.1)\\\n",
        "#      .fit( X = set1.loc[:, set1.columns != y_name],\n",
        "#          y = set1[y_name])\n",
        "  \n",
        "#   ## 2st step: lasso\n",
        "#   lasso2 = Lasso( alpha = lasso1.alpha_)\\\n",
        "#      .fit( X = set1.loc[:, set1.columns != y_name],\n",
        "#          y = set1[y_name])\n",
        "  \n",
        "#   print('Number of selected covariates:',len(lasso2.coef_[lasso2.coef_!=0]))\n",
        "\n",
        "#   lasso2_select = list(set1.keys()[set1.columns != y_name][lasso2.coef_!=0]) # remove y_name\n",
        "#   print(lasso2_select)\n",
        "\n",
        "#   pd.DataFrame({'word':list(lasso2_select),\n",
        "#          'coef': lasso1.coef_[lasso2.coef_!=0]}).to_csv('/content/gdrive/MyDrive/Tempf/Meeting_0614/' +token+ '_' +y_name+ '_select_test.csv')\n",
        "#   print(f'{token}_{y_name}_select.csv is saved')\n",
        "\n",
        "\n",
        "#   ## 3rd step: post-Lasso OLS: writen outside\n",
        "#   '''\n",
        "#   post_OLS = LinearRegression()\\\n",
        "#        .fit(X = set2[ D_name + lasso_X ], \n",
        "#          y = set2[y_name])\n",
        "#   can't return this regression model\n",
        "#   ''' \n",
        "#   return lasso2_select\n",
        "\n"
      ]
    }
  ],
  "metadata": {
    "colab": {
      "provenance": [],
      "authorship_tag": "ABX9TyP62ihjtMnHmrU6lLfuX8Ts",
      "include_colab_link": true
    },
    "kernelspec": {
      "display_name": "Python 3",
      "name": "python3"
    },
    "language_info": {
      "name": "python"
    }
  },
  "nbformat": 4,
  "nbformat_minor": 0
}