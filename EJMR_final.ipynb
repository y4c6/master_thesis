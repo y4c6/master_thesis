{
  "nbformat": 4,
  "nbformat_minor": 0,
  "metadata": {
    "colab": {
      "provenance": [],
      "toc_visible": true,
      "authorship_tag": "ABX9TyPHfJ5CbgGoWr7Zr43tWpEY",
      "include_colab_link": true
    },
    "kernelspec": {
      "name": "python3",
      "display_name": "Python 3"
    },
    "language_info": {
      "name": "python"
    }
  },
  "cells": [
    {
      "cell_type": "markdown",
      "metadata": {
        "id": "view-in-github",
        "colab_type": "text"
      },
      "source": [
        "<a href=\"https://colab.research.google.com/github/y4c6/master_thesis/blob/main/EJMR_final.ipynb\" target=\"_parent\"><img src=\"https://colab.research.google.com/assets/colab-badge.svg\" alt=\"Open In Colab\"/></a>"
      ]
    },
    {
      "cell_type": "markdown",
      "source": [
        "受夠自己亂七八糟的檔案，放過來整理。"
      ],
      "metadata": {
        "id": "I7n5zL2utQRl"
      }
    },
    {
      "cell_type": "markdown",
      "source": [
        "# 這些變數名稱需要心情不錯的時候整理一次"
      ],
      "metadata": {
        "id": "TE5t2h7DMDeR"
      }
    },
    {
      "cell_type": "markdown",
      "source": [
        "# 套件"
      ],
      "metadata": {
        "id": "p-Nr5T8HvJai"
      }
    },
    {
      "cell_type": "code",
      "source": [
        "from google.colab import drive\n",
        "# directory\n",
        "drive.mount('/content/gdrive')"
      ],
      "metadata": {
        "id": "c2vWTM7IvPwx",
        "colab": {
          "base_uri": "https://localhost:8080/"
        },
        "outputId": "65a3101f-0e64-43d5-d31e-519f47c148c2"
      },
      "execution_count": 1,
      "outputs": [
        {
          "output_type": "stream",
          "name": "stdout",
          "text": [
            "Mounted at /content/gdrive\n"
          ]
        }
      ]
    },
    {
      "cell_type": "code",
      "source": [
        "import numpy as np\n",
        "import pandas as pd\n",
        "import json"
      ],
      "metadata": {
        "id": "dDteai2K9123"
      },
      "execution_count": 2,
      "outputs": []
    },
    {
      "cell_type": "markdown",
      "source": [
        "# 準備 dataset"
      ],
      "metadata": {
        "id": "AAiv4nQXwKAO"
      }
    },
    {
      "cell_type": "markdown",
      "source": [
        "# 合併json檔案"
      ],
      "metadata": {
        "id": "oDU1pOH1tqYU"
      }
    },
    {
      "cell_type": "markdown",
      "source": [
        "## 合併檔案 ( 從 EJMRpostXX.json 到 EJMRpost_XX_XX.json )"
      ],
      "metadata": {
        "id": "CeQMXw2Wt_B1"
      }
    },
    {
      "cell_type": "markdown",
      "source": [
        "不是每次都要跑這個"
      ],
      "metadata": {
        "id": "0t2o8ElDLhL6"
      }
    },
    {
      "cell_type": "code",
      "source": [
        "import glob\n",
        "import json\n",
        "\n",
        "def list_json_files(path, start_with): \n",
        "    # get a list of json files that starts with specific word \n",
        "    json_files = glob.glob(path + f'/{start_with}*.json')\n",
        "    return json_files\n",
        "\n",
        "def concat_json_files(file_paths):\n",
        "    # concatenate the content of all the files in the list\n",
        "    data = {'topic':[], 'posts':[]}\n",
        "    for file_path in file_paths:\n",
        "        with open(file_path, 'r') as f:\n",
        "            file_data = json.load(f)\n",
        "            data['topic'].extend(file_data['topic'])\n",
        "            data['posts'].extend(file_data['posts'])\n",
        "    return data\n",
        "\n",
        "def concat_json_files_with_start(path, start_with):\n",
        "    json_files = list_json_files(path, start_with)\n",
        "    data = concat_json_files(json_files)\n",
        "    return data"
      ],
      "metadata": {
        "id": "2n_RcusDu8Qe"
      },
      "execution_count": 3,
      "outputs": []
    },
    {
      "cell_type": "code",
      "source": [
        "path = '/content/gdrive/MyDrive/論文相關材料/'\n",
        "start_with = 'EJMRpost_'\n",
        "\n",
        "data = concat_json_files_with_start(path, start_with)"
      ],
      "metadata": {
        "id": "cu3FcJaC98vx"
      },
      "execution_count": 4,
      "outputs": []
    },
    {
      "cell_type": "code",
      "source": [
        "## 確認合併成功\n",
        "len(data['topic'])"
      ],
      "metadata": {
        "id": "0DuXyYik-EPP",
        "colab": {
          "base_uri": "https://localhost:8080/"
        },
        "outputId": "93a81bf1-4399-4544-ccc5-3da09cbb5b88"
      },
      "execution_count": 5,
      "outputs": [
        {
          "output_type": "execute_result",
          "data": {
            "text/plain": [
              "220000"
            ]
          },
          "metadata": {},
          "execution_count": 5
        }
      ]
    },
    {
      "cell_type": "markdown",
      "source": [
        "下面跟上面的好像可以做到一樣的事情"
      ],
      "metadata": {
        "id": "9npU6Nr2jcbN"
      }
    },
    {
      "cell_type": "markdown",
      "source": [
        "## 合併檔案 ( 從 EJMRpost_XX_XX.json 到 data: dict )"
      ],
      "metadata": {
        "id": "PACj0Okzurz5"
      }
    },
    {
      "cell_type": "code",
      "source": [
        "with open('/content/gdrive/MyDrive/論文相關材料/EJMRpost_1_10.json', 'r') as f:\n",
        "    file1 = json.load(f)\n",
        "\n",
        "with open('/content/gdrive/MyDrive/論文相關材料/EJMRpost_11_20.json', 'r') as f:\n",
        "    file2 = json.load(f)\n",
        "\n",
        "with open('/content/gdrive/MyDrive/論文相關材料/EJMRpost_21_30.json', 'r') as f:\n",
        "    file3 = json.load(f)"
      ],
      "metadata": {
        "id": "mL10668wzNmz"
      },
      "execution_count": 3,
      "outputs": []
    },
    {
      "cell_type": "code",
      "execution_count": 4,
      "metadata": {
        "id": "dBGJvYNEtCls"
      },
      "outputs": [],
      "source": [
        "def concat_json_files(files: list):\n",
        "    # concatenate the file in the lists\n",
        "    data = {'topic':[], 'posts':[]}\n",
        "    for file in files:\n",
        "      data['topic'].extend(file['topic'])\n",
        "      data['posts'].extend(file['posts'])\n",
        "    return data"
      ]
    },
    {
      "cell_type": "code",
      "source": [
        "data = concat_json_files([file1, file2, file3])"
      ],
      "metadata": {
        "id": "N2GAv_68zRE6"
      },
      "execution_count": 5,
      "outputs": []
    },
    {
      "cell_type": "code",
      "source": [
        "## 確認合併成功\n",
        "len(data['topic'])"
      ],
      "metadata": {
        "id": "llxTx5M_zUKu",
        "colab": {
          "base_uri": "https://localhost:8080/"
        },
        "outputId": "fb0eb299-4347-46de-d4e9-40253cb6216f"
      },
      "execution_count": 6,
      "outputs": [
        {
          "output_type": "execute_result",
          "data": {
            "text/plain": [
              "220000"
            ]
          },
          "metadata": {},
          "execution_count": 6
        }
      ]
    },
    {
      "cell_type": "markdown",
      "source": [
        "# 將檔案轉成表格 (從 data: dict 到 df: pd.df)"
      ],
      "metadata": {
        "id": "mogyLjMzvjWW"
      }
    },
    {
      "cell_type": "code",
      "source": [
        "df = pd.DataFrame(data)\n",
        "df.head(3)"
      ],
      "metadata": {
        "id": "yVCbntoAv7kN",
        "colab": {
          "base_uri": "https://localhost:8080/",
          "height": 260
        },
        "outputId": "46a440ec-dc7b-43ec-b456-118cbf3a14c2"
      },
      "execution_count": 7,
      "outputs": [
        {
          "output_type": "execute_result",
          "data": {
            "text/plain": [
              "                                               topic  \\\n",
              "0    https://www.econjobrumors.com/topic/rbb-or-kari   \n",
              "1  https://www.econjobrumors.com/topic/as-ian-ame...   \n",
              "2  https://www.econjobrumors.com/topic/russia-chi...   \n",
              "\n",
              "                                               posts  \n",
              "0  [Whose more of a dishonest cringe dooshbag?, I...  \n",
              "1  [https://www.nytimes.com/2022/03/06/nyregion/a...  \n",
              "2  [Is this the genius outcome the West was looki...  "
            ],
            "text/html": [
              "\n",
              "  <div id=\"df-09f8fdb6-494f-4db2-884f-bf0d1357b141\">\n",
              "    <div class=\"colab-df-container\">\n",
              "      <div>\n",
              "<style scoped>\n",
              "    .dataframe tbody tr th:only-of-type {\n",
              "        vertical-align: middle;\n",
              "    }\n",
              "\n",
              "    .dataframe tbody tr th {\n",
              "        vertical-align: top;\n",
              "    }\n",
              "\n",
              "    .dataframe thead th {\n",
              "        text-align: right;\n",
              "    }\n",
              "</style>\n",
              "<table border=\"1\" class=\"dataframe\">\n",
              "  <thead>\n",
              "    <tr style=\"text-align: right;\">\n",
              "      <th></th>\n",
              "      <th>topic</th>\n",
              "      <th>posts</th>\n",
              "    </tr>\n",
              "  </thead>\n",
              "  <tbody>\n",
              "    <tr>\n",
              "      <th>0</th>\n",
              "      <td>https://www.econjobrumors.com/topic/rbb-or-kari</td>\n",
              "      <td>[Whose more of a dishonest cringe dooshbag?, I...</td>\n",
              "    </tr>\n",
              "    <tr>\n",
              "      <th>1</th>\n",
              "      <td>https://www.econjobrumors.com/topic/as-ian-ame...</td>\n",
              "      <td>[https://www.nytimes.com/2022/03/06/nyregion/a...</td>\n",
              "    </tr>\n",
              "    <tr>\n",
              "      <th>2</th>\n",
              "      <td>https://www.econjobrumors.com/topic/russia-chi...</td>\n",
              "      <td>[Is this the genius outcome the West was looki...</td>\n",
              "    </tr>\n",
              "  </tbody>\n",
              "</table>\n",
              "</div>\n",
              "      <button class=\"colab-df-convert\" onclick=\"convertToInteractive('df-09f8fdb6-494f-4db2-884f-bf0d1357b141')\"\n",
              "              title=\"Convert this dataframe to an interactive table.\"\n",
              "              style=\"display:none;\">\n",
              "        \n",
              "  <svg xmlns=\"http://www.w3.org/2000/svg\" height=\"24px\"viewBox=\"0 0 24 24\"\n",
              "       width=\"24px\">\n",
              "    <path d=\"M0 0h24v24H0V0z\" fill=\"none\"/>\n",
              "    <path d=\"M18.56 5.44l.94 2.06.94-2.06 2.06-.94-2.06-.94-.94-2.06-.94 2.06-2.06.94zm-11 1L8.5 8.5l.94-2.06 2.06-.94-2.06-.94L8.5 2.5l-.94 2.06-2.06.94zm10 10l.94 2.06.94-2.06 2.06-.94-2.06-.94-.94-2.06-.94 2.06-2.06.94z\"/><path d=\"M17.41 7.96l-1.37-1.37c-.4-.4-.92-.59-1.43-.59-.52 0-1.04.2-1.43.59L10.3 9.45l-7.72 7.72c-.78.78-.78 2.05 0 2.83L4 21.41c.39.39.9.59 1.41.59.51 0 1.02-.2 1.41-.59l7.78-7.78 2.81-2.81c.8-.78.8-2.07 0-2.86zM5.41 20L4 18.59l7.72-7.72 1.47 1.35L5.41 20z\"/>\n",
              "  </svg>\n",
              "      </button>\n",
              "      \n",
              "  <style>\n",
              "    .colab-df-container {\n",
              "      display:flex;\n",
              "      flex-wrap:wrap;\n",
              "      gap: 12px;\n",
              "    }\n",
              "\n",
              "    .colab-df-convert {\n",
              "      background-color: #E8F0FE;\n",
              "      border: none;\n",
              "      border-radius: 50%;\n",
              "      cursor: pointer;\n",
              "      display: none;\n",
              "      fill: #1967D2;\n",
              "      height: 32px;\n",
              "      padding: 0 0 0 0;\n",
              "      width: 32px;\n",
              "    }\n",
              "\n",
              "    .colab-df-convert:hover {\n",
              "      background-color: #E2EBFA;\n",
              "      box-shadow: 0px 1px 2px rgba(60, 64, 67, 0.3), 0px 1px 3px 1px rgba(60, 64, 67, 0.15);\n",
              "      fill: #174EA6;\n",
              "    }\n",
              "\n",
              "    [theme=dark] .colab-df-convert {\n",
              "      background-color: #3B4455;\n",
              "      fill: #D2E3FC;\n",
              "    }\n",
              "\n",
              "    [theme=dark] .colab-df-convert:hover {\n",
              "      background-color: #434B5C;\n",
              "      box-shadow: 0px 1px 3px 1px rgba(0, 0, 0, 0.15);\n",
              "      filter: drop-shadow(0px 1px 2px rgba(0, 0, 0, 0.3));\n",
              "      fill: #FFFFFF;\n",
              "    }\n",
              "  </style>\n",
              "\n",
              "      <script>\n",
              "        const buttonEl =\n",
              "          document.querySelector('#df-09f8fdb6-494f-4db2-884f-bf0d1357b141 button.colab-df-convert');\n",
              "        buttonEl.style.display =\n",
              "          google.colab.kernel.accessAllowed ? 'block' : 'none';\n",
              "\n",
              "        async function convertToInteractive(key) {\n",
              "          const element = document.querySelector('#df-09f8fdb6-494f-4db2-884f-bf0d1357b141');\n",
              "          const dataTable =\n",
              "            await google.colab.kernel.invokeFunction('convertToInteractive',\n",
              "                                                     [key], {});\n",
              "          if (!dataTable) return;\n",
              "\n",
              "          const docLinkHtml = 'Like what you see? Visit the ' +\n",
              "            '<a target=\"_blank\" href=https://colab.research.google.com/notebooks/data_table.ipynb>data table notebook</a>'\n",
              "            + ' to learn more about interactive tables.';\n",
              "          element.innerHTML = '';\n",
              "          dataTable['output_type'] = 'display_data';\n",
              "          await google.colab.output.renderOutput(dataTable, element);\n",
              "          const docLink = document.createElement('div');\n",
              "          docLink.innerHTML = docLinkHtml;\n",
              "          element.appendChild(docLink);\n",
              "        }\n",
              "      </script>\n",
              "    </div>\n",
              "  </div>\n",
              "  "
            ]
          },
          "metadata": {},
          "execution_count": 7
        }
      ]
    },
    {
      "cell_type": "markdown",
      "source": [
        "### check duplicated value"
      ],
      "metadata": {
        "id": "4nN0zPx1-doO"
      }
    },
    {
      "cell_type": "code",
      "source": [
        "df[df.topic.duplicated()==True]"
      ],
      "metadata": {
        "colab": {
          "base_uri": "https://localhost:8080/",
          "height": 641
        },
        "id": "YuzLDzWPhwJ5",
        "outputId": "c471240c-9500-4c2e-aa7d-459e754daa2d"
      },
      "execution_count": 14,
      "outputs": [
        {
          "output_type": "execute_result",
          "data": {
            "text/plain": [
              "                                                    topic  \\\n",
              "11960   https://www.econjobrumors.com/topic/im-studyin...   \n",
              "20387   https://www.econjobrumors.com/topic/what-i%e2%...   \n",
              "20680   https://www.econjobrumors.com/topic/why-do-so-...   \n",
              "24228   https://www.econjobrumors.com/topic/what-i%e2%...   \n",
              "31255   https://www.econjobrumors.com/topic/what-i%e2%...   \n",
              "...                                                   ...   \n",
              "216483  https://www.econjobrumors.com/topic/what-i%e2%...   \n",
              "216809  https://www.econjobrumors.com/topic/my-convers...   \n",
              "217291  https://www.econjobrumors.com/topic/what-shoul...   \n",
              "218108  https://www.econjobrumors.com/topic/china-fact...   \n",
              "219423  https://www.econjobrumors.com/topic/china-fact...   \n",
              "\n",
              "                                                    posts  \n",
              "11960   [black Americans during the pandemic on Asian ...  \n",
              "20387   [1. Peter Sloterdijk, Selected Exaggerations: ...  \n",
              "20680   [https://haas.berkeley.edu/phd/careers/job-pla...  \n",
              "24228   [1. Peter Sloterdijk, Selected Exaggerations: ...  \n",
              "31255   [1. Peter Sloterdijk, Selected Exaggerations: ...  \n",
              "...                                                   ...  \n",
              "216483  [1. Peter Sloterdijk, Selected Exaggerations: ...  \n",
              "216809  [I will be interviewing him shortly, for the C...  \n",
              "217291  [I will be doing a Conversations with Tyler wi...  \n",
              "218108  [Wow. That just blew my mind., well done!!, Ar...  \n",
              "219423  [Wow. That just blew my mind., well done!!, Ar...  \n",
              "\n",
              "[1042 rows x 2 columns]"
            ],
            "text/html": [
              "\n",
              "  <div id=\"df-8255c89c-10dd-4f8b-821d-a2298f622f79\">\n",
              "    <div class=\"colab-df-container\">\n",
              "      <div>\n",
              "<style scoped>\n",
              "    .dataframe tbody tr th:only-of-type {\n",
              "        vertical-align: middle;\n",
              "    }\n",
              "\n",
              "    .dataframe tbody tr th {\n",
              "        vertical-align: top;\n",
              "    }\n",
              "\n",
              "    .dataframe thead th {\n",
              "        text-align: right;\n",
              "    }\n",
              "</style>\n",
              "<table border=\"1\" class=\"dataframe\">\n",
              "  <thead>\n",
              "    <tr style=\"text-align: right;\">\n",
              "      <th></th>\n",
              "      <th>topic</th>\n",
              "      <th>posts</th>\n",
              "    </tr>\n",
              "  </thead>\n",
              "  <tbody>\n",
              "    <tr>\n",
              "      <th>11960</th>\n",
              "      <td>https://www.econjobrumors.com/topic/im-studyin...</td>\n",
              "      <td>[black Americans during the pandemic on Asian ...</td>\n",
              "    </tr>\n",
              "    <tr>\n",
              "      <th>20387</th>\n",
              "      <td>https://www.econjobrumors.com/topic/what-i%e2%...</td>\n",
              "      <td>[1. Peter Sloterdijk, Selected Exaggerations: ...</td>\n",
              "    </tr>\n",
              "    <tr>\n",
              "      <th>20680</th>\n",
              "      <td>https://www.econjobrumors.com/topic/why-do-so-...</td>\n",
              "      <td>[https://haas.berkeley.edu/phd/careers/job-pla...</td>\n",
              "    </tr>\n",
              "    <tr>\n",
              "      <th>24228</th>\n",
              "      <td>https://www.econjobrumors.com/topic/what-i%e2%...</td>\n",
              "      <td>[1. Peter Sloterdijk, Selected Exaggerations: ...</td>\n",
              "    </tr>\n",
              "    <tr>\n",
              "      <th>31255</th>\n",
              "      <td>https://www.econjobrumors.com/topic/what-i%e2%...</td>\n",
              "      <td>[1. Peter Sloterdijk, Selected Exaggerations: ...</td>\n",
              "    </tr>\n",
              "    <tr>\n",
              "      <th>...</th>\n",
              "      <td>...</td>\n",
              "      <td>...</td>\n",
              "    </tr>\n",
              "    <tr>\n",
              "      <th>216483</th>\n",
              "      <td>https://www.econjobrumors.com/topic/what-i%e2%...</td>\n",
              "      <td>[1. Peter Sloterdijk, Selected Exaggerations: ...</td>\n",
              "    </tr>\n",
              "    <tr>\n",
              "      <th>216809</th>\n",
              "      <td>https://www.econjobrumors.com/topic/my-convers...</td>\n",
              "      <td>[I will be interviewing him shortly, for the C...</td>\n",
              "    </tr>\n",
              "    <tr>\n",
              "      <th>217291</th>\n",
              "      <td>https://www.econjobrumors.com/topic/what-shoul...</td>\n",
              "      <td>[I will be doing a Conversations with Tyler wi...</td>\n",
              "    </tr>\n",
              "    <tr>\n",
              "      <th>218108</th>\n",
              "      <td>https://www.econjobrumors.com/topic/china-fact...</td>\n",
              "      <td>[Wow. That just blew my mind., well done!!, Ar...</td>\n",
              "    </tr>\n",
              "    <tr>\n",
              "      <th>219423</th>\n",
              "      <td>https://www.econjobrumors.com/topic/china-fact...</td>\n",
              "      <td>[Wow. That just blew my mind., well done!!, Ar...</td>\n",
              "    </tr>\n",
              "  </tbody>\n",
              "</table>\n",
              "<p>1042 rows × 2 columns</p>\n",
              "</div>\n",
              "      <button class=\"colab-df-convert\" onclick=\"convertToInteractive('df-8255c89c-10dd-4f8b-821d-a2298f622f79')\"\n",
              "              title=\"Convert this dataframe to an interactive table.\"\n",
              "              style=\"display:none;\">\n",
              "        \n",
              "  <svg xmlns=\"http://www.w3.org/2000/svg\" height=\"24px\"viewBox=\"0 0 24 24\"\n",
              "       width=\"24px\">\n",
              "    <path d=\"M0 0h24v24H0V0z\" fill=\"none\"/>\n",
              "    <path d=\"M18.56 5.44l.94 2.06.94-2.06 2.06-.94-2.06-.94-.94-2.06-.94 2.06-2.06.94zm-11 1L8.5 8.5l.94-2.06 2.06-.94-2.06-.94L8.5 2.5l-.94 2.06-2.06.94zm10 10l.94 2.06.94-2.06 2.06-.94-2.06-.94-.94-2.06-.94 2.06-2.06.94z\"/><path d=\"M17.41 7.96l-1.37-1.37c-.4-.4-.92-.59-1.43-.59-.52 0-1.04.2-1.43.59L10.3 9.45l-7.72 7.72c-.78.78-.78 2.05 0 2.83L4 21.41c.39.39.9.59 1.41.59.51 0 1.02-.2 1.41-.59l7.78-7.78 2.81-2.81c.8-.78.8-2.07 0-2.86zM5.41 20L4 18.59l7.72-7.72 1.47 1.35L5.41 20z\"/>\n",
              "  </svg>\n",
              "      </button>\n",
              "      \n",
              "  <style>\n",
              "    .colab-df-container {\n",
              "      display:flex;\n",
              "      flex-wrap:wrap;\n",
              "      gap: 12px;\n",
              "    }\n",
              "\n",
              "    .colab-df-convert {\n",
              "      background-color: #E8F0FE;\n",
              "      border: none;\n",
              "      border-radius: 50%;\n",
              "      cursor: pointer;\n",
              "      display: none;\n",
              "      fill: #1967D2;\n",
              "      height: 32px;\n",
              "      padding: 0 0 0 0;\n",
              "      width: 32px;\n",
              "    }\n",
              "\n",
              "    .colab-df-convert:hover {\n",
              "      background-color: #E2EBFA;\n",
              "      box-shadow: 0px 1px 2px rgba(60, 64, 67, 0.3), 0px 1px 3px 1px rgba(60, 64, 67, 0.15);\n",
              "      fill: #174EA6;\n",
              "    }\n",
              "\n",
              "    [theme=dark] .colab-df-convert {\n",
              "      background-color: #3B4455;\n",
              "      fill: #D2E3FC;\n",
              "    }\n",
              "\n",
              "    [theme=dark] .colab-df-convert:hover {\n",
              "      background-color: #434B5C;\n",
              "      box-shadow: 0px 1px 3px 1px rgba(0, 0, 0, 0.15);\n",
              "      filter: drop-shadow(0px 1px 2px rgba(0, 0, 0, 0.3));\n",
              "      fill: #FFFFFF;\n",
              "    }\n",
              "  </style>\n",
              "\n",
              "      <script>\n",
              "        const buttonEl =\n",
              "          document.querySelector('#df-8255c89c-10dd-4f8b-821d-a2298f622f79 button.colab-df-convert');\n",
              "        buttonEl.style.display =\n",
              "          google.colab.kernel.accessAllowed ? 'block' : 'none';\n",
              "\n",
              "        async function convertToInteractive(key) {\n",
              "          const element = document.querySelector('#df-8255c89c-10dd-4f8b-821d-a2298f622f79');\n",
              "          const dataTable =\n",
              "            await google.colab.kernel.invokeFunction('convertToInteractive',\n",
              "                                                     [key], {});\n",
              "          if (!dataTable) return;\n",
              "\n",
              "          const docLinkHtml = 'Like what you see? Visit the ' +\n",
              "            '<a target=\"_blank\" href=https://colab.research.google.com/notebooks/data_table.ipynb>data table notebook</a>'\n",
              "            + ' to learn more about interactive tables.';\n",
              "          element.innerHTML = '';\n",
              "          dataTable['output_type'] = 'display_data';\n",
              "          await google.colab.output.renderOutput(dataTable, element);\n",
              "          const docLink = document.createElement('div');\n",
              "          docLink.innerHTML = docLinkHtml;\n",
              "          element.appendChild(docLink);\n",
              "        }\n",
              "      </script>\n",
              "    </div>\n",
              "  </div>\n",
              "  "
            ]
          },
          "metadata": {},
          "execution_count": 14
        }
      ]
    },
    {
      "cell_type": "markdown",
      "source": [
        "I have 1,042 duplicated rows in this data.\n",
        "maybe there are something wrong when i scraped,\n",
        "but the number is not too big related to the total nubmber of dataset (220,000).\n",
        "I think it would be okay to remove them here."
      ],
      "metadata": {
        "id": "cW4xK-C9p3_y"
      }
    },
    {
      "cell_type": "code",
      "source": [
        "df = df.drop_duplicates(subset=['topic'], keep=\"first\")\n",
        "\n",
        "df.head()"
      ],
      "metadata": {
        "colab": {
          "base_uri": "https://localhost:8080/",
          "height": 357
        },
        "id": "S_FaIklSo4FS",
        "outputId": "1530a340-634a-4ac7-c26e-f692845a8620"
      },
      "execution_count": 8,
      "outputs": [
        {
          "output_type": "execute_result",
          "data": {
            "text/plain": [
              "                                               topic  \\\n",
              "0    https://www.econjobrumors.com/topic/rbb-or-kari   \n",
              "1  https://www.econjobrumors.com/topic/as-ian-ame...   \n",
              "2  https://www.econjobrumors.com/topic/russia-chi...   \n",
              "3  https://www.econjobrumors.com/topic/just-found...   \n",
              "4  https://www.econjobrumors.com/topic/karen-and-...   \n",
              "\n",
              "                                               posts  \n",
              "0  [Whose more of a dishonest cringe dooshbag?, I...  \n",
              "1  [https://www.nytimes.com/2022/03/06/nyregion/a...  \n",
              "2  [Is this the genius outcome the West was looki...  \n",
              "3      [Why? Why would you ever study such a thing?]  \n",
              "4  [What happens next?, Mutant babies., Zhang pos...  "
            ],
            "text/html": [
              "\n",
              "  <div id=\"df-ca36853f-e609-45ee-b5aa-f6499dde1b4b\">\n",
              "    <div class=\"colab-df-container\">\n",
              "      <div>\n",
              "<style scoped>\n",
              "    .dataframe tbody tr th:only-of-type {\n",
              "        vertical-align: middle;\n",
              "    }\n",
              "\n",
              "    .dataframe tbody tr th {\n",
              "        vertical-align: top;\n",
              "    }\n",
              "\n",
              "    .dataframe thead th {\n",
              "        text-align: right;\n",
              "    }\n",
              "</style>\n",
              "<table border=\"1\" class=\"dataframe\">\n",
              "  <thead>\n",
              "    <tr style=\"text-align: right;\">\n",
              "      <th></th>\n",
              "      <th>topic</th>\n",
              "      <th>posts</th>\n",
              "    </tr>\n",
              "  </thead>\n",
              "  <tbody>\n",
              "    <tr>\n",
              "      <th>0</th>\n",
              "      <td>https://www.econjobrumors.com/topic/rbb-or-kari</td>\n",
              "      <td>[Whose more of a dishonest cringe dooshbag?, I...</td>\n",
              "    </tr>\n",
              "    <tr>\n",
              "      <th>1</th>\n",
              "      <td>https://www.econjobrumors.com/topic/as-ian-ame...</td>\n",
              "      <td>[https://www.nytimes.com/2022/03/06/nyregion/a...</td>\n",
              "    </tr>\n",
              "    <tr>\n",
              "      <th>2</th>\n",
              "      <td>https://www.econjobrumors.com/topic/russia-chi...</td>\n",
              "      <td>[Is this the genius outcome the West was looki...</td>\n",
              "    </tr>\n",
              "    <tr>\n",
              "      <th>3</th>\n",
              "      <td>https://www.econjobrumors.com/topic/just-found...</td>\n",
              "      <td>[Why? Why would you ever study such a thing?]</td>\n",
              "    </tr>\n",
              "    <tr>\n",
              "      <th>4</th>\n",
              "      <td>https://www.econjobrumors.com/topic/karen-and-...</td>\n",
              "      <td>[What happens next?, Mutant babies., Zhang pos...</td>\n",
              "    </tr>\n",
              "  </tbody>\n",
              "</table>\n",
              "</div>\n",
              "      <button class=\"colab-df-convert\" onclick=\"convertToInteractive('df-ca36853f-e609-45ee-b5aa-f6499dde1b4b')\"\n",
              "              title=\"Convert this dataframe to an interactive table.\"\n",
              "              style=\"display:none;\">\n",
              "        \n",
              "  <svg xmlns=\"http://www.w3.org/2000/svg\" height=\"24px\"viewBox=\"0 0 24 24\"\n",
              "       width=\"24px\">\n",
              "    <path d=\"M0 0h24v24H0V0z\" fill=\"none\"/>\n",
              "    <path d=\"M18.56 5.44l.94 2.06.94-2.06 2.06-.94-2.06-.94-.94-2.06-.94 2.06-2.06.94zm-11 1L8.5 8.5l.94-2.06 2.06-.94-2.06-.94L8.5 2.5l-.94 2.06-2.06.94zm10 10l.94 2.06.94-2.06 2.06-.94-2.06-.94-.94-2.06-.94 2.06-2.06.94z\"/><path d=\"M17.41 7.96l-1.37-1.37c-.4-.4-.92-.59-1.43-.59-.52 0-1.04.2-1.43.59L10.3 9.45l-7.72 7.72c-.78.78-.78 2.05 0 2.83L4 21.41c.39.39.9.59 1.41.59.51 0 1.02-.2 1.41-.59l7.78-7.78 2.81-2.81c.8-.78.8-2.07 0-2.86zM5.41 20L4 18.59l7.72-7.72 1.47 1.35L5.41 20z\"/>\n",
              "  </svg>\n",
              "      </button>\n",
              "      \n",
              "  <style>\n",
              "    .colab-df-container {\n",
              "      display:flex;\n",
              "      flex-wrap:wrap;\n",
              "      gap: 12px;\n",
              "    }\n",
              "\n",
              "    .colab-df-convert {\n",
              "      background-color: #E8F0FE;\n",
              "      border: none;\n",
              "      border-radius: 50%;\n",
              "      cursor: pointer;\n",
              "      display: none;\n",
              "      fill: #1967D2;\n",
              "      height: 32px;\n",
              "      padding: 0 0 0 0;\n",
              "      width: 32px;\n",
              "    }\n",
              "\n",
              "    .colab-df-convert:hover {\n",
              "      background-color: #E2EBFA;\n",
              "      box-shadow: 0px 1px 2px rgba(60, 64, 67, 0.3), 0px 1px 3px 1px rgba(60, 64, 67, 0.15);\n",
              "      fill: #174EA6;\n",
              "    }\n",
              "\n",
              "    [theme=dark] .colab-df-convert {\n",
              "      background-color: #3B4455;\n",
              "      fill: #D2E3FC;\n",
              "    }\n",
              "\n",
              "    [theme=dark] .colab-df-convert:hover {\n",
              "      background-color: #434B5C;\n",
              "      box-shadow: 0px 1px 3px 1px rgba(0, 0, 0, 0.15);\n",
              "      filter: drop-shadow(0px 1px 2px rgba(0, 0, 0, 0.3));\n",
              "      fill: #FFFFFF;\n",
              "    }\n",
              "  </style>\n",
              "\n",
              "      <script>\n",
              "        const buttonEl =\n",
              "          document.querySelector('#df-ca36853f-e609-45ee-b5aa-f6499dde1b4b button.colab-df-convert');\n",
              "        buttonEl.style.display =\n",
              "          google.colab.kernel.accessAllowed ? 'block' : 'none';\n",
              "\n",
              "        async function convertToInteractive(key) {\n",
              "          const element = document.querySelector('#df-ca36853f-e609-45ee-b5aa-f6499dde1b4b');\n",
              "          const dataTable =\n",
              "            await google.colab.kernel.invokeFunction('convertToInteractive',\n",
              "                                                     [key], {});\n",
              "          if (!dataTable) return;\n",
              "\n",
              "          const docLinkHtml = 'Like what you see? Visit the ' +\n",
              "            '<a target=\"_blank\" href=https://colab.research.google.com/notebooks/data_table.ipynb>data table notebook</a>'\n",
              "            + ' to learn more about interactive tables.';\n",
              "          element.innerHTML = '';\n",
              "          dataTable['output_type'] = 'display_data';\n",
              "          await google.colab.output.renderOutput(dataTable, element);\n",
              "          const docLink = document.createElement('div');\n",
              "          docLink.innerHTML = docLinkHtml;\n",
              "          element.appendChild(docLink);\n",
              "        }\n",
              "      </script>\n",
              "    </div>\n",
              "  </div>\n",
              "  "
            ]
          },
          "metadata": {},
          "execution_count": 8
        }
      ]
    },
    {
      "cell_type": "code",
      "source": [
        "df.shape"
      ],
      "metadata": {
        "colab": {
          "base_uri": "https://localhost:8080/"
        },
        "id": "CjXPCdBIqddD",
        "outputId": "8c05daa8-a9ab-494e-ef3b-b849bd94eae4"
      },
      "execution_count": 9,
      "outputs": [
        {
          "output_type": "execute_result",
          "data": {
            "text/plain": [
              "(218958, 2)"
            ]
          },
          "metadata": {},
          "execution_count": 9
        }
      ]
    },
    {
      "cell_type": "markdown",
      "source": [
        "# 準備 y, X"
      ],
      "metadata": {
        "id": "2k4UV5KFv8mK"
      }
    },
    {
      "cell_type": "markdown",
      "source": [
        "## 準備 y ( 利用condition()挑出 df.topic 中包含 關鍵字 的 df.posts(列) )"
      ],
      "metadata": {
        "id": "BEqXnUeowaFF"
      }
    },
    {
      "cell_type": "markdown",
      "source": [
        "### 準備 df.Target ( asia+china -> china -> asia)"
      ],
      "metadata": {
        "id": "XV5OPsQpxsKh"
      }
    },
    {
      "cell_type": "code",
      "source": [
        "asia_target = ['asian', 'asia', 'korea', 'korean', 'japan', 'japanese', 'taiwan', 'taiwanese', 'hongkong', 'tibet', 'xinjiang']\n",
        "china_target = ['china', 'chinese']"
      ],
      "metadata": {
        "id": "k4iFUb7F94tU"
      },
      "execution_count": 10,
      "outputs": []
    },
    {
      "cell_type": "code",
      "source": [
        "both_target = asia_target + china_target\n",
        "print(both_target)"
      ],
      "metadata": {
        "colab": {
          "base_uri": "https://localhost:8080/"
        },
        "id": "9QqEMOMHMumX",
        "outputId": "ad3f20b9-f22b-4cd4-c8c0-3828df852ded"
      },
      "execution_count": 11,
      "outputs": [
        {
          "output_type": "stream",
          "name": "stdout",
          "text": [
            "['asian', 'asia', 'korea', 'korean', 'japan', 'japanese', 'taiwan', 'taiwanese', 'hongkong', 'tibet', 'xinjiang', 'china', 'chinese']\n"
          ]
        }
      ]
    },
    {
      "cell_type": "code",
      "source": [
        "# Defining all the conditions inside a function\n",
        "def condition(x):\n",
        "    if any( word in x for word in asia_target) and any( word in x for word in china_target): #series.str.contains('Mel').any()\n",
        "        return \"both\"\n",
        "    elif any( word in x for word in asia_target):\n",
        "        return \"asia\"\n",
        "    elif any( word in x for word in china_target):\n",
        "        return \"china\"\n",
        "    else:\n",
        "        return \"other\"\n",
        " \n",
        "# Applying the conditions\n",
        "df['Target'] = df['topic'].apply(condition)\n",
        "df.head(3)"
      ],
      "metadata": {
        "id": "nE1ijjfe9-Pu",
        "colab": {
          "base_uri": "https://localhost:8080/",
          "height": 260
        },
        "outputId": "f5460106-f854-4cda-92a4-174ee588445d"
      },
      "execution_count": 12,
      "outputs": [
        {
          "output_type": "execute_result",
          "data": {
            "text/plain": [
              "                                               topic  \\\n",
              "0    https://www.econjobrumors.com/topic/rbb-or-kari   \n",
              "1  https://www.econjobrumors.com/topic/as-ian-ame...   \n",
              "2  https://www.econjobrumors.com/topic/russia-chi...   \n",
              "\n",
              "                                               posts Target  \n",
              "0  [Whose more of a dishonest cringe dooshbag?, I...  other  \n",
              "1  [https://www.nytimes.com/2022/03/06/nyregion/a...  other  \n",
              "2  [Is this the genius outcome the West was looki...  china  "
            ],
            "text/html": [
              "\n",
              "  <div id=\"df-48eb9297-1bed-499f-9b0f-04135a29fa66\">\n",
              "    <div class=\"colab-df-container\">\n",
              "      <div>\n",
              "<style scoped>\n",
              "    .dataframe tbody tr th:only-of-type {\n",
              "        vertical-align: middle;\n",
              "    }\n",
              "\n",
              "    .dataframe tbody tr th {\n",
              "        vertical-align: top;\n",
              "    }\n",
              "\n",
              "    .dataframe thead th {\n",
              "        text-align: right;\n",
              "    }\n",
              "</style>\n",
              "<table border=\"1\" class=\"dataframe\">\n",
              "  <thead>\n",
              "    <tr style=\"text-align: right;\">\n",
              "      <th></th>\n",
              "      <th>topic</th>\n",
              "      <th>posts</th>\n",
              "      <th>Target</th>\n",
              "    </tr>\n",
              "  </thead>\n",
              "  <tbody>\n",
              "    <tr>\n",
              "      <th>0</th>\n",
              "      <td>https://www.econjobrumors.com/topic/rbb-or-kari</td>\n",
              "      <td>[Whose more of a dishonest cringe dooshbag?, I...</td>\n",
              "      <td>other</td>\n",
              "    </tr>\n",
              "    <tr>\n",
              "      <th>1</th>\n",
              "      <td>https://www.econjobrumors.com/topic/as-ian-ame...</td>\n",
              "      <td>[https://www.nytimes.com/2022/03/06/nyregion/a...</td>\n",
              "      <td>other</td>\n",
              "    </tr>\n",
              "    <tr>\n",
              "      <th>2</th>\n",
              "      <td>https://www.econjobrumors.com/topic/russia-chi...</td>\n",
              "      <td>[Is this the genius outcome the West was looki...</td>\n",
              "      <td>china</td>\n",
              "    </tr>\n",
              "  </tbody>\n",
              "</table>\n",
              "</div>\n",
              "      <button class=\"colab-df-convert\" onclick=\"convertToInteractive('df-48eb9297-1bed-499f-9b0f-04135a29fa66')\"\n",
              "              title=\"Convert this dataframe to an interactive table.\"\n",
              "              style=\"display:none;\">\n",
              "        \n",
              "  <svg xmlns=\"http://www.w3.org/2000/svg\" height=\"24px\"viewBox=\"0 0 24 24\"\n",
              "       width=\"24px\">\n",
              "    <path d=\"M0 0h24v24H0V0z\" fill=\"none\"/>\n",
              "    <path d=\"M18.56 5.44l.94 2.06.94-2.06 2.06-.94-2.06-.94-.94-2.06-.94 2.06-2.06.94zm-11 1L8.5 8.5l.94-2.06 2.06-.94-2.06-.94L8.5 2.5l-.94 2.06-2.06.94zm10 10l.94 2.06.94-2.06 2.06-.94-2.06-.94-.94-2.06-.94 2.06-2.06.94z\"/><path d=\"M17.41 7.96l-1.37-1.37c-.4-.4-.92-.59-1.43-.59-.52 0-1.04.2-1.43.59L10.3 9.45l-7.72 7.72c-.78.78-.78 2.05 0 2.83L4 21.41c.39.39.9.59 1.41.59.51 0 1.02-.2 1.41-.59l7.78-7.78 2.81-2.81c.8-.78.8-2.07 0-2.86zM5.41 20L4 18.59l7.72-7.72 1.47 1.35L5.41 20z\"/>\n",
              "  </svg>\n",
              "      </button>\n",
              "      \n",
              "  <style>\n",
              "    .colab-df-container {\n",
              "      display:flex;\n",
              "      flex-wrap:wrap;\n",
              "      gap: 12px;\n",
              "    }\n",
              "\n",
              "    .colab-df-convert {\n",
              "      background-color: #E8F0FE;\n",
              "      border: none;\n",
              "      border-radius: 50%;\n",
              "      cursor: pointer;\n",
              "      display: none;\n",
              "      fill: #1967D2;\n",
              "      height: 32px;\n",
              "      padding: 0 0 0 0;\n",
              "      width: 32px;\n",
              "    }\n",
              "\n",
              "    .colab-df-convert:hover {\n",
              "      background-color: #E2EBFA;\n",
              "      box-shadow: 0px 1px 2px rgba(60, 64, 67, 0.3), 0px 1px 3px 1px rgba(60, 64, 67, 0.15);\n",
              "      fill: #174EA6;\n",
              "    }\n",
              "\n",
              "    [theme=dark] .colab-df-convert {\n",
              "      background-color: #3B4455;\n",
              "      fill: #D2E3FC;\n",
              "    }\n",
              "\n",
              "    [theme=dark] .colab-df-convert:hover {\n",
              "      background-color: #434B5C;\n",
              "      box-shadow: 0px 1px 3px 1px rgba(0, 0, 0, 0.15);\n",
              "      filter: drop-shadow(0px 1px 2px rgba(0, 0, 0, 0.3));\n",
              "      fill: #FFFFFF;\n",
              "    }\n",
              "  </style>\n",
              "\n",
              "      <script>\n",
              "        const buttonEl =\n",
              "          document.querySelector('#df-48eb9297-1bed-499f-9b0f-04135a29fa66 button.colab-df-convert');\n",
              "        buttonEl.style.display =\n",
              "          google.colab.kernel.accessAllowed ? 'block' : 'none';\n",
              "\n",
              "        async function convertToInteractive(key) {\n",
              "          const element = document.querySelector('#df-48eb9297-1bed-499f-9b0f-04135a29fa66');\n",
              "          const dataTable =\n",
              "            await google.colab.kernel.invokeFunction('convertToInteractive',\n",
              "                                                     [key], {});\n",
              "          if (!dataTable) return;\n",
              "\n",
              "          const docLinkHtml = 'Like what you see? Visit the ' +\n",
              "            '<a target=\"_blank\" href=https://colab.research.google.com/notebooks/data_table.ipynb>data table notebook</a>'\n",
              "            + ' to learn more about interactive tables.';\n",
              "          element.innerHTML = '';\n",
              "          dataTable['output_type'] = 'display_data';\n",
              "          await google.colab.output.renderOutput(dataTable, element);\n",
              "          const docLink = document.createElement('div');\n",
              "          docLink.innerHTML = docLinkHtml;\n",
              "          element.appendChild(docLink);\n",
              "        }\n",
              "      </script>\n",
              "    </div>\n",
              "  </div>\n",
              "  "
            ]
          },
          "metadata": {},
          "execution_count": 12
        }
      ]
    },
    {
      "cell_type": "markdown",
      "source": [
        "### 準備 df.y"
      ],
      "metadata": {
        "id": "shuy5wP8xMEB"
      }
    },
    {
      "cell_type": "code",
      "source": [
        "df = df.drop(df[df['Target'] == 'other'].index)\n",
        "df.head(3)"
      ],
      "metadata": {
        "id": "193R5pYFxzfP",
        "colab": {
          "base_uri": "https://localhost:8080/",
          "height": 240
        },
        "outputId": "996eb75b-4396-4791-a53d-c8b278d17511"
      },
      "execution_count": 13,
      "outputs": [
        {
          "output_type": "execute_result",
          "data": {
            "text/plain": [
              "                                                topic  \\\n",
              "2   https://www.econjobrumors.com/topic/russia-chi...   \n",
              "23  https://www.econjobrumors.com/topic/are-more-t...   \n",
              "44  https://www.econjobrumors.com/topic/reminder-c...   \n",
              "\n",
              "                                                posts Target  \n",
              "2   [Is this the genius outcome the West was looki...  china  \n",
              "23  [Not even accounting for Indians., All the qua...   asia  \n",
              "44                  [Never forget. Never forgive., .]  china  "
            ],
            "text/html": [
              "\n",
              "  <div id=\"df-f6e40a65-1446-4374-a088-691b23932934\">\n",
              "    <div class=\"colab-df-container\">\n",
              "      <div>\n",
              "<style scoped>\n",
              "    .dataframe tbody tr th:only-of-type {\n",
              "        vertical-align: middle;\n",
              "    }\n",
              "\n",
              "    .dataframe tbody tr th {\n",
              "        vertical-align: top;\n",
              "    }\n",
              "\n",
              "    .dataframe thead th {\n",
              "        text-align: right;\n",
              "    }\n",
              "</style>\n",
              "<table border=\"1\" class=\"dataframe\">\n",
              "  <thead>\n",
              "    <tr style=\"text-align: right;\">\n",
              "      <th></th>\n",
              "      <th>topic</th>\n",
              "      <th>posts</th>\n",
              "      <th>Target</th>\n",
              "    </tr>\n",
              "  </thead>\n",
              "  <tbody>\n",
              "    <tr>\n",
              "      <th>2</th>\n",
              "      <td>https://www.econjobrumors.com/topic/russia-chi...</td>\n",
              "      <td>[Is this the genius outcome the West was looki...</td>\n",
              "      <td>china</td>\n",
              "    </tr>\n",
              "    <tr>\n",
              "      <th>23</th>\n",
              "      <td>https://www.econjobrumors.com/topic/are-more-t...</td>\n",
              "      <td>[Not even accounting for Indians., All the qua...</td>\n",
              "      <td>asia</td>\n",
              "    </tr>\n",
              "    <tr>\n",
              "      <th>44</th>\n",
              "      <td>https://www.econjobrumors.com/topic/reminder-c...</td>\n",
              "      <td>[Never forget. Never forgive., .]</td>\n",
              "      <td>china</td>\n",
              "    </tr>\n",
              "  </tbody>\n",
              "</table>\n",
              "</div>\n",
              "      <button class=\"colab-df-convert\" onclick=\"convertToInteractive('df-f6e40a65-1446-4374-a088-691b23932934')\"\n",
              "              title=\"Convert this dataframe to an interactive table.\"\n",
              "              style=\"display:none;\">\n",
              "        \n",
              "  <svg xmlns=\"http://www.w3.org/2000/svg\" height=\"24px\"viewBox=\"0 0 24 24\"\n",
              "       width=\"24px\">\n",
              "    <path d=\"M0 0h24v24H0V0z\" fill=\"none\"/>\n",
              "    <path d=\"M18.56 5.44l.94 2.06.94-2.06 2.06-.94-2.06-.94-.94-2.06-.94 2.06-2.06.94zm-11 1L8.5 8.5l.94-2.06 2.06-.94-2.06-.94L8.5 2.5l-.94 2.06-2.06.94zm10 10l.94 2.06.94-2.06 2.06-.94-2.06-.94-.94-2.06-.94 2.06-2.06.94z\"/><path d=\"M17.41 7.96l-1.37-1.37c-.4-.4-.92-.59-1.43-.59-.52 0-1.04.2-1.43.59L10.3 9.45l-7.72 7.72c-.78.78-.78 2.05 0 2.83L4 21.41c.39.39.9.59 1.41.59.51 0 1.02-.2 1.41-.59l7.78-7.78 2.81-2.81c.8-.78.8-2.07 0-2.86zM5.41 20L4 18.59l7.72-7.72 1.47 1.35L5.41 20z\"/>\n",
              "  </svg>\n",
              "      </button>\n",
              "      \n",
              "  <style>\n",
              "    .colab-df-container {\n",
              "      display:flex;\n",
              "      flex-wrap:wrap;\n",
              "      gap: 12px;\n",
              "    }\n",
              "\n",
              "    .colab-df-convert {\n",
              "      background-color: #E8F0FE;\n",
              "      border: none;\n",
              "      border-radius: 50%;\n",
              "      cursor: pointer;\n",
              "      display: none;\n",
              "      fill: #1967D2;\n",
              "      height: 32px;\n",
              "      padding: 0 0 0 0;\n",
              "      width: 32px;\n",
              "    }\n",
              "\n",
              "    .colab-df-convert:hover {\n",
              "      background-color: #E2EBFA;\n",
              "      box-shadow: 0px 1px 2px rgba(60, 64, 67, 0.3), 0px 1px 3px 1px rgba(60, 64, 67, 0.15);\n",
              "      fill: #174EA6;\n",
              "    }\n",
              "\n",
              "    [theme=dark] .colab-df-convert {\n",
              "      background-color: #3B4455;\n",
              "      fill: #D2E3FC;\n",
              "    }\n",
              "\n",
              "    [theme=dark] .colab-df-convert:hover {\n",
              "      background-color: #434B5C;\n",
              "      box-shadow: 0px 1px 3px 1px rgba(0, 0, 0, 0.15);\n",
              "      filter: drop-shadow(0px 1px 2px rgba(0, 0, 0, 0.3));\n",
              "      fill: #FFFFFF;\n",
              "    }\n",
              "  </style>\n",
              "\n",
              "      <script>\n",
              "        const buttonEl =\n",
              "          document.querySelector('#df-f6e40a65-1446-4374-a088-691b23932934 button.colab-df-convert');\n",
              "        buttonEl.style.display =\n",
              "          google.colab.kernel.accessAllowed ? 'block' : 'none';\n",
              "\n",
              "        async function convertToInteractive(key) {\n",
              "          const element = document.querySelector('#df-f6e40a65-1446-4374-a088-691b23932934');\n",
              "          const dataTable =\n",
              "            await google.colab.kernel.invokeFunction('convertToInteractive',\n",
              "                                                     [key], {});\n",
              "          if (!dataTable) return;\n",
              "\n",
              "          const docLinkHtml = 'Like what you see? Visit the ' +\n",
              "            '<a target=\"_blank\" href=https://colab.research.google.com/notebooks/data_table.ipynb>data table notebook</a>'\n",
              "            + ' to learn more about interactive tables.';\n",
              "          element.innerHTML = '';\n",
              "          dataTable['output_type'] = 'display_data';\n",
              "          await google.colab.output.renderOutput(dataTable, element);\n",
              "          const docLink = document.createElement('div');\n",
              "          docLink.innerHTML = docLinkHtml;\n",
              "          element.appendChild(docLink);\n",
              "        }\n",
              "      </script>\n",
              "    </div>\n",
              "  </div>\n",
              "  "
            ]
          },
          "metadata": {},
          "execution_count": 13
        }
      ]
    },
    {
      "cell_type": "code",
      "source": [
        "df.Target.shape"
      ],
      "metadata": {
        "colab": {
          "base_uri": "https://localhost:8080/"
        },
        "id": "4Q7Pj64MPyzX",
        "outputId": "5aae4a66-e8f8-4beb-c8cc-1222806f28ba"
      },
      "execution_count": 23,
      "outputs": [
        {
          "output_type": "execute_result",
          "data": {
            "text/plain": [
              "(6657,)"
            ]
          },
          "metadata": {},
          "execution_count": 23
        }
      ]
    },
    {
      "cell_type": "code",
      "source": [
        "df.Target[df.Target == 'both'].shape"
      ],
      "metadata": {
        "colab": {
          "base_uri": "https://localhost:8080/"
        },
        "id": "Au09sxdSO3-l",
        "outputId": "08212115-4837-4736-a977-d8029ace5130"
      },
      "execution_count": 24,
      "outputs": [
        {
          "output_type": "execute_result",
          "data": {
            "text/plain": [
              "(253,)"
            ]
          },
          "metadata": {},
          "execution_count": 24
        }
      ]
    },
    {
      "cell_type": "code",
      "source": [
        "df.Target[df.Target == 'china'].shape"
      ],
      "metadata": {
        "colab": {
          "base_uri": "https://localhost:8080/"
        },
        "id": "eYRSqtUnPXxc",
        "outputId": "2257d6e1-fa70-4ae5-dccd-0469c4dc7274"
      },
      "execution_count": 25,
      "outputs": [
        {
          "output_type": "execute_result",
          "data": {
            "text/plain": [
              "(4408,)"
            ]
          },
          "metadata": {},
          "execution_count": 25
        }
      ]
    },
    {
      "cell_type": "code",
      "source": [
        "df.Target[df.Target == 'asia'].shape"
      ],
      "metadata": {
        "colab": {
          "base_uri": "https://localhost:8080/"
        },
        "id": "BhTFzJK-PXhE",
        "outputId": "f7d3645f-8221-4bd2-e8e5-e350a0a286b4"
      },
      "execution_count": 26,
      "outputs": [
        {
          "output_type": "execute_result",
          "data": {
            "text/plain": [
              "(1996,)"
            ]
          },
          "metadata": {},
          "execution_count": 26
        }
      ]
    },
    {
      "cell_type": "code",
      "source": [
        "df.groupby('Target').size()"
      ],
      "metadata": {
        "colab": {
          "base_uri": "https://localhost:8080/"
        },
        "id": "e87UO1K5QVvt",
        "outputId": "79c0b6e3-23b3-473d-c851-aa3b6eb362a3"
      },
      "execution_count": 14,
      "outputs": [
        {
          "output_type": "execute_result",
          "data": {
            "text/plain": [
              "Target\n",
              "asia     1996\n",
              "both      253\n",
              "china    4408\n",
              "dtype: int64"
            ]
          },
          "metadata": {},
          "execution_count": 14
        }
      ]
    },
    {
      "cell_type": "markdown",
      "source": [
        "? Both 要怎麼處理比較好?"
      ],
      "metadata": {
        "id": "IK-ZP8iUrVmV"
      }
    },
    {
      "cell_type": "code",
      "source": [
        "df['y'] = df['Target'].apply(lambda x: 1 if x == 'china' else 0)\n",
        "df.head(3)"
      ],
      "metadata": {
        "id": "EJj96XN--Ddc",
        "colab": {
          "base_uri": "https://localhost:8080/",
          "height": 240
        },
        "outputId": "4ab5a5dd-3f24-4031-eddc-e7e1b05db34e"
      },
      "execution_count": 15,
      "outputs": [
        {
          "output_type": "execute_result",
          "data": {
            "text/plain": [
              "                                                topic  \\\n",
              "2   https://www.econjobrumors.com/topic/russia-chi...   \n",
              "23  https://www.econjobrumors.com/topic/are-more-t...   \n",
              "44  https://www.econjobrumors.com/topic/reminder-c...   \n",
              "\n",
              "                                                posts Target  y  \n",
              "2   [Is this the genius outcome the West was looki...  china  1  \n",
              "23  [Not even accounting for Indians., All the qua...   asia  0  \n",
              "44                  [Never forget. Never forgive., .]  china  1  "
            ],
            "text/html": [
              "\n",
              "  <div id=\"df-46ce2bcf-a7d2-4c85-b408-123c82279877\">\n",
              "    <div class=\"colab-df-container\">\n",
              "      <div>\n",
              "<style scoped>\n",
              "    .dataframe tbody tr th:only-of-type {\n",
              "        vertical-align: middle;\n",
              "    }\n",
              "\n",
              "    .dataframe tbody tr th {\n",
              "        vertical-align: top;\n",
              "    }\n",
              "\n",
              "    .dataframe thead th {\n",
              "        text-align: right;\n",
              "    }\n",
              "</style>\n",
              "<table border=\"1\" class=\"dataframe\">\n",
              "  <thead>\n",
              "    <tr style=\"text-align: right;\">\n",
              "      <th></th>\n",
              "      <th>topic</th>\n",
              "      <th>posts</th>\n",
              "      <th>Target</th>\n",
              "      <th>y</th>\n",
              "    </tr>\n",
              "  </thead>\n",
              "  <tbody>\n",
              "    <tr>\n",
              "      <th>2</th>\n",
              "      <td>https://www.econjobrumors.com/topic/russia-chi...</td>\n",
              "      <td>[Is this the genius outcome the West was looki...</td>\n",
              "      <td>china</td>\n",
              "      <td>1</td>\n",
              "    </tr>\n",
              "    <tr>\n",
              "      <th>23</th>\n",
              "      <td>https://www.econjobrumors.com/topic/are-more-t...</td>\n",
              "      <td>[Not even accounting for Indians., All the qua...</td>\n",
              "      <td>asia</td>\n",
              "      <td>0</td>\n",
              "    </tr>\n",
              "    <tr>\n",
              "      <th>44</th>\n",
              "      <td>https://www.econjobrumors.com/topic/reminder-c...</td>\n",
              "      <td>[Never forget. Never forgive., .]</td>\n",
              "      <td>china</td>\n",
              "      <td>1</td>\n",
              "    </tr>\n",
              "  </tbody>\n",
              "</table>\n",
              "</div>\n",
              "      <button class=\"colab-df-convert\" onclick=\"convertToInteractive('df-46ce2bcf-a7d2-4c85-b408-123c82279877')\"\n",
              "              title=\"Convert this dataframe to an interactive table.\"\n",
              "              style=\"display:none;\">\n",
              "        \n",
              "  <svg xmlns=\"http://www.w3.org/2000/svg\" height=\"24px\"viewBox=\"0 0 24 24\"\n",
              "       width=\"24px\">\n",
              "    <path d=\"M0 0h24v24H0V0z\" fill=\"none\"/>\n",
              "    <path d=\"M18.56 5.44l.94 2.06.94-2.06 2.06-.94-2.06-.94-.94-2.06-.94 2.06-2.06.94zm-11 1L8.5 8.5l.94-2.06 2.06-.94-2.06-.94L8.5 2.5l-.94 2.06-2.06.94zm10 10l.94 2.06.94-2.06 2.06-.94-2.06-.94-.94-2.06-.94 2.06-2.06.94z\"/><path d=\"M17.41 7.96l-1.37-1.37c-.4-.4-.92-.59-1.43-.59-.52 0-1.04.2-1.43.59L10.3 9.45l-7.72 7.72c-.78.78-.78 2.05 0 2.83L4 21.41c.39.39.9.59 1.41.59.51 0 1.02-.2 1.41-.59l7.78-7.78 2.81-2.81c.8-.78.8-2.07 0-2.86zM5.41 20L4 18.59l7.72-7.72 1.47 1.35L5.41 20z\"/>\n",
              "  </svg>\n",
              "      </button>\n",
              "      \n",
              "  <style>\n",
              "    .colab-df-container {\n",
              "      display:flex;\n",
              "      flex-wrap:wrap;\n",
              "      gap: 12px;\n",
              "    }\n",
              "\n",
              "    .colab-df-convert {\n",
              "      background-color: #E8F0FE;\n",
              "      border: none;\n",
              "      border-radius: 50%;\n",
              "      cursor: pointer;\n",
              "      display: none;\n",
              "      fill: #1967D2;\n",
              "      height: 32px;\n",
              "      padding: 0 0 0 0;\n",
              "      width: 32px;\n",
              "    }\n",
              "\n",
              "    .colab-df-convert:hover {\n",
              "      background-color: #E2EBFA;\n",
              "      box-shadow: 0px 1px 2px rgba(60, 64, 67, 0.3), 0px 1px 3px 1px rgba(60, 64, 67, 0.15);\n",
              "      fill: #174EA6;\n",
              "    }\n",
              "\n",
              "    [theme=dark] .colab-df-convert {\n",
              "      background-color: #3B4455;\n",
              "      fill: #D2E3FC;\n",
              "    }\n",
              "\n",
              "    [theme=dark] .colab-df-convert:hover {\n",
              "      background-color: #434B5C;\n",
              "      box-shadow: 0px 1px 3px 1px rgba(0, 0, 0, 0.15);\n",
              "      filter: drop-shadow(0px 1px 2px rgba(0, 0, 0, 0.3));\n",
              "      fill: #FFFFFF;\n",
              "    }\n",
              "  </style>\n",
              "\n",
              "      <script>\n",
              "        const buttonEl =\n",
              "          document.querySelector('#df-46ce2bcf-a7d2-4c85-b408-123c82279877 button.colab-df-convert');\n",
              "        buttonEl.style.display =\n",
              "          google.colab.kernel.accessAllowed ? 'block' : 'none';\n",
              "\n",
              "        async function convertToInteractive(key) {\n",
              "          const element = document.querySelector('#df-46ce2bcf-a7d2-4c85-b408-123c82279877');\n",
              "          const dataTable =\n",
              "            await google.colab.kernel.invokeFunction('convertToInteractive',\n",
              "                                                     [key], {});\n",
              "          if (!dataTable) return;\n",
              "\n",
              "          const docLinkHtml = 'Like what you see? Visit the ' +\n",
              "            '<a target=\"_blank\" href=https://colab.research.google.com/notebooks/data_table.ipynb>data table notebook</a>'\n",
              "            + ' to learn more about interactive tables.';\n",
              "          element.innerHTML = '';\n",
              "          dataTable['output_type'] = 'display_data';\n",
              "          await google.colab.output.renderOutput(dataTable, element);\n",
              "          const docLink = document.createElement('div');\n",
              "          docLink.innerHTML = docLinkHtml;\n",
              "          element.appendChild(docLink);\n",
              "        }\n",
              "      </script>\n",
              "    </div>\n",
              "  </div>\n",
              "  "
            ]
          },
          "metadata": {},
          "execution_count": 15
        }
      ]
    },
    {
      "cell_type": "markdown",
      "source": [
        "### y的視覺化 "
      ],
      "metadata": {
        "id": "C2J40wccy0Gm"
      }
    },
    {
      "cell_type": "code",
      "source": [
        "df.groupby('Target').size().plot(kind = 'pie',\n",
        "                subplots = False,\n",
        "                ylabel = 'Target',\n",
        "                autopct = '%1.0f%%',\n",
        "                title = 'Ratio of labels')"
      ],
      "metadata": {
        "colab": {
          "base_uri": "https://localhost:8080/",
          "height": 281
        },
        "id": "qF6JktofRShm",
        "outputId": "ea6c70ff-814c-4ac8-b8d9-cd52fde14a8e"
      },
      "execution_count": 29,
      "outputs": [
        {
          "output_type": "execute_result",
          "data": {
            "text/plain": [
              "<Axes: title={'center': 'Ratio of labels'}, ylabel='Target'>"
            ]
          },
          "metadata": {},
          "execution_count": 29
        },
        {
          "output_type": "display_data",
          "data": {
            "text/plain": [
              "<Figure size 432x288 with 1 Axes>"
            ],
            "image/png": "[encoded data removed]"
          },
          "metadata": {}
        }
      ]
    },
    {
      "cell_type": "markdown",
      "source": [
        "## 準備 X (做 NLP 前處理， Stemming/Lemmatization)"
      ],
      "metadata": {
        "id": "XvhFBZxZx1Sz"
      }
    },
    {
      "cell_type": "code",
      "source": [
        "import nltk\n",
        "nltk.download('punkt') #this is download for tonkenizer\n",
        "nltk.download('wordnet')  # this is download for lemmatizer\n",
        "nltk.download('stopwords')\n",
        "nltk.download('omw-1.4')  # this is download for lemmatizer"
      ],
      "metadata": {
        "id": "9SdETRGADmUj",
        "colab": {
          "base_uri": "https://localhost:8080/"
        },
        "outputId": "8b8e629d-47f1-415c-ecb9-e1410dfa26f3"
      },
      "execution_count": 16,
      "outputs": [
        {
          "output_type": "stream",
          "name": "stderr",
          "text": [
            "[nltk_data] Downloading package punkt to /root/nltk_data...\n",
            "[nltk_data]   Unzipping tokenizers/punkt.zip.\n",
            "[nltk_data] Downloading package wordnet to /root/nltk_data...\n",
            "[nltk_data] Downloading package stopwords to /root/nltk_data...\n",
            "[nltk_data]   Unzipping corpora/stopwords.zip.\n",
            "[nltk_data] Downloading package omw-1.4 to /root/nltk_data...\n"
          ]
        },
        {
          "output_type": "execute_result",
          "data": {
            "text/plain": [
              "True"
            ]
          },
          "metadata": {},
          "execution_count": 16
        }
      ]
    },
    {
      "cell_type": "code",
      "source": [
        "# 寫 Preprocessor 的 params functions"
      ],
      "metadata": {
        "id": "LVSC_Woxy_LM"
      },
      "execution_count": null,
      "outputs": []
    },
    {
      "cell_type": "code",
      "source": [
        "import string\n",
        "import re\n",
        "from nltk.corpus import stopwords\n",
        "from nltk.corpus import wordnet\n",
        "from nltk.tokenize import word_tokenize\n",
        "from nltk.stem import PorterStemmer\n",
        "from nltk.stem import WordNetLemmatizer\n",
        "\n",
        "# Define a function to preprocess text\n",
        "def preprocess_text(text):\n",
        "  # Lowercase all characters\n",
        "  text = text.lower()\n",
        "\n",
        "  # Remove non-English sentences\n",
        "  pattern = re.compile(r'[^\\x00-\\x7F]+')\n",
        "  text = re.sub(pattern, '', text)\n",
        "\n",
        "  # Remove URLs\n",
        "  text = re.sub(r'https?://\\S+', '', text)\n",
        "\n",
        "  # Remove digits\n",
        "  text = text.translate(str.maketrans('', '', string.digits))\n",
        "\n",
        "  # Remove punctuation\n",
        "  text = text.translate(str.maketrans('', '', string.punctuation))\n",
        "\n",
        "  return text\n",
        "\n",
        "\n",
        "# Define a function to tokenize and remove stopwords from text and stemmer\n",
        "def stemmer_tokenize_and_remove_stopwords(text):\n",
        "  # Tokenize the article\n",
        "  text_tokens = word_tokenize(text)\n",
        "\n",
        "  # Load English stopwords\n",
        "  stop_words = set(stopwords.words('english'))\n",
        "\n",
        "  # Remove stopwords\n",
        "  tokens = [token for token in text_tokens if token not in stop_words]\n",
        "\n",
        "  # Stem the tokens\n",
        "  stemmer = PorterStemmer()\n",
        "  tokens = [stemmer.stem(token) for token in tokens]\n",
        "\n",
        "  return tokens\n",
        "\n",
        "\n",
        "# Define a function to tokenize and remove stopwords from text and lemmatize\n",
        "def lemmatizer_tokenize_and_remove_stopwords(text):\n",
        "  # Tokenize the article\n",
        "  text_tokens = word_tokenize(text)\n",
        "\n",
        "  # Load English stopwords\n",
        "  stop_words = set(stopwords.words('english'))\n",
        "\n",
        "  # Remove stopwords\n",
        "  tokens = [token for token in text_tokens if token not in stop_words]\n",
        "\n",
        "  # Lemmatize the tokens\n",
        "  lemmatizer = WordNetLemmatizer()\n",
        "  tokens = [lemmatizer.lemmatize(token) for token in tokens]\n",
        "\n",
        "  return tokens\n"
      ],
      "metadata": {
        "id": "Npqb55Nyy_nw"
      },
      "execution_count": 17,
      "outputs": []
    },
    {
      "cell_type": "code",
      "source": [
        "## check library\n",
        "import gensim\n",
        "\n",
        "## ignore warnings\n",
        "import warnings\n",
        "warnings.filterwarnings('ignore')\n",
        "\n",
        "# # if you want to see the training messages, you can use it\n",
        "# import logging\n",
        "# logging.basicConfig(format='%(asctime)s : %(levelname)s : %(message)s', level=logging.INFO)\n",
        "\n",
        "## the input type\n",
        "df['stemmed_tokenized'] = df['posts'].apply(lambda x: stemmer_tokenize_and_remove_stopwords(preprocess_text( ' '.join(x) ))) \n",
        "df['lemmatized_tokenized'] = df['posts'].apply(lambda x: lemmatizer_tokenize_and_remove_stopwords(preprocess_text( ' '.join(x) ))) \n",
        "df[['y', 'stemmed_tokenized', 'lemmatized_tokenized']].head(3)"
      ],
      "metadata": {
        "id": "1QTB6ou8D3kZ",
        "colab": {
          "base_uri": "https://localhost:8080/",
          "height": 222
        },
        "outputId": "2f263a45-cdc8-49f8-b4e2-28647b1a7ed9"
      },
      "execution_count": 18,
      "outputs": [
        {
          "output_type": "execute_result",
          "data": {
            "text/plain": [
              "    y                                  stemmed_tokenized  \\\n",
              "2   1  [geniu, outcom, west, look, russian, financ, t...   \n",
              "23  0  [even, account, indian, quant, club, univers, ...   \n",
              "44  1                     [never, forget, never, forgiv]   \n",
              "\n",
              "                                 lemmatized_tokenized  \n",
              "2   [genius, outcome, west, looking, russian, fina...  \n",
              "23  [even, accounting, indian, quant, club, univer...  \n",
              "44                    [never, forget, never, forgive]  "
            ],
            "text/html": [
              "\n",
              "  <div id=\"df-c9130dca-a658-4cec-b953-3f938bdee5d5\">\n",
              "    <div class=\"colab-df-container\">\n",
              "      <div>\n",
              "<style scoped>\n",
              "    .dataframe tbody tr th:only-of-type {\n",
              "        vertical-align: middle;\n",
              "    }\n",
              "\n",
              "    .dataframe tbody tr th {\n",
              "        vertical-align: top;\n",
              "    }\n",
              "\n",
              "    .dataframe thead th {\n",
              "        text-align: right;\n",
              "    }\n",
              "</style>\n",
              "<table border=\"1\" class=\"dataframe\">\n",
              "  <thead>\n",
              "    <tr style=\"text-align: right;\">\n",
              "      <th></th>\n",
              "      <th>y</th>\n",
              "      <th>stemmed_tokenized</th>\n",
              "      <th>lemmatized_tokenized</th>\n",
              "    </tr>\n",
              "  </thead>\n",
              "  <tbody>\n",
              "    <tr>\n",
              "      <th>2</th>\n",
              "      <td>1</td>\n",
              "      <td>[geniu, outcom, west, look, russian, financ, t...</td>\n",
              "      <td>[genius, outcome, west, looking, russian, fina...</td>\n",
              "    </tr>\n",
              "    <tr>\n",
              "      <th>23</th>\n",
              "      <td>0</td>\n",
              "      <td>[even, account, indian, quant, club, univers, ...</td>\n",
              "      <td>[even, accounting, indian, quant, club, univer...</td>\n",
              "    </tr>\n",
              "    <tr>\n",
              "      <th>44</th>\n",
              "      <td>1</td>\n",
              "      <td>[never, forget, never, forgiv]</td>\n",
              "      <td>[never, forget, never, forgive]</td>\n",
              "    </tr>\n",
              "  </tbody>\n",
              "</table>\n",
              "</div>\n",
              "      <button class=\"colab-df-convert\" onclick=\"convertToInteractive('df-c9130dca-a658-4cec-b953-3f938bdee5d5')\"\n",
              "              title=\"Convert this dataframe to an interactive table.\"\n",
              "              style=\"display:none;\">\n",
              "        \n",
              "  <svg xmlns=\"http://www.w3.org/2000/svg\" height=\"24px\"viewBox=\"0 0 24 24\"\n",
              "       width=\"24px\">\n",
              "    <path d=\"M0 0h24v24H0V0z\" fill=\"none\"/>\n",
              "    <path d=\"M18.56 5.44l.94 2.06.94-2.06 2.06-.94-2.06-.94-.94-2.06-.94 2.06-2.06.94zm-11 1L8.5 8.5l.94-2.06 2.06-.94-2.06-.94L8.5 2.5l-.94 2.06-2.06.94zm10 10l.94 2.06.94-2.06 2.06-.94-2.06-.94-.94-2.06-.94 2.06-2.06.94z\"/><path d=\"M17.41 7.96l-1.37-1.37c-.4-.4-.92-.59-1.43-.59-.52 0-1.04.2-1.43.59L10.3 9.45l-7.72 7.72c-.78.78-.78 2.05 0 2.83L4 21.41c.39.39.9.59 1.41.59.51 0 1.02-.2 1.41-.59l7.78-7.78 2.81-2.81c.8-.78.8-2.07 0-2.86zM5.41 20L4 18.59l7.72-7.72 1.47 1.35L5.41 20z\"/>\n",
              "  </svg>\n",
              "      </button>\n",
              "      \n",
              "  <style>\n",
              "    .colab-df-container {\n",
              "      display:flex;\n",
              "      flex-wrap:wrap;\n",
              "      gap: 12px;\n",
              "    }\n",
              "\n",
              "    .colab-df-convert {\n",
              "      background-color: #E8F0FE;\n",
              "      border: none;\n",
              "      border-radius: 50%;\n",
              "      cursor: pointer;\n",
              "      display: none;\n",
              "      fill: #1967D2;\n",
              "      height: 32px;\n",
              "      padding: 0 0 0 0;\n",
              "      width: 32px;\n",
              "    }\n",
              "\n",
              "    .colab-df-convert:hover {\n",
              "      background-color: #E2EBFA;\n",
              "      box-shadow: 0px 1px 2px rgba(60, 64, 67, 0.3), 0px 1px 3px 1px rgba(60, 64, 67, 0.15);\n",
              "      fill: #174EA6;\n",
              "    }\n",
              "\n",
              "    [theme=dark] .colab-df-convert {\n",
              "      background-color: #3B4455;\n",
              "      fill: #D2E3FC;\n",
              "    }\n",
              "\n",
              "    [theme=dark] .colab-df-convert:hover {\n",
              "      background-color: #434B5C;\n",
              "      box-shadow: 0px 1px 3px 1px rgba(0, 0, 0, 0.15);\n",
              "      filter: drop-shadow(0px 1px 2px rgba(0, 0, 0, 0.3));\n",
              "      fill: #FFFFFF;\n",
              "    }\n",
              "  </style>\n",
              "\n",
              "      <script>\n",
              "        const buttonEl =\n",
              "          document.querySelector('#df-c9130dca-a658-4cec-b953-3f938bdee5d5 button.colab-df-convert');\n",
              "        buttonEl.style.display =\n",
              "          google.colab.kernel.accessAllowed ? 'block' : 'none';\n",
              "\n",
              "        async function convertToInteractive(key) {\n",
              "          const element = document.querySelector('#df-c9130dca-a658-4cec-b953-3f938bdee5d5');\n",
              "          const dataTable =\n",
              "            await google.colab.kernel.invokeFunction('convertToInteractive',\n",
              "                                                     [key], {});\n",
              "          if (!dataTable) return;\n",
              "\n",
              "          const docLinkHtml = 'Like what you see? Visit the ' +\n",
              "            '<a target=\"_blank\" href=https://colab.research.google.com/notebooks/data_table.ipynb>data table notebook</a>'\n",
              "            + ' to learn more about interactive tables.';\n",
              "          element.innerHTML = '';\n",
              "          dataTable['output_type'] = 'display_data';\n",
              "          await google.colab.output.renderOutput(dataTable, element);\n",
              "          const docLink = document.createElement('div');\n",
              "          docLink.innerHTML = docLinkHtml;\n",
              "          element.appendChild(docLink);\n",
              "        }\n",
              "      </script>\n",
              "    </div>\n",
              "  </div>\n",
              "  "
            ]
          },
          "metadata": {},
          "execution_count": 18
        }
      ]
    },
    {
      "cell_type": "markdown",
      "source": [
        "## Word2Vec (和 目標字 有關的w2v)"
      ],
      "metadata": {
        "id": "sWbGYJauzD1t"
      }
    },
    {
      "cell_type": "code",
      "source": [
        "from gensim.models import Word2Vec\n",
        "\n",
        "## setting\n",
        "vector_dim = 100\n",
        "window_size = 5\n",
        "min_count = 1\n",
        "training_epochs = 20"
      ],
      "metadata": {
        "id": "x0pkeBl75r-v"
      },
      "execution_count": 34,
      "outputs": []
    },
    {
      "cell_type": "code",
      "source": [
        "gensim.__version__"
      ],
      "metadata": {
        "colab": {
          "base_uri": "https://localhost:8080/",
          "height": 35
        },
        "id": "L3FPWcH1Vg-M",
        "outputId": "31297ec2-e72c-4b27-f176-6bb5963f8293"
      },
      "execution_count": null,
      "outputs": [
        {
          "output_type": "execute_result",
          "data": {
            "text/plain": [
              "'3.6.0'"
            ],
            "application/vnd.google.colaboratory.intrinsic+json": {
              "type": "string"
            }
          },
          "metadata": {},
          "execution_count": 47
        }
      ]
    },
    {
      "cell_type": "code",
      "source": [
        "corpus_lemmatized = df['lemmatized_tokenized'].values\n",
        "corpus_stemmed = df['stemmed_tokenized'].values"
      ],
      "metadata": {
        "id": "_IqeU3UOVLLb"
      },
      "execution_count": 35,
      "outputs": []
    },
    {
      "cell_type": "code",
      "source": [
        "topn = 10"
      ],
      "metadata": {
        "id": "lz3jMSYwcp60"
      },
      "execution_count": 36,
      "outputs": []
    },
    {
      "cell_type": "code",
      "source": [
        "## model\n",
        "word2vec_lemmatized = Word2Vec(sentences=corpus_lemmatized, size=vector_dim) \n",
        "#, window=window_size, min_count=min_count, epochs=training_epochs)\n",
        "\n",
        "# Get the most similar words\n",
        "for word in both_target:\n",
        "  print(word)\n",
        "  print(pd.DataFrame(word2vec_lemmatized.wv.most_similar(word, topn=topn), columns=['Word', 'Sims']).head())\n",
        "  print('-------')"
      ],
      "metadata": {
        "id": "vuGPn6e7FjD0",
        "colab": {
          "base_uri": "https://localhost:8080/"
        },
        "outputId": "c5c58e00-277a-41a9-a50e-7d263c4aedea"
      },
      "execution_count": 37,
      "outputs": [
        {
          "output_type": "stream",
          "name": "stdout",
          "text": [
            "asian\n",
            "             Word      Sims\n",
            "0            azns  0.742632\n",
            "1           white  0.738213\n",
            "2   discriminated  0.735266\n",
            "3             azn  0.727110\n",
            "4  asianamericans  0.723568\n",
            "-------\n",
            "asia\n",
            "        Word      Sims\n",
            "0      coast  0.743176\n",
            "1     africa  0.740554\n",
            "2  turkestan  0.739789\n",
            "3  continent  0.727882\n",
            "4  southeast  0.726559\n",
            "-------\n",
            "korea\n",
            "        Word      Sims\n",
            "0     dakota  0.833116\n",
            "1       racm  0.789976\n",
            "2   carolina  0.723521\n",
            "3  absorbing  0.712165\n",
            "4        sea  0.709048\n",
            "-------\n",
            "korean\n",
            "         Word      Sims\n",
            "0    japanese  0.790914\n",
            "1  vietnamese  0.727459\n",
            "2       anime  0.664929\n",
            "3     rooftop  0.639541\n",
            "4    relegate  0.633234\n",
            "-------\n",
            "japan\n",
            "          Word      Sims\n",
            "0         buts  0.735450\n",
            "1      jakarta  0.731506\n",
            "2  playstation  0.717228\n",
            "3        north  0.717144\n",
            "4        south  0.713752\n",
            "-------\n",
            "japanese\n",
            "         Word      Sims\n",
            "0      korean  0.790914\n",
            "1      german  0.757607\n",
            "2  vietnamese  0.734235\n",
            "3       anime  0.716392\n",
            "4    alphabet  0.680953\n",
            "-------\n",
            "taiwan\n",
            "           Word      Sims\n",
            "0       prchina  0.806609\n",
            "1            tw  0.794259\n",
            "2            hk  0.792776\n",
            "3  independence  0.774948\n",
            "4   independent  0.759491\n",
            "-------\n",
            "taiwanese\n",
            "          Word      Sims\n",
            "0        hkers  0.867586\n",
            "1     mainland  0.795936\n",
            "2  mainlanders  0.769355\n",
            "3      prchina  0.756396\n",
            "4           tw  0.735029\n",
            "-------\n",
            "hongkong\n",
            "       Word      Sims\n",
            "0    kinmen  0.900916\n",
            "1     facto  0.891441\n",
            "2   annexed  0.889085\n",
            "3     macao  0.885321\n",
            "4  airspace  0.884799\n",
            "-------\n",
            "tibet\n",
            "           Word      Sims\n",
            "0  independence  0.921346\n",
            "1       qinghai  0.874562\n",
            "2         facto  0.849201\n",
            "3            de  0.846460\n",
            "4      mongolia  0.839171\n",
            "-------\n",
            "xinjiang\n",
            "        Word      Sims\n",
            "0       lama  0.833668\n",
            "1    qinghai  0.831887\n",
            "2    protest  0.820168\n",
            "3  tiananmen  0.817663\n",
            "4      dalai  0.812364\n",
            "-------\n",
            "china\n",
            "          Word      Sims\n",
            "0     recovers  0.670621\n",
            "1           eu  0.616643\n",
            "2  chinarussia  0.607839\n",
            "3         ally  0.592630\n",
            "4       invade  0.592273\n",
            "-------\n",
            "chinese\n",
            "            Word      Sims\n",
            "0      taiwanese  0.579595\n",
            "1       ordinary  0.577251\n",
            "2         fellow  0.573433\n",
            "3  indoctrinated  0.556736\n",
            "4    mainlanders  0.549567\n",
            "-------\n"
          ]
        }
      ]
    },
    {
      "cell_type": "code",
      "source": [
        "## model\n",
        "word2vec_stemmed = Word2Vec(sentences=corpus_stemmed, size=vector_dim) \n",
        "#, window=window_size, min_count=min_count, epochs=training_epochs)\n",
        "\n",
        "# Because the corpus are stemmed, so my key  words also need to be stemmed\n",
        "stemmer = PorterStemmer()\n",
        "\n",
        "# Get the most similar words\n",
        "for word in both_target:\n",
        "  print(word)\n",
        "  print(pd.DataFrame(word2vec_stemmed.wv.most_similar( stemmer.stem(word), topn=topn), columns=['Word', 'Sims']).head())\n",
        "  print('-------')"
      ],
      "metadata": {
        "colab": {
          "base_uri": "https://localhost:8080/"
        },
        "id": "i00giiwFX5Mp",
        "outputId": "db3d703f-5aed-43af-f9ce-9b5530ea80c0"
      },
      "execution_count": 38,
      "outputs": [
        {
          "output_type": "stream",
          "name": "stdout",
          "text": [
            "asian\n",
            "            Word      Sims\n",
            "0            azn  0.753271\n",
            "1  asianamerican  0.729429\n",
            "2         hispan  0.690721\n",
            "3          white  0.688823\n",
            "4          whyte  0.684244\n",
            "-------\n",
            "asia\n",
            "        Word      Sims\n",
            "0  southeast  0.740897\n",
            "1      coast  0.724076\n",
            "2     africa  0.716428\n",
            "3  turkestan  0.710794\n",
            "4      middl  0.682531\n",
            "-------\n",
            "korea\n",
            "       Word      Sims\n",
            "0    dakota  0.797821\n",
            "1      racm  0.745077\n",
            "2       sea  0.692496\n",
            "3  carolina  0.685464\n",
            "4        sk  0.651708\n",
            "-------\n",
            "korean\n",
            "        Word      Sims\n",
            "0    japanes  0.739704\n",
            "1  vietnames  0.701383\n",
            "2       racm  0.581422\n",
            "3      korea  0.569096\n",
            "4  popcultur  0.564451\n",
            "-------\n",
            "japan\n",
            "     Word      Sims\n",
            "0   north  0.694120\n",
            "1      sk  0.691655\n",
            "2  skorea  0.678523\n",
            "3   south  0.669943\n",
            "4  sankyo  0.661711\n",
            "-------\n",
            "japanese\n",
            "        Word      Sims\n",
            "0     korean  0.739704\n",
            "1  vietnames  0.706698\n",
            "2     german  0.691044\n",
            "3      hanja  0.644969\n",
            "4        hst  0.635503\n",
            "-------\n",
            "taiwan\n",
            "       Word      Sims\n",
            "0   prchina  0.765010\n",
            "1  independ  0.760901\n",
            "2        tw  0.740273\n",
            "3        hk  0.736930\n",
            "4  hongkong  0.720651\n",
            "-------\n",
            "taiwanese\n",
            "       Word      Sims\n",
            "0      hker  0.834507\n",
            "1  mainland  0.826479\n",
            "2   prchina  0.758492\n",
            "3    terrif  0.757091\n",
            "4        tw  0.727466\n",
            "-------\n",
            "hongkong\n",
            "      Word      Sims\n",
            "0  airspac  0.885167\n",
            "1    annex  0.884096\n",
            "2    facto  0.875496\n",
            "3     exil  0.872599\n",
            "4       tw  0.871603\n",
            "-------\n",
            "tibet\n",
            "        Word      Sims\n",
            "0      facto  0.838401\n",
            "1   hongkong  0.822279\n",
            "2        roc  0.822185\n",
            "3         de  0.815224\n",
            "4  territori  0.802165\n",
            "-------\n",
            "xinjiang\n",
            "        Word      Sims\n",
            "0  tiananmen  0.852513\n",
            "1      squar  0.831267\n",
            "2    protest  0.827507\n",
            "3       lama  0.803875\n",
            "4      dalai  0.792377\n",
            "-------\n",
            "china\n",
            "        Word      Sims\n",
            "0       alli  0.593427\n",
            "1         eu  0.578386\n",
            "2   sanction  0.575975\n",
            "3     taiwan  0.573481\n",
            "4  territori  0.573301\n",
            "-------\n",
            "chinese\n",
            "        Word      Sims\n",
            "0   ordinari  0.611204\n",
            "1   taiwanes  0.581730\n",
            "2  nonchines  0.541875\n",
            "3  brainwash  0.536316\n",
            "4    waaaaah  0.527841\n",
            "-------\n"
          ]
        }
      ]
    },
    {
      "cell_type": "markdown",
      "source": [
        "## 得到經過 CountVectorizer 的 BOW"
      ],
      "metadata": {
        "id": "Af9vyCgO1UMi"
      }
    },
    {
      "cell_type": "code",
      "source": [
        "from sklearn.feature_extraction.text import CountVectorizer\n",
        "\n",
        "# I've have the tokens, so i pass dummy function in cv.\n",
        "def dummy(doc):\n",
        "    return doc\n",
        "\n",
        "# Create a matrix using CountVectorizer\n",
        "vectorizer = CountVectorizer(preprocessor = dummy, \n",
        "            tokenizer = dummy, \n",
        "            strip_accents = 'ascii',\n",
        "            max_features = 10000)"
      ],
      "metadata": {
        "id": "xFRhyW0pEz_8"
      },
      "execution_count": 19,
      "outputs": []
    },
    {
      "cell_type": "markdown",
      "source": [
        "## 將 目標字 移出 BOW"
      ],
      "metadata": {
        "id": "N7MjNQAi5c0M"
      }
    },
    {
      "cell_type": "code",
      "source": [
        "# Defining all the conditions inside a function\n",
        "def remove_target(x):\n",
        "  return [word for word in x if word not in (asia_target + china_target)]\n",
        "\n",
        "# Applying the conditions\n",
        "df['lemmatized_cleaned'] = df['lemmatized_tokenized'].apply(remove_target)\n",
        "df['stemmed_cleaned'] = df['stemmed_tokenized'].apply(remove_target)\n",
        "df.head(3)"
      ],
      "metadata": {
        "id": "dqNOD5tD5rNT",
        "colab": {
          "base_uri": "https://localhost:8080/",
          "height": 433
        },
        "outputId": "39766162-a5dd-4e94-a643-b210c24746ed"
      },
      "execution_count": 20,
      "outputs": [
        {
          "output_type": "execute_result",
          "data": {
            "text/plain": [
              "                                                topic  \\\n",
              "2   https://www.econjobrumors.com/topic/russia-chi...   \n",
              "23  https://www.econjobrumors.com/topic/are-more-t...   \n",
              "44  https://www.econjobrumors.com/topic/reminder-c...   \n",
              "\n",
              "                                                posts Target  y  \\\n",
              "2   [Is this the genius outcome the West was looki...  china  1   \n",
              "23  [Not even accounting for Indians., All the qua...   asia  0   \n",
              "44                  [Never forget. Never forgive., .]  china  1   \n",
              "\n",
              "                                    stemmed_tokenized  \\\n",
              "2   [geniu, outcom, west, look, russian, financ, t...   \n",
              "23  [even, account, indian, quant, club, univers, ...   \n",
              "44                     [never, forget, never, forgiv]   \n",
              "\n",
              "                                 lemmatized_tokenized  \\\n",
              "2   [genius, outcome, west, looking, russian, fina...   \n",
              "23  [even, accounting, indian, quant, club, univer...   \n",
              "44                    [never, forget, never, forgive]   \n",
              "\n",
              "                                   lemmatized_cleaned  \\\n",
              "2   [genius, outcome, west, looking, russian, fina...   \n",
              "23  [even, accounting, indian, quant, club, univer...   \n",
              "44                    [never, forget, never, forgive]   \n",
              "\n",
              "                                      stemmed_cleaned  \n",
              "2   [geniu, outcom, west, look, russian, financ, t...  \n",
              "23  [even, account, indian, quant, club, univers, ...  \n",
              "44                     [never, forget, never, forgiv]  "
            ],
            "text/html": [
              "\n",
              "  <div id=\"df-62a56e7e-da44-4d94-8405-f9ecb6d69026\">\n",
              "    <div class=\"colab-df-container\">\n",
              "      <div>\n",
              "<style scoped>\n",
              "    .dataframe tbody tr th:only-of-type {\n",
              "        vertical-align: middle;\n",
              "    }\n",
              "\n",
              "    .dataframe tbody tr th {\n",
              "        vertical-align: top;\n",
              "    }\n",
              "\n",
              "    .dataframe thead th {\n",
              "        text-align: right;\n",
              "    }\n",
              "</style>\n",
              "<table border=\"1\" class=\"dataframe\">\n",
              "  <thead>\n",
              "    <tr style=\"text-align: right;\">\n",
              "      <th></th>\n",
              "      <th>topic</th>\n",
              "      <th>posts</th>\n",
              "      <th>Target</th>\n",
              "      <th>y</th>\n",
              "      <th>stemmed_tokenized</th>\n",
              "      <th>lemmatized_tokenized</th>\n",
              "      <th>lemmatized_cleaned</th>\n",
              "      <th>stemmed_cleaned</th>\n",
              "    </tr>\n",
              "  </thead>\n",
              "  <tbody>\n",
              "    <tr>\n",
              "      <th>2</th>\n",
              "      <td>https://www.econjobrumors.com/topic/russia-chi...</td>\n",
              "      <td>[Is this the genius outcome the West was looki...</td>\n",
              "      <td>china</td>\n",
              "      <td>1</td>\n",
              "      <td>[geniu, outcom, west, look, russian, financ, t...</td>\n",
              "      <td>[genius, outcome, west, looking, russian, fina...</td>\n",
              "      <td>[genius, outcome, west, looking, russian, fina...</td>\n",
              "      <td>[geniu, outcom, west, look, russian, financ, t...</td>\n",
              "    </tr>\n",
              "    <tr>\n",
              "      <th>23</th>\n",
              "      <td>https://www.econjobrumors.com/topic/are-more-t...</td>\n",
              "      <td>[Not even accounting for Indians., All the qua...</td>\n",
              "      <td>asia</td>\n",
              "      <td>0</td>\n",
              "      <td>[even, account, indian, quant, club, univers, ...</td>\n",
              "      <td>[even, accounting, indian, quant, club, univer...</td>\n",
              "      <td>[even, accounting, indian, quant, club, univer...</td>\n",
              "      <td>[even, account, indian, quant, club, univers, ...</td>\n",
              "    </tr>\n",
              "    <tr>\n",
              "      <th>44</th>\n",
              "      <td>https://www.econjobrumors.com/topic/reminder-c...</td>\n",
              "      <td>[Never forget. Never forgive., .]</td>\n",
              "      <td>china</td>\n",
              "      <td>1</td>\n",
              "      <td>[never, forget, never, forgiv]</td>\n",
              "      <td>[never, forget, never, forgive]</td>\n",
              "      <td>[never, forget, never, forgive]</td>\n",
              "      <td>[never, forget, never, forgiv]</td>\n",
              "    </tr>\n",
              "  </tbody>\n",
              "</table>\n",
              "</div>\n",
              "      <button class=\"colab-df-convert\" onclick=\"convertToInteractive('df-62a56e7e-da44-4d94-8405-f9ecb6d69026')\"\n",
              "              title=\"Convert this dataframe to an interactive table.\"\n",
              "              style=\"display:none;\">\n",
              "        \n",
              "  <svg xmlns=\"http://www.w3.org/2000/svg\" height=\"24px\"viewBox=\"0 0 24 24\"\n",
              "       width=\"24px\">\n",
              "    <path d=\"M0 0h24v24H0V0z\" fill=\"none\"/>\n",
              "    <path d=\"M18.56 5.44l.94 2.06.94-2.06 2.06-.94-2.06-.94-.94-2.06-.94 2.06-2.06.94zm-11 1L8.5 8.5l.94-2.06 2.06-.94-2.06-.94L8.5 2.5l-.94 2.06-2.06.94zm10 10l.94 2.06.94-2.06 2.06-.94-2.06-.94-.94-2.06-.94 2.06-2.06.94z\"/><path d=\"M17.41 7.96l-1.37-1.37c-.4-.4-.92-.59-1.43-.59-.52 0-1.04.2-1.43.59L10.3 9.45l-7.72 7.72c-.78.78-.78 2.05 0 2.83L4 21.41c.39.39.9.59 1.41.59.51 0 1.02-.2 1.41-.59l7.78-7.78 2.81-2.81c.8-.78.8-2.07 0-2.86zM5.41 20L4 18.59l7.72-7.72 1.47 1.35L5.41 20z\"/>\n",
              "  </svg>\n",
              "      </button>\n",
              "      \n",
              "  <style>\n",
              "    .colab-df-container {\n",
              "      display:flex;\n",
              "      flex-wrap:wrap;\n",
              "      gap: 12px;\n",
              "    }\n",
              "\n",
              "    .colab-df-convert {\n",
              "      background-color: #E8F0FE;\n",
              "      border: none;\n",
              "      border-radius: 50%;\n",
              "      cursor: pointer;\n",
              "      display: none;\n",
              "      fill: #1967D2;\n",
              "      height: 32px;\n",
              "      padding: 0 0 0 0;\n",
              "      width: 32px;\n",
              "    }\n",
              "\n",
              "    .colab-df-convert:hover {\n",
              "      background-color: #E2EBFA;\n",
              "      box-shadow: 0px 1px 2px rgba(60, 64, 67, 0.3), 0px 1px 3px 1px rgba(60, 64, 67, 0.15);\n",
              "      fill: #174EA6;\n",
              "    }\n",
              "\n",
              "    [theme=dark] .colab-df-convert {\n",
              "      background-color: #3B4455;\n",
              "      fill: #D2E3FC;\n",
              "    }\n",
              "\n",
              "    [theme=dark] .colab-df-convert:hover {\n",
              "      background-color: #434B5C;\n",
              "      box-shadow: 0px 1px 3px 1px rgba(0, 0, 0, 0.15);\n",
              "      filter: drop-shadow(0px 1px 2px rgba(0, 0, 0, 0.3));\n",
              "      fill: #FFFFFF;\n",
              "    }\n",
              "  </style>\n",
              "\n",
              "      <script>\n",
              "        const buttonEl =\n",
              "          document.querySelector('#df-62a56e7e-da44-4d94-8405-f9ecb6d69026 button.colab-df-convert');\n",
              "        buttonEl.style.display =\n",
              "          google.colab.kernel.accessAllowed ? 'block' : 'none';\n",
              "\n",
              "        async function convertToInteractive(key) {\n",
              "          const element = document.querySelector('#df-62a56e7e-da44-4d94-8405-f9ecb6d69026');\n",
              "          const dataTable =\n",
              "            await google.colab.kernel.invokeFunction('convertToInteractive',\n",
              "                                                     [key], {});\n",
              "          if (!dataTable) return;\n",
              "\n",
              "          const docLinkHtml = 'Like what you see? Visit the ' +\n",
              "            '<a target=\"_blank\" href=https://colab.research.google.com/notebooks/data_table.ipynb>data table notebook</a>'\n",
              "            + ' to learn more about interactive tables.';\n",
              "          element.innerHTML = '';\n",
              "          dataTable['output_type'] = 'display_data';\n",
              "          await google.colab.output.renderOutput(dataTable, element);\n",
              "          const docLink = document.createElement('div');\n",
              "          docLink.innerHTML = docLinkHtml;\n",
              "          element.appendChild(docLink);\n",
              "        }\n",
              "      </script>\n",
              "    </div>\n",
              "  </div>\n",
              "  "
            ]
          },
          "metadata": {},
          "execution_count": 20
        }
      ]
    },
    {
      "cell_type": "markdown",
      "source": [
        "## 得到 lemmatized 或 stemmed 的 X"
      ],
      "metadata": {
        "id": "ltdIYdqWDaMg"
      }
    },
    {
      "cell_type": "code",
      "source": [
        "lemmatized_matrix = vectorizer.fit_transform(df['lemmatized_cleaned'])\n",
        "\n",
        "# Print the matrix\n",
        "print(lemmatized_matrix.toarray())"
      ],
      "metadata": {
        "colab": {
          "base_uri": "https://localhost:8080/"
        },
        "id": "jaz8F2RrCTIy",
        "outputId": "cf72ae9f-7a52-43cf-bfab-62969232cfef"
      },
      "execution_count": 22,
      "outputs": [
        {
          "output_type": "stream",
          "name": "stdout",
          "text": [
            "[[0 0 0 ... 0 0 0]\n",
            " [0 0 0 ... 0 0 0]\n",
            " [0 0 0 ... 0 0 0]\n",
            " ...\n",
            " [0 0 0 ... 0 0 0]\n",
            " [0 0 0 ... 0 0 0]\n",
            " [0 0 0 ... 0 0 0]]\n"
          ]
        }
      ]
    },
    {
      "cell_type": "code",
      "source": [
        "print(lemmatized_matrix.toarray().shape)"
      ],
      "metadata": {
        "colab": {
          "base_uri": "https://localhost:8080/"
        },
        "id": "mTlKl87wu2BM",
        "outputId": "98759aaa-3901-4a71-c42a-4556649522f0"
      },
      "execution_count": 23,
      "outputs": [
        {
          "output_type": "stream",
          "name": "stdout",
          "text": [
            "(6657, 10000)\n"
          ]
        }
      ]
    },
    {
      "cell_type": "code",
      "source": [
        "stemmed_matrix = vectorizer.fit_transform(df['stemmed_cleaned'])\n",
        "\n",
        "# Print the matrix\n",
        "print(stemmed_matrix.toarray())"
      ],
      "metadata": {
        "colab": {
          "base_uri": "https://localhost:8080/"
        },
        "id": "dK0wwaaSDpxU",
        "outputId": "d2c907fd-e109-4e3d-d824-bbe2c87b3d67"
      },
      "execution_count": 21,
      "outputs": [
        {
          "output_type": "stream",
          "name": "stdout",
          "text": [
            "[[0 0 0 ... 0 0 0]\n",
            " [0 0 0 ... 0 0 0]\n",
            " [0 0 0 ... 0 0 0]\n",
            " ...\n",
            " [0 0 0 ... 0 0 0]\n",
            " [0 0 0 ... 0 0 0]\n",
            " [0 0 0 ... 0 0 0]]\n"
          ]
        }
      ]
    },
    {
      "cell_type": "code",
      "source": [
        "print(stemmed_matrix.toarray().shape)"
      ],
      "metadata": {
        "colab": {
          "base_uri": "https://localhost:8080/"
        },
        "id": "WZj6dwIGu9eF",
        "outputId": "001d86c4-40be-47d7-e902-36750af395e7"
      },
      "execution_count": 24,
      "outputs": [
        {
          "output_type": "stream",
          "name": "stdout",
          "text": [
            "(6657, 10000)\n"
          ]
        }
      ]
    },
    {
      "cell_type": "markdown",
      "source": [
        "df.Target.shape = 6657"
      ],
      "metadata": {
        "id": "QKYt77scvU_S"
      }
    },
    {
      "cell_type": "markdown",
      "source": [
        "# 真正要跑的部分"
      ],
      "metadata": {
        "id": "71qHsSid7jEE"
      }
    },
    {
      "cell_type": "markdown",
      "source": [
        "說點什麼"
      ],
      "metadata": {
        "id": "UR6s_zgY8Piv"
      }
    },
    {
      "cell_type": "markdown",
      "source": [
        "## 先跑一次 Lasso，將非零的字詞當作 DoubleML 中的 Treatment"
      ],
      "metadata": {
        "id": "cTOy2_4b7po0"
      }
    },
    {
      "cell_type": "code",
      "source": [
        "from sklearn.linear_model import LassoCV\n",
        "\n",
        "clf = LassoCV()\n",
        "clf.fit(lemmatized_matrix, df.y)\n",
        "print(clf.coef_[:10])"
      ],
      "metadata": {
        "id": "iAQyEtBn8Ocs",
        "colab": {
          "base_uri": "https://localhost:8080/"
        },
        "outputId": "a0421037-e5ab-44bb-92ca-887a6b8244f8"
      },
      "execution_count": 26,
      "outputs": [
        {
          "output_type": "stream",
          "name": "stdout",
          "text": [
            "[-0.  0. -0. -0. -0.  0. -0.  0.  0. -0.]\n"
          ]
        }
      ]
    },
    {
      "cell_type": "code",
      "source": [
        "lemmatized_lasso_coef = clf.coef_\n",
        "lemmatized_D = clf.coef_[clf.coef_!=0]\n",
        "print(len(lemmatized_D))"
      ],
      "metadata": {
        "id": "OxvDo4yXEXNS",
        "colab": {
          "base_uri": "https://localhost:8080/"
        },
        "outputId": "f7a9245f-4c79-41d4-8f34-c6665f4256e1"
      },
      "execution_count": 27,
      "outputs": [
        {
          "output_type": "stream",
          "name": "stdout",
          "text": [
            "0\n"
          ]
        }
      ]
    },
    {
      "cell_type": "code",
      "source": [
        "vectorizer.get_feature_names_out()[clf.coef_!=0]"
      ],
      "metadata": {
        "colab": {
          "base_uri": "https://localhost:8080/"
        },
        "id": "64l6j07RZze_",
        "outputId": "a63619f3-cd32-451d-db9b-bc0df32f634f"
      },
      "execution_count": 51,
      "outputs": [
        {
          "output_type": "execute_result",
          "data": {
            "text/plain": [
              "array(['advers', 'africanamerican', 'angri', 'az', 'bastard', 'biologist',\n",
              "       'bodybuild', 'cent', 'chino', 'chinq', 'comprehens', 'data',\n",
              "       'decor', 'dementia', 'deter', 'dl', 'entrepreneur', 'equiti',\n",
              "       'faulti', 'g', 'gain', 'graham', 'hahahaha', 'handl', 'happier',\n",
              "       'hidden', 'hors', 'hype', 'ihr', 'implant', 'insensit', 'iran',\n",
              "       'karl', 'kisdi', 'lead', 'lebanon', 'lesotho', 'less', 'mainland',\n",
              "       'matthew', 'mcdonald', 'menac', 'mill', 'mindset', 'missil',\n",
              "       'oecd', 'pen', 'perri', 'polyu', 'predominantli', 'present',\n",
              "       'recogniz', 'reconfigur', 'regim', 'resettl', 'selfcensorship',\n",
              "       'septemb', 'situat', 'somali', 'sputnik', 'statesponsor', 'sux',\n",
              "       'theyd', 'toxic', 'true', 'twist', 'uniqlo', 'vil', 'warhead',\n",
              "       'wat', 'wb', 'winwin', 'writer', 'wth', 'wut', 'xiamen', 'xt',\n",
              "       'yanke', 'yllw', 'zhinah'], dtype=object)"
            ]
          },
          "metadata": {},
          "execution_count": 51
        }
      ]
    },
    {
      "cell_type": "code",
      "source": [
        "from sklearn.linear_model import LassoCV\n",
        "\n",
        "clf = LassoCV()\n",
        "clf.fit(stemmed_matrix, df.y)\n",
        "print(clf.coef_[:10])"
      ],
      "metadata": {
        "colab": {
          "base_uri": "https://localhost:8080/"
        },
        "id": "K56xQ0ORvcNo",
        "outputId": "696c4cee-9f30-4c5d-dc55-b3c8ceb9e826"
      },
      "execution_count": 28,
      "outputs": [
        {
          "output_type": "stream",
          "name": "stdout",
          "text": [
            "[-0. -0.  0.  0. -0. -0. -0.  0. -0. -0.]\n"
          ]
        }
      ]
    },
    {
      "cell_type": "code",
      "source": [
        "stemmed_lasso_coef = clf.coef_\n",
        "stemmed_D = clf.coef_[clf.coef_!=0]\n",
        "print(len(clf.coef_[clf.coef_!=0]))"
      ],
      "metadata": {
        "colab": {
          "base_uri": "https://localhost:8080/"
        },
        "id": "C-GYzrhHctB5",
        "outputId": "faff39b9-33f3-4edd-8fa3-3b3324936cf5"
      },
      "execution_count": 29,
      "outputs": [
        {
          "output_type": "stream",
          "name": "stdout",
          "text": [
            "97\n"
          ]
        }
      ]
    },
    {
      "cell_type": "code",
      "source": [
        "stemmed_D = vectorizer.get_feature_names_out()[clf.coef_!=0]"
      ],
      "metadata": {
        "id": "oV5p8mNoctku"
      },
      "execution_count": 35,
      "outputs": []
    },
    {
      "cell_type": "markdown",
      "source": [
        "## 跑 DoubleML (根據上面得到的 Treatment 和 Control)"
      ],
      "metadata": {
        "id": "U3OzyZFg79mY"
      }
    },
    {
      "cell_type": "code",
      "source": [
        "!pip install -U DoubleML"
      ],
      "metadata": {
        "id": "LyiYZdfp8Nqs",
        "colab": {
          "base_uri": "https://localhost:8080/"
        },
        "outputId": "319ec6ad-5ba5-4752-c7f9-90e20f7a900f"
      },
      "execution_count": 31,
      "outputs": [
        {
          "output_type": "stream",
          "name": "stdout",
          "text": [
            "Looking in indexes: https://pypi.org/simple, https://us-python.pkg.dev/colab-wheels/public/simple/\n",
            "Collecting DoubleML\n",
            "  Downloading DoubleML-0.5.2-py3-none-any.whl (126 kB)\n",
            "\u001b[2K     \u001b[90m━━━━━━━━━━━━━━━━━━━━━━━━━━━━━━━━━━━━━━━\u001b[0m \u001b[32m126.4/126.4 KB\u001b[0m \u001b[31m5.3 MB/s\u001b[0m eta \u001b[36m0:00:00\u001b[0m\n",
            "\u001b[?25hRequirement already satisfied: scikit-learn in /usr/local/lib/python3.9/dist-packages (from DoubleML) (1.2.2)\n",
            "Requirement already satisfied: joblib in /usr/local/lib/python3.9/dist-packages (from DoubleML) (1.1.1)\n",
            "Requirement already satisfied: numpy in /usr/local/lib/python3.9/dist-packages (from DoubleML) (1.22.4)\n",
            "Requirement already satisfied: scipy in /usr/local/lib/python3.9/dist-packages (from DoubleML) (1.10.1)\n",
            "Requirement already satisfied: pandas in /usr/local/lib/python3.9/dist-packages (from DoubleML) (1.4.4)\n",
            "Requirement already satisfied: statsmodels in /usr/local/lib/python3.9/dist-packages (from DoubleML) (0.13.5)\n",
            "Requirement already satisfied: python-dateutil>=2.8.1 in /usr/local/lib/python3.9/dist-packages (from pandas->DoubleML) (2.8.2)\n",
            "Requirement already satisfied: pytz>=2020.1 in /usr/local/lib/python3.9/dist-packages (from pandas->DoubleML) (2022.7.1)\n",
            "Requirement already satisfied: threadpoolctl>=2.0.0 in /usr/local/lib/python3.9/dist-packages (from scikit-learn->DoubleML) (3.1.0)\n",
            "Requirement already satisfied: patsy>=0.5.2 in /usr/local/lib/python3.9/dist-packages (from statsmodels->DoubleML) (0.5.3)\n",
            "Requirement already satisfied: packaging>=21.3 in /usr/local/lib/python3.9/dist-packages (from statsmodels->DoubleML) (23.0)\n",
            "Requirement already satisfied: six in /usr/local/lib/python3.9/dist-packages (from patsy>=0.5.2->statsmodels->DoubleML) (1.15.0)\n",
            "Installing collected packages: DoubleML\n",
            "Successfully installed DoubleML-0.5.2\n"
          ]
        }
      ]
    },
    {
      "cell_type": "code",
      "source": [
        "import doubleml as dml\n",
        "from sklearn.base import clone\n",
        "from sklearn.linear_model import Lasso\n",
        "\n",
        "learner = Lasso(alpha=0.1)\n",
        "\n",
        "ml_l = clone(learner)\n",
        "\n",
        "ml_m = clone(learner)"
      ],
      "metadata": {
        "id": "BG7AdxS1EZ3h"
      },
      "execution_count": 32,
      "outputs": []
    },
    {
      "cell_type": "markdown",
      "source": [
        "### 使符合套件要求的資料格式"
      ],
      "metadata": {
        "id": "w9iO_oMwFIQa"
      }
    },
    {
      "cell_type": "code",
      "source": [
        "len(vectorizer.get_feature_names_out())"
      ],
      "metadata": {
        "colab": {
          "base_uri": "https://localhost:8080/"
        },
        "id": "gqDtOlW1gmsR",
        "outputId": "f852405a-60c9-4c95-cb89-660c06066262"
      },
      "execution_count": 60,
      "outputs": [
        {
          "output_type": "execute_result",
          "data": {
            "text/plain": [
              "10000"
            ]
          },
          "metadata": {},
          "execution_count": 60
        }
      ]
    },
    {
      "cell_type": "code",
      "source": [
        "data_lemma = pd.concat([df.y, pd.DataFrame(lemmatized_matrix.toarray(), columns = vectorizer.get_feature_names_out())], ignore_index=True, sort=False)\n",
        "data_lemma.rename(columns={0: 'y'}, inplace=True)\n",
        "data_lemma = data_lemma.fillna(0)\n",
        "data_lemma.head(3)"
      ],
      "metadata": {
        "id": "_hytAZO2FHDq",
        "colab": {
          "base_uri": "https://localhost:8080/",
          "height": 237
        },
        "outputId": "5a20f697-a9f2-41ed-c2ee-625e4afdba22"
      },
      "execution_count": 61,
      "outputs": [
        {
          "output_type": "execute_result",
          "data": {
            "text/plain": [
              "     0   aa  aapi   ab  abandon  abc  abduct  abe  abel  abenom  ...  zone  \\\n",
              "0  1.0  0.0   0.0  0.0      0.0  0.0     0.0  0.0   0.0     0.0  ...   0.0   \n",
              "1  0.0  0.0   0.0  0.0      0.0  0.0     0.0  0.0   0.0     0.0  ...   0.0   \n",
              "2  1.0  0.0   0.0  0.0      0.0  0.0     0.0  0.0   0.0     0.0  ...   0.0   \n",
              "\n",
              "   zoo  zoom  zoomer  zou  zscaler   zu  zuckerberg  zuel  zurich  \n",
              "0  0.0   0.0     0.0  0.0      0.0  0.0         0.0   0.0     0.0  \n",
              "1  0.0   0.0     0.0  0.0      0.0  0.0         0.0   0.0     0.0  \n",
              "2  0.0   0.0     0.0  0.0      0.0  0.0         0.0   0.0     0.0  \n",
              "\n",
              "[3 rows x 10001 columns]"
            ],
            "text/html": [
              "\n",
              "  <div id=\"df-82c4dc96-5062-4a3c-a967-9443404d945f\">\n",
              "    <div class=\"colab-df-container\">\n",
              "      <div>\n",
              "<style scoped>\n",
              "    .dataframe tbody tr th:only-of-type {\n",
              "        vertical-align: middle;\n",
              "    }\n",
              "\n",
              "    .dataframe tbody tr th {\n",
              "        vertical-align: top;\n",
              "    }\n",
              "\n",
              "    .dataframe thead th {\n",
              "        text-align: right;\n",
              "    }\n",
              "</style>\n",
              "<table border=\"1\" class=\"dataframe\">\n",
              "  <thead>\n",
              "    <tr style=\"text-align: right;\">\n",
              "      <th></th>\n",
              "      <th>0</th>\n",
              "      <th>aa</th>\n",
              "      <th>aapi</th>\n",
              "      <th>ab</th>\n",
              "      <th>abandon</th>\n",
              "      <th>abc</th>\n",
              "      <th>abduct</th>\n",
              "      <th>abe</th>\n",
              "      <th>abel</th>\n",
              "      <th>abenom</th>\n",
              "      <th>...</th>\n",
              "      <th>zone</th>\n",
              "      <th>zoo</th>\n",
              "      <th>zoom</th>\n",
              "      <th>zoomer</th>\n",
              "      <th>zou</th>\n",
              "      <th>zscaler</th>\n",
              "      <th>zu</th>\n",
              "      <th>zuckerberg</th>\n",
              "      <th>zuel</th>\n",
              "      <th>zurich</th>\n",
              "    </tr>\n",
              "  </thead>\n",
              "  <tbody>\n",
              "    <tr>\n",
              "      <th>0</th>\n",
              "      <td>1.0</td>\n",
              "      <td>0.0</td>\n",
              "      <td>0.0</td>\n",
              "      <td>0.0</td>\n",
              "      <td>0.0</td>\n",
              "      <td>0.0</td>\n",
              "      <td>0.0</td>\n",
              "      <td>0.0</td>\n",
              "      <td>0.0</td>\n",
              "      <td>0.0</td>\n",
              "      <td>...</td>\n",
              "      <td>0.0</td>\n",
              "      <td>0.0</td>\n",
              "      <td>0.0</td>\n",
              "      <td>0.0</td>\n",
              "      <td>0.0</td>\n",
              "      <td>0.0</td>\n",
              "      <td>0.0</td>\n",
              "      <td>0.0</td>\n",
              "      <td>0.0</td>\n",
              "      <td>0.0</td>\n",
              "    </tr>\n",
              "    <tr>\n",
              "      <th>1</th>\n",
              "      <td>0.0</td>\n",
              "      <td>0.0</td>\n",
              "      <td>0.0</td>\n",
              "      <td>0.0</td>\n",
              "      <td>0.0</td>\n",
              "      <td>0.0</td>\n",
              "      <td>0.0</td>\n",
              "      <td>0.0</td>\n",
              "      <td>0.0</td>\n",
              "      <td>0.0</td>\n",
              "      <td>...</td>\n",
              "      <td>0.0</td>\n",
              "      <td>0.0</td>\n",
              "      <td>0.0</td>\n",
              "      <td>0.0</td>\n",
              "      <td>0.0</td>\n",
              "      <td>0.0</td>\n",
              "      <td>0.0</td>\n",
              "      <td>0.0</td>\n",
              "      <td>0.0</td>\n",
              "      <td>0.0</td>\n",
              "    </tr>\n",
              "    <tr>\n",
              "      <th>2</th>\n",
              "      <td>1.0</td>\n",
              "      <td>0.0</td>\n",
              "      <td>0.0</td>\n",
              "      <td>0.0</td>\n",
              "      <td>0.0</td>\n",
              "      <td>0.0</td>\n",
              "      <td>0.0</td>\n",
              "      <td>0.0</td>\n",
              "      <td>0.0</td>\n",
              "      <td>0.0</td>\n",
              "      <td>...</td>\n",
              "      <td>0.0</td>\n",
              "      <td>0.0</td>\n",
              "      <td>0.0</td>\n",
              "      <td>0.0</td>\n",
              "      <td>0.0</td>\n",
              "      <td>0.0</td>\n",
              "      <td>0.0</td>\n",
              "      <td>0.0</td>\n",
              "      <td>0.0</td>\n",
              "      <td>0.0</td>\n",
              "    </tr>\n",
              "  </tbody>\n",
              "</table>\n",
              "<p>3 rows × 10001 columns</p>\n",
              "</div>\n",
              "      <button class=\"colab-df-convert\" onclick=\"convertToInteractive('df-82c4dc96-5062-4a3c-a967-9443404d945f')\"\n",
              "              title=\"Convert this dataframe to an interactive table.\"\n",
              "              style=\"display:none;\">\n",
              "        \n",
              "  <svg xmlns=\"http://www.w3.org/2000/svg\" height=\"24px\"viewBox=\"0 0 24 24\"\n",
              "       width=\"24px\">\n",
              "    <path d=\"M0 0h24v24H0V0z\" fill=\"none\"/>\n",
              "    <path d=\"M18.56 5.44l.94 2.06.94-2.06 2.06-.94-2.06-.94-.94-2.06-.94 2.06-2.06.94zm-11 1L8.5 8.5l.94-2.06 2.06-.94-2.06-.94L8.5 2.5l-.94 2.06-2.06.94zm10 10l.94 2.06.94-2.06 2.06-.94-2.06-.94-.94-2.06-.94 2.06-2.06.94z\"/><path d=\"M17.41 7.96l-1.37-1.37c-.4-.4-.92-.59-1.43-.59-.52 0-1.04.2-1.43.59L10.3 9.45l-7.72 7.72c-.78.78-.78 2.05 0 2.83L4 21.41c.39.39.9.59 1.41.59.51 0 1.02-.2 1.41-.59l7.78-7.78 2.81-2.81c.8-.78.8-2.07 0-2.86zM5.41 20L4 18.59l7.72-7.72 1.47 1.35L5.41 20z\"/>\n",
              "  </svg>\n",
              "      </button>\n",
              "      \n",
              "  <style>\n",
              "    .colab-df-container {\n",
              "      display:flex;\n",
              "      flex-wrap:wrap;\n",
              "      gap: 12px;\n",
              "    }\n",
              "\n",
              "    .colab-df-convert {\n",
              "      background-color: #E8F0FE;\n",
              "      border: none;\n",
              "      border-radius: 50%;\n",
              "      cursor: pointer;\n",
              "      display: none;\n",
              "      fill: #1967D2;\n",
              "      height: 32px;\n",
              "      padding: 0 0 0 0;\n",
              "      width: 32px;\n",
              "    }\n",
              "\n",
              "    .colab-df-convert:hover {\n",
              "      background-color: #E2EBFA;\n",
              "      box-shadow: 0px 1px 2px rgba(60, 64, 67, 0.3), 0px 1px 3px 1px rgba(60, 64, 67, 0.15);\n",
              "      fill: #174EA6;\n",
              "    }\n",
              "\n",
              "    [theme=dark] .colab-df-convert {\n",
              "      background-color: #3B4455;\n",
              "      fill: #D2E3FC;\n",
              "    }\n",
              "\n",
              "    [theme=dark] .colab-df-convert:hover {\n",
              "      background-color: #434B5C;\n",
              "      box-shadow: 0px 1px 3px 1px rgba(0, 0, 0, 0.15);\n",
              "      filter: drop-shadow(0px 1px 2px rgba(0, 0, 0, 0.3));\n",
              "      fill: #FFFFFF;\n",
              "    }\n",
              "  </style>\n",
              "\n",
              "      <script>\n",
              "        const buttonEl =\n",
              "          document.querySelector('#df-82c4dc96-5062-4a3c-a967-9443404d945f button.colab-df-convert');\n",
              "        buttonEl.style.display =\n",
              "          google.colab.kernel.accessAllowed ? 'block' : 'none';\n",
              "\n",
              "        async function convertToInteractive(key) {\n",
              "          const element = document.querySelector('#df-82c4dc96-5062-4a3c-a967-9443404d945f');\n",
              "          const dataTable =\n",
              "            await google.colab.kernel.invokeFunction('convertToInteractive',\n",
              "                                                     [key], {});\n",
              "          if (!dataTable) return;\n",
              "\n",
              "          const docLinkHtml = 'Like what you see? Visit the ' +\n",
              "            '<a target=\"_blank\" href=https://colab.research.google.com/notebooks/data_table.ipynb>data table notebook</a>'\n",
              "            + ' to learn more about interactive tables.';\n",
              "          element.innerHTML = '';\n",
              "          dataTable['output_type'] = 'display_data';\n",
              "          await google.colab.output.renderOutput(dataTable, element);\n",
              "          const docLink = document.createElement('div');\n",
              "          docLink.innerHTML = docLinkHtml;\n",
              "          element.appendChild(docLink);\n",
              "        }\n",
              "      </script>\n",
              "    </div>\n",
              "  </div>\n",
              "  "
            ]
          },
          "metadata": {},
          "execution_count": 61
        }
      ]
    },
    {
      "cell_type": "code",
      "source": [
        "print(list(data_lemma.columns[np.nonzero(lasso_stem.coef_)]))"
      ],
      "metadata": {
        "id": "izfFPV3dFTS3"
      },
      "execution_count": null,
      "outputs": []
    },
    {
      "cell_type": "markdown",
      "source": [
        "### Stem"
      ],
      "metadata": {
        "id": "ZI3GN2Hz6S32"
      }
    },
    {
      "cell_type": "code",
      "source": [
        "data_stem = pd.concat([df.y, pd.DataFrame(stemmed_matrix.toarray(), columns = vectorizer.get_feature_names_out())], ignore_index=True, sort=False)\n",
        "data_stem.rename(columns={0: 'y'}, inplace=True)\n",
        "data_stem = data_stem.fillna(0)\n",
        "data_stem.head(3)"
      ],
      "metadata": {
        "colab": {
          "base_uri": "https://localhost:8080/",
          "height": 237
        },
        "id": "d0Ua3nvJ6SG5",
        "outputId": "fccf4831-d1a3-4f44-d24e-ed115b427b6c"
      },
      "execution_count": 34,
      "outputs": [
        {
          "output_type": "execute_result",
          "data": {
            "text/plain": [
              "     y   aa   ab  abandon  abandoned  abandoning  abc  abe  abel  abide  ...  \\\n",
              "0  1.0  0.0  0.0      0.0        0.0         0.0  0.0  0.0   0.0    0.0  ...   \n",
              "1  0.0  0.0  0.0      0.0        0.0         0.0  0.0  0.0   0.0    0.0  ...   \n",
              "2  1.0  0.0  0.0      0.0        0.0         0.0  0.0  0.0   0.0    0.0  ...   \n",
              "\n",
              "   zip  ziqi  zju  zombie  zone  zoo  zoom  zoomers   zu  zuel  \n",
              "0  0.0   0.0  0.0     0.0   0.0  0.0   0.0      0.0  0.0   0.0  \n",
              "1  0.0   0.0  0.0     0.0   0.0  0.0   0.0      0.0  0.0   0.0  \n",
              "2  0.0   0.0  0.0     0.0   0.0  0.0   0.0      0.0  0.0   0.0  \n",
              "\n",
              "[3 rows x 10001 columns]"
            ],
            "text/html": [
              "\n",
              "  <div id=\"df-ec19db3e-321e-47aa-b3be-41fef987b006\">\n",
              "    <div class=\"colab-df-container\">\n",
              "      <div>\n",
              "<style scoped>\n",
              "    .dataframe tbody tr th:only-of-type {\n",
              "        vertical-align: middle;\n",
              "    }\n",
              "\n",
              "    .dataframe tbody tr th {\n",
              "        vertical-align: top;\n",
              "    }\n",
              "\n",
              "    .dataframe thead th {\n",
              "        text-align: right;\n",
              "    }\n",
              "</style>\n",
              "<table border=\"1\" class=\"dataframe\">\n",
              "  <thead>\n",
              "    <tr style=\"text-align: right;\">\n",
              "      <th></th>\n",
              "      <th>y</th>\n",
              "      <th>aa</th>\n",
              "      <th>ab</th>\n",
              "      <th>abandon</th>\n",
              "      <th>abandoned</th>\n",
              "      <th>abandoning</th>\n",
              "      <th>abc</th>\n",
              "      <th>abe</th>\n",
              "      <th>abel</th>\n",
              "      <th>abide</th>\n",
              "      <th>...</th>\n",
              "      <th>zip</th>\n",
              "      <th>ziqi</th>\n",
              "      <th>zju</th>\n",
              "      <th>zombie</th>\n",
              "      <th>zone</th>\n",
              "      <th>zoo</th>\n",
              "      <th>zoom</th>\n",
              "      <th>zoomers</th>\n",
              "      <th>zu</th>\n",
              "      <th>zuel</th>\n",
              "    </tr>\n",
              "  </thead>\n",
              "  <tbody>\n",
              "    <tr>\n",
              "      <th>0</th>\n",
              "      <td>1.0</td>\n",
              "      <td>0.0</td>\n",
              "      <td>0.0</td>\n",
              "      <td>0.0</td>\n",
              "      <td>0.0</td>\n",
              "      <td>0.0</td>\n",
              "      <td>0.0</td>\n",
              "      <td>0.0</td>\n",
              "      <td>0.0</td>\n",
              "      <td>0.0</td>\n",
              "      <td>...</td>\n",
              "      <td>0.0</td>\n",
              "      <td>0.0</td>\n",
              "      <td>0.0</td>\n",
              "      <td>0.0</td>\n",
              "      <td>0.0</td>\n",
              "      <td>0.0</td>\n",
              "      <td>0.0</td>\n",
              "      <td>0.0</td>\n",
              "      <td>0.0</td>\n",
              "      <td>0.0</td>\n",
              "    </tr>\n",
              "    <tr>\n",
              "      <th>1</th>\n",
              "      <td>0.0</td>\n",
              "      <td>0.0</td>\n",
              "      <td>0.0</td>\n",
              "      <td>0.0</td>\n",
              "      <td>0.0</td>\n",
              "      <td>0.0</td>\n",
              "      <td>0.0</td>\n",
              "      <td>0.0</td>\n",
              "      <td>0.0</td>\n",
              "      <td>0.0</td>\n",
              "      <td>...</td>\n",
              "      <td>0.0</td>\n",
              "      <td>0.0</td>\n",
              "      <td>0.0</td>\n",
              "      <td>0.0</td>\n",
              "      <td>0.0</td>\n",
              "      <td>0.0</td>\n",
              "      <td>0.0</td>\n",
              "      <td>0.0</td>\n",
              "      <td>0.0</td>\n",
              "      <td>0.0</td>\n",
              "    </tr>\n",
              "    <tr>\n",
              "      <th>2</th>\n",
              "      <td>1.0</td>\n",
              "      <td>0.0</td>\n",
              "      <td>0.0</td>\n",
              "      <td>0.0</td>\n",
              "      <td>0.0</td>\n",
              "      <td>0.0</td>\n",
              "      <td>0.0</td>\n",
              "      <td>0.0</td>\n",
              "      <td>0.0</td>\n",
              "      <td>0.0</td>\n",
              "      <td>...</td>\n",
              "      <td>0.0</td>\n",
              "      <td>0.0</td>\n",
              "      <td>0.0</td>\n",
              "      <td>0.0</td>\n",
              "      <td>0.0</td>\n",
              "      <td>0.0</td>\n",
              "      <td>0.0</td>\n",
              "      <td>0.0</td>\n",
              "      <td>0.0</td>\n",
              "      <td>0.0</td>\n",
              "    </tr>\n",
              "  </tbody>\n",
              "</table>\n",
              "<p>3 rows × 10001 columns</p>\n",
              "</div>\n",
              "      <button class=\"colab-df-convert\" onclick=\"convertToInteractive('df-ec19db3e-321e-47aa-b3be-41fef987b006')\"\n",
              "              title=\"Convert this dataframe to an interactive table.\"\n",
              "              style=\"display:none;\">\n",
              "        \n",
              "  <svg xmlns=\"http://www.w3.org/2000/svg\" height=\"24px\"viewBox=\"0 0 24 24\"\n",
              "       width=\"24px\">\n",
              "    <path d=\"M0 0h24v24H0V0z\" fill=\"none\"/>\n",
              "    <path d=\"M18.56 5.44l.94 2.06.94-2.06 2.06-.94-2.06-.94-.94-2.06-.94 2.06-2.06.94zm-11 1L8.5 8.5l.94-2.06 2.06-.94-2.06-.94L8.5 2.5l-.94 2.06-2.06.94zm10 10l.94 2.06.94-2.06 2.06-.94-2.06-.94-.94-2.06-.94 2.06-2.06.94z\"/><path d=\"M17.41 7.96l-1.37-1.37c-.4-.4-.92-.59-1.43-.59-.52 0-1.04.2-1.43.59L10.3 9.45l-7.72 7.72c-.78.78-.78 2.05 0 2.83L4 21.41c.39.39.9.59 1.41.59.51 0 1.02-.2 1.41-.59l7.78-7.78 2.81-2.81c.8-.78.8-2.07 0-2.86zM5.41 20L4 18.59l7.72-7.72 1.47 1.35L5.41 20z\"/>\n",
              "  </svg>\n",
              "      </button>\n",
              "      \n",
              "  <style>\n",
              "    .colab-df-container {\n",
              "      display:flex;\n",
              "      flex-wrap:wrap;\n",
              "      gap: 12px;\n",
              "    }\n",
              "\n",
              "    .colab-df-convert {\n",
              "      background-color: #E8F0FE;\n",
              "      border: none;\n",
              "      border-radius: 50%;\n",
              "      cursor: pointer;\n",
              "      display: none;\n",
              "      fill: #1967D2;\n",
              "      height: 32px;\n",
              "      padding: 0 0 0 0;\n",
              "      width: 32px;\n",
              "    }\n",
              "\n",
              "    .colab-df-convert:hover {\n",
              "      background-color: #E2EBFA;\n",
              "      box-shadow: 0px 1px 2px rgba(60, 64, 67, 0.3), 0px 1px 3px 1px rgba(60, 64, 67, 0.15);\n",
              "      fill: #174EA6;\n",
              "    }\n",
              "\n",
              "    [theme=dark] .colab-df-convert {\n",
              "      background-color: #3B4455;\n",
              "      fill: #D2E3FC;\n",
              "    }\n",
              "\n",
              "    [theme=dark] .colab-df-convert:hover {\n",
              "      background-color: #434B5C;\n",
              "      box-shadow: 0px 1px 3px 1px rgba(0, 0, 0, 0.15);\n",
              "      filter: drop-shadow(0px 1px 2px rgba(0, 0, 0, 0.3));\n",
              "      fill: #FFFFFF;\n",
              "    }\n",
              "  </style>\n",
              "\n",
              "      <script>\n",
              "        const buttonEl =\n",
              "          document.querySelector('#df-ec19db3e-321e-47aa-b3be-41fef987b006 button.colab-df-convert');\n",
              "        buttonEl.style.display =\n",
              "          google.colab.kernel.accessAllowed ? 'block' : 'none';\n",
              "\n",
              "        async function convertToInteractive(key) {\n",
              "          const element = document.querySelector('#df-ec19db3e-321e-47aa-b3be-41fef987b006');\n",
              "          const dataTable =\n",
              "            await google.colab.kernel.invokeFunction('convertToInteractive',\n",
              "                                                     [key], {});\n",
              "          if (!dataTable) return;\n",
              "\n",
              "          const docLinkHtml = 'Like what you see? Visit the ' +\n",
              "            '<a target=\"_blank\" href=https://colab.research.google.com/notebooks/data_table.ipynb>data table notebook</a>'\n",
              "            + ' to learn more about interactive tables.';\n",
              "          element.innerHTML = '';\n",
              "          dataTable['output_type'] = 'display_data';\n",
              "          await google.colab.output.renderOutput(dataTable, element);\n",
              "          const docLink = document.createElement('div');\n",
              "          docLink.innerHTML = docLinkHtml;\n",
              "          element.appendChild(docLink);\n",
              "        }\n",
              "      </script>\n",
              "    </div>\n",
              "  </div>\n",
              "  "
            ]
          },
          "metadata": {},
          "execution_count": 34
        }
      ]
    },
    {
      "cell_type": "markdown",
      "source": [
        "DoubleMLClusterData.from_arrays(x, y, d, cluster_vars, z)"
      ],
      "metadata": {
        "id": "mKLfj7goWLs_"
      }
    },
    {
      "cell_type": "code",
      "source": [
        "obj_dml_data_stem = dml.DoubleMLData(data_stem,\n",
        "                y_col = 'y',\n",
        "                d_cols = list(stemmed_D)\n",
        "                )\n",
        "\n",
        "dml_plr_obj_stem = dml.DoubleMLPLR(obj_dml_data_stem, ml_l, ml_m)\n",
        "\n",
        "dml_plr_obj_stem.fit();\n",
        "\n",
        "print(dml_plr_obj_stem)"
      ],
      "metadata": {
        "id": "vdnnHTrVFVaF",
        "colab": {
          "base_uri": "https://localhost:8080/"
        },
        "outputId": "18c1c1ad-abc7-4fcb-bce3-b007c3847f60"
      },
      "execution_count": 37,
      "outputs": [
        {
          "output_type": "stream",
          "name": "stdout",
          "text": [
            "================== DoubleMLPLR Object ==================\n",
            "\n",
            "------------------ Data summary      ------------------\n",
            "Outcome variable: y\n",
            "Treatment variable(s): ['able', 'achieves', 'active', 'alive', 'asianindian', 'attacking', 'au', 'bargain', 'bayesian', 'bcg', 'bigger', 'catching', 'cherish', 'chicago', 'constrained', 'contagious', 'convincing', 'count', 'crime', 'cringe', 'crucial', 'djt', 'dog', 'emerged', 'expectancy', 'faking', 'fcking', 'flees', 'fma', 'fooled', 'generalization', 'gong', 'grows', 'hoarding', 'homeless', 'hunger', 'incoherent', 'indoctrinated', 'information', 'inventor', 'ironic', 'ironically', 'jail', 'joining', 'knowingly', 'kobe', 'koreanamericans', 'like', 'literacy', 'long', 'looter', 'lq', 'merchant', 'negotiation', 'notable', 'originated', 'outsider', 'parent', 'persian', 'plate', 'pocket', 'policing', 'provides', 'quarantine', 'recording', 'restrictive', 'rigorous', 'scorer', 'sexy', 'shave', 'skin', 'stance', 'strategically', 'success', 'suggests', 'suing', 'surpass', 'swufe', 'talk', 'technological', 'testimony', 'thomas', 'tiktok', 'undesirable', 'uneducated', 'variant', 'videocon', 'week', 'wenliang', 'wisdom', 'withdraw', 'wo', 'worker', 'xiaopings', 'xinhua', 'yield', 'zai']\n",
            "Covariates: ['aa', 'ab', 'abandon', 'abandoned', 'abandoning', 'abc', 'abe', 'abel', 'abide', 'abiding', 'ability', 'abolish', 'abolished', 'aboriginal', 'abortion', 'abroad', 'absence', 'absent', 'absolute', 'absolutely', 'absorb', 'absorbed', 'abstract', 'absurd', 'absurdity', 'abuse', 'abused', 'abusing', 'abusive', 'ac', 'academia', 'academic', 'academically', 'academy', 'accent', 'accept', 'acceptable', 'acceptance', 'accepted', 'accepting', 'accepts', 'access', 'accessible', 'accessing', 'accident', 'accidentally', 'accommodate', 'accommodation', 'accomplish', 'accomplished', 'accomplishment', 'accord', 'according', 'accordingly', 'account', 'accountability', 'accountable', 'accountant', 'accounted', 'accounting', 'accumulated', 'accuracy', 'accurate', 'accurately', 'accusation', 'accuse', 'accused', 'accusing', 'ace', 'acemoglu', 'achieve', 'achieved', 'achievement', 'achieving', 'acid', 'acknowledge', 'acknowledged', 'acknowledges', 'acknowledging', 'acquaintance', 'acquire', 'acquired', 'acquiring', 'acquisition', 'across', 'act', 'acted', 'acting', 'action', 'actively', 'activist', 'activity', 'actor', 'actress', 'actual', 'actually', 'ad', 'adam', 'adapt', 'adapted', 'adb', 'adbs', 'add', 'added', 'adderall', 'addict', 'addicted', 'adding', 'addition', 'additional', 'additionally', 'address', 'addressed', 'addressing', 'adept', 'adhere', 'adjacent', 'adjust', 'adjusted', 'adjusting', 'adjustment', 'admin', 'administered', 'administration', 'administrative', 'administrator', 'admins', 'admire', 'admired', 'admirer', 'admiring', 'admission', 'admit', 'admits', 'admitted', 'admittedly', 'admitting', 'adolf', 'adopt', 'adopted', 'adopting', 'adopts', 'adrian', 'adult', 'advance', 'advanced', 'advancement', 'advancing', 'advantage', 'adventure', 'adversary', 'adverse', 'advert', 'advertise', 'advertised', 'advertisement', 'advertising', 'advice', 'advise', 'advised', 'adviser', 'advising', 'advisor', 'advocate', 'advocating', 'ae', 'aea', 'aer', 'aerospace', 'aesthetic', 'af', 'afaik', 'affair', 'affect', 'affected', 'affecting', 'affiliated', 'affiliation', 'affinity', 'affirm', 'affirmative', 'affluent', 'afford', 'affordable', 'afghan', 'afghanistan', 'afraid', 'africa', 'african', 'africanamerican', 'africanamericans', 'afternoon', 'afterwards', 'ag', 'agains', 'age', 'aged', 'agency', 'agenda', 'agent', 'aggregate', 'aggression', 'aggressive', 'aggressively', 'aging', 'ago', 'agree', 'agreed', 'agreeing', 'agreement', 'agrees', 'agricultural', 'agriculture', 'ah', 'ahead', 'ahh', 'ai', 'aid', 'aiding', 'aiib', 'aim', 'aimed', 'aiming', 'aint', 'air', 'aircraft', 'airforce', 'airline', 'airplane', 'airport', 'airspace', 'aisin', 'aive', 'aka', 'akin', 'aksai', 'al', 'ala', 'alan', 'alarm', 'alarming', 'alaska', 'albeit', 'albert', 'alert', 'algebra', 'algebraic', 'algorithm', 'ali', 'alibaba', 'alice', 'alien', 'align', 'aligned', 'aligning', 'alike', 'alisia', 'allegation', 'alleged', 'allegedly', 'allegiance', 'alliance', 'allied', 'allocated', 'allocation', 'allow', 'allowance', 'allowed', 'allowing', 'allows', 'ally', 'almost', 'alone', 'along', 'alongside', 'alot', 'alpha', 'alphabet', 'already', 'alright', 'also', 'alternate', 'alternative', 'alternatively', 'although', 'alto', 'altogether', 'altright', 'altruism', 'alumnus', 'always', 'ama', 'amazed', 'amazing', 'amazon', 'ambassador', 'ambiguity', 'ambiguous', 'ambition', 'ambitious', 'amd', 'amelican', 'amendment', 'amenity', 'ameri', 'ameribro', 'ameribros', 'america', 'american', 'americanized', 'amerifat', 'amerifats', 'amerindian', 'amici', 'amid', 'amish', 'ammo', 'amnesty', 'among', 'amongst', 'amount', 'amphibious', 'ample', 'amusing', 'amy', 'an', 'analogy', 'analysis', 'analyst', 'analytical', 'analytics', 'analyze', 'ancestor', 'ancestral', 'ancestry', 'ancient', 'anderson', 'andor', 'andrew', 'anecdote', 'ang', 'angel', 'angela', 'angeles', 'anger', 'angle', 'anglo', 'anglosphere', 'angry', 'angwang', 'animal', 'anime', 'animosity', 'animus', 'ann', 'annex', 'annexed', 'annexing', 'anniversary', 'announce', 'announced', 'announcement', 'announcing', 'annoyed', 'annoying', 'annual', 'annually', 'anon', 'anonymity', 'anonymous', 'anonymously', 'another', 'answer', 'answered', 'answering', 'ant', 'antagonize', 'antagonizing', 'antai', 'ante', 'anthem', 'anti', 'antiamerican', 'antiasian', 'antibody', 'anticcp', 'antichina', 'antichinese', 'anticipate', 'anticorruption', 'antidiscrimination', 'antiintellectual', 'antisemitic', 'antisemitism', 'antisocial', 'antiterrorism', 'antitrust', 'antiwhite', 'antiwoke', 'anxiety', 'anxious', 'anybody', 'anyhow', 'anymore', 'anyone', 'anyones', 'anything', 'anytime', 'anyway', 'anyways', 'anywhere', 'ap', 'apart', 'apartment', 'ape', 'apologist', 'apologize', 'apologized', 'apologizing', 'apology', 'app', 'apparatchik', 'apparent', 'apparently', 'appeal', 'appealing', 'appear', 'appearance', 'appeared', 'appearing', 'appears', 'appease', 'applaud', 'applauding', 'apple', 'appliance', 'applicant', 'application', 'applied', 'applies', 'apply', 'applying', 'appointed', 'appointing', 'appointment', 'appreciate', 'appreciated', 'appreciation', 'approach', 'approached', 'approaching', 'appropriate', 'appropriation', 'approval', 'approve', 'approved', 'approx', 'approximately', 'apps', 'april', 'aps', 'apsingleauthor', 'apsr', 'apt', 'ar', 'arab', 'arabia', 'arabic', 'arbitrage', 'arbitrarily', 'arbitrary', 'arbor', 'archery', 'architecture', 'arcidiacono', 'area', 'arent', 'arewere', 'argentina', 'arguably', 'argue', 'argued', 'argues', 'arguing', 'argument', 'arise', 'arises', 'arizona', 'arm', 'armed', 'armenian', 'army', 'around', 'arranged', 'arrangement', 'array', 'arrest', 'arrested', 'arresting', 'arrival', 'arrive', 'arrived', 'arriving', 'arrogance', 'arrogant', 'arsenal', 'arson', 'art', 'article', 'artificial', 'artist', 'artistic', 'arunachal', 'aryan', 'as', 'asans', 'asap', 'asean', 'ash', 'ashamed', 'ashkenazi', 'asiabro', 'asiabros', 'asianamerican', 'asianamericans', 'asianborn', 'asianbro', 'asianbros', 'asiatic', 'aside', 'ask', 'asked', 'asking', 'asks', 'aspect', 'aspie', 'aspiration', 'aspire', 'aspiring', 'ass', 'assa', 'assailant', 'assange', 'assassinate', 'assault', 'assaulted', 'assembly', 'assertion', 'assertiveness', 'assessed', 'assessment', 'asset', 'asshole', 'assigned', 'assignment', 'assimilate', 'assimilated', 'assimilating', 'assimilation', 'assistance', 'assistant', 'assoc', 'associate', 'associated', 'associating', 'association', 'assume', 'assumed', 'assumes', 'assuming', 'assumption', 'assure', 'assured', 'asteroid', 'astonishing', 'astronomical', 'asu', 'asylum', 'asymptomatic', 'ate', 'ath', 'atheist', 'athlete', 'athletic', 'athletics', 'atlanta', 'atlantic', 'atleast', 'atm', 'atmosphere', 'atomic', 'atrocity', 'attached', 'attachment', 'attack', 'attacked', 'attacker', 'attainment', 'attempt', 'attempted', 'attempting', 'attend', 'attendance', 'attendant', 'attended', 'attending', 'attention', 'attitude', 'attorney', 'attract', 'attracted', 'attracting', 'attraction', 'attractive', 'attractiveness', 'attracts', 'attribute', 'attributed', 'auctioneer', 'audacity', 'audience', 'audio', 'audit', 'aug', 'august', 'aussie', 'austin', 'australia', 'australian', 'austria', 'austrian', 'autarky', 'authentic', 'author', 'authoritarian', 'authoritarianism', 'authority', 'autism', 'autistic', 'auto', 'autocracy', 'autocratic', 'automaker', 'automated', 'automatic', 'automatically', 'automation', 'automotive', 'autonomous', 'autonomy', 'autumn', 'available', 'avay', 'avenue', 'average', 'averse', 'aversion', 'avg', 'avoid', 'avoided', 'avoiding', 'award', 'awarded', 'aware', 'awareness', 'away', 'awesome', 'awful', 'awfully', 'awkward', 'awn', 'axis', 'az', 'azerbaijan', 'azn', 'azns', 'b', 'ba', 'baba', 'baby', 'bachelor', 'back', 'backdoor', 'backed', 'backfire', 'background', 'backing', 'backlash', 'backroom', 'backstab', 'backstabbing', 'backstop', 'backup', 'backward', 'backwards', 'backwater', 'bad', 'badly', 'badminton', 'badmouth', 'badmouthers', 'badmouthing', 'baffled', 'bag', 'bahrain', 'bai', 'baidu', 'bail', 'bailing', 'bait', 'baizuo', 'balance', 'balanced', 'balding', 'balkan', 'ball', 'ballot', 'baltic', 'baltimore', 'bamboo', 'ban', 'banana', 'band', 'banerjee', 'bang', 'banging', 'bangkok', 'bangladesh', 'bangladeshi', 'bank', 'banker', 'banking', 'bankrupt', 'bankruptcy', 'banned', 'banner', 'banning', 'bar', 'barbarian', 'barbaric', 'bare', 'barely', 'bargaining', 'bark', 'barred', 'barrel', 'barren', 'barrier', 'barring', 'base', 'baseball', 'based', 'baseless', 'baseline', 'basement', 'bash', 'bashing', 'basic', 'basically', 'basis', 'basket', 'basketball', 'bastard', 'bastion', 'bat', 'batch', 'bathroom', 'batman', 'battery', 'battle', 'battlefield', 'battling', 'bay', 'bayes', 'bb', 'bbc', 'bc', 'bd', 'beach', 'bean', 'bear', 'beard', 'bearing', 'beast', 'beat', 'beaten', 'beating', 'beautiful', 'beauty', 'beavis', 'became', 'become', 'becomes', 'becoming', 'bed', 'bedroom', 'bee', 'beef', 'beer', 'beforehand', 'beg', 'began', 'beggar', 'begging', 'begin', 'beginning', 'begun', 'behalf', 'behave', 'behaved', 'behaves', 'behaving', 'behavior', 'behavioral', 'behaviour', 'behind', 'beida', 'beihang', 'beijing', 'being', 'belarus', 'belgium', 'belief', 'believable', 'believe', 'believed', 'believer', 'believing', 'bell', 'belligerent', 'belly', 'belong', 'belonged', 'belonging', 'belongs', 'beloved', 'belt', 'ben', 'bench', 'benchmark', 'bend', 'beneficial', 'beneficiary', 'benefit', 'benefited', 'bengal', 'bengali', 'benjamin', 'bent', 'bering', 'berkeley', 'berlin', 'bernie', 'besides', 'best', 'bet', 'beta', 'better', 'beyond', 'bezos', 'bf', 'bfi', 'bgc', 'bhai', 'bhutan', 'bi', 'biack', 'bias', 'biased', 'bible', 'bicycle', 'bid', 'biden', 'bidens', 'bidet', 'big', 'biggest', 'bigoted', 'bigotry', 'bike', 'bild', 'bile', 'bilingual', 'bill', 'billion', 'billionaire', 'bin', 'binary', 'bind', 'binding', 'bing', 'bingo', 'bio', 'biological', 'biology', 'biontech', 'bioweapon', 'bipoc', 'bird', 'birkar', 'birth', 'birthday', 'birthplace', 'birthrate', 'bit', 'bitcoin', 'bite', 'bitter', 'biz', 'bizarre', 'bj', 'bjp', 'bl', 'bla', 'black', 'blackmail', 'blah', 'blak', 'blame', 'blamed', 'blaming', 'bland', 'blank', 'blanket', 'blast', 'blatant', 'blatantly', 'blax', 'blck', 'blcks', 'bleak', 'blek', 'bleks', 'blend', 'bless', 'blessing', 'blew', 'blind', 'blinded', 'blindly', 'blk', 'blks', 'blm', 'bln', 'blo', 'bloated', 'bloc', 'block', 'blockade', 'blocked', 'blocking', 'blockquote', 'blog', 'blonde', 'blood', 'bloody', 'bloomberg', 'blow', 'blowing', 'blown', 'blue', 'blunder', 'blunt', 'blx', 'bm', 'bmi', 'bmw', 'bn', 'bno', 'bnu', 'bo', 'board', 'boarding', 'boast', 'boasting', 'boat', 'bob', 'bocconi', 'body', 'bodybuilder', 'boeing', 'bogans', 'bogus', 'boil', 'bok', 'bold', 'bollywood', 'bomb', 'bombed', 'bomber', 'bombing', 'bond', 'bondage', 'bone', 'bonus', 'book', 'booking', 'bookish', 'boom', 'boomer', 'booming', 'boost', 'boot', 'booth', 'border', 'borderline', 'bored', 'boring', 'boris', 'born', 'borrowed', 'borrowing', 'bos', 'boss', 'boston', 'bot', 'botched', 'bother', 'bothered', 'botswana', 'bottle', 'bottom', 'bought', 'bounce', 'bound', 'boundary', 'bounty', 'bourgeoisie', 'bout', 'bow', 'bowing', 'bowl', 'box', 'boy', 'boycott', 'boycotted', 'boyfriend', 'br', 'bra', 'brag', 'bragging', 'brahmin', 'brain', 'brainwash', 'brainwashed', 'brainwashing', 'branch', 'brand', 'brandon', 'brat', 'brave', 'bravo', 'brazil', 'brazilian', 'bread', 'break', 'breakdown', 'breakfast', 'breaking', 'breath', 'breathe', 'breathing', 'breathtaking', 'bred', 'breed', 'breeding', 'brexit', 'bri', 'bribe', 'bribery', 'brick', 'bride', 'bridge', 'brief', 'briefcase', 'bright', 'brightest', 'brilliance', 'brilliant', 'bring', 'bringing', 'brings', 'brit', 'britain', 'british', 'bro', 'broad', 'broadcaster', 'broader', 'broadly', 'broette', 'broettes', 'broke', 'broken', 'brokerage', 'bronze', 'brooklyn', 'bros', 'brothel', 'brother', 'brought', 'brown', 'browser', 'browsing', 'bruce', 'bruh', 'brunay', 'brunei', 'brunet', 'brush', 'brutal', 'brutality', 'bschool', 'bschools', 'btc', 'btch', 'bts', 'btw', 'bu', 'bubble', 'bubonic', 'buck', 'bucket', 'bud', 'buddha', 'buddhism', 'buddhist', 'buddy', 'budget', 'buffalo', 'buffer', 'buffet', 'bug', 'build', 'builder', 'building', 'buildup', 'built', 'bulk', 'bull', 'bullet', 'bullied', 'bullst', 'bully', 'bullying', 'bum', 'bump', 'bumping', 'bunch', 'bund', 'burden', 'bureau', 'bureaucracy', 'bureaucrat', 'bureaucratic', 'burger', 'burial', 'buried', 'burn', 'burned', 'burning', 'burst', 'bus', 'bush', 'business', 'businessman', 'businessmen', 'bust', 'busy', 'butt', 'butthurt', 'button', 'buy', 'buyer', 'buying', 'bw', 'bye', 'byebye', 'bystander', 'c', 'ca', 'cabinet', 'cafe', 'cage', 'cai', 'cajun', 'cake', 'cal', 'calculate', 'calculated', 'calculating', 'calculation', 'calculus', 'calendar', 'calibration', 'california', 'californian', 'call', 'called', 'calling', 'calm', 'caltech', 'cambodia', 'cambridge', 'came', 'camera', 'camp', 'campaign', 'campus', 'can', 'canada', 'canadian', 'cancel', 'canceled', 'cancellation', 'cancelled', 'cancelling', 'cancer', 'cancerous', 'candidacy', 'candidate', 'cannon', 'cant', 'cantonese', 'cao', 'cap', 'capability', 'capable', 'capacity', 'capital', 'capitalism', 'capitalist', 'capped', 'captain', 'captcha', 'capture', 'captured', 'capturing', 'caput', 'car', 'carbon', 'card', 'care', 'cared', 'career', 'careerist', 'careful', 'carefully', 'cargo', 'caring', 'carl', 'carolina', 'carpet', 'carrie', 'carried', 'carrier', 'carroll', 'carrot', 'carry', 'carrying', 'cartel', 'cartoon', 'case', 'cash', 'caste', 'casting', 'casual', 'casually', 'casualty', 'cat', 'catastrophe', 'catastrophic', 'catch', 'category', 'catering', 'catfish', 'catholic', 'caucasian', 'caucus', 'caught', 'causal', 'causality', 'causation', 'cause', 'caused', 'causing', 'cautious', 'cave', 'caveat', 'cb', 'cc', 'cccp', 'ccer', 'ccp', 'ccps', 'cctv', 'ccw', 'cd', 'cdc', 'ce', 'cease', 'cefms', 'ceibs', 'ceiling', 'celebrate', 'celebrated', 'celebrating', 'celebration', 'celebrity', 'cell', 'cellphone', 'censor', 'censored', 'censoring', 'censorship', 'census', 'cent', 'center', 'centered', 'central', 'centralized', 'centre', 'centrist', 'century', 'ceo', 'cer', 'ceremony', 'certain', 'certainly', 'certainty', 'certificate', 'certification', 'certified', 'cfr', 'ch', 'chad', 'chae', 'chai', 'chain', 'chainuh', 'chair', 'chairman', 'challenge', 'challenged', 'challenging', 'chamber', 'champion', 'chan', 'chance', 'chang', 'change', 'changed', 'changing', 'channel', 'chanting', 'chao', 'chaos', 'chaotic', 'chapter', 'character', 'characteristic', 'characterized', 'charge', 'charged', 'charisma', 'charity', 'charles', 'charming', 'chart', 'charter', 'chase', 'chasing', 'chat', 'chatting', 'chau', 'chaudhry', 'cheank', 'cheanks', 'cheap', 'cheaper', 'cheapest', 'cheat', 'cheated', 'cheater', 'cheating', 'check', 'checked', 'checking', 'checkmate', 'cheer', 'cheering', 'cheese', 'chef', 'chemical', 'chemistry', 'chen', 'cheng', 'chengdu', 'chenyang', 'cherished', 'chernobyl', 'cherry', 'chess', 'chest', 'chested', 'chetty', 'cheung', 'chew', 'chewing', 'chi', 'chiang', 'chiba', 'chick', 'chicken', 'chief', 'chijnks', 'child', 'childhood', 'childish', 'childless', 'childrens', 'chile', 'chill', 'chilling', 'chimpanzee', 'chin', 'chinablo', 'chinabro', 'chinabroette', 'chinabros', 'chinah', 'chinaliedandpeopledied', 'chinaliedpeopledied', 'chinaman', 'chinatown', 'chinatowns', 'chinck', 'chine', 'chineseamerican', 'chineseamericans', 'chinesefood', 'ching', 'chinglish', 'chini', 'chink', 'chinky', 'chinnese', 'chino', 'chinqs', 'chinsects', 'chinuh', 'chip', 'chjnks', 'chloroquine', 'chna', 'chnese', 'chnk', 'chnks', 'chnx', 'cho', 'chocolate', 'choi', 'choice', 'choke', 'chong', 'chongqing', 'choo', 'choose', 'chooses', 'choosing', 'chop', 'chopstick', 'chose', 'chosen', 'chow', 'chp', 'chris', 'christ', 'christian', 'christianity', 'christmas', 'christopher', 'chuckling', 'chung', 'chunk', 'church', 'chyna', 'chynah', 'chynese', 'chynuh', 'ci', 'cia', 'cial', 'cice', 'cinema', 'circa', 'circle', 'circulated', 'circulating', 'circumstance', 'circumvent', 'circus', 'cism', 'cist', 'citation', 'cite', 'cited', 'citing', 'citizen', 'citizenship', 'city', 'cityu', 'civic', 'civil', 'civilian', 'civilisation', 'civilised', 'civilization', 'civilized', 'ck', 'ckgsb', 'cl', 'claim', 'claimed', 'claiming', 'clarification', 'clarified', 'clarify', 'clarity', 'clash', 'class', 'classic', 'classical', 'classified', 'classify', 'classmate', 'classroom', 'classy', 'claudia', 'clean', 'cleaned', 'cleaner', 'cleaning', 'cleanliness', 'cleansing', 'clear', 'clearance', 'cleared', 'clearer', 'clearly', 'clever', 'click', 'clicked', 'client', 'cliff', 'climate', 'climb', 'climbing', 'clinic', 'clinical', 'clinton', 'clip', 'clique', 'clock', 'close', 'closed', 'closely', 'closer', 'closest', 'closing', 'closure', 'cloth', 'clothes', 'clothing', 'cloud', 'clown', 'club', 'clubbing', 'clubby', 'clue', 'clueless', 'clump', 'cluster', 'cm', 'cmon', 'cmt', 'cmu', 'cn', 'cnn', 'co', 'coach', 'coal', 'coalition', 'coask', 'coast', 'coastal', 'coat', 'coauthor', 'coauthored', 'cob', 'code', 'coder', 'coding', 'coefficient', 'coercion', 'coexist', 'coffee', 'coffin', 'cofounder', 'cognitive', 'coherent', 'cohort', 'coin', 'coincidence', 'cold', 'collaborate', 'collaboration', 'collaborator', 'collapse', 'collapsed', 'collapsing', 'collar', 'collateral', 'colleague', 'collect', 'collected', 'collecting', 'collection', 'collective', 'collectively', 'collectivist', 'college', 'collude', 'collusion', 'colonial', 'colonialism', 'colonialist', 'colonization', 'colonize', 'colonized', 'colonizer', 'colonizing', 'colony', 'color', 'colorado', 'colored', 'columbia', 'columbus', 'column', 'combat', 'combating', 'combination', 'combine', 'combined', 'combo', 'come', 'comeback', 'comedian', 'comedy', 'comfort', 'comfortable', 'comic', 'coming', 'command', 'comment', 'commentary', 'commentator', 'commenting', 'commerce', 'commercial', 'commie', 'commission', 'commit', 'commitment', 'committed', 'committee', 'committing', 'commodity', 'common', 'commoner', 'commonly', 'commonwealth', 'communicate', 'communicated', 'communicating', 'communication', 'communism', 'communist', 'community', 'commute', 'commuting', 'comp', 'company', 'comparable', 'comparative', 'comparatively', 'compare', 'compared', 'comparing', 'comparison', 'compass', 'compassion', 'compatible', 'compelled', 'compelling', 'compensate', 'compensation', 'compete', 'competence', 'competency', 'competent', 'competing', 'competition', 'competitive', 'competitiveness', 'competitor', 'complacency', 'complacent', 'complain', 'complained', 'complaining', 'complains', 'complaint', 'complete', 'completed', 'completely', 'completing', 'completion', 'complex', 'complexity', 'compliance', 'compliant', 'complicated', 'complicit', 'comply', 'component', 'composed', 'composer', 'composition', 'compound', 'comprehend', 'comprehension', 'comprehensive', 'comprehensively', 'compromise', 'compromised', 'compulsory', 'computer', 'computing', 'comrade', 'con', 'conceal', 'concealing', 'concede', 'conceive', 'concentrate', 'concentrated', 'concentration', 'concept', 'conception', 'concern', 'concerned', 'concerning', 'concert', 'concerted', 'concession', 'conclude', 'concluded', 'conclusion', 'concrete', 'condemn', 'condemned', 'condemning', 'condescending', 'condi', 'condition', 'conditional', 'conditioned', 'condo', 'condom', 'conduct', 'conducted', 'conducting', 'conference', 'confession', 'confidence', 'confident', 'confidential', 'confined', 'confirm', 'confirmation', 'confirmed', 'confirming', 'confirms', 'confiscate', 'confiscated', 'conflict', 'conformist', 'conformity', 'confront', 'confrontation', 'confucian', 'confucius', 'confuse', 'confused', 'confusing', 'confusion', 'cong', 'congo', 'congrats', 'congratulate', 'congratulation', 'congress', 'conjecture', 'connect', 'connected', 'connecticut', 'connecting', 'connection', 'connotation', 'conquer', 'conquered', 'conquering', 'conquest', 'conscience', 'conscious', 'consciously', 'conscription', 'consensus', 'consent', 'consequence', 'consequently', 'conservatism', 'conservative', 'consider', 'considerable', 'considerably', 'consideration', 'considered', 'considering', 'considers', 'consist', 'consisted', 'consistent', 'consistently', 'consists', 'conspiracy', 'constant', 'constantly', 'constitute', 'constitution', 'constitutional', 'constraint', 'construct', 'constructed', 'construction', 'constructive', 'consulate', 'consult', 'consultant', 'consulting', 'consume', 'consumer', 'consumerism', 'consuming', 'consumption', 'contact', 'contacted', 'contacting', 'contagion', 'contain', 'contained', 'containing', 'containment', 'contains', 'contaminated', 'contemporary', 'contempt', 'content', 'contention', 'contest', 'context', 'continent', 'continental', 'contingent', 'continually', 'continue', 'continued', 'continues', 'continuing', 'continuous', 'continuously', 'contract', 'contracted', 'contradict', 'contradiction', 'contradictory', 'contradicts', 'contrary', 'contrast', 'contribute', 'contributed', 'contributes', 'contributing', 'contribution', 'contributor', 'control', 'controlled', 'controlling', 'controversial', 'controversy', 'convenience', 'convenient', 'conveniently', 'convention', 'conventional', 'convergence', 'conversation', 'converse', 'convert', 'convey', 'convict', 'convicted', 'conviction', 'convince', 'convinced', 'cook', 'cooked', 'cooking', 'cooky', 'cool', 'coop', 'cooperate', 'cooperation', 'coordinate', 'coordinated', 'coordinating', 'coordination', 'cop', 'cope', 'copied', 'coping', 'copium', 'copy', 'copycat', 'copying', 'core', 'coreabro', 'corn', 'cornell', 'corner', 'corona', 'coronavirus', 'coronaviruses', 'corp', 'corporate', 'corporation', 'correct', 'corrected', 'correction', 'correctly', 'correctness', 'correlate', 'correlated', 'correlation', 'corresponding', 'corresponds', 'corrupt', 'corrupted', 'corruption', 'cosmetic', 'cosmopolitan', 'cost', 'costly', 'cotton', 'couch', 'cough', 'could', 'couldnt', 'couldve', 'council', 'counted', 'counter', 'counterargument', 'countered', 'counterexample', 'counterfactual', 'counterfeit', 'counterpart', 'counterpoint', 'counterproductive', 'counting', 'countless', 'country', 'countryman', 'countryside', 'county', 'coup', 'couple', 'coupled', 'courage', 'course', 'coursework', 'court', 'courtesy', 'cousin', 'cover', 'coverage', 'covered', 'covering', 'coverup', 'covid', 'cow', 'coward', 'cowardly', 'coworkers', 'coz', 'cpc', 'cpp', 'cr', 'crack', 'crackdown', 'cracked', 'cracking', 'craft', 'crap', 'crappy', 'crash', 'crashed', 'crashing', 'crave', 'crazy', 'create', 'created', 'creates', 'creating', 'creation', 'creative', 'creativity', 'creator', 'creature', 'credential', 'credibility', 'credible', 'credit', 'creep', 'creepy', 'cricket', 'crimea', 'criminal', 'crippled', 'crisis', 'criterion', 'critic', 'critical', 'critically', 'criticising', 'criticism', 'criticize', 'criticized', 'criticizes', 'criticizing', 'critique', 'crony', 'crop', 'cross', 'crossed', 'crossing', 'crow', 'crowd', 'crowded', 'crown', 'crp', 'crt', 'cruel', 'cruise', 'crush', 'crushed', 'crushing', 'cry', 'crypto', 'ct', 'cuba', 'cuban', 'cube', 'cubicle', 'cueb', 'cufe', 'cuhk', 'cuhksz', 'cuisine', 'culpable', 'culprit', 'cult', 'cultural', 'culturally', 'culture', 'cultured', 'cunning', 'cuomo', 'cup', 'curb', 'cure', 'cured', 'curiosity', 'curious', 'currency', 'current', 'currently', 'curriculum', 'curry', 'curtain', 'curve', 'custody', 'custom', 'customer', 'cut', 'cute', 'cutoff', 'cutthroat', 'cutting', 'cuz', 'cv', 'cx', 'cyber', 'cycle', 'cynical', 'cyprus', 'czech', 'd', 'da', 'daca', 'dad', 'daddy', 'daily', 'dakota', 'dalai', 'dallas', 'dam', 'damage', 'damaged', 'damaging', 'damn', 'dan', 'dance', 'dancing', 'danger', 'dangerous', 'dare', 'dark', 'darker', 'darkness', 'dat', 'data', 'database', 'dataset', 'date', 'dated', 'dating', 'daughter', 'dave', 'david', 'day', 'daylight', 'dc', 'dck', 'dd', 'de', 'dead', 'deadline', 'deadly', 'deadwood', 'deal', 'dealer', 'dealing', 'dealt', 'dean', 'dear', 'death', 'debatable', 'debate', 'debating', 'debt', 'debunk', 'debunked', 'dec', 'decade', 'decay', 'decaying', 'december', 'decency', 'decent', 'decentralized', 'decide', 'decided', 'decides', 'deciding', 'decimated', 'decision', 'decisive', 'deck', 'declaration', 'declare', 'declared', 'declares', 'declaring', 'decline', 'declined', 'declining', 'decouple', 'decoupling', 'decrease', 'decreasing', 'dedicated', 'dedication', 'deed', 'deem', 'deemed', 'deep', 'deeper', 'deeply', 'default', 'defeat', 'defeated', 'defeating', 'defect', 'defective', 'defector', 'defence', 'defend', 'defendant', 'defended', 'defender', 'defending', 'defense', 'defensive', 'deference', 'deficient', 'deficit', 'define', 'defined', 'defines', 'definitely', 'definition', 'deflect', 'defund', 'degeneracy', 'degenerate', 'degree', 'dehumanize', 'dei', 'delay', 'delayed', 'delegate', 'delegation', 'delete', 'deleted', 'deletes', 'deleting', 'deletion', 'delhi', 'deliberately', 'delicacy', 'delicious', 'deliver', 'delivered', 'delivery', 'delta', 'deluded', 'delusion', 'delusional', 'dem', 'demand', 'demanded', 'demanding', 'dementia', 'demise', 'democracy', 'democrat', 'democratic', 'democratically', 'democratize', 'demographic', 'demography', 'demonstrate', 'demonstrated', 'demonstrates', 'demonstrating', 'demonstration', 'dems', 'den', 'deng', 'denial', 'denied', 'denier', 'denies', 'denmark', 'denominator', 'dense', 'density', 'deny', 'denying', 'depart', 'department', 'departmental', 'depend', 'dependence', 'dependent', 'depending', 'depends', 'deploy', 'deployed', 'deployment', 'deport', 'deportation', 'deported', 'deposit', 'deposited', 'depreciating', 'depressed', 'depressing', 'depression', 'deprive', 'dept', 'depth', 'depts', 'deputy', 'der', 'deranged', 'derivative', 'derived', 'desantis', 'descendant', 'descended', 'descending', 'descent', 'describe', 'described', 'describes', 'describing', 'description', 'desert', 'deserve', 'deserved', 'deserves', 'deserving', 'design', 'designated', 'designed', 'desirable', 'desire', 'desired', 'desk', 'despair', 'desperate', 'desperately', 'despicable', 'despise', 'despised', 'despises', 'despite', 'destabilize', 'destination', 'destined', 'destiny', 'destitute', 'destroy', 'destroyed', 'destroying', 'destroys', 'destruction', 'destructive', 'detail', 'detailed', 'detailing', 'detained', 'detect', 'detected', 'detection', 'detective', 'detention', 'deter', 'deteriorating', 'determination', 'determine', 'determined', 'determines', 'determining', 'deterrence', 'deterrent', 'detrimental', 'detroit', 'dev', 'devastated', 'devastating', 'develop', 'developed', 'developer', 'developing', 'development', 'deviate', 'deviation', 'device', 'devil', 'devoid', 'devote', 'df', 'dg', 'dgaf', 'dh', 'di', 'diagnosis', 'diagnostic', 'dialect', 'dialogue', 'diamond', 'diaoping', 'diaper', 'diaspora', 'dick', 'dictate', 'dictator', 'dictatorforlife', 'dictatorial', 'dictatorship', 'dictionary', 'didi', 'didnt', 'die', 'died', 'diet', 'differ', 'difference', 'different', 'differential', 'differentiate', 'differently', 'differs', 'difficult', 'difficulty', 'dig', 'digging', 'digit', 'digital', 'dignity', 'dilemma', 'diligent', 'diluted', 'dim', 'dime', 'dimension', 'dimwit', 'dine', 'ding', 'dining', 'dinner', 'diploma', 'diplomacy', 'diplomat', 'diplomatic', 'diplomatically', 'dire', 'direct', 'directed', 'direction', 'directional', 'directly', 'director', 'dirt', 'dirty', 'dis', 'disadvantage', 'disadvantaged', 'disagree', 'disagreeing', 'disagreement', 'disagrees', 'disappear', 'disappeared', 'disappearing', 'disappears', 'disappointed', 'disappointment', 'disaster', 'disastrous', 'discard', 'discarded', 'discipline', 'disciplined', 'disclaimer', 'disclose', 'disclosure', 'disconnect', 'discount', 'discounted', 'discounting', 'discouraged', 'discourse', 'discover', 'discovered', 'discovery', 'discredit', 'discrepancy', 'discriminate', 'discriminated', 'discriminates', 'discriminating', 'discrimination', 'discriminatory', 'discus', 'discussed', 'discussing', 'discussion', 'disdain', 'disease', 'disenfranchised', 'disgrace', 'disgraceful', 'disguise', 'disgust', 'disgusted', 'disgusting', 'dish', 'dishonest', 'dishonesty', 'disinformation', 'disingenuous', 'dislike', 'disliked', 'dismantle', 'dismiss', 'dismissal', 'dismissed', 'dismissing', 'disney', 'disorder', 'disparate', 'disparity', 'display', 'displayed', 'disposable', 'disposition', 'disproportionate', 'disproportionately', 'dispute', 'disputed', 'disregard', 'disrespect', 'disrupt', 'disruption', 'dissent', 'dissertation', 'dissident', 'dissolve', 'dissonance', 'distance', 'distancing', 'distant', 'distinct', 'distinction', 'distinctive', 'distinguish', 'distinguished', 'distorted', 'distortion', 'distract', 'distracted', 'distraction', 'distributed', 'distribution', 'district', 'distrust', 'disturbed', 'disturbing', 'ditch', 'ditto', 'diverse', 'diversified', 'diversity', 'diversityopportunists', 'divert', 'divide', 'divided', 'dividing', 'diving', 'division', 'divorce', 'divorced', 'dl', 'dm', 'dmb', 'dmn', 'dna', 'doable', 'doc', 'docile', 'doctor', 'doctoral', 'doctrine', 'document', 'documentary', 'documented', 'dod', 'doesnt', 'dogst', 'doleac', 'dollar', 'domain', 'domestic', 'domestically', 'dominance', 'dominant', 'dominate', 'dominated', 'dominates', 'dominating', 'domination', 'dominican', 'domino', 'donald', 'donate', 'donated', 'donating', 'donation', 'done', 'dong', 'dongbei', 'donnie', 'donny', 'donor', 'donot', 'dont', 'dood', 'doods', 'doom', 'doomed', 'door', 'doping', 'dos', 'dose', 'dot', 'double', 'doubled', 'doubling', 'doubt', 'doubtful', 'dow', 'down', 'downfall', 'download', 'downplaying', 'downside', 'downstream', 'downvote', 'downvoted', 'downward', 'dozen', 'dp', 'dpp', 'dprk', 'dr', 'draconian', 'draft', 'drag', 'dragged', 'dragging', 'dragon', 'drain', 'drama', 'dramatic', 'dramatically', 'drank', 'drastic', 'drastically', 'draw', 'drawing', 'drawn', 'dream', 'dreaming', 'dress', 'dressed', 'drew', 'drink', 'drinking', 'drive', 'driven', 'driver', 'driving', 'drone', 'drop', 'dropbox', 'dropout', 'dropped', 'dropping', 'drove', 'drowning', 'drug', 'drum', 'drunk', 'dry', 'dryer', 'dsge', 'dt', 'du', 'dual', 'dubai', 'dubbed', 'dubious', 'duck', 'dude', 'due', 'duflo', 'dug', 'duh', 'duke', 'dull', 'dum', 'dumb', 'dumber', 'dumbest', 'dummy', 'dump', 'dumped', 'dumping', 'dumpling', 'dumpster', 'dun', 'dunno', 'dust', 'dutch', 'duty', 'dvmb', 'dwarf', 'dweller', 'dwelling', 'dy', 'dying', 'dynamic', 'dynarski', 'dynasty', 'dysfunctional', 'dystopia', 'dystopian', 'dystopic', 'e', 'eager', 'ear', 'earlier', 'earliest', 'early', 'earn', 'earned', 'earner', 'earning', 'earnings', 'earns', 'earth', 'earthquake', 'ease', 'easier', 'easiest', 'easily', 'east', 'eastern', 'easterner', 'easy', 'eat', 'eaten', 'eater', 'eating', 'eats', 'eb', 'ebola', 'echelon', 'ecommerce', 'econ', 'econfin', 'econfinance', 'econometric', 'econometrica', 'econometrician', 'econometrics', 'economic', 'economically', 'economics', 'economist', 'economy', 'ecuador', 'ed', 'edge', 'edinburgh', 'edition', 'editor', 'editorial', 'edu', 'educate', 'educated', 'education', 'educational', 'educator', 'edward', 'ee', 'eerily', 'effect', 'effective', 'effectively', 'effectiveness', 'effeminate', 'efficacy', 'efficiency', 'efficient', 'efficiently', 'effort', 'eg', 'egg', 'ego', 'egypt', 'eh', 'eight', 'eileen', 'einstein', 'eisenhower', 'either', 'ej', 'ejmr', 'ejmrs', 'ejrm', 'el', 'elaborate', 'elder', 'elderly', 'elect', 'elected', 'election', 'electric', 'electrical', 'electricity', 'electronic', 'electronics', 'elegant', 'element', 'elementary', 'elephant', 'eligibility', 'eligible', 'eliminate', 'eliminated', 'eliminating', 'elimination', 'elite', 'elon', 'else', 'elsevier', 'elsewhere', 'em', 'email', 'emailed', 'embargo', 'embarrassed', 'embarrassing', 'embarrassment', 'embassy', 'embedded', 'embrace', 'embraced', 'emerge', 'emergence', 'emergency', 'emerging', 'emigrate', 'emigration', 'emission', 'emjr', 'emory', 'emotion', 'emotional', 'emotionally', 'empathy', 'emperor', 'emphasis', 'emphasize', 'emphasizes', 'empire', 'empirical', 'employ', 'employed', 'employee', 'employer', 'employment', 'empty', 'emulate', 'en', 'enable', 'enabled', 'enables', 'enact', 'enclave', 'encounter', 'encountered', 'encourage', 'encouraged', 'encourages', 'encouraging', 'end', 'endangered', 'ended', 'endemic', 'ending', 'endless', 'endogeneity', 'endogenous', 'endorsement', 'endowment', 'endure', 'enemy', 'energy', 'enforce', 'enforced', 'enforcement', 'enforcing', 'engage', 'engaged', 'engagement', 'engaging', 'engine', 'engineer', 'engineered', 'engineering', 'england', 'english', 'englishlanguage', 'englishspeaking', 'engrish', 'enhanced', 'enjoy', 'enjoyable', 'enjoyed', 'enjoying', 'enlighten', 'enlightened', 'enlightenment', 'enormous', 'enough', 'enrich', 'enriched', 'enrichment', 'enroll', 'enrolled', 'enrollment', 'enslaved', 'ensure', 'ensures', 'entail', 'enter', 'entered', 'entering', 'enterprise', 'enterprising', 'entertaining', 'entertainment', 'entire', 'entirely', 'entirety', 'entitled', 'entitlement', 'entity', 'entrance', 'entrepreneur', 'entry', 'envelope', 'environment', 'environmental', 'envy', 'epic', 'epicenter', 'epidemic', 'epidemiologist', 'episode', 'epoch', 'equal', 'equality', 'equally', 'equate', 'equating', 'equation', 'equilibrium', 'equipment', 'equipped', 'equity', 'equivalence', 'equivalent', 'er', 'era', 'eradicate', 'eradicated', 'erase', 'erased', 'ercd', 'ergo', 'eric', 'erin', 'error', 'escape', 'escaped', 'escaping', 'esl', 'esp', 'especially', 'espionage', 'essay', 'essence', 'essential', 'essentially', 'est', 'establish', 'established', 'establishing', 'establishment', 'estate', 'esteem', 'estimate', 'estimated', 'estimation', 'estonia', 'et', 'etc', 'eternity', 'etf', 'ethic', 'ethical', 'ethiopia', 'ethnic', 'ethnically', 'ethnicity', 'ethno', 'etiquette', 'ettos', 'eu', 'euclid', 'eugenics', 'eurasia', 'eurasian', 'euro', 'eurobro', 'eurobros', 'europa', 'europe', 'european', 'euthanasia', 'ev', 'evacuated', 'evaluate', 'evaluated', 'evaluating', 'evaluation', 'eve', 'even', 'evening', 'event', 'eventual', 'eventually', 'ever', 'evergrande', 'every', 'everybody', 'everybodys', 'everyday', 'everyone', 'everyones', 'everything', 'everytime', 'everywhere', 'evidence', 'evidenced', 'evident', 'evidently', 'evil', 'evolution', 'evolve', 'evolved', 'evolving', 'ew', 'ewww', 'ex', 'exact', 'exactly', 'exaggerated', 'exaggerating', 'exaggeration', 'exam', 'examination', 'examine', 'examined', 'example', 'exceed', 'exceeded', 'exceeds', 'excel', 'excellence', 'excellent', 'except', 'exception', 'exceptional', 'exceptionally', 'excess', 'excessive', 'exchange', 'excited', 'excitement', 'exciting', 'exclude', 'excluded', 'excludes', 'excluding', 'exclusion', 'exclusive', 'exclusively', 'excuse', 'execute', 'executed', 'execution', 'executive', 'exemption', 'exercise', 'exercising', 'exert', 'exhibit', 'exile', 'exist', 'existed', 'existence', 'existential', 'existing', 'exists', 'exit', 'exodus', 'exotic', 'exp', 'expand', 'expanded', 'expanding', 'expansion', 'expansionist', 'expansive', 'expat', 'expect', 'expectation', 'expected', 'expecting', 'expects', 'expel', 'expelled', 'expense', 'expensive', 'experience', 'experienced', 'experiencing', 'experiment', 'experimental', 'expert', 'expertise', 'expiring', 'explain', 'explained', 'explaining', 'explains', 'explanation', 'explicit', 'explicitly', 'explode', 'exploding', 'exploit', 'exploitation', 'exploited', 'exploiting', 'exploration', 'explore', 'explorer', 'exploring', 'explosion', 'exponential', 'exponentially', 'export', 'exported', 'exporter', 'exporting', 'expose', 'exposed', 'exposing', 'exposure', 'express', 'expressed', 'expressing', 'expression', 'expulsion', 'extend', 'extended', 'extension', 'extensive', 'extensively', 'extent', 'exterminate', 'external', 'externality', 'extinct', 'extra', 'extract', 'extraction', 'extractive', 'extracurricular', 'extracurriculars', 'extradition', 'extraordinary', 'extreme', 'extremely', 'extremism', 'extremist', 'eye', 'eyed', 'eyeglass', 'eyeq', 'eyeque', 'eyewitness', 'f', 'fa', 'faang', 'fabric', 'fabricate', 'fabricated', 'fabrication', 'fabricator', 'facade', 'face', 'facebook', 'faced', 'facial', 'facility', 'facing', 'fact', 'faction', 'facto', 'factor', 'factory', 'factual', 'factually', 'faculty', 'fad', 'fade', 'fafda', 'fail', 'failed', 'failing', 'fails', 'failure', 'fair', 'fairly', 'fairness', 'faith', 'fake', 'faked', 'fall', 'fallacy', 'fallen', 'falling', 'fallout', 'false', 'falsehood', 'falsely', 'falsified', 'falun', 'fame', 'familiar', 'familiarity', 'family', 'famine', 'famous', 'famously', 'fan', 'fanatic', 'fancy', 'fang', 'fanhai', 'fantastic', 'fantasy', 'far', 'farce', 'fare', 'farleft', 'farm', 'farmer', 'farming', 'farright', 'farther', 'fascinated', 'fascinating', 'fascism', 'fascist', 'fashion', 'fashionable', 'fast', 'faster', 'fastest', 'fat', 'fatal', 'fatality', 'fate', 'father', 'fathom', 'fauci', 'fault', 'faulty', 'favor', 'favorable', 'favorably', 'favored', 'favorite', 'favour', 'fb', 'fbi', 'fck', 'fda', 'fdi', 'fdr', 'fe', 'fear', 'fearful', 'feasible', 'feat', 'feature', 'featured', 'featuring', 'feb', 'february', 'feck', 'fed', 'federal', 'federation', 'fee', 'feed', 'feedback', 'feeding', 'feel', 'feeling', 'fei', 'fell', 'fella', 'fellow', 'fellowship', 'felt', 'female', 'feminine', 'feminism', 'feminist', 'fenance', 'fencing', 'feng', 'fermented', 'fertile', 'fertility', 'fertilizer', 'festival', 'fetish', 'fetus', 'fever', 'fewer', 'ff', 'ffp', 'ffs', 'fiction', 'fieck', 'fiecked', 'fiecking', 'fieked', 'field', 'fifth', 'fight', 'fighter', 'fighting', 'figure', 'figured', 'file', 'filed', 'filing', 'filipino', 'fill', 'filled', 'filler', 'filling', 'film', 'filter', 'filtered', 'filthy', 'fin', 'final', 'finalize', 'finalized', 'finally', 'finance', 'financed', 'financial', 'financially', 'financing', 'find', 'finding', 'fine', 'finest', 'fing', 'finger', 'finish', 'finished', 'finishing', 'finland', 'fire', 'firearm', 'fired', 'firewall', 'firework', 'firing', 'firm', 'firmly', 'first', 'firstly', 'fiscal', 'fish', 'fishing', 'fishy', 'fist', 'fit', 'fitting', 'five', 'fix', 'fixed', 'fixing', 'fk', 'fked', 'fki', 'fking', 'fl', 'flag', 'flat', 'flavor', 'flaw', 'flawed', 'fled', 'flee', 'fleeing', 'fleet', 'flew', 'flexible', 'flg', 'flight', 'flip', 'flipped', 'floating', 'flock', 'flood', 'flooded', 'flooding', 'floor', 'florida', 'flourish', 'flow', 'flowing', 'flown', 'floyd', 'flu', 'fluency', 'fluent', 'fluently', 'fly', 'flying', 'flyout', 'flyouts', 'flyover', 'fo', 'fob', 'focus', 'focused', 'focusing', 'foe', 'fold', 'folk', 'follow', 'followed', 'follower', 'following', 'follows', 'followup', 'fond', 'font', 'food', 'fook', 'fool', 'fooling', 'foolish', 'foot', 'footage', 'football', 'forbid', 'forbidden', 'force', 'forced', 'forcefully', 'forcibly', 'forcing', 'ford', 'forecast', 'forecasting', 'forefront', 'foreign', 'foreigner', 'foremost', 'foreseeable', 'foresight', 'forest', 'forever', 'forget', 'forgets', 'forgetting', 'forgive', 'forgot', 'forgotten', 'form', 'formal', 'formality', 'formally', 'format', 'formed', 'former', 'formerly', 'forming', 'formosa', 'formula', 'fort', 'forth', 'forthcoming', 'fortunate', 'fortunately', 'fortune', 'forum', 'forward', 'foster', 'fought', 'found', 'foundation', 'founded', 'founder', 'founding', 'foundry', 'four', 'fourth', 'fox', 'foxconn', 'foxnews', 'fp', 'fraction', 'fragile', 'frame', 'framework', 'franca', 'france', 'francisco', 'frank', 'franklin', 'frankly', 'frat', 'fratty', 'fraud', 'fraudulent', 'freak', 'freaking', 'free', 'freed', 'freedom', 'freely', 'freemarket', 'freeze', 'french', 'frequency', 'frequent', 'frequently', 'fresh', 'freshman', 'friction', 'friday', 'fried', 'friedman', 'friend', 'friendly', 'friendship', 'frightened', 'fringe', 'front', 'frontier', 'frontline', 'frozen', 'fruit', 'frustrated', 'frustrating', 'frustration', 'fry', 'ft', 'ftfy', 'fu', 'fuck', 'fudan', 'fuel', 'fujian', 'fuk', 'fukushima', 'fulfill', 'fulfilling', 'full', 'fulltime', 'fully', 'fun', 'function', 'functional', 'functioning', 'fund', 'fundamental', 'fundamentally', 'funded', 'funding', 'funeral', 'funniest', 'funny', 'furious', 'furthermore', 'fuss', 'future', 'fwiw', 'fxxk', 'fyi', 'g', 'ga', 'gaijin', 'gain', 'gained', 'gaining', 'gal', 'gamble', 'game', 'gaming', 'gandhi', 'gang', 'gangnam', 'gangster', 'gans', 'gao', 'gaokao', 'gap', 'garbage', 'gary', 'gas', 'gate', 'gather', 'gathering', 'gauge', 'gave', 'gay', 'gd', 'gdp', 'gdpcapita', 'ge', 'gear', 'gee', 'geez', 'gen', 'gender', 'gene', 'general', 'generalist', 'generalize', 'generally', 'generate', 'generated', 'generates', 'generation', 'generational', 'generic', 'generous', 'generously', 'genetic', 'genetically', 'genetics', 'genius', 'genocidal', 'genocide', 'genociding', 'genotype', 'genre', 'genshin', 'gentle', 'gentleman', 'genuine', 'genuinely', 'geographic', 'geographically', 'geography', 'geometer', 'geometry', 'geopolitical', 'geopolitics', 'george', 'georgia', 'german', 'germanbro', 'germanic', 'germany', 'gesture', 'get', 'getting', 'gf', 'gfs', 'gh', 'ghana', 'ghastiy', 'ghebreyesus', 'ghetto', 'ghey', 'gheys', 'ghost', 'giant', 'gift', 'gifted', 'gig', 'gigantic', 'gim', 'giod', 'girl', 'girlfriend', 'git', 'gitmo', 'give', 'given', 'giving', 'glad', 'gladly', 'glass', 'glitch', 'global', 'globalization', 'globally', 'globe', 'glorified', 'glorious', 'glory', 'glove', 'gmat', 'go', 'goa', 'goal', 'goat', 'god', 'godzilla', 'going', 'gold', 'golden', 'goldman', 'golf', 'gon', 'gone', 'gongshang', 'good', 'goodbye', 'gooded', 'gooding', 'goodlooking', 'goodluck', 'goodness', 'goodsjabs', 'goodwill', 'google', 'googled', 'googling', 'gop', 'gordon', 'gorge', 'gosh', 'gossip', 'gossiper', 'gossiping', 'got', 'gotcha', 'gotten', 'gov', 'govern', 'governance', 'governed', 'governing', 'government', 'governmental', 'governor', 'govs', 'govt', 'gpa', 'grab', 'grace', 'grad', 'grade', 'grader', 'grading', 'gradual', 'gradually', 'graduate', 'graduated', 'graduating', 'graduation', 'graf', 'graham', 'grain', 'grammar', 'grand', 'grandfather', 'grandma', 'grandmother', 'grandpa', 'grandparent', 'grant', 'granted', 'granting', 'grape', 'graph', 'grasp', 'grass', 'grateful', 'gratitude', 'grave', 'gre', 'great', 'greater', 'greatest', 'greatly', 'greatness', 'greece', 'greedy', 'greek', 'green', 'greencard', 'grew', 'grey', 'grid', 'grief', 'grievance', 'grift', 'grind', 'grip', 'grocery', 'gross', 'grothendieck', 'ground', 'group', 'grouping', 'grow', 'growing', 'grown', 'growth', 'gsb', 'gsm', 'gt', 'gtfo', 'gu', 'guam', 'guangdong', 'guanghua', 'guangxi', 'guangzhou', 'guantanamo', 'guanxi', 'guarantee', 'guaranteed', 'guard', 'guardian', 'guess', 'guessed', 'guessing', 'guest', 'guidance', 'guide', 'guided', 'guideline', 'guilt', 'guilty', 'guinea', 'gujarat', 'gulag', 'gulf', 'gullible', 'gum', 'gun', 'gunpowder', 'guo', 'gut', 'gutter', 'guy', 'gw', 'gym', 'gymnastics', 'h', 'ha', 'habit', 'hachimura', 'hack', 'hacked', 'hacker', 'hacking', 'hadnt', 'hah', 'haha', 'hahaha', 'hahahaha', 'hahahahaha', 'hahahahahahahahahhahahhahahahaha', 'hai', 'haigui', 'haiguis', 'hail', 'hainan', 'hair', 'haircut', 'hairy', 'half', 'halfway', 'hall', 'halt', 'hammer', 'hamster', 'han', 'hanbok', 'hand', 'handed', 'handful', 'handing', 'handle', 'handled', 'handler', 'handling', 'handover', 'handsome', 'hang', 'hanging', 'hangzhou', 'hanja', 'hanming', 'hanoi', 'hanqing', 'hao', 'hapa', 'happen', 'happened', 'happening', 'happens', 'happier', 'happily', 'happiness', 'happy', 'harassed', 'harassing', 'harassment', 'harbin', 'harbor', 'hard', 'hardcore', 'harder', 'hardest', 'hardly', 'hardship', 'hardware', 'hardworking', 'harm', 'harmed', 'harmful', 'harmless', 'harmonious', 'harmony', 'harry', 'harsh', 'harsher', 'harshly', 'harvard', 'harvest', 'harvested', 'harvesting', 'hashtag', 'hasnt', 'hassle', 'hat', 'hate', 'hated', 'hateful', 'hater', 'hating', 'hatred', 'haunt', 'havent', 'hawaii', 'hayashi', 'hazmat', 'hb', 'he', 'head', 'headcount', 'headed', 'heading', 'headline', 'headquartered', 'headquarters', 'health', 'healthcare', 'healthier', 'healthy', 'hear', 'heard', 'hearing', 'heart', 'heartbeat', 'heartfelt', 'heat', 'heaven', 'heavenly', 'heavily', 'heavy', 'hebei', 'hebrew', 'heck', 'heckman', 'hed', 'hedge', 'hegemon', 'hegemony', 'hehe', 'height', 'heir', 'held', 'hele', 'hell', 'hellhole', 'hello', 'help', 'helped', 'helpful', 'helping', 'helpless', 'hen', 'henan', 'hence', 'hengfu', 'henry', 'hentai', 'herd', 'here', 'heritage', 'hero', 'heroic', 'heshe', 'hesitant', 'hesitate', 'hesitation', 'heterodox', 'heterogeneity', 'heterogeneous', 'heterogenous', 'hey', 'hh', 'hi', 'hick', 'hidden', 'hide', 'hideous', 'hiding', 'hierarchical', 'hierarchy', 'high', 'higher', 'highest', 'highfunctioning', 'highlight', 'highlighting', 'highly', 'highschool', 'highspeed', 'hightech', 'highway', 'hiking', 'hilarious', 'hill', 'hillary', 'himalaya', 'himher', 'hin', 'hina', 'hindi', 'hindu', 'hinduism', 'hinese', 'hink', 'hinkistn', 'hinks', 'hint', 'hip', 'hipster', 'hiragana', 'hire', 'hired', 'hiring', 'hirshleifer', 'hisher', 'hispanic', 'historian', 'historic', 'historical', 'historically', 'history', 'hit', 'hitler', 'hitotsubashi', 'hitsz', 'hitting', 'hiv', 'hive', 'hk', 'hker', 'hkers', 'hks', 'hksg', 'hktw', 'hku', 'hkust', 'hll', 'hm', 'hmm', 'hmmm', 'hmong', 'hn', 'hnks', 'ho', 'hoap', 'hoard', 'hoax', 'hobby', 'hold', 'holder', 'holding', 'hole', 'holiday', 'holistic', 'hollywood', 'holmes', 'holocaust', 'holy', 'home', 'homeland', 'homelessness', 'homemade', 'hometown', 'homework', 'hominem', 'homo', 'homogeneity', 'homogeneous', 'homogenous', 'honest', 'honestly', 'honesty', 'honey', 'honeybee', 'hong', 'hongbin', 'honor', 'hook', 'hookup', 'hope', 'hopeful', 'hopefully', 'hopeless', 'hoping', 'horde', 'horizon', 'hormone', 'horn', 'hornet', 'horrendous', 'horrible', 'horribly', 'horrifying', 'horror', 'horse', 'hospital', 'hospitalization', 'host', 'hostage', 'hostile', 'hostility', 'hot', 'hotel', 'hotline', 'hottest', 'houghton', 'hour', 'hoursday', 'house', 'household', 'housing', 'houston', 'however', 'hows', 'hq', 'hr', 'hrm', 'hrms', 'hsbc', 'hsieh', 'ht', 'hte', 'hu', 'hua', 'huang', 'huawei', 'hub', 'hubei', 'hug', 'huge', 'hugely', 'huh', 'hui', 'hukou', 'human', 'humane', 'humanitarian', 'humanity', 'humantohuman', 'humble', 'humid', 'humiliated', 'humiliation', 'humor', 'humphries', 'hunan', 'hundred', 'hung', 'hungarian', 'hungary', 'hungry', 'hunt', 'hunter', 'hunting', 'hurt', 'hurting', 'husband', 'hust', 'hut', 'hwite', 'hwites', 'hwyte', 'hyderabad', 'hydroxychloroquine', 'hygiene', 'hynix', 'hyp', 'hype', 'hyper', 'hyperbole', 'hypersonic', 'hypocrisy', 'hypocrite', 'hypocritical', 'hypothesis', 'hypothesize', 'hypothetical', 'hysteria', 'hysterical', 'hyundai', 'i', 'iar', 'ib', 'ibm', 'icbm', 'ice', 'iceland', 'ich', 'icon', 'icu', 'id', 'idea', 'ideal', 'ideally', 'identical', 'identification', 'identified', 'identify', 'identifying', 'identity', 'ideogram', 'ideological', 'ideologically', 'ideology', 'idgaf', 'idiot', 'idiotic', 'idk', 'idol', 'ie', 'ifr', 'ig', 'ignorance', 'ignorant', 'ignore', 'ignored', 'ignores', 'ignoring', 'ihr', 'ii', 'iii', 'iit', 'iits', 'il', 'ilk', 'ill', 'illegal', 'illegally', 'illegitimate', 'illinois', 'illiterate', 'illness', 'illusion', 'im', 'image', 'imaginary', 'imagination', 'imagine', 'imagined', 'imagining', 'imbalance', 'imf', 'imho', 'imitation', 'immature', 'immediate', 'immediately', 'immense', 'immigrant', 'immigrate', 'immigrated', 'immigrating', 'immigration', 'immoral', 'immune', 'immunity', 'imo', 'impact', 'impacted', 'impactful', 'impeccable', 'imperial', 'imperialism', 'imperialist', 'implement', 'implementation', 'implemented', 'implementing', 'implication', 'implicit', 'implicitly', 'implied', 'implies', 'implode', 'imply', 'implying', 'import', 'importance', 'important', 'importantly', 'imported', 'importing', 'impose', 'imposed', 'imposes', 'imposing', 'impossible', 'impoverished', 'impressed', 'impression', 'impressive', 'imprison', 'imprisoned', 'imprisoning', 'imprisonment', 'improve', 'improved', 'improvement', 'improving', 'impulse', 'ina', 'inability', 'inaccurate', 'inaction', 'inadequate', 'inane', 'inanity', 'inappropriate', 'inbox', 'inbred', 'inc', 'incapable', 'incarceration', 'incel', 'incentive', 'incessant', 'incessantly', 'inch', 'incidence', 'incident', 'incidentally', 'incl', 'inclined', 'include', 'included', 'includes', 'including', 'inclusion', 'inclusive', 'income', 'incoming', 'incompatible', 'incompetence', 'incompetent', 'incomprehensible', 'inconsequential', 'inconsistency', 'inconsistent', 'inconvenient', 'incorporate', 'incorporated', 'incorrect', 'incorrectly', 'increase', 'increased', 'increasing', 'increasingly', 'incredible', 'incredibly', 'incremental', 'incubator', 'incumbent', 'incursion', 'indebted', 'indeed', 'indefinitely', 'independence', 'independent', 'independently', 'index', 'india', 'indiabro', 'indiabros', 'indian', 'indiana', 'indianbro', 'indicate', 'indicates', 'indicating', 'indication', 'indicator', 'indifference', 'indifferent', 'indigenous', 'indiraji', 'indirect', 'indirectly', 'indistinguishable', 'individual', 'individualism', 'individualistic', 'individuality', 'individually', 'indoctrination', 'indonesia', 'indonesian', 'indulge', 'industrial', 'industrialization', 'industrialized', 'industry', 'ineffective', 'inefficient', 'inept', 'inequality', 'inevitable', 'inevitably', 'inexplicably', 'infamous', 'infant', 'infect', 'infected', 'infecting', 'infection', 'infectious', 'infer', 'inference', 'inferior', 'inferiority', 'infested', 'infighting', 'infiltrate', 'infiltrated', 'infinite', 'infinitely', 'infinitesimal', 'inflammatory', 'inflate', 'inflated', 'inflation', 'inflict', 'inflow', 'influence', 'influenced', 'influential', 'influenza', 'influx', 'info', 'inform', 'informal', 'informative', 'informed', 'informing', 'infrastructure', 'ing', 'ingredient', 'inhabit', 'inhabitant', 'inherent', 'inherently', 'inherit', 'inherited', 'initial', 'initially', 'initiate', 'initiated', 'initiative', 'injection', 'injured', 'injustice', 'inlineblock', 'inmate', 'innate', 'inner', 'innocent', 'innovate', 'innovating', 'innovation', 'innovative', 'innovator', 'inorganic', 'inperson', 'input', 'inquiry', 'insane', 'insanely', 'insanity', 'inse', 'insead', 'insect', 'insecure', 'insecurity', 'insert', 'inside', 'insider', 'insight', 'insightful', 'insignificant', 'insist', 'insisted', 'insisting', 'insists', 'inspire', 'inspired', 'inspiring', 'instability', 'instagram', 'install', 'installation', 'installed', 'instance', 'instant', 'instantly', 'instead', 'instinct', 'institute', 'institution', 'institutional', 'instruction', 'instructor', 'instrument', 'insular', 'insult', 'insulted', 'insulting', 'insurance', 'insurgency', 'intact', 'intake', 'integral', 'integrate', 'integrated', 'integrating', 'integration', 'integrity', 'intel', 'intellect', 'intellectual', 'intellectually', 'intelligence', 'intelligent', 'intend', 'intended', 'intends', 'intense', 'intent', 'intention', 'intentional', 'intentionally', 'inter', 'interact', 'interacting', 'interaction', 'interest', 'interested', 'interesting', 'interestingly', 'interfere', 'interference', 'interfering', 'intermediary', 'intermediate', 'intern', 'internal', 'internally', 'international', 'internationally', 'interned', 'internet', 'interning', 'internment', 'internship', 'interpret', 'interpretation', 'interpreted', 'interpreting', 'interracial', 'interval', 'intervene', 'intervention', 'interview', 'interviewed', 'interviewer', 'interviewing', 'intolerant', 'intrinsic', 'intrinsically', 'intro', 'introduce', 'introduced', 'introduction', 'intuition', 'invade', 'invaded', 'invader', 'invades', 'invading', 'invasion', 'invent', 'invented', 'inventing', 'invention', 'invest', 'invested', 'investigate', 'investigated', 'investigating', 'investigation', 'investigator', 'investing', 'investment', 'investor', 'invests', 'invisible', 'invitation', 'invite', 'invited', 'involve', 'involved', 'involvement', 'involves', 'involving', 'inward', 'io', 'ioc', 'iowa', 'ip', 'ipe', 'ipho', 'iphone', 'iphones', 'ipo', 'iq', 'ir', 'iran', 'iranian', 'iraq', 'iraqi', 'irate', 'ireland', 'irish', 'irl', 'iron', 'irony', 'irrational', 'irrelevant', 'irrespective', 'irresponsible', 'irreversible', 'irvine', 'iser', 'ish', 'isi', 'islam', 'islamic', 'islamophobic', 'island', 'islander', 'isnt', 'iso', 'isolate', 'isolated', 'isolating', 'isolation', 'isolationist', 'israel', 'israeli', 'issue', 'issued', 'istanbul', 'italian', 'italy', 'itd', 'item', 'itll', 'ito', 'itt', 'iuj', 'iv', 'ivan', 'ive', 'ivermectin', 'ivy', 'j', 'jab', 'jack', 'jacket', 'jackson', 'jailed', 'jalebi', 'james', 'jan', 'jane', 'jang', 'janitor', 'january', 'jap', 'japanbro', 'jason', 'jaw', 'jay', 'jb', 'jd', 'je', 'jealous', 'jealousy', 'jean', 'jeebus', 'jeez', 'jeff', 'jeffrey', 'jeju', 'jelly', 'jennifer', 'jerb', 'jerbs', 'jerk', 'jesse', 'jesus', 'jet', 'jew', 'jewish', 'jf', 'jfc', 'jfe', 'jhu', 'ji', 'jia', 'jian', 'jiang', 'jiangsu', 'jiao', 'jiaotong', 'jihadist', 'jim', 'jimmy', 'jin', 'jinan', 'jing', 'jingoism', 'jinping', 'jinpings', 'jjy', 'jk', 'jm', 'jmc', 'jmcs', 'jmp', 'job', 'jobless', 'joe', 'john', 'johnson', 'join', 'joined', 'joint', 'joke', 'joking', 'jones', 'jong', 'jordan', 'jose', 'joseon', 'joseph', 'journal', 'journalism', 'journalist', 'journey', 'joy', 'jp', 'jpe', 'jpn', 'jpube', 'jr', 'juche', 'juden', 'judge', 'judged', 'judgement', 'judging', 'judgment', 'judicial', 'juice', 'july', 'jump', 'jumped', 'jumping', 'june', 'jung', 'jungle', 'junior', 'junjian', 'junk', 'jurisdiction', 'jury', 'justice', 'justifiable', 'justification', 'justified', 'justify', 'justifying', 'justin', 'jw', 'jws', 'k', 'kaist', 'kanji', 'kansa', 'karaoke', 'karen', 'karl', 'karma', 'kashmir', 'katakana', 'kazakh', 'kazakhstan', 'kcdc', 'kcmi', 'kdi', 'ke', 'keei', 'keen', 'keep', 'keeping', 'keio', 'kelly', 'kennedy', 'kenya', 'kept', 'kerala', 'keri', 'key', 'keyboard', 'keynesian', 'keynote', 'kfc', 'kg', 'kgb', 'khan', 'khmer', 'ki', 'kick', 'kicked', 'kicking', 'kid', 'kidding', 'kidnap', 'kidnapping', 'kidney', 'kiep', 'kiet', 'kif', 'kilf', 'kill', 'killed', 'killer', 'killing', 'kim', 'kimchi', 'kimichi', 'kind', 'kinda', 'kinder', 'kindergarten', 'kindly', 'king', 'kingdom', 'kinship', 'kipf', 'kiri', 'kirk', 'kisdi', 'kiss', 'kissinger', 'kit', 'kitchen', 'kiyotaki', 'kj', 'kk', 'kkk', 'kleptocratic', 'kli', 'kll', 'klled', 'km', 'kmt', 'kn', 'knee', 'knew', 'knife', 'knock', 'knocked', 'knockoff', 'know', 'knowing', 'knowledge', 'known', 'kolev', 'kong', 'konger', 'kongers', 'kongs', 'koreabro', 'koreabros', 'koreanamerican', 'koreanbro', 'kowloon', 'kpop', 'kr', 'kri', 'krugman', 'krw', 'ku', 'kuan', 'kudos', 'kung', 'kungs', 'kuo', 'kurdish', 'kuwait', 'kwan', 'kyear', 'kyoto', 'kyrgyzstan', 'l', 'la', 'lab', 'label', 'labeled', 'labeling', 'labelled', 'labor', 'laboratory', 'laborer', 'laborpublic', 'labour', 'lac', 'lack', 'lacking', 'ladder', 'lady', 'lag', 'lagged', 'lagging', 'lai', 'laid', 'lake', 'lam', 'lama', 'lame', 'lamp', 'land', 'landed', 'landing', 'landlord', 'landmass', 'landscape', 'landslide', 'lang', 'language', 'lanka', 'lao', 'laowhy', 'lap', 'laptop', 'large', 'largely', 'larger', 'largescale', 'largest', 'larping', 'larry', 'last', 'lasting', 'lat', 'late', 'lately', 'later', 'latest', 'latin', 'latino', 'latinx', 'latter', 'latvia', 'laugh', 'laughable', 'laughed', 'laughing', 'laughingstock', 'launch', 'launched', 'launching', 'laundry', 'laureate', 'law', 'lawabiding', 'lawmaker', 'lawsuit', 'lawyer', 'lay', 'layer', 'lazy', 'lb', 'lc', 'ldc', 'le', 'lead', 'leader', 'leadership', 'leading', 'leaf', 'league', 'leak', 'leaked', 'leaking', 'lean', 'leaning', 'leap', 'learn', 'learned', 'learning', 'learnt', 'lease', 'least', 'leave', 'leaving', 'lebanon', 'lebron', 'lecture', 'lecturer', 'led', 'lee', 'leeb', 'leebs', 'left', 'leftards', 'leftist', 'leftover', 'leftwing', 'lefty', 'leg', 'legacy', 'legal', 'legalized', 'legally', 'legend', 'legislation', 'legislature', 'legit', 'legitimacy', 'legitimate', 'lego', 'lehman', 'lemon', 'lending', 'length', 'lengthy', 'lens', 'leslie', 'lessens', 'lesser', 'lesson', 'let', 'lethal', 'letter', 'letting', 'levantine', 'level', 'leverage', 'levy', 'lg', 'lgbt', 'lgbtq', 'li', 'liability', 'liable', 'lian', 'liaoning', 'liar', 'lib', 'liberal', 'liberalism', 'liberalized', 'liberate', 'liberation', 'liberia', 'libertarian', 'liberty', 'library', 'libs', 'libtards', 'libya', 'license', 'lick', 'licking', 'lie', 'lied', 'life', 'lifelong', 'lifestyle', 'lifetime', 'lift', 'lifted', 'lifting', 'light', 'lightweight', 'likable', 'likeable', 'liked', 'likelihood', 'likely', 'likewise', 'liking', 'lil', 'limbo', 'limit', 'limitation', 'limited', 'limiting', 'limp', 'lin', 'line', 'linear', 'lined', 'ling', 'lingnan', 'lingua', 'linguistic', 'linguistically', 'lining', 'link', 'linked', 'linkedin', 'linking', 'lion', 'lip', 'liquid', 'liquidity', 'lisa', 'list', 'listed', 'listen', 'listened', 'listening', 'listing', 'lit', 'literal', 'literally', 'literate', 'literature', 'lithuania', 'little', 'liu', 'live', 'lived', 'livelihood', 'livestock', 'living', 'ljl', 'lk', 'lks', 'lmao', 'lmfao', 'lo', 'load', 'loaded', 'loan', 'loanword', 'lobby', 'local', 'locally', 'located', 'location', 'lock', 'lockdown', 'locked', 'locking', 'locust', 'log', 'logan', 'logged', 'logic', 'logical', 'logically', 'logistical', 'logistics', 'lol', 'lolol', 'lololol', 'lolz', 'london', 'lonely', 'longer', 'longest', 'longlisted', 'longrun', 'longstanding', 'longterm', 'look', 'looked', 'looking', 'looool', 'loophole', 'loose', 'loosely', 'loot', 'looting', 'lord', 'los', 'lose', 'loser', 'loses', 'losing', 'loss', 'lost', 'lot', 'lottery', 'loud', 'loudest', 'loudly', 'louis', 'louisiana', 'lousy', 'love', 'loved', 'lovely', 'lover', 'loving', 'low', 'lower', 'lowest', 'lowincome', 'lowly', 'lowquality', 'loyal', 'loyalty', 'lrm', 'lrms', 'lse', 'lser', 'ltd', 'lu', 'luang', 'luck', 'luckily', 'lucky', 'lucrative', 'ludicrous', 'lump', 'lumped', 'lumping', 'lunar', 'lunatic', 'lunch', 'lung', 'lured', 'luxembourg', 'luxury', 'ly', 'lying', 'm', 'ma', 'macarthur', 'macau', 'machine', 'macro', 'macroeconomist', 'mad', 'made', 'madison', 'madness', 'mafia', 'maga', 'magatard', 'magazine', 'magic', 'magical', 'magically', 'magnitude', 'maher', 'mail', 'mailed', 'main', 'mainland', 'mainlander', 'mainlanders', 'mainly', 'mainstream', 'maintain', 'maintained', 'maintaining', 'maintenance', 'major', 'majority', 'makati', 'make', 'maker', 'makeup', 'making', 'malay', 'malaysia', 'malaysian', 'male', 'malice', 'malicious', 'mall', 'malleable', 'malpractice', 'mama', 'man', 'manage', 'manageable', 'managed', 'management', 'manager', 'managerial', 'manages', 'managing', 'manchester', 'manchu', 'manchuria', 'manchurian', 'manchurians', 'mandarin', 'mandate', 'mandatory', 'manga', 'manhattan', 'maniacal', 'manila', 'manipulate', 'manipulated', 'manipulating', 'manipulation', 'mankind', 'mankiw', 'manlets', 'manlettes', 'manly', 'manmade', 'manner', 'manpower', 'mansion', 'manual', 'manufacture', 'manufactured', 'manufacturer', 'manufacturing', 'many', 'mao', 'maoism', 'map', 'mar', 'march', 'marching', 'margin', 'marginal', 'marginalized', 'marginally', 'marine', 'mark', 'marked', 'marker', 'market', 'marketing', 'marketprofile', 'marriage', 'married', 'marry', 'marrying', 'marshall', 'martha', 'martial', 'martyr', 'marx', 'marxism', 'marxist', 'maryland', 'masculine', 'masculinity', 'mask', 'masking', 'mass', 'massachusetts', 'massacre', 'massacred', 'massage', 'masse', 'massive', 'massively', 'master', 'mastered', 'match', 'matched', 'matching', 'mate', 'mater', 'material', 'materialism', 'materially', 'math', 'mathematical', 'mathematician', 'mathematics', 'mathletes', 'matlab', 'matrix', 'matter', 'mattered', 'mature', 'maturity', 'max', 'maximize', 'maximum', 'may', 'maybe', 'mayor', 'mba', 'mcat', 'mcdonalds', 'mckinsey', 'mcmahon', 'md', 'meager', 'meal', 'mean', 'meaning', 'meaningful', 'meaningless', 'meant', 'meantime', 'meanwhile', 'measure', 'measured', 'measurement', 'measuring', 'meat', 'mechanical', 'mechanism', 'med', 'medal', 'medalist', 'median', 'medias', 'medical', 'medicare', 'medicine', 'medieval', 'mediocre', 'mediocrity', 'mediterranean', 'medium', 'mee', 'meek', 'meet', 'meeting', 'mega', 'meh', 'melanin', 'meltdown', 'melting', 'member', 'membership', 'meme', 'memo', 'memorization', 'memorize', 'memorized', 'memorizing', 'memory', 'men', 'mena', 'menace', 'meng', 'mental', 'mentality', 'mentally', 'mention', 'mentioned', 'mentioning', 'mentor', 'menu', 'mercedes', 'mercy', 'mere', 'merely', 'merit', 'meritocracy', 'meritocratic', 'merkel', 'mers', 'mess', 'message', 'messaging', 'messed', 'messi', 'messing', 'met', 'metal', 'meter', 'method', 'methodology', 'metoo', 'metric', 'metro', 'mexican', 'mexico', 'mgtrds', 'mi', 'miami', 'michael', 'michigan', 'micro', 'microaggressions', 'microsoft', 'mid', 'middle', 'middleclass', 'middleeast', 'middleincome', 'midget', 'midnight', 'midst', 'midterm', 'midwest', 'midwit', 'might', 'mightily', 'mighty', 'migrant', 'migrate', 'migrated', 'migration', 'mike', 'mil', 'mild', 'mildly', 'mile', 'militarily', 'military', 'milk', 'mill', 'millennial', 'millennials', 'millennium', 'miller', 'million', 'millionaire', 'min', 'mind', 'minded', 'mindless', 'mindlessly', 'mindset', 'mine', 'ming', 'mingle', 'mini', 'minimal', 'minimize', 'minimum', 'mining', 'minion', 'minister', 'ministry', 'minnesota', 'minor', 'minority', 'minus', 'minute', 'miracle', 'mirror', 'misbehavior', 'miscalculation', 'misconception', 'misconduct', 'misdeed', 'miserable', 'miserably', 'misery', 'misguided', 'misinformation', 'misleading', 'misplaced', 'misreported', 'miss', 'missed', 'missile', 'missing', 'mission', 'missionary', 'mississippi', 'misstep', 'mistake', 'mistaken', 'mistreated', 'mistreatment', 'mistress', 'misunderstanding', 'misunderstood', 'mit', 'mitch', 'mitigate', 'mix', 'mixed', 'mixedrace', 'mixing', 'mixture', 'mk', 'ml', 'mln', 'mlsms', 'mm', 'mn', 'mnltts', 'mo', 'moan', 'mob', 'mobile', 'mobility', 'mobilization', 'mobilize', 'mock', 'mocked', 'mocking', 'mod', 'modal', 'mode', 'model', 'modeling', 'moderate', 'moderately', 'moderation', 'moderator', 'modern', 'moderna', 'modernized', 'modest', 'modi', 'modified', 'modis', 'mom', 'moment', 'mommy', 'monarch', 'monarchy', 'monastery', 'monday', 'monetary', 'money', 'mongol', 'mongolia', 'mongolian', 'mongrel', 'monitor', 'monitored', 'monitoring', 'monkey', 'monolith', 'monolithic', 'monopoly', 'monster', 'month', 'monthly', 'monument', 'mood', 'moon', 'moral', 'morality', 'morally', 'moreover', 'mormon', 'morning', 'morocco', 'moron', 'mortality', 'mortgage', 'moscow', 'mostly', 'mother', 'motherland', 'motif', 'motion', 'motivate', 'motivated', 'motivation', 'motive', 'mount', 'mountain', 'mountainous', 'mouse', 'mouth', 'move', 'moved', 'movement', 'movie', 'moving', 'mpp', 'mr', 'mrm', 'mrms', 'mrn', 'mrna', 'msc', 'mslim', 'msm', 'msnbc', 'much', 'mugged', 'muh', 'multicultural', 'multiculturalism', 'multiparty', 'multiple', 'multiply', 'multiracial', 'mum', 'mumbai', 'muppets', 'murder', 'murdered', 'murderer', 'murdering', 'murica', 'murican', 'muricans', 'muscle', 'museum', 'music', 'musician', 'musk', 'muslim', 'muslms', 'mussolini', 'must', 'mutated', 'mutation', 'mutual', 'mutually', 'mwg', 'myanmar', 'myopic', 'mysteriously', 'mystery', 'myth', 'n', 'na', 'nah', 'nail', 'naive', 'naked', 'name', 'named', 'namely', 'naming', 'nancy', 'nanjing', 'nankai', 'nanking', 'naomi', 'naoto', 'nap', 'narrative', 'narrow', 'nasa', 'nash', 'nasty', 'nation', 'national', 'nationalism', 'nationalist', 'nationalistic', 'nationality', 'nationwide', 'native', 'nativism', 'nato', 'natural', 'naturalized', 'naturally', 'nature', 'natzi', 'natzis', 'naval', 'navarro', 'navigate', 'navy', 'nay', 'nazi', 'nb', 'nba', 'nbc', 'nber', 'nd', 'ne', 'near', 'nearby', 'nearest', 'nearly', 'necessarily', 'necessary', 'necessity', 'neck', 'need', 'needed', 'needful', 'needing', 'needle', 'nefarious', 'negate', 'negative', 'negatively', 'negotiable', 'negotiate', 'negotiated', 'negotiating', 'nehru', 'nehruji', 'nei', 'neighbor', 'neighborhood', 'neighboring', 'neighbour', 'neither', 'neng', 'neoclassical', 'neocon', 'neoliberal', 'nepal', 'nepali', 'nepotism', 'nerd', 'nerdy', 'nerve', 'nervous', 'nese', 'net', 'netflix', 'netherlands', 'netizens', 'network', 'networking', 'neural', 'neutral', 'never', 'nevertheless', 'new', 'newer', 'newly', 'newlywed', 'news', 'newspaper', 'newton', 'next', 'nfl', 'ngo', 'ni', 'nice', 'nicely', 'nicer', 'nicest', 'niche', 'nicht', 'nigeria', 'nigerian', 'night', 'nightlife', 'nightmare', 'nightmarish', 'nike', 'nikkei', 'nine', 'nintendo', 'nio', 'nippon', 'nitpick', 'nixon', 'nk', 'nm', 'noah', 'nobel', 'noble', 'nobody', 'nod', 'nodded', 'noise', 'noisy', 'nominal', 'nominally', 'nominated', 'non', 'nonacademic', 'noname', 'nonamerican', 'nonasian', 'nonasians', 'nonchina', 'nonchinese', 'noncitizen', 'nondemocratic', 'none', 'noneconomist', 'nonetheless', 'nonexistent', 'nonhan', 'nonjapanese', 'nonjewish', 'nonkorean', 'nonnative', 'nonsense', 'nonsensical', 'nonsnu', 'nonsovereign', 'nonstop', 'nontop', 'nonus', 'nonwestern', 'nonwhite', 'nonwhites', 'nonzero', 'noodle', 'noone', 'nope', 'nord', 'nordic', 'norm', 'normal', 'normally', 'normative', 'north', 'northeast', 'northern', 'northwestern', 'norway', 'nose', 'notably', 'notch', 'note', 'noted', 'nothing', 'notice', 'noticed', 'noticing', 'notification', 'notified', 'notify', 'notion', 'notorious', 'nottingham', 'nov', 'novel', 'november', 'nowadays', 'nowag', 'nowhere', 'npr', 'nsa', 'nsd', 'nsf', 'nt', 'nth', 'ntu', 'nu', 'nuance', 'nuanced', 'nuclear', 'nuff', 'nuke', 'nuked', 'nuking', 'null', 'numba', 'number', 'numbered', 'numerical', 'numerous', 'nurse', 'nursing', 'nurturing', 'nut', 'nutshell', 'nutter', 'nvidia', 'nvke', 'nvked', 'nvkes', 'nw', 'nword', 'ny', 'nyc', 'nypd', 'nyt', 'nytimes', 'nyu', 'nz', 'oakland', 'oath', 'ob', 'obama', 'obamas', 'obedience', 'obedient', 'obese', 'obesity', 'obey', 'object', 'objective', 'objectively', 'obligation', 'obliged', 'obliterate', 'obliterated', 'obliteration', 'oblivion', 'obnoxious', 'obscure', 'observable', 'observation', 'observe', 'observed', 'observer', 'obsessed', 'obsessing', 'obsession', 'obsessive', 'obsolete', 'obstacle', 'obtain', 'obtained', 'obtuse', 'obvious', 'obviously', 'occasion', 'occasional', 'occasionally', 'occupation', 'occupied', 'occupies', 'occupy', 'occur', 'occurred', 'occurs', 'ocean', 'october', 'odd', 'odds', 'oder', 'oecd', 'ofc', 'offend', 'offended', 'offender', 'offending', 'offense', 'offensive', 'offer', 'offered', 'offering', 'office', 'officer', 'official', 'officially', 'offshore', 'offspring', 'offthestreet', 'offtopic', 'often', 'oh', 'ohio', 'oil', 'ok', 'okay', 'okinawa', 'oklahoma', 'ol', 'old', 'older', 'oldest', 'ole', 'oligarch', 'oll', 'ols', 'olympiad', 'olympic', 'olympics', 'oman', 'omg', 'omicron', 'omits', 'omitted', 'onboarding', 'one', 'onechild', 'oneparty', 'oneself', 'onethird', 'ongoing', 'online', 'onset', 'onto', 'oops', 'op', 'oped', 'open', 'opened', 'opening', 'openly', 'openminded', 'openness', 'operate', 'operated', 'operates', 'operating', 'operation', 'operative', 'opinion', 'opium', 'opponent', 'opportunist', 'opportunistic', 'opportunity', 'oppose', 'opposed', 'opposes', 'opposing', 'opposite', 'opposition', 'oppressed', 'oppressing', 'oppression', 'oppressive', 'oppressor', 'ops', 'opt', 'optimal', 'optimistic', 'optimization', 'option', 'oral', 'orange', 'orbit', 'order', 'ordered', 'ordering', 'orderly', 'ordinary', 'org', 'organ', 'organisation', 'organised', 'organization', 'organize', 'organized', 'organizer', 'organizing', 'orgasm', 'oriental', 'orientation', 'oriented', 'origin', 'original', 'originality', 'originally', 'originate', 'orthodox', 'ortigas', 'osaka', 'ostracized', 'ot', 'others', 'otherwise', 'ottoman', 'ought', 'out', 'outbreak', 'outcast', 'outcome', 'outdated', 'outdoors', 'outed', 'outer', 'outfit', 'outflow', 'outgoing', 'outlet', 'outlier', 'outlook', 'outperform', 'outpost', 'output', 'outrage', 'outraged', 'outrageous', 'outright', 'outside', 'outsourcing', 'outspoken', 'outstanding', 'outweigh', 'overall', 'overcome', 'overcoming', 'overlord', 'overly', 'overnight', 'overpriced', 'overrated', 'overrepresented', 'overrun', 'oversea', 'overseas', 'overstated', 'overt', 'overtake', 'overthrow', 'overtime', 'overweight', 'overwhelmed', 'overwhelming', 'overwhelmingly', 'owe', 'owes', 'owned', 'owner', 'ownership', 'owning', 'owns', 'ox', 'oxbridge', 'oxford', 'oxygen', 'p', 'pa', 'pace', 'pacific', 'pacify', 'pack', 'package', 'packed', 'pact', 'pad', 'page', 'paid', 'pain', 'painful', 'painlessly', 'paint', 'painting', 'pair', 'pairing', 'pajeet', 'pajeets', 'pakistan', 'pakistani', 'pal', 'palace', 'palestine', 'palo', 'pan', 'panda', 'pandemic', 'panel', 'pang', 'pangolin', 'panic', 'panicbros', 'pant', 'pao', 'paocai', 'papa', 'paper', 'paperwork', 'papi', 'par', 'parade', 'paradigm', 'paradise', 'paragraph', 'parallel', 'parameter', 'paramount', 'paranoid', 'parasite', 'parental', 'parenting', 'pareto', 'pariah', 'paris', 'parity', 'park', 'parliament', 'parlor', 'parody', 'part', 'partial', 'partially', 'participant', 'participate', 'participated', 'participating', 'participation', 'particular', 'particularly', 'partisan', 'partly', 'partner', 'partnership', 'party', 'partying', 'pas', 'pass', 'passed', 'passenger', 'passing', 'passion', 'passionate', 'passionately', 'passive', 'passport', 'past', 'pasta', 'paste', 'pat', 'patel', 'patent', 'path', 'pathbreaking', 'pathetic', 'pathetically', 'pathological', 'pathway', 'patience', 'patient', 'patrick', 'patriot', 'patriotic', 'patriotism', 'patronizing', 'pattern', 'paul', 'pawn', 'pay', 'payback', 'paycheck', 'paying', 'payment', 'payoff', 'payroll', 'pbc', 'pbcsf', 'pc', 'pcr', 'pdf', 'pe', 'peace', 'peaceful', 'peacefully', 'peak', 'peaked', 'peanut', 'pearl', 'peasant', 'peddling', 'pedigree', 'pee', 'peep', 'peer', 'peking', 'pelosi', 'pen', 'penalty', 'peninsula', 'penis', 'penn', 'penny', 'pension', 'pentagon', 'people', 'pepsi', 'per', 'perceive', 'perceived', 'percent', 'percentage', 'percentile', 'perception', 'perfect', 'perfectly', 'perform', 'performance', 'performed', 'performing', 'perhaps', 'period', 'perish', 'perk', 'permanent', 'permanently', 'permission', 'permit', 'permitted', 'perp', 'perpetrating', 'perpetrator', 'perpetual', 'perpetually', 'perpetuate', 'persecuted', 'persecution', 'persistence', 'person', 'persona', 'personable', 'personal', 'personality', 'personally', 'personnel', 'perspective', 'persuade', 'persuaded', 'peru', 'pesky', 'pessimistic', 'pet', 'peter', 'petition', 'petty', 'pew', 'pfizer', 'ph', 'phacking', 'pharma', 'pharmaceutical', 'phase', 'phbs', 'phd', 'phdstar', 'phenomenon', 'philippine', 'philosopher', 'philosophical', 'philosophy', 'phone', 'phony', 'photo', 'php', 'phrase', 'phuk', 'physic', 'physical', 'physically', 'physicist', 'pi', 'piano', 'pic', 'pick', 'picked', 'picking', 'pickled', 'picture', 'pie', 'piece', 'pig', 'pile', 'pill', 'pillaging', 'pilot', 'pin', 'pineapple', 'ping', 'pink', 'pinyin', 'pioneer', 'pipe', 'pipeline', 'pirate', 'pisa', 'piss', 'pissed', 'pit', 'pitch', 'pity', 'pivot', 'pizza', 'pku', 'pla', 'place', 'placed', 'placement', 'placenta', 'placing', 'plagiarism', 'plague', 'plain', 'plaintiff', 'plan', 'plane', 'planet', 'planned', 'planner', 'planning', 'plant', 'plastic', 'platform', 'plato', 'plausible', 'play', 'playbook', 'played', 'player', 'playing', 'plaza', 'plea', 'pleasant', 'please', 'pleasure', 'plenty', 'plight', 'plot', 'pls', 'plus', 'plz', 'pm', 'pneumonia', 'po', 'poc', 'pocs', 'podcast', 'podium', 'poem', 'poetry', 'point', 'pointed', 'pointing', 'pointless', 'poised', 'poison', 'poisoned', 'poisoning', 'poisonous', 'pol', 'poland', 'pole', 'police', 'policeman', 'policy', 'policymakers', 'polish', 'politburo', 'polite', 'politely', 'political', 'politically', 'politician', 'politicized', 'politics', 'poll', 'pollute', 'polluted', 'pollution', 'polygamy', 'polyu', 'pompeo', 'pong', 'poo', 'pooh', 'pool', 'poor', 'poorer', 'poorest', 'poorly', 'pootyn', 'pop', 'popcorn', 'pope', 'popping', 'populace', 'popular', 'popularity', 'populated', 'population', 'populism', 'pork', 'porn', 'pornography', 'port', 'portal', 'portfolio', 'portion', 'portray', 'portrayed', 'portugal', 'portuguese', 'pose', 'posed', 'posing', 'position', 'positive', 'positively', 'posri', 'posse', 'possession', 'possibility', 'possible', 'possibly', 'post', 'postal', 'postdoc', 'posted', 'poster', 'posting', 'postwar', 'pot', 'potato', 'potential', 'potentially', 'potus', 'pound', 'poverty', 'powder', 'power', 'powerful', 'powerhouse', 'powerless', 'pp', 'ppe', 'ppl', 'ppp', 'pr', 'practical', 'practically', 'practice', 'practiced', 'practicing', 'practitioner', 'pradesh', 'pragmatic', 'praise', 'praised', 'praising', 'pray', 'praying', 'prc', 'pre', 'precarious', 'precedent', 'precious', 'precise', 'precisely', 'precovid', 'precursor', 'predates', 'predatory', 'predecessor', 'predetermined', 'predict', 'predictable', 'predicted', 'predicting', 'prediction', 'predictive', 'predictor', 'predicts', 'predominantly', 'preemptive', 'preexisting', 'prefecture', 'prefer', 'preferably', 'preference', 'preferential', 'preferred', 'prefers', 'pregnant', 'prejudice', 'prejudiced', 'prelim', 'preliminary', 'premier', 'premise', 'premium', 'preoffer', 'preoffers', 'prep', 'preparation', 'prepare', 'prepared', 'preparing', 'prerequisite', 'prescription', 'presence', 'present', 'presentation', 'presented', 'presenter', 'presenting', 'preserve', 'preserved', 'presidency', 'president', 'presidential', 'press', 'pressure', 'pressured', 'prestige', 'prestigious', 'presumably', 'presume', 'presumption', 'pretend', 'pretended', 'pretending', 'pretty', 'prevail', 'prevalence', 'prevalent', 'prevent', 'prevented', 'preventing', 'prevention', 'prevents', 'previous', 'previously', 'price', 'pricing', 'pride', 'priest', 'primarily', 'primary', 'prime', 'primitive', 'princeling', 'princess', 'princeton', 'principle', 'principled', 'print', 'printing', 'prior', 'prioritize', 'prioritizing', 'priority', 'prison', 'prisoner', 'privacy', 'private', 'privately', 'privilege', 'privileged', 'prize', 'prn', 'pro', 'probability', 'probable', 'probably', 'problem', 'problematic', 'proccp', 'procedure', 'proceed', 'proceeded', 'proceeding', 'proceeds', 'process', 'processing', 'prochina', 'procurement', 'prodemocracy', 'produce', 'produced', 'producer', 'producing', 'product', 'production', 'productive', 'productivity', 'prof', 'profession', 'professional', 'professionally', 'professor', 'professorship', 'proficiency', 'proficient', 'profile', 'profit', 'profitable', 'profound', 'profoundly', 'program', 'programme', 'programmer', 'programming', 'progress', 'progressed', 'progressive', 'prohibited', 'project', 'projected', 'projecting', 'projection', 'prole', 'proliferation', 'prolly', 'prominent', 'promise', 'promised', 'promising', 'promote', 'promoted', 'promotes', 'promoting', 'promotion', 'prone', 'pronoun', 'pronounce', 'pronounced', 'pronunciation', 'proof', 'prop', 'propaganda', 'propagandist', 'propensity', 'proper', 'properly', 'property', 'propoganda', 'proponent', 'proportion', 'proposal', 'propose', 'proposed', 'proposing', 'proposition', 'proprietary', 'prosecution', 'prosecutor', 'prospect', 'prospective', 'prosper', 'prosperity', 'prosperous', 'prostitute', 'prostitution', 'protect', 'protected', 'protecting', 'protection', 'protectionism', 'protectionist', 'protective', 'protects', 'protest', 'protester', 'protesting', 'protestors', 'protocol', 'prototype', 'proud', 'proudly', 'prous', 'prove', 'proved', 'proven', 'provide', 'provided', 'provider', 'providing', 'province', 'provincial', 'proving', 'provision', 'provocation', 'provocative', 'provoking', 'proxy', 'prudent', 'pseudo', 'pseudoscience', 'pso', 'psod', 'psycho', 'psychological', 'psychology', 'psycruit', 'pub', 'public', 'publication', 'publicly', 'publish', 'published', 'publishing', 'puerto', 'pull', 'pulled', 'pulling', 'pump', 'pumped', 'pumping', 'punch', 'punched', 'punish', 'punished', 'punishing', 'punishment', 'puppet', 'purchase', 'purchased', 'purchasing', 'purdue', 'pure', 'purely', 'purge', 'purged', 'purity', 'purport', 'purpose', 'pursue', 'pursued', 'pursuing', 'pursuit', 'push', 'pushed', 'pushing', 'pussy', 'put', 'putin', 'putting', 'puzzle', 'puzzled', 'puzzling', 'pvtin', 'px', 'pyongyang', 'q', 'qaeda', 'qatar', 'qed', 'qian', 'qin', 'qing', 'qingdao', 'qje', 'qq', 'quad', 'qualification', 'qualified', 'qualify', 'qualitatively', 'quality', 'quant', 'quantitative', 'quantity', 'quantum', 'quarantined', 'quarrel', 'quarter', 'quarterly', 'queen', 'query', 'question', 'questionable', 'questioned', 'questioning', 'queue', 'quick', 'quicker', 'quickly', 'quiet', 'quietly', 'quit', 'quite', 'quo', 'quoque', 'quota', 'quote', 'quoted', 'quoting', 'r', 'ra', 'rabbit', 'race', 'racial', 'racially', 'racism', 'racist', 'racst', 'radar', 'radiation', 'radical', 'radically', 'radio', 'radioactive', 'rage', 'rail', 'railroad', 'rain', 'rainbow', 'raining', 'raise', 'raised', 'raising', 'rajan', 'rajesh', 'rally', 'ramen', 'rampage', 'rampant', 'ramsayer', 'ramseyer', 'ran', 'rancd', 'rand', 'random', 'randomly', 'range', 'ranging', 'rank', 'ranked', 'ranking', 'rant', 'rap', 'rape', 'raped', 'rapid', 'rapidly', 'rapinoe', 'rare', 'rarely', 'rat', 'rate', 'rated', 'rather', 'rating', 'ratio', 'rational', 'rationale', 'rationalize', 'rationally', 'raw', 'ray', 'raycist', 'rbb', 'rce', 'rcep', 'rcism', 'rcist', 'rcists', 'rct', 'rd', 'reach', 'reached', 'reaching', 'react', 'reacted', 'reaction', 'reactor', 'read', 'reader', 'readily', 'reading', 'ready', 'reagan', 'real', 'realise', 'realised', 'realistic', 'reality', 'realization', 'realize', 'realized', 'realizes', 'realizing', 'reallife', 'really', 'realm', 'realworld', 'reap', 'reason', 'reasonable', 'reasonably', 'reasoning', 'rebel', 'rebellion', 'rebellious', 'rebound', 'rebuild', 'recall', 'recalled', 'receipt', 'receive', 'received', 'receives', 'receiving', 'recent', 'recently', 'recession', 'recipe', 'recipient', 'reciprocate', 'reckless', 'reckon', 'reckoning', 'reclaim', 'recognise', 'recognition', 'recognize', 'recognized', 'recognizes', 'recognizing', 'recommend', 'recommendation', 'recommended', 'recommending', 'reconsider', 'record', 'recorded', 'recover', 'recovered', 'recovery', 'recruit', 'recruited', 'recruiter', 'recruiting', 'recruitment', 'red', 'reddit', 'redneck', 'reduce', 'reduced', 'reduces', 'reducing', 'reduction', 'redundant', 'reeducated', 'reeducates', 'reeducation', 'reelected', 'reelection', 'refer', 'referee', 'reference', 'referenced', 'referendum', 'referred', 'referring', 'refers', 'reflect', 'reflected', 'reflection', 'reflects', 'reform', 'refrain', 'refreshing', 'refuge', 'refugee', 'refusal', 'refuse', 'refused', 'refusing', 'refute', 'reg', 'regard', 'regarded', 'regarding', 'regardless', 'regime', 'region', 'regional', 'register', 'registered', 'regress', 'regression', 'regret', 'regular', 'regularly', 'regulated', 'regulation', 'regulator', 'regulatory', 'reich', 'reign', 'reinfected', 'reintroduced', 'reject', 'rejected', 'rejecting', 'rejection', 'rejuvenation', 'rekt', 'relate', 'related', 'relating', 'relation', 'relationship', 'relative', 'relatively', 'relax', 'relaxed', 'release', 'released', 'releasing', 'relevance', 'relevant', 'reliable', 'reliance', 'reliant', 'relief', 'relies', 'religion', 'religious', 'religiously', 'relocate', 'relocated', 'reluctant', 'rely', 'relying', 'remain', 'remained', 'remaining', 'remains', 'remark', 'remarkable', 'remarkably', 'remember', 'remembered', 'remembers', 'remind', 'reminded', 'reminder', 'reminding', 'reminds', 'remote', 'remotely', 'removal', 'remove', 'removed', 'removing', 'ren', 'renaissance', 'rename', 'reneged', 'renew', 'renewable', 'renmin', 'renowned', 'rent', 'rental', 'rentseeking', 'reopen', 'rep', 'reparation', 'repay', 'repeat', 'repeated', 'repeatedly', 'repeating', 'repercussion', 'replace', 'replaced', 'replacement', 'replacing', 'replicable', 'replicate', 'replicated', 'replication', 'replied', 'reply', 'replying', 'report', 'reported', 'reportedly', 'reporter', 'reporting', 'reprehensible', 'represent', 'representation', 'representative', 'represented', 'representing', 'represents', 'repression', 'repressive', 'reproduce', 'republic', 'republican', 'repubs', 'repulsive', 'reputable', 'reputation', 'request', 'requested', 'requesting', 'require', 'required', 'requirement', 'requires', 'requiring', 'rescue', 'research', 'researcher', 'resembles', 'resentful', 'resentment', 'reservation', 'reserve', 'reserved', 'reset', 'reside', 'residence', 'residency', 'resident', 'residential', 'residual', 'resign', 'resist', 'resistance', 'resisting', 'resolution', 'resolve', 'resolved', 'resort', 'resource', 'respect', 'respectable', 'respected', 'respectful', 'respecting', 'respective', 'respectively', 'respirator', 'respiratory', 'respond', 'responded', 'respondent', 'responding', 'responds', 'response', 'responsibility', 'responsible', 'rest', 'restat', 'restaurant', 'restore', 'restored', 'restrict', 'restricted', 'restricting', 'restriction', 'restroom', 'restud', 'result', 'resulted', 'resulting', 'resume', 'retail', 'retain', 'retained', 'retake', 'retaliate', 'retaliating', 'retaliation', 'retard', 'retarded', 'rethink', 'retire', 'retired', 'retirement', 'retracted', 'retraction', 'retreat', 'retribution', 'return', 'returned', 'returning', 'reunification', 'reuters', 'revamped', 'reveal', 'revealed', 'revealing', 'reveals', 'revenge', 'revenue', 'reverse', 'reversed', 'review', 'reviewed', 'reviewer', 'reviewing', 'revised', 'revoked', 'revolt', 'revolution', 'revolutionary', 'revolutionized', 'revolve', 'revolves', 'reward', 'rewarded', 'rewrite', 'rewriting', 'rf', 'rhetoric', 'rhetorical', 'rhino', 'rhyme', 'ri', 'rice', 'rich', 'richard', 'richer', 'richest', 'rico', 'rid', 'ride', 'rider', 'ridiculous', 'ridiculously', 'riding', 'riem', 'rifle', 'rigged', 'right', 'rightful', 'rightfully', 'rightly', 'rightwing', 'rigid', 'rigor', 'rike', 'riled', 'ring', 'riot', 'rioter', 'rioting', 'rip', 'ripped', 'rise', 'risen', 'rising', 'risk', 'risking', 'risky', 'risten', 'rival', 'river', 'rmb', 'rn', 'road', 'rob', 'robbed', 'robbery', 'robert', 'robot', 'robotic', 'robotics', 'robust', 'robustness', 'roc', 'rock', 'rocket', 'rofl', 'rogue', 'rok', 'role', 'roll', 'rolled', 'rolling', 'roman', 'romance', 'romania', 'romantic', 'rome', 'romney', 'ron', 'rona', 'roof', 'rooftop', 'rookie', 'room', 'roosevelt', 'root', 'rooted', 'rooting', 'rope', 'rose', 'rot', 'rotating', 'rotation', 'rote', 'roth', 'rothstein', 'rotten', 'rouge', 'rough', 'roughly', 'roun', 'round', 'rounded', 'route', 'routine', 'routinely', 'row', 'royal', 'royalty', 'rpe', 'rr', 'rrs', 'rt', 'rtard', 'rtarded', 'rtards', 'rtrd', 'ru', 'rub', 'rubber', 'rubbish', 'ruc', 'rude', 'rui', 'ruin', 'ruined', 'ruining', 'rule', 'ruled', 'ruler', 'ruling', 'rumor', 'rumour', 'run', 'rung', 'running', 'rural', 'rush', 'russia', 'russiabro', 'russian', 'ruthless', 's', 'sa', 'sabbatical', 'sabotage', 'sachs', 'sacred', 'sacrifice', 'sacrificed', 'sad', 'sadly', 'safe', 'safely', 'safer', 'safest', 'safety', 'saggy', 'said', 'saif', 'sail', 'sailed', 'sailor', 'sake', 'salary', 'sale', 'salesman', 'salmon', 'salt', 'sam', 'samesex', 'sample', 'sampling', 'samsung', 'samurai', 'san', 'sanction', 'sanctioned', 'sand', 'sane', 'sanity', 'santa', 'sarcasm', 'sarcastic', 'sars', 'sarscov', 'sat', 'satact', 'satan', 'satellite', 'satire', 'satisfaction', 'satisfactory', 'satisfied', 'satisfy', 'saturday', 'sauce', 'saudi', 'savage', 'save', 'saved', 'saving', 'savior', 'saw', 'sax', 'saxon', 'say', 'sayin', 'saying', 'sb', 'sc', 'scale', 'scaled', 'scam', 'scan', 'scandal', 'scandinavia', 'scandinavian', 'scapegoat', 'scare', 'scared', 'scary', 'scattered', 'scenario', 'scene', 'schedule', 'scheduled', 'scheme', 'scholar', 'scholarly', 'scholarship', 'school', 'schoolchildren', 'schooler', 'schoolers', 'schooling', 'science', 'scientific', 'scientifically', 'scientist', 'sck', 'scmp', 'scope', 'score', 'scored', 'scoring', 'scotland', 'scott', 'scratch', 'scream', 'screaming', 'screen', 'screening', 'screenshot', 'screw', 'screwed', 'script', 'scrubbed', 'scrutiny', 'scum', 'sd', 'se', 'sea', 'seafood', 'seal', 'sealed', 'search', 'searching', 'season', 'seasoned', 'seat', 'seated', 'seattle', 'sec', 'secession', 'second', 'secondary', 'secondclass', 'secondlargest', 'secret', 'secretary', 'secretive', 'secretly', 'section', 'sector', 'secular', 'secure', 'security', 'see', 'seed', 'seeing', 'seek', 'seeker', 'seeking', 'seem', 'seemed', 'seemingly', 'seems', 'seen', 'segment', 'segregation', 'seize', 'seized', 'sejong', 'select', 'selected', 'selecting', 'selection', 'selective', 'selectively', 'self', 'selfawareness', 'selfcensor', 'selfdefense', 'selfesteem', 'selfhating', 'selfinterest', 'selfinterested', 'selfish', 'selfloathing', 'sell', 'selling', 'sem', 'semblance', 'semester', 'semi', 'semiconductor', 'seminal', 'seminar', 'sen', 'senate', 'senator', 'send', 'sending', 'sends', 'senior', 'sense', 'sensible', 'sensitive', 'sensitivity', 'sent', 'sentence', 'sentenced', 'sentiment', 'seoul', 'sep', 'separate', 'separated', 'separately', 'separating', 'separatist', 'sept', 'september', 'sequence', 'serbia', 'serf', 'serial', 'series', 'serious', 'seriously', 'serology', 'servant', 'serve', 'served', 'server', 'service', 'serving', 'session', 'set', 'setting', 'settle', 'settled', 'settlement', 'settler', 'settling', 'setup', 'seven', 'several', 'severe', 'severely', 'severity', 'sewage', 'sewer', 'sex', 'sexism', 'sexist', 'sexual', 'sexually', 'sf', 'sffa', 'sfs', 'sg', 'sgd', 'sh', 'sha', 'shadow', 'shady', 'shafted', 'shake', 'shaking', 'shall', 'shallow', 'shame', 'shameful', 'shameless', 'shamelessly', 'shandong', 'shang', 'shanghai', 'shanghaitech', 'shape', 'shaped', 'share', 'shared', 'sharing', 'shark', 'sharp', 'sharply', 'shattered', 'shaved', 'shed', 'sheep', 'sheer', 'sheet', 'sheit', 'sheithole', 'shell', 'shelter', 'shen', 'sheng', 'shengwu', 'shenzhen', 'shes', 'shethole', 'shi', 'shield', 'shiet', 'shiethole', 'shift', 'shifted', 'shifting', 'shill', 'shin', 'shine', 'shining', 'shiny', 'ship', 'shipped', 'shipping', 'shirt', 'shit', 'shithole', 'shjt', 'shock', 'shocked', 'shocking', 'shoddy', 'shoe', 'shoot', 'shooting', 'shop', 'shopping', 'short', 'shortage', 'shortcoming', 'shorter', 'shortlist', 'shortlisted', 'shortlisting', 'shortlived', 'shortly', 'shortsighted', 'shortterm', 'shot', 'shoulder', 'shouldnt', 'shouldve', 'shout', 'shouted', 'shouting', 'shove', 'shoved', 'show', 'showed', 'shower', 'showing', 'shown', 'shredded', 'shrimp', 'shrine', 'shrink', 'shrinking', 'shrug', 'sht', 'shthole', 'shts', 'shtty', 'shufe', 'shunned', 'shut', 'shutdown', 'shutting', 'shuuts', 'shy', 'si', 'sian', 'siberia', 'sibling', 'sichuan', 'sichuanese', 'sick', 'sickening', 'sickness', 'side', 'sided', 'siding', 'sigh', 'sight', 'sign', 'signal', 'signaling', 'signalling', 'signed', 'significance', 'significant', 'significantly', 'signing', 'sikh', 'sikkim', 'silc', 'silence', 'silenced', 'silencing', 'silent', 'silently', 'silicon', 'silk', 'silly', 'silver', 'similar', 'similarity', 'similarly', 'simp', 'simple', 'simpler', 'simplified', 'simplistic', 'simply', 'simulation', 'simultaneously', 'sin', 'since', 'sincere', 'sincerely', 'sing', 'singapore', 'singaporean', 'singer', 'singing', 'single', 'singlish', 'sinica', 'sink', 'sinking', 'sinophobia', 'sinosphere', 'sinovac', 'sir', 'sister', 'sit', 'site', 'sits', 'sitting', 'situation', 'six', 'sixty', 'sizable', 'size', 'sizeable', 'sized', 'sjtu', 'sjw', 'sk', 'skating', 'skeptical', 'sketchy', 'skill', 'skilled', 'skinned', 'skinny', 'skip', 'skipped', 'skirt', 'skku', 'skorea', 'skorean', 'sks', 'skull', 'sky', 'skyline', 'skype', 'skyrocketed', 'skyscraper', 'slack', 'slander', 'slant', 'slanted', 'slap', 'slaughtered', 'slav', 'slave', 'slavery', 'slavic', 'sleep', 'sleeping', 'slept', 'slice', 'slide', 'slight', 'slightest', 'slightly', 'slim', 'slip', 'slipped', 'slogan', 'slot', 'slovakia', 'slow', 'slowdown', 'slower', 'slowing', 'slowly', 'slum', 'slur', 'slurp', 'sm', 'small', 'smaller', 'smallest', 'smart', 'smarter', 'smartest', 'smartphone', 'smartphones', 'smash', 'smashed', 'smbs', 'sme', 'smell', 'smelly', 'smile', 'smiling', 'smith', 'smoke', 'smoking', 'smooth', 'smoothly', 'smu', 'smug', 'snack', 'snake', 'snap', 'snapchat', 'sneak', 'sneaky', 'snow', 'snu', 'snub', 'sob', 'socalled', 'soccer', 'social', 'socialism', 'socialist', 'socialize', 'socially', 'societal', 'society', 'socioeconomic', 'sociologist', 'sociology', 'sociopath', 'soe', 'sof', 'soft', 'softpower', 'software', 'sogang', 'soil', 'soju', 'sol', 'solar', 'sold', 'soldier', 'sole', 'solely', 'solid', 'solidarity', 'solo', 'solow', 'solution', 'solve', 'solved', 'solving', 'som', 'somalia', 'somebody', 'someday', 'somehow', 'someone', 'something', 'sometime', 'sometimes', 'somewhat', 'somewhere', 'son', 'song', 'sony', 'soon', 'sooner', 'soooo', 'sophisticated', 'sophistication', 'sophistry', 'sorority', 'sorry', 'sort', 'sorted', 'sought', 'soul', 'soulless', 'sound', 'sounded', 'sounding', 'soup', 'sour', 'source', 'south', 'southeast', 'southern', 'southwest', 'sovereign', 'sovereignty', 'soviet', 'sow', 'soy', 'soybean', 'sp', 'space', 'spacing', 'spain', 'spamming', 'span', 'spaniard', 'spanish', 'spare', 'speak', 'speaker', 'speaking', 'speaks', 'special', 'specialist', 'specialization', 'specialize', 'specialized', 'specially', 'specialty', 'specie', 'specific', 'specifically', 'specification', 'specify', 'spectrum', 'speculate', 'speculating', 'speculation', 'speech', 'speed', 'spell', 'spelled', 'spelling', 'spend', 'spending', 'spends', 'spent', 'sperm', 'sphere', 'spice', 'spicy', 'spied', 'spiel', 'spike', 'spillage', 'spin', 'spine', 'spirit', 'spiritual', 'spit', 'spite', 'spitting', 'split', 'spoiled', 'spoiler', 'spoke', 'spoken', 'spokesperson', 'sponsor', 'sponsored', 'sport', 'spot', 'spotted', 'spouse', 'spouting', 'spread', 'spreading', 'spree', 'spring', 'sprint', 'spy', 'spying', 'spystate', 'spyware', 'sq', 'squander', 'square', 'squeeze', 'squid', 'sri', 'st', 'stab', 'stabbed', 'stabbing', 'stability', 'stable', 'stack', 'stadium', 'staff', 'stage', 'stagnant', 'stagnate', 'stagnated', 'stagnation', 'stair', 'stake', 'stalin', 'stalled', 'stamp', 'stand', 'standard', 'standardised', 'standardized', 'standing', 'standoff', 'standpoint', 'stanford', 'star', 'starbucks', 'stark', 'start', 'started', 'starter', 'starting', 'startup', 'starvation', 'starve', 'starved', 'starving', 'stat', 'state', 'stated', 'statement', 'stateowned', 'staterun', 'statesanctioned', 'statesponsored', 'stating', 'station', 'stationed', 'statistic', 'statistical', 'statistically', 'stats', 'statue', 'status', 'stay', 'stayed', 'staying', 'std', 'steadily', 'steady', 'steal', 'stealing', 'steam', 'steel', 'steer', 'stem', 'stench', 'step', 'stephen', 'stepped', 'stepping', 'stereotype', 'stereotypical', 'stereotyping', 'sterilization', 'stern', 'steve', 'steven', 'stew', 'stfu', 'sth', 'sthole', 'stick', 'sticking', 'sticky', 'stigma', 'still', 'stimulus', 'sting', 'stipend', 'stir', 'stock', 'stockholm', 'stockpile', 'stole', 'stolen', 'stomach', 'stone', 'stood', 'stooge', 'stoopid', 'stop', 'stopped', 'stopping', 'storage', 'store', 'stored', 'storm', 'story', 'stpid', 'straight', 'straightforward', 'strain', 'strait', 'stranded', 'strange', 'strangely', 'stranger', 'strategic', 'strategy', 'straw', 'strawman', 'stray', 'stream', 'street', 'strength', 'strengthen', 'stress', 'stressed', 'stressful', 'stretch', 'stricken', 'strict', 'stricter', 'strictly', 'strike', 'striking', 'string', 'stringent', 'strip', 'stroke', 'strong', 'stronger', 'strongest', 'strongly', 'strongman', 'stronk', 'struck', 'structural', 'structure', 'structured', 'struggle', 'struggled', 'struggling', 'stting', 'stty', 'stubborn', 'stuck', 'student', 'studied', 'studio', 'study', 'studying', 'stuff', 'stunned', 'stunning', 'stunt', 'stupd', 'stupid', 'stupidity', 'stvpid', 'style', 'styledisplay', 'su', 'sub', 'subcontinent', 'subhuman', 'subject', 'subjected', 'subjective', 'subjugate', 'submarine', 'submission', 'submissive', 'submit', 'submitted', 'suboptimal', 'subpar', 'subsaharan', 'subscriber', 'subsequent', 'subsequently', 'subservient', 'subset', 'subsidize', 'subsidized', 'subsidy', 'subsistence', 'subsistencelevel', 'substance', 'substantial', 'substantially', 'substantive', 'substitute', 'substitution', 'subtle', 'suburb', 'subversion', 'subverting', 'subway', 'succeed', 'succeeded', 'successful', 'successfully', 'successor', 'succumb', 'suck', 'sucking', 'sudan', 'sudden', 'suddenly', 'sue', 'sued', 'sufe', 'suffer', 'suffered', 'suffering', 'suffers', 'sufficient', 'sufficiently', 'sugar', 'suggest', 'suggested', 'suggesting', 'suggestion', 'suicidal', 'suicide', 'suit', 'suitable', 'suited', 'sum', 'summarize', 'summarized', 'summary', 'summer', 'sun', 'sunday', 'sung', 'super', 'superficial', 'superhigh', 'superior', 'superiority', 'supermarket', 'superpower', 'superspreader', 'supervisor', 'supervisory', 'supplement', 'supplier', 'supply', 'supplying', 'support', 'supported', 'supporter', 'supporting', 'supportive', 'suppose', 'supposed', 'supposedly', 'suppress', 'suppressed', 'suppressing', 'suppression', 'supremacist', 'supremacy', 'supreme', 'sure', 'surely', 'surface', 'surge', 'surgeon', 'surgery', 'surname', 'surpassed', 'surpasses', 'surpassing', 'surplus', 'surprise', 'surprised', 'surprising', 'surprisingly', 'surrender', 'surround', 'surrounded', 'surrounding', 'surveilance', 'surveillance', 'survey', 'survival', 'survive', 'survived', 'survives', 'surviving', 'survivor', 'sus', 'susan', 'susceptible', 'sushi', 'suspect', 'suspected', 'suspended', 'suspicion', 'suspicious', 'sustain', 'sustainable', 'sustained', 'suzerain', 'suzhou', 'swab', 'swallow', 'swamp', 'swan', 'swap', 'sway', 'swear', 'sweat', 'sweatshop', 'sweaty', 'swede', 'sweden', 'swedish', 'sweep', 'sweeping', 'sweet', 'swept', 'swift', 'swimmer', 'swimming', 'swine', 'swing', 'swiss', 'switch', 'switched', 'switching', 'switzerland', 'sword', 'sx', 'sy', 'sydney', 'syllable', 'syllabus', 'symbol', 'symbolic', 'sympathetic', 'sympathizer', 'sympathy', 'symptom', 'syndrome', 'synthetic', 'syria', 'syrian', 'syrup', 'system', 'systematic', 'systematically', 'systemic', 'sysu', 'sz', 't', 'ta', 'table', 'tablet', 'tabloid', 'taboo', 'tackle', 'taco', 'tactic', 'tactical', 'tad', 'tag', 'tai', 'tail', 'tainted', 'taipei', 'tajikistan', 'take', 'taken', 'takeover', 'taker', 'taking', 'tale', 'talent', 'talented', 'taleo', 'taliban', 'talked', 'talking', 'tall', 'taller', 'tallest', 'tally', 'tan', 'tang', 'tank', 'tao', 'tap', 'tard', 'target', 'targeted', 'targeting', 'tariff', 'task', 'taste', 'tasteless', 'tasty', 'tattoo', 'taught', 'tax', 'taxi', 'taxpayer', 'tbh', 'tc', 'tdl', 'te', 'tea', 'teach', 'teacher', 'teaching', 'team', 'tear', 'tearing', 'tech', 'technical', 'technically', 'technique', 'technologically', 'technology', 'tedious', 'tedros', 'teen', 'teenage', 'teenager', 'teeth', 'telecommunication', 'telegroup', 'telescope', 'television', 'tell', 'telling', 'temperature', 'template', 'temple', 'temporarily', 'temporary', 'ten', 'tenant', 'tencent', 'tend', 'tendency', 'tends', 'tenet', 'tennis', 'tension', 'tent', 'tentacle', 'tenth', 'tenure', 'tenured', 'tenuretrack', 'terence', 'term', 'terminal', 'terminated', 'terrible', 'terribly', 'terrified', 'terrifying', 'territorial', 'territory', 'terror', 'terrorism', 'terrorist', 'tertiary', 'tesla', 'test', 'testament', 'tested', 'testing', 'testosterone', 'texas', 'text', 'textbook', 'tf', 'tfr', 'th', 'thai', 'thailand', 'thank', 'thankful', 'thanks', 'thatd', 'thatll', 'thats', 'theater', 'thee', 'theft', 'theme', 'theorem', 'theoretical', 'theoretically', 'theorist', 'theory', 'there', 'thereby', 'therefore', 'therell', 'thesis', 'theyd', 'theyll', 'theyre', 'theyve', 'thick', 'thief', 'thiel', 'thin', 'thing', 'think', 'thinker', 'thinking', 'third', 'thirdworld', 'thirty', 'tho', 'thole', 'thoroughly', 'though', 'thought', 'thoughtful', 'thousand', 'thread', 'threat', 'threaten', 'threatened', 'threatening', 'threatens', 'three', 'threshold', 'threw', 'thrive', 'thriving', 'throat', 'throne', 'throughout', 'throw', 'throwing', 'thrown', 'thu', 'thug', 'thumb', 'thunberg', 'thursday', 'thus', 'thx', 'ti', 'tian', 'tiananmen', 'tianjin', 'tibetan', 'tick', 'ticket', 'tide', 'tie', 'tied', 'tienanmen', 'tier', 'tiger', 'tight', 'tightening', 'tightly', 'tik', 'til', 'till', 'time', 'timeline', 'timely', 'timidity', 'timing', 'tinder', 'ting', 'tiny', 'tip', 'tire', 'tired', 'tissue', 'title', 'titled', 'tj', 'tldr', 'tm', 'tmurp', 'toast', 'todai', 'today', 'toddler', 'toe', 'toefl', 'tofu', 'together', 'toilet', 'tok', 'tokyo', 'told', 'tolerance', 'tolerant', 'tolerate', 'tolerated', 'toll', 'tom', 'tomorrow', 'ton', 'tonal', 'tone', 'tong', 'tongue', 'tonight', 'took', 'tool', 'top', 'topic', 'topple', 'toptier', 'torn', 'toronto', 'torture', 'total', 'totalitarian', 'totalitarianism', 'totally', 'touch', 'touched', 'tough', 'tougher', 'tour', 'tourism', 'tourist', 'tournament', 'toward', 'towards', 'tower', 'town', 'toxic', 'toy', 'toyota', 'tp', 'tpp', 'tr', 'trace', 'traced', 'tracing', 'track', 'tracked', 'tracking', 'trade', 'traded', 'tradeoff', 'trader', 'trading', 'tradition', 'traditional', 'traditionally', 'traffic', 'trafficking', 'tragedy', 'tragic', 'trail', 'trailer', 'train', 'trained', 'training', 'trait', 'traitor', 'trajectory', 'tran', 'trans', 'transaction', 'transcript', 'transfer', 'transferred', 'transform', 'transformation', 'transformed', 'transit', 'transition', 'translate', 'translated', 'translation', 'translator', 'transmission', 'transparency', 'transparent', 'transport', 'transportation', 'trap', 'trapped', 'trash', 'trauma', 'travel', 'traveled', 'traveler', 'traveling', 'travelled', 'traveller', 'travelling', 'trd', 'treason', 'treasure', 'treasury', 'treat', 'treated', 'treating', 'treatment', 'treaty', 'tree', 'tremendous', 'trend', 'trevon', 'tri', 'trial', 'tribal', 'tribalism', 'tribe', 'tribunal', 'trick', 'tricked', 'tricky', 'tried', 'trigger', 'triggered', 'triggering', 'trillion', 'trim', 'trip', 'triple', 'trivial', 'trll', 'trmp', 'troll', 'trolling', 'troop', 'tropical', 'trouble', 'troubling', 'trsh', 'truck', 'trudeau', 'true', 'truly', 'truman', 'trump', 'trunip', 'trust', 'trusted', 'trustworthy', 'truth', 'truthful', 'try', 'trying', 'tsai', 'tsinghua', 'tsmc', 'tt', 'tu', 'tube', 'tucker', 'tuesday', 'tuition', 'turd', 'turing', 'turk', 'turkestan', 'turkey', 'turkic', 'turkish', 'turkmenistan', 'turmoil', 'turn', 'turned', 'turning', 'turnip', 'turnover', 'turtle', 'tutor', 'tutoring', 'tv', 'tw', 'tweak', 'tweet', 'tweeted', 'tweeting', 'twenty', 'twice', 'twinkle', 'twist', 'twitter', 'two', 'twofaced', 'tyler', 'type', 'typed', 'typhoon', 'typical', 'typically', 'typing', 'typo', 'tyranny', 'tyrone', 'u', 'uae', 'uap', 'ubc', 'uber', 'ubiquitous', 'uc', 'ucb', 'uchicago', 'ucla', 'ucs', 'ucsf', 'uestc', 'ufe', 'ug', 'uganda', 'ugh', 'ugly', 'ugrad', 'uh', 'uhh', 'uhhuh', 'uibe', 'uighur', 'uiuc', 'uk', 'ukap', 'ukaps', 'ukraine', 'ukrainian', 'ultimate', 'ultimately', 'ultra', 'um', 'umm', 'un', 'unable', 'unacceptable', 'unattractive', 'unaware', 'unbelievable', 'unbelievably', 'unbiased', 'unc', 'uncensored', 'uncertain', 'uncertainty', 'uncivilized', 'uncle', 'unclear', 'uncomfortable', 'uncommon', 'unconditional', 'unconditionally', 'uncontrolled', 'uncountable', 'uncover', 'uncovered', 'uncreative', 'und', 'undefined', 'underclass', 'underdeveloped', 'underestimate', 'underestimated', 'underestimating', 'undergoing', 'undergone', 'undergrad', 'undergraduate', 'undergread', 'undergreads', 'underground', 'underlying', 'undermine', 'undermining', 'underperforming', 'underplaced', 'underrated', 'underreported', 'underreporting', 'underrepresented', 'understand', 'understandable', 'understanding', 'understands', 'understood', 'undervalued', 'unemployed', 'unemployment', 'unethical', 'unexpected', 'unfair', 'unfairly', 'unfairness', 'unfortunate', 'unfortunately', 'unfriendly', 'ungrateful', 'unhappy', 'unhealthy', 'unhinged', 'uni', 'unicorn', 'unification', 'unified', 'uniform', 'uniformly', 'unify', 'unilaterally', 'uninformed', 'unintelligible', 'union', 'unique', 'uniquely', 'unis', 'unit', 'unite', 'united', 'unity', 'univ', 'universal', 'universally', 'universe', 'university', 'univs', 'unjust', 'unknown', 'unleashed', 'unless', 'unlike', 'unlikely', 'unlimited', 'unlucky', 'unnecessary', 'unobservables', 'unoriginal', 'unpleasant', 'unpopular', 'unprecedented', 'unpredictable', 'unprepared', 'unproductive', 'unprofessional', 'unqualified', 'unrealistic', 'unreasonable', 'unrelated', 'unreliable', 'unrest', 'unsafe', 'unstable', 'unstoppable', 'unsuccessful', 'unsurprisingly', 'unsustainable', 'untrue', 'unusual', 'unwanted', 'upbringing', 'upcoming', 'update', 'updated', 'updating', 'upenn', 'upfront', 'upgrade', 'upheaval', 'upload', 'upon', 'upper', 'uppermiddle', 'ups', 'upset', 'upside', 'upward', 'ur', 'urban', 'urge', 'urgent', 'urgently', 'urine', 'urm', 'urms', 'us', 'usa', 'usage', 'usborn', 'usc', 'uschina', 'usd', 'use', 'used', 'useful', 'useless', 'user', 'useu', 'useurope', 'using', 'ussr', 'ust', 'usual', 'usually', 'usuk', 'ut', 'utah', 'utd', 'utility', 'utmost', 'utokyo', 'utopia', 'utter', 'utterly', 'uvlrm', 'uw', 'uyghur', 'uyghurs', 'uygur', 'uzbekistan', 'v', 'vacancy', 'vacation', 'vaccinated', 'vaccination', 'vaccine', 'vague', 'vaguely', 'vain', 'valid', 'validity', 'valley', 'valuable', 'value', 'valueadded', 'valued', 'van', 'vancouver', 'vanish', 'vap', 'variable', 'variance', 'variation', 'varied', 'varies', 'variety', 'various', 'varsity', 'vary', 'vassal', 'vast', 'vastly', 'vc', 'vegan', 'vegetable', 'vegetarian', 'vehicle', 'venerated', 'venezuela', 'vengeance', 'venice', 'vent', 'ventilator', 'venture', 'verb', 'verbal', 'verbally', 'verbatim', 'verbose', 'verge', 'verifiable', 'verify', 'versa', 'verse', 'version', 'versus', 'vet', 'veteran', 'veto', 'vetted', 'vhrm', 'vi', 'via', 'viable', 'vibe', 'vibrant', 'vice', 'vicious', 'victim', 'victimhood', 'victoria', 'victory', 'video', 'viet', 'vietbro', 'vietnam', 'vietnamese', 'view', 'viewed', 'viewer', 'viewpoint', 'vigorously', 'viking', 'vil', 'vile', 'village', 'villain', 'violate', 'violated', 'violates', 'violating', 'violation', 'violence', 'violent', 'violin', 'viral', 'virgin', 'virginia', 'virginity', 'virologist', 'virology', 'virtual', 'virtually', 'virtue', 'virus', 'visa', 'visible', 'vision', 'visit', 'visited', 'visiting', 'visitor', 'vital', 'vlad', 'vladimir', 'vladimirovich', 'vladivostok', 'vlrm', 'vocab', 'vocabulary', 'vocal', 'voice', 'vol', 'volume', 'voluntarily', 'voluntary', 'volunteer', 'vomit', 'von', 'vote', 'voted', 'voter', 'voth', 'voting', 'vp', 'vpn', 'vpns', 'vulnerable', 'vvlrm', 'vvp', 'w', 'waaaah', 'wag', 'wage', 'waifu', 'wait', 'waited', 'waiting', 'wake', 'waking', 'walk', 'walked', 'walking', 'wall', 'wallet', 'walmart', 'walter', 'wan', 'wang', 'wangs', 'wannabe', 'want', 'wanted', 'wanting', 'war', 'warehouse', 'warfare', 'warhead', 'warm', 'warmer', 'warming', 'warmongering', 'warmth', 'warn', 'warned', 'warning', 'warren', 'warrior', 'warsaw', 'warship', 'wartime', 'wary', 'waseda', 'wash', 'washed', 'washer', 'washing', 'washington', 'wasnt', 'wasp', 'waste', 'wasted', 'wasteland', 'wasting', 'watch', 'watched', 'watcher', 'watching', 'water', 'watson', 'wave', 'waving', 'wax', 'way', 'wayne', 'wb', 'weak', 'weaken', 'weakening', 'weaker', 'weakest', 'weakness', 'wealth', 'wealthier', 'wealthiest', 'wealthy', 'weapon', 'wear', 'wearing', 'weather', 'web', 'website', 'wechat', 'wed', 'wedlock', 'wednesday', 'weeb', 'weed', 'weekend', 'weekly', 'wei', 'weibo', 'weigh', 'weight', 'weightlifting', 'weird', 'weirdly', 'weirdo', 'welcome', 'welcomed', 'welcoming', 'welfare', 'well', 'wellbeing', 'welleducated', 'wellknown', 'wellrounded', 'wemen', 'wen', 'went', 'werent', 'west', 'western', 'westerner', 'wet', 'weve', 'wh', 'wharton', 'whataboutism', 'whatever', 'whats', 'whatsapp', 'whatsoever', 'wheat', 'wheel', 'whenever', 'whens', 'whereas', 'wheres', 'wherever', 'whether', 'whichever', 'whilst', 'whim', 'whine', 'whining', 'whiny', 'whistleblower', 'white', 'whiteasian', 'whiteness', 'who', 'whoa', 'whod', 'whoever', 'whole', 'whomever', 'whore', 'whose', 'whove', 'wht', 'whte', 'whtes', 'whyt', 'whyte', 'whytes', 'wi', 'wide', 'widely', 'wider', 'widespread', 'width', 'wife', 'wiki', 'wikipedia', 'wild', 'wildlife', 'wildly', 'william', 'willing', 'willingly', 'willingness', 'win', 'wind', 'window', 'wine', 'wing', 'winger', 'winne', 'winner', 'winnie', 'winning', 'winter', 'winwin', 'wipe', 'wiped', 'wisconsin', 'wise', 'wish', 'wished', 'wishful', 'wishing', 'wit', 'witch', 'withdrawal', 'withdrew', 'within', 'without', 'witness', 'witnessed', 'wk', 'wke', 'wkenism', 'wkes', 'wkism', 'wmd', 'wmen', 'wn', 'wns', 'woah', 'woe', 'wok', 'woke', 'wokeism', 'wokeness', 'wokes', 'wokism', 'wolf', 'wolfers', 'woman', 'womb', 'womn', 'womxn', 'wonder', 'wondered', 'wonderful', 'wondering', 'wong', 'wongs', 'wont', 'wood', 'wool', 'word', 'wore', 'work', 'worked', 'workforce', 'working', 'workplace', 'workshop', 'world', 'worldclass', 'worlder', 'worlders', 'worldview', 'worldwide', 'worn', 'worried', 'worry', 'worrying', 'worse', 'worsening', 'worship', 'worst', 'worth', 'worthless', 'worthwhile', 'worthy', 'would', 'wouldnt', 'wouldve', 'wound', 'wow', 'wp', 'wrap', 'wrapped', 'wrestling', 'write', 'writer', 'writes', 'writing', 'written', 'wrong', 'wrongdoing', 'wrongly', 'wrongpoorly', 'wrote', 'wrt', 'wsj', 'wtf', 'wth', 'wto', 'wu', 'wuhan', 'wumao', 'wumaos', 'wumwum', 'wustl', 'wut', 'ww', 'wwi', 'wwii', 'wwiii', 'wy', 'wyt', 'wyte', 'x', 'xenophobia', 'xenophobic', 'xh', 'xi', 'xiamen', 'xian', 'xiao', 'xiaobo', 'xiaodong', 'xiaohong', 'xiaoping', 'xiaowang', 'xie', 'xin', 'xinran', 'xiong', 'xitler', 'xjtlu', 'xmu', 'xt', 'xu', 'xuan', 'xxx', 'ya', 'yahoo', 'yakuza', 'yale', 'yall', 'yan', 'yanbian', 'yang', 'yankee', 'yao', 'yap', 'yatsen', 'yau', 'yawn', 'yc', 'ye', 'yea', 'yeah', 'year', 'yearold', 'yell', 'yellen', 'yelling', 'yellow', 'yemen', 'yemeni', 'yen', 'yep', 'yes', 'yesterday', 'yet', 'yew', 'yi', 'yikes', 'ying', 'yingyi', 'yo', 'yoga', 'yong', 'yongmiao', 'yonsei', 'york', 'yorker', 'youd', 'youll', 'young', 'younger', 'youre', 'youth', 'youtube', 'youve', 'yp', 'ypp', 'ypps', 'yps', 'yr', 'yt', 'yte', 'ytes', 'yu', 'yuan', 'yue', 'yum', 'yun', 'yup', 'yuro', 'yurop', 'yuropoor', 'yuros', 'yw', 'yx', 'yy', 'z', 'zambia', 'ze', 'zealand', 'zedong', 'zenz', 'zero', 'zerocovid', 'zh', 'zhang', 'zhangs', 'zhao', 'zhejiang', 'zheng', 'zhengzhi', 'zhiguo', 'zhina', 'zhng', 'zhong', 'zhongnan', 'zhongxiang', 'zhou', 'zhu', 'zi', 'zimbabwe', 'zip', 'ziqi', 'zju', 'zombie', 'zone', 'zoo', 'zoom', 'zoomers', 'zu', 'zuel']\n",
            "Instrument variable(s): None\n",
            "No. Observations: 13314\n",
            "\n",
            "------------------ Score & algorithm ------------------\n",
            "Score function: partialling out\n",
            "DML algorithm: dml2\n",
            "\n",
            "------------------ Machine learner   ------------------\n",
            "Learner ml_l: Lasso(alpha=0.1)\n",
            "Learner ml_m: Lasso(alpha=0.1)\n",
            "\n",
            "------------------ Resampling        ------------------\n",
            "No. folds: 5\n",
            "No. repeated sample splits: 1\n",
            "Apply cross-fitting: True\n",
            "\n",
            "------------------ Fit summary       ------------------\n",
            "                 coef   std err         t     P>|t|     2.5 %    97.5 %\n",
            "able        -0.008602  0.008565 -1.004319  0.315225 -0.025390  0.008185\n",
            "achieves     0.005869  0.001825  3.216273  0.001299  0.002292  0.009445\n",
            "active      -0.004295  0.003109 -1.381678  0.167071 -0.010388  0.001798\n",
            "alive       -0.003758  0.001983 -1.895032  0.058088 -0.007645  0.000129\n",
            "asianindian -0.015891  0.009615 -1.652792  0.098373 -0.034735  0.002953\n",
            "...               ...       ...       ...       ...       ...       ...\n",
            "worker      -0.005544  0.005977 -0.927671  0.353578 -0.017259  0.006170\n",
            "xiaopings   -0.005500  0.008676 -0.633972  0.526099 -0.022504  0.011504\n",
            "xinhua       0.002936  0.005583  0.525833  0.599004 -0.008007  0.013879\n",
            "yield       -0.011722  0.009107 -1.287204  0.198023 -0.029571  0.006127\n",
            "zai         -0.018708  0.006059 -3.087571  0.002018 -0.030584 -0.006832\n",
            "\n",
            "[97 rows x 6 columns]\n"
          ]
        }
      ]
    },
    {
      "cell_type": "markdown",
      "source": [
        "### APE 和 CI"
      ],
      "metadata": {
        "id": "o2bsVTEU8UIO"
      }
    },
    {
      "cell_type": "markdown",
      "source": [
        "但其實APE好像不行捏"
      ],
      "metadata": {
        "id": "vkeotfDC8axN"
      }
    },
    {
      "cell_type": "code",
      "source": [
        "print(dml_plr_obj_stem.coef)"
      ],
      "metadata": {
        "id": "2G6pVILr8h93",
        "colab": {
          "base_uri": "https://localhost:8080/"
        },
        "outputId": "668b39dc-b556-4f9c-f01d-41622273d26a"
      },
      "execution_count": 38,
      "outputs": [
        {
          "output_type": "stream",
          "name": "stdout",
          "text": [
            "[-0.00860227  0.00586894 -0.00429496 -0.00375804 -0.0158909  -0.01850233\n",
            " -0.01802024 -0.0151602  -0.01360154 -0.00184233 -0.05454185 -0.0002982\n",
            " -0.00483525 -0.00581932  0.0007291  -0.0057094  -0.01702484 -0.00310565\n",
            " -0.0082251   0.01029452 -0.01001834 -0.00282723 -0.00786671 -0.00112071\n",
            "  0.00115194 -0.00833246 -0.00903709 -0.00564661  0.00421571 -0.0120987\n",
            "  0.00418818 -0.0081847  -0.00895716  0.0080105  -0.00841383  0.00047207\n",
            " -0.00703802 -0.0272872  -0.00818918 -0.00216197 -0.02481076  0.00594162\n",
            " -0.02729404  0.00478096 -0.02450551 -0.00827075 -0.01220877 -0.00671684\n",
            "  0.00084084 -0.00812599 -0.01101467 -0.00736819 -0.03446616 -0.03707513\n",
            "  0.00125971 -0.00437258 -0.01450937  0.00438344 -0.00437906 -0.0182912\n",
            " -0.00098388 -0.0254217  -0.01665802  0.0029666  -0.03105699 -0.00338817\n",
            "  0.00993257 -0.00111883  0.00113588 -0.0034578  -0.0093413   0.0027491\n",
            " -0.00710031 -0.00090847 -0.00452349 -0.00101397 -0.00576746 -0.00197139\n",
            "  0.00056227 -0.0034105  -0.01739219 -0.02088096 -0.00859493  0.00098133\n",
            " -0.02782811 -0.00627954 -0.00020022 -0.00270068 -0.05093453 -0.00434503\n",
            " -0.01002531 -0.00131247 -0.00554449 -0.00550016  0.00293591 -0.01172224\n",
            " -0.01870849]\n"
          ]
        }
      ]
    },
    {
      "cell_type": "markdown",
      "source": [
        "### 看看 stemming 和 lemmatization 的 CI ，用誰?"
      ],
      "metadata": {
        "id": "bOK2Bhpj8oIb"
      }
    },
    {
      "cell_type": "code",
      "source": [
        "dml_plr_obj_stem.summary"
      ],
      "metadata": {
        "colab": {
          "base_uri": "https://localhost:8080/",
          "height": 424
        },
        "id": "LG3ZFoIzOS4l",
        "outputId": "f92da62d-8566-4427-9934-d359d574b779"
      },
      "execution_count": 39,
      "outputs": [
        {
          "output_type": "execute_result",
          "data": {
            "text/plain": [
              "                 coef   std err         t     P>|t|     2.5 %    97.5 %\n",
              "able        -0.008602  0.008565 -1.004319  0.315225 -0.025390  0.008185\n",
              "achieves     0.005869  0.001825  3.216273  0.001299  0.002292  0.009445\n",
              "active      -0.004295  0.003109 -1.381678  0.167071 -0.010388  0.001798\n",
              "alive       -0.003758  0.001983 -1.895032  0.058088 -0.007645  0.000129\n",
              "asianindian -0.015891  0.009615 -1.652792  0.098373 -0.034735  0.002953\n",
              "...               ...       ...       ...       ...       ...       ...\n",
              "worker      -0.005544  0.005977 -0.927671  0.353578 -0.017259  0.006170\n",
              "xiaopings   -0.005500  0.008676 -0.633972  0.526099 -0.022504  0.011504\n",
              "xinhua       0.002936  0.005583  0.525833  0.599004 -0.008007  0.013879\n",
              "yield       -0.011722  0.009107 -1.287204  0.198023 -0.029571  0.006127\n",
              "zai         -0.018708  0.006059 -3.087571  0.002018 -0.030584 -0.006832\n",
              "\n",
              "[97 rows x 6 columns]"
            ],
            "text/html": [
              "\n",
              "  <div id=\"df-fc57c883-0c5f-4392-9dc3-fb62b6686f0d\">\n",
              "    <div class=\"colab-df-container\">\n",
              "      <div>\n",
              "<style scoped>\n",
              "    .dataframe tbody tr th:only-of-type {\n",
              "        vertical-align: middle;\n",
              "    }\n",
              "\n",
              "    .dataframe tbody tr th {\n",
              "        vertical-align: top;\n",
              "    }\n",
              "\n",
              "    .dataframe thead th {\n",
              "        text-align: right;\n",
              "    }\n",
              "</style>\n",
              "<table border=\"1\" class=\"dataframe\">\n",
              "  <thead>\n",
              "    <tr style=\"text-align: right;\">\n",
              "      <th></th>\n",
              "      <th>coef</th>\n",
              "      <th>std err</th>\n",
              "      <th>t</th>\n",
              "      <th>P&gt;|t|</th>\n",
              "      <th>2.5 %</th>\n",
              "      <th>97.5 %</th>\n",
              "    </tr>\n",
              "  </thead>\n",
              "  <tbody>\n",
              "    <tr>\n",
              "      <th>able</th>\n",
              "      <td>-0.008602</td>\n",
              "      <td>0.008565</td>\n",
              "      <td>-1.004319</td>\n",
              "      <td>0.315225</td>\n",
              "      <td>-0.025390</td>\n",
              "      <td>0.008185</td>\n",
              "    </tr>\n",
              "    <tr>\n",
              "      <th>achieves</th>\n",
              "      <td>0.005869</td>\n",
              "      <td>0.001825</td>\n",
              "      <td>3.216273</td>\n",
              "      <td>0.001299</td>\n",
              "      <td>0.002292</td>\n",
              "      <td>0.009445</td>\n",
              "    </tr>\n",
              "    <tr>\n",
              "      <th>active</th>\n",
              "      <td>-0.004295</td>\n",
              "      <td>0.003109</td>\n",
              "      <td>-1.381678</td>\n",
              "      <td>0.167071</td>\n",
              "      <td>-0.010388</td>\n",
              "      <td>0.001798</td>\n",
              "    </tr>\n",
              "    <tr>\n",
              "      <th>alive</th>\n",
              "      <td>-0.003758</td>\n",
              "      <td>0.001983</td>\n",
              "      <td>-1.895032</td>\n",
              "      <td>0.058088</td>\n",
              "      <td>-0.007645</td>\n",
              "      <td>0.000129</td>\n",
              "    </tr>\n",
              "    <tr>\n",
              "      <th>asianindian</th>\n",
              "      <td>-0.015891</td>\n",
              "      <td>0.009615</td>\n",
              "      <td>-1.652792</td>\n",
              "      <td>0.098373</td>\n",
              "      <td>-0.034735</td>\n",
              "      <td>0.002953</td>\n",
              "    </tr>\n",
              "    <tr>\n",
              "      <th>...</th>\n",
              "      <td>...</td>\n",
              "      <td>...</td>\n",
              "      <td>...</td>\n",
              "      <td>...</td>\n",
              "      <td>...</td>\n",
              "      <td>...</td>\n",
              "    </tr>\n",
              "    <tr>\n",
              "      <th>worker</th>\n",
              "      <td>-0.005544</td>\n",
              "      <td>0.005977</td>\n",
              "      <td>-0.927671</td>\n",
              "      <td>0.353578</td>\n",
              "      <td>-0.017259</td>\n",
              "      <td>0.006170</td>\n",
              "    </tr>\n",
              "    <tr>\n",
              "      <th>xiaopings</th>\n",
              "      <td>-0.005500</td>\n",
              "      <td>0.008676</td>\n",
              "      <td>-0.633972</td>\n",
              "      <td>0.526099</td>\n",
              "      <td>-0.022504</td>\n",
              "      <td>0.011504</td>\n",
              "    </tr>\n",
              "    <tr>\n",
              "      <th>xinhua</th>\n",
              "      <td>0.002936</td>\n",
              "      <td>0.005583</td>\n",
              "      <td>0.525833</td>\n",
              "      <td>0.599004</td>\n",
              "      <td>-0.008007</td>\n",
              "      <td>0.013879</td>\n",
              "    </tr>\n",
              "    <tr>\n",
              "      <th>yield</th>\n",
              "      <td>-0.011722</td>\n",
              "      <td>0.009107</td>\n",
              "      <td>-1.287204</td>\n",
              "      <td>0.198023</td>\n",
              "      <td>-0.029571</td>\n",
              "      <td>0.006127</td>\n",
              "    </tr>\n",
              "    <tr>\n",
              "      <th>zai</th>\n",
              "      <td>-0.018708</td>\n",
              "      <td>0.006059</td>\n",
              "      <td>-3.087571</td>\n",
              "      <td>0.002018</td>\n",
              "      <td>-0.030584</td>\n",
              "      <td>-0.006832</td>\n",
              "    </tr>\n",
              "  </tbody>\n",
              "</table>\n",
              "<p>97 rows × 6 columns</p>\n",
              "</div>\n",
              "      <button class=\"colab-df-convert\" onclick=\"convertToInteractive('df-fc57c883-0c5f-4392-9dc3-fb62b6686f0d')\"\n",
              "              title=\"Convert this dataframe to an interactive table.\"\n",
              "              style=\"display:none;\">\n",
              "        \n",
              "  <svg xmlns=\"http://www.w3.org/2000/svg\" height=\"24px\"viewBox=\"0 0 24 24\"\n",
              "       width=\"24px\">\n",
              "    <path d=\"M0 0h24v24H0V0z\" fill=\"none\"/>\n",
              "    <path d=\"M18.56 5.44l.94 2.06.94-2.06 2.06-.94-2.06-.94-.94-2.06-.94 2.06-2.06.94zm-11 1L8.5 8.5l.94-2.06 2.06-.94-2.06-.94L8.5 2.5l-.94 2.06-2.06.94zm10 10l.94 2.06.94-2.06 2.06-.94-2.06-.94-.94-2.06-.94 2.06-2.06.94z\"/><path d=\"M17.41 7.96l-1.37-1.37c-.4-.4-.92-.59-1.43-.59-.52 0-1.04.2-1.43.59L10.3 9.45l-7.72 7.72c-.78.78-.78 2.05 0 2.83L4 21.41c.39.39.9.59 1.41.59.51 0 1.02-.2 1.41-.59l7.78-7.78 2.81-2.81c.8-.78.8-2.07 0-2.86zM5.41 20L4 18.59l7.72-7.72 1.47 1.35L5.41 20z\"/>\n",
              "  </svg>\n",
              "      </button>\n",
              "      \n",
              "  <style>\n",
              "    .colab-df-container {\n",
              "      display:flex;\n",
              "      flex-wrap:wrap;\n",
              "      gap: 12px;\n",
              "    }\n",
              "\n",
              "    .colab-df-convert {\n",
              "      background-color: #E8F0FE;\n",
              "      border: none;\n",
              "      border-radius: 50%;\n",
              "      cursor: pointer;\n",
              "      display: none;\n",
              "      fill: #1967D2;\n",
              "      height: 32px;\n",
              "      padding: 0 0 0 0;\n",
              "      width: 32px;\n",
              "    }\n",
              "\n",
              "    .colab-df-convert:hover {\n",
              "      background-color: #E2EBFA;\n",
              "      box-shadow: 0px 1px 2px rgba(60, 64, 67, 0.3), 0px 1px 3px 1px rgba(60, 64, 67, 0.15);\n",
              "      fill: #174EA6;\n",
              "    }\n",
              "\n",
              "    [theme=dark] .colab-df-convert {\n",
              "      background-color: #3B4455;\n",
              "      fill: #D2E3FC;\n",
              "    }\n",
              "\n",
              "    [theme=dark] .colab-df-convert:hover {\n",
              "      background-color: #434B5C;\n",
              "      box-shadow: 0px 1px 3px 1px rgba(0, 0, 0, 0.15);\n",
              "      filter: drop-shadow(0px 1px 2px rgba(0, 0, 0, 0.3));\n",
              "      fill: #FFFFFF;\n",
              "    }\n",
              "  </style>\n",
              "\n",
              "      <script>\n",
              "        const buttonEl =\n",
              "          document.querySelector('#df-fc57c883-0c5f-4392-9dc3-fb62b6686f0d button.colab-df-convert');\n",
              "        buttonEl.style.display =\n",
              "          google.colab.kernel.accessAllowed ? 'block' : 'none';\n",
              "\n",
              "        async function convertToInteractive(key) {\n",
              "          const element = document.querySelector('#df-fc57c883-0c5f-4392-9dc3-fb62b6686f0d');\n",
              "          const dataTable =\n",
              "            await google.colab.kernel.invokeFunction('convertToInteractive',\n",
              "                                                     [key], {});\n",
              "          if (!dataTable) return;\n",
              "\n",
              "          const docLinkHtml = 'Like what you see? Visit the ' +\n",
              "            '<a target=\"_blank\" href=https://colab.research.google.com/notebooks/data_table.ipynb>data table notebook</a>'\n",
              "            + ' to learn more about interactive tables.';\n",
              "          element.innerHTML = '';\n",
              "          dataTable['output_type'] = 'display_data';\n",
              "          await google.colab.output.renderOutput(dataTable, element);\n",
              "          const docLink = document.createElement('div');\n",
              "          docLink.innerHTML = docLinkHtml;\n",
              "          element.appendChild(docLink);\n",
              "        }\n",
              "      </script>\n",
              "    </div>\n",
              "  </div>\n",
              "  "
            ]
          },
          "metadata": {},
          "execution_count": 39
        }
      ]
    },
    {
      "cell_type": "markdown",
      "source": [
        "# Result"
      ],
      "metadata": {
        "id": "qXtp6stw9Bnj"
      }
    },
    {
      "cell_type": "code",
      "source": [
        "dml_plr_obj_stem.summary.to_csv('/content/gdrive/MyDrive/Thesis_Data&Result/dml_plr_stem.csv')  "
      ],
      "metadata": {
        "id": "J1cPu1My9Ab3"
      },
      "execution_count": 41,
      "outputs": []
    }
  ]
}