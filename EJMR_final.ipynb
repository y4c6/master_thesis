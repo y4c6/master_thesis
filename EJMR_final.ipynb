{
  "nbformat": 4,
  "nbformat_minor": 0,
  "metadata": {
    "colab": {
      "provenance": [],
      "toc_visible": true,
      "authorship_tag": "ABX9TyPK+l8XqxK3tvfZKYk/hLLy",
      "include_colab_link": true
    },
    "kernelspec": {
      "name": "python3",
      "display_name": "Python 3"
    },
    "language_info": {
      "name": "python"
    }
  },
  "cells": [
    {
      "cell_type": "markdown",
      "metadata": {
        "id": "view-in-github",
        "colab_type": "text"
      },
      "source": [
        "<a href=\"https://colab.research.google.com/github/y4c6/master_thesis/blob/main/EJMR_final.ipynb\" target=\"_parent\"><img src=\"https://colab.research.google.com/assets/colab-badge.svg\" alt=\"Open In Colab\"/></a>"
      ]
    },
    {
      "cell_type": "markdown",
      "source": [
        "受夠自己亂七八糟的檔案，放過來整理。"
      ],
      "metadata": {
        "id": "I7n5zL2utQRl"
      }
    },
    {
      "cell_type": "markdown",
      "source": [
        "# 這些變數名稱需要心情不錯的時候整理一次"
      ],
      "metadata": {
        "id": "TE5t2h7DMDeR"
      }
    },
    {
      "cell_type": "markdown",
      "source": [
        "# 套件"
      ],
      "metadata": {
        "id": "p-Nr5T8HvJai"
      }
    },
    {
      "cell_type": "code",
      "source": [
        "from google.colab import drive\n",
        "# directory\n",
        "drive.mount('/content/gdrive')"
      ],
      "metadata": {
        "id": "c2vWTM7IvPwx",
        "colab": {
          "base_uri": "https://localhost:8080/"
        },
        "outputId": "6e889fc3-ad9e-4cd6-d78d-8fcdce7b3635"
      },
      "execution_count": 1,
      "outputs": [
        {
          "output_type": "stream",
          "name": "stdout",
          "text": [
            "Mounted at /content/gdrive\n"
          ]
        }
      ]
    },
    {
      "cell_type": "code",
      "source": [
        "import numpy as np\n",
        "import pandas as pd\n",
        "import json"
      ],
      "metadata": {
        "id": "dDteai2K9123"
      },
      "execution_count": 2,
      "outputs": []
    },
    {
      "cell_type": "markdown",
      "source": [
        "# 準備 dataset"
      ],
      "metadata": {
        "id": "AAiv4nQXwKAO"
      }
    },
    {
      "cell_type": "markdown",
      "source": [
        "# 合併json檔案"
      ],
      "metadata": {
        "id": "oDU1pOH1tqYU"
      }
    },
    {
      "cell_type": "markdown",
      "source": [
        "## 合併檔案 ( 從 EJMRpostXX.json 到 EJMRpost_XX_XX.json )"
      ],
      "metadata": {
        "id": "CeQMXw2Wt_B1"
      }
    },
    {
      "cell_type": "markdown",
      "source": [
        "不是每次都要跑這個"
      ],
      "metadata": {
        "id": "0t2o8ElDLhL6"
      }
    },
    {
      "cell_type": "code",
      "source": [
        "import glob\n",
        "import json\n",
        "\n",
        "def list_json_files(path, start_with): \n",
        "    # get a list of json files that starts with specific word \n",
        "    json_files = glob.glob(path + f'/{start_with}*.json')\n",
        "    return json_files\n",
        "\n",
        "def concat_json_files(file_paths):\n",
        "    # concatenate the content of all the files in the list\n",
        "    data = {'topic':[], 'posts':[]}\n",
        "    for file_path in file_paths:\n",
        "        with open(file_path, 'r') as f:\n",
        "            file_data = json.load(f)\n",
        "            data['topic'].extend(file_data['topic'])\n",
        "            data['posts'].extend(file_data['posts'])\n",
        "    return data\n",
        "\n",
        "def concat_json_files_with_start(path, start_with):\n",
        "    json_files = list_json_files(path, start_with)\n",
        "    data = concat_json_files(json_files)\n",
        "    return data"
      ],
      "metadata": {
        "id": "2n_RcusDu8Qe"
      },
      "execution_count": null,
      "outputs": []
    },
    {
      "cell_type": "code",
      "source": [
        "path = '/content/gdrive/MyDrive/論文相關材料/'\n",
        "start_with = 'EJMRpost_'\n",
        "\n",
        "data = concat_json_files_with_start(path, start_with)"
      ],
      "metadata": {
        "id": "cu3FcJaC98vx"
      },
      "execution_count": null,
      "outputs": []
    },
    {
      "cell_type": "code",
      "source": [
        "## 確認合併成功\n",
        "len(data['topic'])"
      ],
      "metadata": {
        "id": "0DuXyYik-EPP"
      },
      "execution_count": null,
      "outputs": []
    },
    {
      "cell_type": "markdown",
      "source": [
        "## 合併檔案 ( 從 EJMRpost_XX_XX.json 到 data: dict )"
      ],
      "metadata": {
        "id": "PACj0Okzurz5"
      }
    },
    {
      "cell_type": "code",
      "source": [
        "with open('/content/gdrive/MyDrive/論文相關材料/EJMRpost_1_10.json', 'r') as f:\n",
        "    file1 = json.load(f)\n",
        "\n",
        "with open('/content/gdrive/MyDrive/論文相關材料/EJMRpost_11_20.json', 'r') as f:\n",
        "    file2 = json.load(f)"
      ],
      "metadata": {
        "id": "mL10668wzNmz"
      },
      "execution_count": 3,
      "outputs": []
    },
    {
      "cell_type": "code",
      "execution_count": 4,
      "metadata": {
        "id": "dBGJvYNEtCls"
      },
      "outputs": [],
      "source": [
        "def concat_json_files(files: list):\n",
        "    # concatenate the file in the lists\n",
        "    data = {'topic':[], 'posts':[]}\n",
        "    for file in files:\n",
        "      data['topic'].extend(file['topic'])\n",
        "      data['posts'].extend(file['posts'])\n",
        "    return data"
      ]
    },
    {
      "cell_type": "code",
      "source": [
        "data = concat_json_files([file1, file2])"
      ],
      "metadata": {
        "id": "N2GAv_68zRE6"
      },
      "execution_count": 5,
      "outputs": []
    },
    {
      "cell_type": "code",
      "source": [
        "## 確認合併成功\n",
        "len(data['topic'])"
      ],
      "metadata": {
        "id": "llxTx5M_zUKu",
        "colab": {
          "base_uri": "https://localhost:8080/"
        },
        "outputId": "9725a9da-3943-42ae-f194-30eb488c2f3e"
      },
      "execution_count": 6,
      "outputs": [
        {
          "output_type": "execute_result",
          "data": {
            "text/plain": [
              "150000"
            ]
          },
          "metadata": {},
          "execution_count": 6
        }
      ]
    },
    {
      "cell_type": "markdown",
      "source": [
        "# 將檔案轉成表格 (從 data: dict 到 df: pd.df)"
      ],
      "metadata": {
        "id": "mogyLjMzvjWW"
      }
    },
    {
      "cell_type": "code",
      "source": [
        "df = pd.DataFrame(data)\n",
        "df.head(3)"
      ],
      "metadata": {
        "id": "yVCbntoAv7kN",
        "colab": {
          "base_uri": "https://localhost:8080/",
          "height": 143
        },
        "outputId": "3a5a09f6-b6e5-435b-abf4-04a22a477d79"
      },
      "execution_count": 7,
      "outputs": [
        {
          "output_type": "execute_result",
          "data": {
            "text/plain": [
              "                                               topic  \\\n",
              "0    https://www.econjobrumors.com/topic/rbb-or-kari   \n",
              "1  https://www.econjobrumors.com/topic/as-ian-ame...   \n",
              "2  https://www.econjobrumors.com/topic/russia-chi...   \n",
              "\n",
              "                                               posts  \n",
              "0  [Whose more of a dishonest cringe dooshbag?, I...  \n",
              "1  [https://www.nytimes.com/2022/03/06/nyregion/a...  \n",
              "2  [Is this the genius outcome the West was looki...  "
            ],
            "text/html": [
              "\n",
              "  <div id=\"df-37a4ede0-1c68-4252-b863-40ae6e42272b\">\n",
              "    <div class=\"colab-df-container\">\n",
              "      <div>\n",
              "<style scoped>\n",
              "    .dataframe tbody tr th:only-of-type {\n",
              "        vertical-align: middle;\n",
              "    }\n",
              "\n",
              "    .dataframe tbody tr th {\n",
              "        vertical-align: top;\n",
              "    }\n",
              "\n",
              "    .dataframe thead th {\n",
              "        text-align: right;\n",
              "    }\n",
              "</style>\n",
              "<table border=\"1\" class=\"dataframe\">\n",
              "  <thead>\n",
              "    <tr style=\"text-align: right;\">\n",
              "      <th></th>\n",
              "      <th>topic</th>\n",
              "      <th>posts</th>\n",
              "    </tr>\n",
              "  </thead>\n",
              "  <tbody>\n",
              "    <tr>\n",
              "      <th>0</th>\n",
              "      <td>https://www.econjobrumors.com/topic/rbb-or-kari</td>\n",
              "      <td>[Whose more of a dishonest cringe dooshbag?, I...</td>\n",
              "    </tr>\n",
              "    <tr>\n",
              "      <th>1</th>\n",
              "      <td>https://www.econjobrumors.com/topic/as-ian-ame...</td>\n",
              "      <td>[https://www.nytimes.com/2022/03/06/nyregion/a...</td>\n",
              "    </tr>\n",
              "    <tr>\n",
              "      <th>2</th>\n",
              "      <td>https://www.econjobrumors.com/topic/russia-chi...</td>\n",
              "      <td>[Is this the genius outcome the West was looki...</td>\n",
              "    </tr>\n",
              "  </tbody>\n",
              "</table>\n",
              "</div>\n",
              "      <button class=\"colab-df-convert\" onclick=\"convertToInteractive('df-37a4ede0-1c68-4252-b863-40ae6e42272b')\"\n",
              "              title=\"Convert this dataframe to an interactive table.\"\n",
              "              style=\"display:none;\">\n",
              "        \n",
              "  <svg xmlns=\"http://www.w3.org/2000/svg\" height=\"24px\"viewBox=\"0 0 24 24\"\n",
              "       width=\"24px\">\n",
              "    <path d=\"M0 0h24v24H0V0z\" fill=\"none\"/>\n",
              "    <path d=\"M18.56 5.44l.94 2.06.94-2.06 2.06-.94-2.06-.94-.94-2.06-.94 2.06-2.06.94zm-11 1L8.5 8.5l.94-2.06 2.06-.94-2.06-.94L8.5 2.5l-.94 2.06-2.06.94zm10 10l.94 2.06.94-2.06 2.06-.94-2.06-.94-.94-2.06-.94 2.06-2.06.94z\"/><path d=\"M17.41 7.96l-1.37-1.37c-.4-.4-.92-.59-1.43-.59-.52 0-1.04.2-1.43.59L10.3 9.45l-7.72 7.72c-.78.78-.78 2.05 0 2.83L4 21.41c.39.39.9.59 1.41.59.51 0 1.02-.2 1.41-.59l7.78-7.78 2.81-2.81c.8-.78.8-2.07 0-2.86zM5.41 20L4 18.59l7.72-7.72 1.47 1.35L5.41 20z\"/>\n",
              "  </svg>\n",
              "      </button>\n",
              "      \n",
              "  <style>\n",
              "    .colab-df-container {\n",
              "      display:flex;\n",
              "      flex-wrap:wrap;\n",
              "      gap: 12px;\n",
              "    }\n",
              "\n",
              "    .colab-df-convert {\n",
              "      background-color: #E8F0FE;\n",
              "      border: none;\n",
              "      border-radius: 50%;\n",
              "      cursor: pointer;\n",
              "      display: none;\n",
              "      fill: #1967D2;\n",
              "      height: 32px;\n",
              "      padding: 0 0 0 0;\n",
              "      width: 32px;\n",
              "    }\n",
              "\n",
              "    .colab-df-convert:hover {\n",
              "      background-color: #E2EBFA;\n",
              "      box-shadow: 0px 1px 2px rgba(60, 64, 67, 0.3), 0px 1px 3px 1px rgba(60, 64, 67, 0.15);\n",
              "      fill: #174EA6;\n",
              "    }\n",
              "\n",
              "    [theme=dark] .colab-df-convert {\n",
              "      background-color: #3B4455;\n",
              "      fill: #D2E3FC;\n",
              "    }\n",
              "\n",
              "    [theme=dark] .colab-df-convert:hover {\n",
              "      background-color: #434B5C;\n",
              "      box-shadow: 0px 1px 3px 1px rgba(0, 0, 0, 0.15);\n",
              "      filter: drop-shadow(0px 1px 2px rgba(0, 0, 0, 0.3));\n",
              "      fill: #FFFFFF;\n",
              "    }\n",
              "  </style>\n",
              "\n",
              "      <script>\n",
              "        const buttonEl =\n",
              "          document.querySelector('#df-37a4ede0-1c68-4252-b863-40ae6e42272b button.colab-df-convert');\n",
              "        buttonEl.style.display =\n",
              "          google.colab.kernel.accessAllowed ? 'block' : 'none';\n",
              "\n",
              "        async function convertToInteractive(key) {\n",
              "          const element = document.querySelector('#df-37a4ede0-1c68-4252-b863-40ae6e42272b');\n",
              "          const dataTable =\n",
              "            await google.colab.kernel.invokeFunction('convertToInteractive',\n",
              "                                                     [key], {});\n",
              "          if (!dataTable) return;\n",
              "\n",
              "          const docLinkHtml = 'Like what you see? Visit the ' +\n",
              "            '<a target=\"_blank\" href=https://colab.research.google.com/notebooks/data_table.ipynb>data table notebook</a>'\n",
              "            + ' to learn more about interactive tables.';\n",
              "          element.innerHTML = '';\n",
              "          dataTable['output_type'] = 'display_data';\n",
              "          await google.colab.output.renderOutput(dataTable, element);\n",
              "          const docLink = document.createElement('div');\n",
              "          docLink.innerHTML = docLinkHtml;\n",
              "          element.appendChild(docLink);\n",
              "        }\n",
              "      </script>\n",
              "    </div>\n",
              "  </div>\n",
              "  "
            ]
          },
          "metadata": {},
          "execution_count": 7
        }
      ]
    },
    {
      "cell_type": "markdown",
      "source": [
        "# 準備 y, X"
      ],
      "metadata": {
        "id": "2k4UV5KFv8mK"
      }
    },
    {
      "cell_type": "markdown",
      "source": [
        "## 準備 y ( 利用condition()挑出 df.topic 中包含 關鍵字 的 df.posts(列) )"
      ],
      "metadata": {
        "id": "BEqXnUeowaFF"
      }
    },
    {
      "cell_type": "markdown",
      "source": [
        "### 準備 df.Target ( asia+china -> china -> asia)"
      ],
      "metadata": {
        "id": "XV5OPsQpxsKh"
      }
    },
    {
      "cell_type": "code",
      "source": [
        "asia_target = ['asian', 'asia', 'korea', 'korean', 'japan', 'japanese', 'taiwan', 'taiwanese', 'hongkong']\n",
        "china_target = ['china', 'chinese']"
      ],
      "metadata": {
        "id": "k4iFUb7F94tU"
      },
      "execution_count": 8,
      "outputs": []
    },
    {
      "cell_type": "code",
      "source": [
        "both_target = asia_target + china_target\n",
        "print(both_target)"
      ],
      "metadata": {
        "colab": {
          "base_uri": "https://localhost:8080/"
        },
        "id": "9QqEMOMHMumX",
        "outputId": "7cc62f77-283d-4790-b803-bed239791b97"
      },
      "execution_count": 10,
      "outputs": [
        {
          "output_type": "stream",
          "name": "stdout",
          "text": [
            "['asian', 'asia', 'korea', 'korean', 'japan', 'japanese', 'taiwan', 'taiwanese', 'hongkong', 'china', 'chinese']\n"
          ]
        }
      ]
    },
    {
      "cell_type": "code",
      "source": [
        "# Defining all the conditions inside a function\n",
        "def condition(x):\n",
        "    if any( word in x for word in asia_target) and any( word in x for word in china_target): #series.str.contains('Mel').any()\n",
        "        return \"both\"\n",
        "    elif any( word in x for word in asia_target):\n",
        "        return \"asia\"\n",
        "    elif any( word in x for word in china_target):\n",
        "        return \"china\"\n",
        "    else:\n",
        "        return \"other\"\n",
        " \n",
        "# Applying the conditions\n",
        "df['Target'] = df['topic'].apply(condition)\n",
        "df.head(3)"
      ],
      "metadata": {
        "id": "nE1ijjfe9-Pu",
        "colab": {
          "base_uri": "https://localhost:8080/",
          "height": 143
        },
        "outputId": "cfce630d-83e7-4a19-e7ad-68a5e6a03ebb"
      },
      "execution_count": 13,
      "outputs": [
        {
          "output_type": "execute_result",
          "data": {
            "text/plain": [
              "                                                topic  \\\n",
              "2   https://www.econjobrumors.com/topic/russia-chi...   \n",
              "23  https://www.econjobrumors.com/topic/are-more-t...   \n",
              "44  https://www.econjobrumors.com/topic/reminder-c...   \n",
              "\n",
              "                                                posts Target  \n",
              "2   [Is this the genius outcome the West was looki...  china  \n",
              "23  [Not even accounting for Indians., All the qua...   asia  \n",
              "44                  [Never forget. Never forgive., .]  china  "
            ],
            "text/html": [
              "\n",
              "  <div id=\"df-38a70ad2-64c8-4af8-919b-0974436f159e\">\n",
              "    <div class=\"colab-df-container\">\n",
              "      <div>\n",
              "<style scoped>\n",
              "    .dataframe tbody tr th:only-of-type {\n",
              "        vertical-align: middle;\n",
              "    }\n",
              "\n",
              "    .dataframe tbody tr th {\n",
              "        vertical-align: top;\n",
              "    }\n",
              "\n",
              "    .dataframe thead th {\n",
              "        text-align: right;\n",
              "    }\n",
              "</style>\n",
              "<table border=\"1\" class=\"dataframe\">\n",
              "  <thead>\n",
              "    <tr style=\"text-align: right;\">\n",
              "      <th></th>\n",
              "      <th>topic</th>\n",
              "      <th>posts</th>\n",
              "      <th>Target</th>\n",
              "    </tr>\n",
              "  </thead>\n",
              "  <tbody>\n",
              "    <tr>\n",
              "      <th>2</th>\n",
              "      <td>https://www.econjobrumors.com/topic/russia-chi...</td>\n",
              "      <td>[Is this the genius outcome the West was looki...</td>\n",
              "      <td>china</td>\n",
              "    </tr>\n",
              "    <tr>\n",
              "      <th>23</th>\n",
              "      <td>https://www.econjobrumors.com/topic/are-more-t...</td>\n",
              "      <td>[Not even accounting for Indians., All the qua...</td>\n",
              "      <td>asia</td>\n",
              "    </tr>\n",
              "    <tr>\n",
              "      <th>44</th>\n",
              "      <td>https://www.econjobrumors.com/topic/reminder-c...</td>\n",
              "      <td>[Never forget. Never forgive., .]</td>\n",
              "      <td>china</td>\n",
              "    </tr>\n",
              "  </tbody>\n",
              "</table>\n",
              "</div>\n",
              "      <button class=\"colab-df-convert\" onclick=\"convertToInteractive('df-38a70ad2-64c8-4af8-919b-0974436f159e')\"\n",
              "              title=\"Convert this dataframe to an interactive table.\"\n",
              "              style=\"display:none;\">\n",
              "        \n",
              "  <svg xmlns=\"http://www.w3.org/2000/svg\" height=\"24px\"viewBox=\"0 0 24 24\"\n",
              "       width=\"24px\">\n",
              "    <path d=\"M0 0h24v24H0V0z\" fill=\"none\"/>\n",
              "    <path d=\"M18.56 5.44l.94 2.06.94-2.06 2.06-.94-2.06-.94-.94-2.06-.94 2.06-2.06.94zm-11 1L8.5 8.5l.94-2.06 2.06-.94-2.06-.94L8.5 2.5l-.94 2.06-2.06.94zm10 10l.94 2.06.94-2.06 2.06-.94-2.06-.94-.94-2.06-.94 2.06-2.06.94z\"/><path d=\"M17.41 7.96l-1.37-1.37c-.4-.4-.92-.59-1.43-.59-.52 0-1.04.2-1.43.59L10.3 9.45l-7.72 7.72c-.78.78-.78 2.05 0 2.83L4 21.41c.39.39.9.59 1.41.59.51 0 1.02-.2 1.41-.59l7.78-7.78 2.81-2.81c.8-.78.8-2.07 0-2.86zM5.41 20L4 18.59l7.72-7.72 1.47 1.35L5.41 20z\"/>\n",
              "  </svg>\n",
              "      </button>\n",
              "      \n",
              "  <style>\n",
              "    .colab-df-container {\n",
              "      display:flex;\n",
              "      flex-wrap:wrap;\n",
              "      gap: 12px;\n",
              "    }\n",
              "\n",
              "    .colab-df-convert {\n",
              "      background-color: #E8F0FE;\n",
              "      border: none;\n",
              "      border-radius: 50%;\n",
              "      cursor: pointer;\n",
              "      display: none;\n",
              "      fill: #1967D2;\n",
              "      height: 32px;\n",
              "      padding: 0 0 0 0;\n",
              "      width: 32px;\n",
              "    }\n",
              "\n",
              "    .colab-df-convert:hover {\n",
              "      background-color: #E2EBFA;\n",
              "      box-shadow: 0px 1px 2px rgba(60, 64, 67, 0.3), 0px 1px 3px 1px rgba(60, 64, 67, 0.15);\n",
              "      fill: #174EA6;\n",
              "    }\n",
              "\n",
              "    [theme=dark] .colab-df-convert {\n",
              "      background-color: #3B4455;\n",
              "      fill: #D2E3FC;\n",
              "    }\n",
              "\n",
              "    [theme=dark] .colab-df-convert:hover {\n",
              "      background-color: #434B5C;\n",
              "      box-shadow: 0px 1px 3px 1px rgba(0, 0, 0, 0.15);\n",
              "      filter: drop-shadow(0px 1px 2px rgba(0, 0, 0, 0.3));\n",
              "      fill: #FFFFFF;\n",
              "    }\n",
              "  </style>\n",
              "\n",
              "      <script>\n",
              "        const buttonEl =\n",
              "          document.querySelector('#df-38a70ad2-64c8-4af8-919b-0974436f159e button.colab-df-convert');\n",
              "        buttonEl.style.display =\n",
              "          google.colab.kernel.accessAllowed ? 'block' : 'none';\n",
              "\n",
              "        async function convertToInteractive(key) {\n",
              "          const element = document.querySelector('#df-38a70ad2-64c8-4af8-919b-0974436f159e');\n",
              "          const dataTable =\n",
              "            await google.colab.kernel.invokeFunction('convertToInteractive',\n",
              "                                                     [key], {});\n",
              "          if (!dataTable) return;\n",
              "\n",
              "          const docLinkHtml = 'Like what you see? Visit the ' +\n",
              "            '<a target=\"_blank\" href=https://colab.research.google.com/notebooks/data_table.ipynb>data table notebook</a>'\n",
              "            + ' to learn more about interactive tables.';\n",
              "          element.innerHTML = '';\n",
              "          dataTable['output_type'] = 'display_data';\n",
              "          await google.colab.output.renderOutput(dataTable, element);\n",
              "          const docLink = document.createElement('div');\n",
              "          docLink.innerHTML = docLinkHtml;\n",
              "          element.appendChild(docLink);\n",
              "        }\n",
              "      </script>\n",
              "    </div>\n",
              "  </div>\n",
              "  "
            ]
          },
          "metadata": {},
          "execution_count": 13
        }
      ]
    },
    {
      "cell_type": "markdown",
      "source": [
        "### 準備 df.y"
      ],
      "metadata": {
        "id": "shuy5wP8xMEB"
      }
    },
    {
      "cell_type": "code",
      "source": [
        "df = df.drop(df[df['Target'] == 'other'].index)\n",
        "df.head(3)"
      ],
      "metadata": {
        "id": "193R5pYFxzfP",
        "colab": {
          "base_uri": "https://localhost:8080/",
          "height": 143
        },
        "outputId": "856988f4-cac5-47f7-c520-55faa20f86c5"
      },
      "execution_count": 20,
      "outputs": [
        {
          "output_type": "execute_result",
          "data": {
            "text/plain": [
              "                                                topic  \\\n",
              "2   https://www.econjobrumors.com/topic/russia-chi...   \n",
              "23  https://www.econjobrumors.com/topic/are-more-t...   \n",
              "44  https://www.econjobrumors.com/topic/reminder-c...   \n",
              "\n",
              "                                                posts Target  \n",
              "2   [Is this the genius outcome the West was looki...  china  \n",
              "23  [Not even accounting for Indians., All the qua...   asia  \n",
              "44                  [Never forget. Never forgive., .]  china  "
            ],
            "text/html": [
              "\n",
              "  <div id=\"df-e01d5ed5-6759-41b1-a521-73ef08029e15\">\n",
              "    <div class=\"colab-df-container\">\n",
              "      <div>\n",
              "<style scoped>\n",
              "    .dataframe tbody tr th:only-of-type {\n",
              "        vertical-align: middle;\n",
              "    }\n",
              "\n",
              "    .dataframe tbody tr th {\n",
              "        vertical-align: top;\n",
              "    }\n",
              "\n",
              "    .dataframe thead th {\n",
              "        text-align: right;\n",
              "    }\n",
              "</style>\n",
              "<table border=\"1\" class=\"dataframe\">\n",
              "  <thead>\n",
              "    <tr style=\"text-align: right;\">\n",
              "      <th></th>\n",
              "      <th>topic</th>\n",
              "      <th>posts</th>\n",
              "      <th>Target</th>\n",
              "    </tr>\n",
              "  </thead>\n",
              "  <tbody>\n",
              "    <tr>\n",
              "      <th>2</th>\n",
              "      <td>https://www.econjobrumors.com/topic/russia-chi...</td>\n",
              "      <td>[Is this the genius outcome the West was looki...</td>\n",
              "      <td>china</td>\n",
              "    </tr>\n",
              "    <tr>\n",
              "      <th>23</th>\n",
              "      <td>https://www.econjobrumors.com/topic/are-more-t...</td>\n",
              "      <td>[Not even accounting for Indians., All the qua...</td>\n",
              "      <td>asia</td>\n",
              "    </tr>\n",
              "    <tr>\n",
              "      <th>44</th>\n",
              "      <td>https://www.econjobrumors.com/topic/reminder-c...</td>\n",
              "      <td>[Never forget. Never forgive., .]</td>\n",
              "      <td>china</td>\n",
              "    </tr>\n",
              "  </tbody>\n",
              "</table>\n",
              "</div>\n",
              "      <button class=\"colab-df-convert\" onclick=\"convertToInteractive('df-e01d5ed5-6759-41b1-a521-73ef08029e15')\"\n",
              "              title=\"Convert this dataframe to an interactive table.\"\n",
              "              style=\"display:none;\">\n",
              "        \n",
              "  <svg xmlns=\"http://www.w3.org/2000/svg\" height=\"24px\"viewBox=\"0 0 24 24\"\n",
              "       width=\"24px\">\n",
              "    <path d=\"M0 0h24v24H0V0z\" fill=\"none\"/>\n",
              "    <path d=\"M18.56 5.44l.94 2.06.94-2.06 2.06-.94-2.06-.94-.94-2.06-.94 2.06-2.06.94zm-11 1L8.5 8.5l.94-2.06 2.06-.94-2.06-.94L8.5 2.5l-.94 2.06-2.06.94zm10 10l.94 2.06.94-2.06 2.06-.94-2.06-.94-.94-2.06-.94 2.06-2.06.94z\"/><path d=\"M17.41 7.96l-1.37-1.37c-.4-.4-.92-.59-1.43-.59-.52 0-1.04.2-1.43.59L10.3 9.45l-7.72 7.72c-.78.78-.78 2.05 0 2.83L4 21.41c.39.39.9.59 1.41.59.51 0 1.02-.2 1.41-.59l7.78-7.78 2.81-2.81c.8-.78.8-2.07 0-2.86zM5.41 20L4 18.59l7.72-7.72 1.47 1.35L5.41 20z\"/>\n",
              "  </svg>\n",
              "      </button>\n",
              "      \n",
              "  <style>\n",
              "    .colab-df-container {\n",
              "      display:flex;\n",
              "      flex-wrap:wrap;\n",
              "      gap: 12px;\n",
              "    }\n",
              "\n",
              "    .colab-df-convert {\n",
              "      background-color: #E8F0FE;\n",
              "      border: none;\n",
              "      border-radius: 50%;\n",
              "      cursor: pointer;\n",
              "      display: none;\n",
              "      fill: #1967D2;\n",
              "      height: 32px;\n",
              "      padding: 0 0 0 0;\n",
              "      width: 32px;\n",
              "    }\n",
              "\n",
              "    .colab-df-convert:hover {\n",
              "      background-color: #E2EBFA;\n",
              "      box-shadow: 0px 1px 2px rgba(60, 64, 67, 0.3), 0px 1px 3px 1px rgba(60, 64, 67, 0.15);\n",
              "      fill: #174EA6;\n",
              "    }\n",
              "\n",
              "    [theme=dark] .colab-df-convert {\n",
              "      background-color: #3B4455;\n",
              "      fill: #D2E3FC;\n",
              "    }\n",
              "\n",
              "    [theme=dark] .colab-df-convert:hover {\n",
              "      background-color: #434B5C;\n",
              "      box-shadow: 0px 1px 3px 1px rgba(0, 0, 0, 0.15);\n",
              "      filter: drop-shadow(0px 1px 2px rgba(0, 0, 0, 0.3));\n",
              "      fill: #FFFFFF;\n",
              "    }\n",
              "  </style>\n",
              "\n",
              "      <script>\n",
              "        const buttonEl =\n",
              "          document.querySelector('#df-e01d5ed5-6759-41b1-a521-73ef08029e15 button.colab-df-convert');\n",
              "        buttonEl.style.display =\n",
              "          google.colab.kernel.accessAllowed ? 'block' : 'none';\n",
              "\n",
              "        async function convertToInteractive(key) {\n",
              "          const element = document.querySelector('#df-e01d5ed5-6759-41b1-a521-73ef08029e15');\n",
              "          const dataTable =\n",
              "            await google.colab.kernel.invokeFunction('convertToInteractive',\n",
              "                                                     [key], {});\n",
              "          if (!dataTable) return;\n",
              "\n",
              "          const docLinkHtml = 'Like what you see? Visit the ' +\n",
              "            '<a target=\"_blank\" href=https://colab.research.google.com/notebooks/data_table.ipynb>data table notebook</a>'\n",
              "            + ' to learn more about interactive tables.';\n",
              "          element.innerHTML = '';\n",
              "          dataTable['output_type'] = 'display_data';\n",
              "          await google.colab.output.renderOutput(dataTable, element);\n",
              "          const docLink = document.createElement('div');\n",
              "          docLink.innerHTML = docLinkHtml;\n",
              "          element.appendChild(docLink);\n",
              "        }\n",
              "      </script>\n",
              "    </div>\n",
              "  </div>\n",
              "  "
            ]
          },
          "metadata": {},
          "execution_count": 20
        }
      ]
    },
    {
      "cell_type": "code",
      "source": [
        "df.Target.shape"
      ],
      "metadata": {
        "colab": {
          "base_uri": "https://localhost:8080/"
        },
        "id": "4Q7Pj64MPyzX",
        "outputId": "4e9ba7ab-9e9b-4d18-c418-8cd64888f8da"
      },
      "execution_count": 21,
      "outputs": [
        {
          "output_type": "execute_result",
          "data": {
            "text/plain": [
              "(4237,)"
            ]
          },
          "metadata": {},
          "execution_count": 21
        }
      ]
    },
    {
      "cell_type": "code",
      "source": [
        "df.Target[df.Target == 'both'].shape"
      ],
      "metadata": {
        "colab": {
          "base_uri": "https://localhost:8080/"
        },
        "id": "Au09sxdSO3-l",
        "outputId": "0380ae7a-1f79-4c36-86b1-15eb44572bf1"
      },
      "execution_count": 17,
      "outputs": [
        {
          "output_type": "execute_result",
          "data": {
            "text/plain": [
              "(158,)"
            ]
          },
          "metadata": {},
          "execution_count": 17
        }
      ]
    },
    {
      "cell_type": "code",
      "source": [
        "df.Target[df.Target == 'china'].shape"
      ],
      "metadata": {
        "colab": {
          "base_uri": "https://localhost:8080/"
        },
        "id": "eYRSqtUnPXxc",
        "outputId": "2ebb539d-418d-4252-f7f0-a7e3697e57e6"
      },
      "execution_count": 18,
      "outputs": [
        {
          "output_type": "execute_result",
          "data": {
            "text/plain": [
              "(2683,)"
            ]
          },
          "metadata": {},
          "execution_count": 18
        }
      ]
    },
    {
      "cell_type": "code",
      "source": [
        "df.Target[df.Target == 'asia'].shape"
      ],
      "metadata": {
        "colab": {
          "base_uri": "https://localhost:8080/"
        },
        "id": "BhTFzJK-PXhE",
        "outputId": "b0d6459a-a6ae-4aaf-c24a-0190462336c5"
      },
      "execution_count": 19,
      "outputs": [
        {
          "output_type": "execute_result",
          "data": {
            "text/plain": [
              "(1396,)"
            ]
          },
          "metadata": {},
          "execution_count": 19
        }
      ]
    },
    {
      "cell_type": "code",
      "source": [
        "1396+2683+158"
      ],
      "metadata": {
        "colab": {
          "base_uri": "https://localhost:8080/"
        },
        "id": "HYMnkNGKP3Pk",
        "outputId": "a3d61641-06c6-4d0a-adc9-54261fd87873"
      },
      "execution_count": 22,
      "outputs": [
        {
          "output_type": "execute_result",
          "data": {
            "text/plain": [
              "4237"
            ]
          },
          "metadata": {},
          "execution_count": 22
        }
      ]
    },
    {
      "cell_type": "code",
      "source": [
        "df.groupby('Target').size()"
      ],
      "metadata": {
        "colab": {
          "base_uri": "https://localhost:8080/"
        },
        "id": "e87UO1K5QVvt",
        "outputId": "5521f76f-ad81-448a-f01c-a2af72c8a36d"
      },
      "execution_count": 25,
      "outputs": [
        {
          "output_type": "execute_result",
          "data": {
            "text/plain": [
              "Target\n",
              "asia     1396\n",
              "both      158\n",
              "china    2683\n",
              "dtype: int64"
            ]
          },
          "metadata": {},
          "execution_count": 25
        }
      ]
    },
    {
      "cell_type": "markdown",
      "source": [
        "❓ what is the proper way to do with 'both'?"
      ],
      "metadata": {
        "id": "dWiO8JZ7P--x"
      }
    },
    {
      "cell_type": "code",
      "source": [
        "df['y'] = df['Target'].apply(lambda x: 1 if x == 'china' else 0)\n",
        "df.head(3)"
      ],
      "metadata": {
        "id": "EJj96XN--Ddc",
        "colab": {
          "base_uri": "https://localhost:8080/",
          "height": 143
        },
        "outputId": "ce9f9d40-87de-4a19-c0c4-7173f9c875f7"
      },
      "execution_count": 23,
      "outputs": [
        {
          "output_type": "execute_result",
          "data": {
            "text/plain": [
              "                                                topic  \\\n",
              "2   https://www.econjobrumors.com/topic/russia-chi...   \n",
              "23  https://www.econjobrumors.com/topic/are-more-t...   \n",
              "44  https://www.econjobrumors.com/topic/reminder-c...   \n",
              "\n",
              "                                                posts Target  y  \n",
              "2   [Is this the genius outcome the West was looki...  china  1  \n",
              "23  [Not even accounting for Indians., All the qua...   asia  0  \n",
              "44                  [Never forget. Never forgive., .]  china  1  "
            ],
            "text/html": [
              "\n",
              "  <div id=\"df-95de99cd-46ff-481d-806a-42b836710ec6\">\n",
              "    <div class=\"colab-df-container\">\n",
              "      <div>\n",
              "<style scoped>\n",
              "    .dataframe tbody tr th:only-of-type {\n",
              "        vertical-align: middle;\n",
              "    }\n",
              "\n",
              "    .dataframe tbody tr th {\n",
              "        vertical-align: top;\n",
              "    }\n",
              "\n",
              "    .dataframe thead th {\n",
              "        text-align: right;\n",
              "    }\n",
              "</style>\n",
              "<table border=\"1\" class=\"dataframe\">\n",
              "  <thead>\n",
              "    <tr style=\"text-align: right;\">\n",
              "      <th></th>\n",
              "      <th>topic</th>\n",
              "      <th>posts</th>\n",
              "      <th>Target</th>\n",
              "      <th>y</th>\n",
              "    </tr>\n",
              "  </thead>\n",
              "  <tbody>\n",
              "    <tr>\n",
              "      <th>2</th>\n",
              "      <td>https://www.econjobrumors.com/topic/russia-chi...</td>\n",
              "      <td>[Is this the genius outcome the West was looki...</td>\n",
              "      <td>china</td>\n",
              "      <td>1</td>\n",
              "    </tr>\n",
              "    <tr>\n",
              "      <th>23</th>\n",
              "      <td>https://www.econjobrumors.com/topic/are-more-t...</td>\n",
              "      <td>[Not even accounting for Indians., All the qua...</td>\n",
              "      <td>asia</td>\n",
              "      <td>0</td>\n",
              "    </tr>\n",
              "    <tr>\n",
              "      <th>44</th>\n",
              "      <td>https://www.econjobrumors.com/topic/reminder-c...</td>\n",
              "      <td>[Never forget. Never forgive., .]</td>\n",
              "      <td>china</td>\n",
              "      <td>1</td>\n",
              "    </tr>\n",
              "  </tbody>\n",
              "</table>\n",
              "</div>\n",
              "      <button class=\"colab-df-convert\" onclick=\"convertToInteractive('df-95de99cd-46ff-481d-806a-42b836710ec6')\"\n",
              "              title=\"Convert this dataframe to an interactive table.\"\n",
              "              style=\"display:none;\">\n",
              "        \n",
              "  <svg xmlns=\"http://www.w3.org/2000/svg\" height=\"24px\"viewBox=\"0 0 24 24\"\n",
              "       width=\"24px\">\n",
              "    <path d=\"M0 0h24v24H0V0z\" fill=\"none\"/>\n",
              "    <path d=\"M18.56 5.44l.94 2.06.94-2.06 2.06-.94-2.06-.94-.94-2.06-.94 2.06-2.06.94zm-11 1L8.5 8.5l.94-2.06 2.06-.94-2.06-.94L8.5 2.5l-.94 2.06-2.06.94zm10 10l.94 2.06.94-2.06 2.06-.94-2.06-.94-.94-2.06-.94 2.06-2.06.94z\"/><path d=\"M17.41 7.96l-1.37-1.37c-.4-.4-.92-.59-1.43-.59-.52 0-1.04.2-1.43.59L10.3 9.45l-7.72 7.72c-.78.78-.78 2.05 0 2.83L4 21.41c.39.39.9.59 1.41.59.51 0 1.02-.2 1.41-.59l7.78-7.78 2.81-2.81c.8-.78.8-2.07 0-2.86zM5.41 20L4 18.59l7.72-7.72 1.47 1.35L5.41 20z\"/>\n",
              "  </svg>\n",
              "      </button>\n",
              "      \n",
              "  <style>\n",
              "    .colab-df-container {\n",
              "      display:flex;\n",
              "      flex-wrap:wrap;\n",
              "      gap: 12px;\n",
              "    }\n",
              "\n",
              "    .colab-df-convert {\n",
              "      background-color: #E8F0FE;\n",
              "      border: none;\n",
              "      border-radius: 50%;\n",
              "      cursor: pointer;\n",
              "      display: none;\n",
              "      fill: #1967D2;\n",
              "      height: 32px;\n",
              "      padding: 0 0 0 0;\n",
              "      width: 32px;\n",
              "    }\n",
              "\n",
              "    .colab-df-convert:hover {\n",
              "      background-color: #E2EBFA;\n",
              "      box-shadow: 0px 1px 2px rgba(60, 64, 67, 0.3), 0px 1px 3px 1px rgba(60, 64, 67, 0.15);\n",
              "      fill: #174EA6;\n",
              "    }\n",
              "\n",
              "    [theme=dark] .colab-df-convert {\n",
              "      background-color: #3B4455;\n",
              "      fill: #D2E3FC;\n",
              "    }\n",
              "\n",
              "    [theme=dark] .colab-df-convert:hover {\n",
              "      background-color: #434B5C;\n",
              "      box-shadow: 0px 1px 3px 1px rgba(0, 0, 0, 0.15);\n",
              "      filter: drop-shadow(0px 1px 2px rgba(0, 0, 0, 0.3));\n",
              "      fill: #FFFFFF;\n",
              "    }\n",
              "  </style>\n",
              "\n",
              "      <script>\n",
              "        const buttonEl =\n",
              "          document.querySelector('#df-95de99cd-46ff-481d-806a-42b836710ec6 button.colab-df-convert');\n",
              "        buttonEl.style.display =\n",
              "          google.colab.kernel.accessAllowed ? 'block' : 'none';\n",
              "\n",
              "        async function convertToInteractive(key) {\n",
              "          const element = document.querySelector('#df-95de99cd-46ff-481d-806a-42b836710ec6');\n",
              "          const dataTable =\n",
              "            await google.colab.kernel.invokeFunction('convertToInteractive',\n",
              "                                                     [key], {});\n",
              "          if (!dataTable) return;\n",
              "\n",
              "          const docLinkHtml = 'Like what you see? Visit the ' +\n",
              "            '<a target=\"_blank\" href=https://colab.research.google.com/notebooks/data_table.ipynb>data table notebook</a>'\n",
              "            + ' to learn more about interactive tables.';\n",
              "          element.innerHTML = '';\n",
              "          dataTable['output_type'] = 'display_data';\n",
              "          await google.colab.output.renderOutput(dataTable, element);\n",
              "          const docLink = document.createElement('div');\n",
              "          docLink.innerHTML = docLinkHtml;\n",
              "          element.appendChild(docLink);\n",
              "        }\n",
              "      </script>\n",
              "    </div>\n",
              "  </div>\n",
              "  "
            ]
          },
          "metadata": {},
          "execution_count": 23
        }
      ]
    },
    {
      "cell_type": "markdown",
      "source": [
        "### y的視覺化 "
      ],
      "metadata": {
        "id": "C2J40wccy0Gm"
      }
    },
    {
      "cell_type": "code",
      "source": [
        "df.groupby('Target').size().plot(kind = 'pie',\n",
        "                subplots = False,\n",
        "                ylabel = 'Target',\n",
        "                autopct = '%1.0f%%',\n",
        "                title = 'Ratio of labels')"
      ],
      "metadata": {
        "colab": {
          "base_uri": "https://localhost:8080/",
          "height": 281
        },
        "id": "qF6JktofRShm",
        "outputId": "accb149c-2887-4e23-921f-c545a9ed12ed"
      },
      "execution_count": 40,
      "outputs": [
        {
          "output_type": "execute_result",
          "data": {
            "text/plain": [
              "<AxesSubplot:title={'center':'Ratio of labels'}, ylabel='Target'>"
            ]
          },
          "metadata": {},
          "execution_count": 40
        },
        {
          "output_type": "display_data",
          "data": {
            "text/plain": [
              "<Figure size 432x288 with 1 Axes>"
            ],
            "image/png": "[encoded data removed]"
          },
          "metadata": {}
        }
      ]
    },
    {
      "cell_type": "markdown",
      "source": [
        "## 準備 X (做 NLP 前處理， Stemming/Lemmatization)"
      ],
      "metadata": {
        "id": "XvhFBZxZx1Sz"
      }
    },
    {
      "cell_type": "code",
      "source": [
        "import nltk\n",
        "nltk.download('punkt') #this is download for tonkenizer\n",
        "nltk.download('wordnet')  # this is download for lemmatizer\n",
        "nltk.download('stopwords')\n",
        "nltk.download('omw-1.4')  # this is download for lemmatizer"
      ],
      "metadata": {
        "id": "9SdETRGADmUj",
        "colab": {
          "base_uri": "https://localhost:8080/"
        },
        "outputId": "05e3c1ec-689b-44d7-82b8-7ff51df1556e"
      },
      "execution_count": 41,
      "outputs": [
        {
          "output_type": "stream",
          "name": "stderr",
          "text": [
            "[nltk_data] Downloading package punkt to /root/nltk_data...\n",
            "[nltk_data]   Unzipping tokenizers/punkt.zip.\n",
            "[nltk_data] Downloading package wordnet to /root/nltk_data...\n",
            "[nltk_data] Downloading package stopwords to /root/nltk_data...\n",
            "[nltk_data]   Unzipping corpora/stopwords.zip.\n",
            "[nltk_data] Downloading package omw-1.4 to /root/nltk_data...\n"
          ]
        },
        {
          "output_type": "execute_result",
          "data": {
            "text/plain": [
              "True"
            ]
          },
          "metadata": {},
          "execution_count": 41
        }
      ]
    },
    {
      "cell_type": "code",
      "source": [
        "# 寫 Preprocessor 的 params functions"
      ],
      "metadata": {
        "id": "LVSC_Woxy_LM"
      },
      "execution_count": null,
      "outputs": []
    },
    {
      "cell_type": "code",
      "source": [
        "import string\n",
        "import re\n",
        "from nltk.corpus import stopwords\n",
        "from nltk.corpus import wordnet\n",
        "from nltk.tokenize import word_tokenize\n",
        "from nltk.stem import PorterStemmer\n",
        "from nltk.stem import WordNetLemmatizer\n",
        "\n",
        "# Define a function to preprocess text\n",
        "def preprocess_text(text):\n",
        "  # Lowercase all characters\n",
        "  text = text.lower()\n",
        "\n",
        "  # Remove non-English sentences\n",
        "  pattern = re.compile(r'[^\\x00-\\x7F]+')\n",
        "  text = re.sub(pattern, '', text)\n",
        "\n",
        "  # Remove URLs\n",
        "  text = re.sub(r'https?://\\S+', '', text)\n",
        "\n",
        "  # Remove digits\n",
        "  text = text.translate(str.maketrans('', '', string.digits))\n",
        "\n",
        "  # Remove punctuation\n",
        "  text = text.translate(str.maketrans('', '', string.punctuation))\n",
        "\n",
        "  return text\n",
        "\n",
        "\n",
        "# Define a function to tokenize and remove stopwords from text and stemmer\n",
        "def stemmer_tokenize_and_remove_stopwords(text):\n",
        "  # Tokenize the article\n",
        "  text_tokens = word_tokenize(text)\n",
        "\n",
        "  # Load English stopwords\n",
        "  stop_words = set(stopwords.words('english'))\n",
        "\n",
        "  # Remove stopwords\n",
        "  tokens = [token for token in text_tokens if token not in stop_words]\n",
        "\n",
        "  # Stem the tokens\n",
        "  stemmer = PorterStemmer()\n",
        "  tokens = [stemmer.stem(token) for token in tokens]\n",
        "\n",
        "  return tokens\n",
        "\n",
        "\n",
        "# Define a function to tokenize and remove stopwords from text and lemmatize\n",
        "def lemmatizer_tokenize_and_remove_stopwords(text):\n",
        "  # Tokenize the article\n",
        "  text_tokens = word_tokenize(text)\n",
        "\n",
        "  # Load English stopwords\n",
        "  stop_words = set(stopwords.words('english'))\n",
        "\n",
        "  # Remove stopwords\n",
        "  tokens = [token for token in text_tokens if token not in stop_words]\n",
        "\n",
        "  # Lemmatize the tokens\n",
        "  lemmatizer = WordNetLemmatizer()\n",
        "  tokens = [lemmatizer.lemmatize(token) for token in tokens]\n",
        "\n",
        "  return tokens\n"
      ],
      "metadata": {
        "id": "Npqb55Nyy_nw"
      },
      "execution_count": 42,
      "outputs": []
    },
    {
      "cell_type": "code",
      "source": [
        "## check library\n",
        "import gensim\n",
        "\n",
        "## ignore warnings\n",
        "import warnings\n",
        "warnings.filterwarnings('ignore')\n",
        "\n",
        "# # if you want to see the training messages, you can use it\n",
        "# import logging\n",
        "# logging.basicConfig(format='%(asctime)s : %(levelname)s : %(message)s', level=logging.INFO)\n",
        "\n",
        "## the input type\n",
        "df['stemmed_tokenized'] = df['posts'].apply(lambda x: stemmer_tokenize_and_remove_stopwords(preprocess_text( ' '.join(x) ))) \n",
        "df['lemmatized_tokenized'] = df['posts'].apply(lambda x: lemmatizer_tokenize_and_remove_stopwords(preprocess_text( ' '.join(x) ))) \n",
        "df[['y', 'stemmed_tokenized', 'lemmatized_tokenized']].head(3)"
      ],
      "metadata": {
        "id": "1QTB6ou8D3kZ",
        "colab": {
          "base_uri": "https://localhost:8080/",
          "height": 143
        },
        "outputId": "04854fed-5551-4276-912b-74b279f56cff"
      },
      "execution_count": 43,
      "outputs": [
        {
          "output_type": "execute_result",
          "data": {
            "text/plain": [
              "    y                                  stemmed_tokenized  \\\n",
              "2   1  [geniu, outcom, west, look, russian, financ, t...   \n",
              "23  0  [even, account, indian, quant, club, univers, ...   \n",
              "44  1                     [never, forget, never, forgiv]   \n",
              "\n",
              "                                 lemmatized_tokenized  \n",
              "2   [genius, outcome, west, looking, russian, fina...  \n",
              "23  [even, accounting, indian, quant, club, univer...  \n",
              "44                    [never, forget, never, forgive]  "
            ],
            "text/html": [
              "\n",
              "  <div id=\"df-8a5403ea-84fd-4e6b-b989-a146ba04eb71\">\n",
              "    <div class=\"colab-df-container\">\n",
              "      <div>\n",
              "<style scoped>\n",
              "    .dataframe tbody tr th:only-of-type {\n",
              "        vertical-align: middle;\n",
              "    }\n",
              "\n",
              "    .dataframe tbody tr th {\n",
              "        vertical-align: top;\n",
              "    }\n",
              "\n",
              "    .dataframe thead th {\n",
              "        text-align: right;\n",
              "    }\n",
              "</style>\n",
              "<table border=\"1\" class=\"dataframe\">\n",
              "  <thead>\n",
              "    <tr style=\"text-align: right;\">\n",
              "      <th></th>\n",
              "      <th>y</th>\n",
              "      <th>stemmed_tokenized</th>\n",
              "      <th>lemmatized_tokenized</th>\n",
              "    </tr>\n",
              "  </thead>\n",
              "  <tbody>\n",
              "    <tr>\n",
              "      <th>2</th>\n",
              "      <td>1</td>\n",
              "      <td>[geniu, outcom, west, look, russian, financ, t...</td>\n",
              "      <td>[genius, outcome, west, looking, russian, fina...</td>\n",
              "    </tr>\n",
              "    <tr>\n",
              "      <th>23</th>\n",
              "      <td>0</td>\n",
              "      <td>[even, account, indian, quant, club, univers, ...</td>\n",
              "      <td>[even, accounting, indian, quant, club, univer...</td>\n",
              "    </tr>\n",
              "    <tr>\n",
              "      <th>44</th>\n",
              "      <td>1</td>\n",
              "      <td>[never, forget, never, forgiv]</td>\n",
              "      <td>[never, forget, never, forgive]</td>\n",
              "    </tr>\n",
              "  </tbody>\n",
              "</table>\n",
              "</div>\n",
              "      <button class=\"colab-df-convert\" onclick=\"convertToInteractive('df-8a5403ea-84fd-4e6b-b989-a146ba04eb71')\"\n",
              "              title=\"Convert this dataframe to an interactive table.\"\n",
              "              style=\"display:none;\">\n",
              "        \n",
              "  <svg xmlns=\"http://www.w3.org/2000/svg\" height=\"24px\"viewBox=\"0 0 24 24\"\n",
              "       width=\"24px\">\n",
              "    <path d=\"M0 0h24v24H0V0z\" fill=\"none\"/>\n",
              "    <path d=\"M18.56 5.44l.94 2.06.94-2.06 2.06-.94-2.06-.94-.94-2.06-.94 2.06-2.06.94zm-11 1L8.5 8.5l.94-2.06 2.06-.94-2.06-.94L8.5 2.5l-.94 2.06-2.06.94zm10 10l.94 2.06.94-2.06 2.06-.94-2.06-.94-.94-2.06-.94 2.06-2.06.94z\"/><path d=\"M17.41 7.96l-1.37-1.37c-.4-.4-.92-.59-1.43-.59-.52 0-1.04.2-1.43.59L10.3 9.45l-7.72 7.72c-.78.78-.78 2.05 0 2.83L4 21.41c.39.39.9.59 1.41.59.51 0 1.02-.2 1.41-.59l7.78-7.78 2.81-2.81c.8-.78.8-2.07 0-2.86zM5.41 20L4 18.59l7.72-7.72 1.47 1.35L5.41 20z\"/>\n",
              "  </svg>\n",
              "      </button>\n",
              "      \n",
              "  <style>\n",
              "    .colab-df-container {\n",
              "      display:flex;\n",
              "      flex-wrap:wrap;\n",
              "      gap: 12px;\n",
              "    }\n",
              "\n",
              "    .colab-df-convert {\n",
              "      background-color: #E8F0FE;\n",
              "      border: none;\n",
              "      border-radius: 50%;\n",
              "      cursor: pointer;\n",
              "      display: none;\n",
              "      fill: #1967D2;\n",
              "      height: 32px;\n",
              "      padding: 0 0 0 0;\n",
              "      width: 32px;\n",
              "    }\n",
              "\n",
              "    .colab-df-convert:hover {\n",
              "      background-color: #E2EBFA;\n",
              "      box-shadow: 0px 1px 2px rgba(60, 64, 67, 0.3), 0px 1px 3px 1px rgba(60, 64, 67, 0.15);\n",
              "      fill: #174EA6;\n",
              "    }\n",
              "\n",
              "    [theme=dark] .colab-df-convert {\n",
              "      background-color: #3B4455;\n",
              "      fill: #D2E3FC;\n",
              "    }\n",
              "\n",
              "    [theme=dark] .colab-df-convert:hover {\n",
              "      background-color: #434B5C;\n",
              "      box-shadow: 0px 1px 3px 1px rgba(0, 0, 0, 0.15);\n",
              "      filter: drop-shadow(0px 1px 2px rgba(0, 0, 0, 0.3));\n",
              "      fill: #FFFFFF;\n",
              "    }\n",
              "  </style>\n",
              "\n",
              "      <script>\n",
              "        const buttonEl =\n",
              "          document.querySelector('#df-8a5403ea-84fd-4e6b-b989-a146ba04eb71 button.colab-df-convert');\n",
              "        buttonEl.style.display =\n",
              "          google.colab.kernel.accessAllowed ? 'block' : 'none';\n",
              "\n",
              "        async function convertToInteractive(key) {\n",
              "          const element = document.querySelector('#df-8a5403ea-84fd-4e6b-b989-a146ba04eb71');\n",
              "          const dataTable =\n",
              "            await google.colab.kernel.invokeFunction('convertToInteractive',\n",
              "                                                     [key], {});\n",
              "          if (!dataTable) return;\n",
              "\n",
              "          const docLinkHtml = 'Like what you see? Visit the ' +\n",
              "            '<a target=\"_blank\" href=https://colab.research.google.com/notebooks/data_table.ipynb>data table notebook</a>'\n",
              "            + ' to learn more about interactive tables.';\n",
              "          element.innerHTML = '';\n",
              "          dataTable['output_type'] = 'display_data';\n",
              "          await google.colab.output.renderOutput(dataTable, element);\n",
              "          const docLink = document.createElement('div');\n",
              "          docLink.innerHTML = docLinkHtml;\n",
              "          element.appendChild(docLink);\n",
              "        }\n",
              "      </script>\n",
              "    </div>\n",
              "  </div>\n",
              "  "
            ]
          },
          "metadata": {},
          "execution_count": 43
        }
      ]
    },
    {
      "cell_type": "markdown",
      "source": [
        "## 得到經過 cv 的 BOW"
      ],
      "metadata": {
        "id": "Af9vyCgO1UMi"
      }
    },
    {
      "cell_type": "code",
      "source": [
        "from sklearn.feature_extraction.text import CountVectorizer\n",
        "\n",
        "# I've have the tokens, so i pass dummy function in cv.\n",
        "def dummy(doc):\n",
        "    return doc\n",
        "\n",
        "# Create a matrix using CountVectorizer\n",
        "cv = CountVectorizer(preprocessor = dummy, \n",
        "            tokenizer = dummy, \n",
        "            strip_accents = 'ascii',\n",
        "            max_features = 10000)"
      ],
      "metadata": {
        "id": "xFRhyW0pEz_8"
      },
      "execution_count": 44,
      "outputs": []
    },
    {
      "cell_type": "markdown",
      "source": [
        "## Word2Vec (和 目標字 有關的w2v)"
      ],
      "metadata": {
        "id": "sWbGYJauzD1t"
      }
    },
    {
      "cell_type": "code",
      "source": [
        "from gensim.models import Word2Vec\n",
        "\n",
        "## setting\n",
        "vector_dim = 100\n",
        "window_size = 5\n",
        "min_count = 1\n",
        "training_epochs = 20"
      ],
      "metadata": {
        "id": "x0pkeBl75r-v"
      },
      "execution_count": 46,
      "outputs": []
    },
    {
      "cell_type": "code",
      "source": [
        "gensim.__version__"
      ],
      "metadata": {
        "colab": {
          "base_uri": "https://localhost:8080/",
          "height": 35
        },
        "id": "L3FPWcH1Vg-M",
        "outputId": "31297ec2-e72c-4b27-f176-6bb5963f8293"
      },
      "execution_count": 47,
      "outputs": [
        {
          "output_type": "execute_result",
          "data": {
            "text/plain": [
              "'3.6.0'"
            ],
            "application/vnd.google.colaboratory.intrinsic+json": {
              "type": "string"
            }
          },
          "metadata": {},
          "execution_count": 47
        }
      ]
    },
    {
      "cell_type": "code",
      "source": [
        "corpus_lemmatized = df['lemmatized_tokenized'].values\n",
        "corpus_stemmed = df['stemmed_tokenized'].values"
      ],
      "metadata": {
        "id": "_IqeU3UOVLLb"
      },
      "execution_count": 49,
      "outputs": []
    },
    {
      "cell_type": "code",
      "source": [
        "topn = 30"
      ],
      "metadata": {
        "id": "lz3jMSYwcp60"
      },
      "execution_count": null,
      "outputs": []
    },
    {
      "cell_type": "code",
      "source": [
        "## model\n",
        "word2vec_lemmatized = Word2Vec(sentences=corpus_lemmatized, size=vector_dim) \n",
        "#, window=window_size, min_count=min_count, epochs=training_epochs)\n",
        "\n",
        "# Get the most similar words\n",
        "for word in both_target:\n",
        "  print(word)\n",
        "  print(pd.DataFrame(word2vec_lemmatized.wv.most_similar(word, topn=topn), columns=['Word', 'Sims']).head())\n",
        "  print('-------')"
      ],
      "metadata": {
        "id": "vuGPn6e7FjD0",
        "colab": {
          "base_uri": "https://localhost:8080/"
        },
        "outputId": "0cba3beb-cbeb-4d7d-d178-5160547a586c"
      },
      "execution_count": 85,
      "outputs": [
        {
          "output_type": "stream",
          "name": "stdout",
          "text": [
            "asian\n",
            "       Word      Sims\n",
            "0     white  0.808195\n",
            "1       azn  0.802681\n",
            "2     whyte  0.793247\n",
            "3  hispanic  0.781170\n",
            "4      azns  0.776111\n",
            "-------\n",
            "asia\n",
            "        Word      Sims\n",
            "0  southeast  0.865049\n",
            "1     africa  0.858694\n",
            "2    eastern  0.847966\n",
            "3     middle  0.828033\n",
            "4       east  0.817795\n",
            "-------\n",
            "korea\n",
            "                Word      Sims\n",
            "0             skorea  0.823026\n",
            "1           nintendo  0.796652\n",
            "2                sea  0.794174\n",
            "3                 sk  0.788036\n",
            "4  hahahahahahahahah  0.786387\n",
            "-------\n",
            "korean\n",
            "         Word      Sims\n",
            "0    japanese  0.897900\n",
            "1       hanzi  0.805694\n",
            "2        racm  0.791243\n",
            "3        tall  0.778162\n",
            "4  vietnamese  0.758062\n",
            "-------\n",
            "japan\n",
            "       Word      Sims\n",
            "0    skorea  0.852901\n",
            "1        sk  0.849804\n",
            "2  nintendo  0.843719\n",
            "3     north  0.828168\n",
            "4   vietnam  0.824383\n",
            "-------\n",
            "japanese\n",
            "       Word      Sims\n",
            "0    korean  0.897900\n",
            "1     hanzi  0.842920\n",
            "2   kdramas  0.816759\n",
            "3  speaking  0.806556\n",
            "4  arubaito  0.779993\n",
            "-------\n",
            "taiwan\n",
            "           Word      Sims\n",
            "0  independence  0.889191\n",
            "1         facto  0.831461\n",
            "2           roc  0.827579\n",
            "3        island  0.821063\n",
            "4     territory  0.805296\n",
            "-------\n",
            "taiwanese\n",
            "       Word      Sims\n",
            "0        tw  0.846678\n",
            "1  mainland  0.813123\n",
            "2   reclaim  0.768862\n",
            "3      ergo  0.759695\n",
            "4        hk  0.754153\n",
            "-------\n",
            "hongkong\n",
            "        Word      Sims\n",
            "0       dprk  0.940056\n",
            "1   rightful  0.938249\n",
            "2        bce  0.933239\n",
            "3    prefers  0.932927\n",
            "4  punishing  0.929766\n",
            "-------\n",
            "china\n",
            "        Word      Sims\n",
            "0       land  0.814492\n",
            "1  territory  0.809633\n",
            "2       nuke  0.798269\n",
            "3     invade  0.796392\n",
            "4   recovers  0.790248\n",
            "-------\n",
            "chinese\n",
            "          Word      Sims\n",
            "0        twers  0.694124\n",
            "1    taiwanese  0.665861\n",
            "2     distrust  0.663252\n",
            "3     offerred  0.655302\n",
            "4  nationality  0.653271\n",
            "-------\n"
          ]
        }
      ]
    },
    {
      "cell_type": "code",
      "source": [
        "## model\n",
        "word2vec_stemmed = Word2Vec(sentences=corpus_stemmed, size=vector_dim) \n",
        "#, window=window_size, min_count=min_count, epochs=training_epochs)\n",
        "\n",
        "# Because the corpus are stemmed, so my key  words also need to be stemmed\n",
        "stemmer = PorterStemmer()\n",
        "\n",
        "# Get the most similar words\n",
        "for word in both_target:\n",
        "  print(word)\n",
        "  print(pd.DataFrame(word2vec_stemmed.wv.most_similar( stemmer.stem(word), topn=topn), columns=['Word', 'Sims']).head())\n",
        "  print('-------')"
      ],
      "metadata": {
        "colab": {
          "base_uri": "https://localhost:8080/"
        },
        "id": "i00giiwFX5Mp",
        "outputId": "0c7ff3fe-5a2c-47b9-f35d-1578f1420031"
      },
      "execution_count": 89,
      "outputs": [
        {
          "output_type": "stream",
          "name": "stdout",
          "text": [
            "asian\n",
            "     Word      Sims\n",
            "0     azn  0.841597\n",
            "1   white  0.803778\n",
            "2   whyte  0.767397\n",
            "3  hispan  0.767043\n",
            "4   black  0.754069\n",
            "-------\n",
            "asia\n",
            "        Word      Sims\n",
            "0    eastern  0.872312\n",
            "1  southeast  0.867077\n",
            "2     africa  0.848310\n",
            "3   european  0.840763\n",
            "4       east  0.835890\n",
            "-------\n",
            "korea\n",
            "       Word      Sims\n",
            "0       rok  0.800498\n",
            "1        sk  0.794106\n",
            "2  carolina  0.786858\n",
            "3       sea  0.783504\n",
            "4  nintendo  0.777050\n",
            "-------\n",
            "korean\n",
            "        Word      Sims\n",
            "0    japanes  0.871029\n",
            "1  vietnames  0.797829\n",
            "2       tall  0.737800\n",
            "3  malaysian  0.719304\n",
            "4     anchor  0.706008\n",
            "-------\n",
            "japan\n",
            "       Word      Sims\n",
            "0        sk  0.820680\n",
            "1     south  0.794335\n",
            "2  nintendo  0.792207\n",
            "3   germani  0.789322\n",
            "4   vietnam  0.779057\n",
            "-------\n",
            "japanese\n",
            "        Word      Sims\n",
            "0     korean  0.871029\n",
            "1  vietnames  0.775744\n",
            "2   arubaito  0.752038\n",
            "3      hanzi  0.736778\n",
            "4     german  0.736189\n",
            "-------\n",
            "taiwan\n",
            "       Word      Sims\n",
            "0  independ  0.895433\n",
            "1     invad  0.792920\n",
            "2       roc  0.780966\n",
            "3     invas  0.777792\n",
            "4    island  0.775556\n",
            "-------\n",
            "taiwanese\n",
            "       Word      Sims\n",
            "0        tw  0.848498\n",
            "1  mainland  0.844883\n",
            "2    belong  0.747259\n",
            "3       rok  0.745001\n",
            "4    welcom  0.731278\n",
            "-------\n",
            "hongkong\n",
            "          Word      Sims\n",
            "0        chink  0.943455\n",
            "1  vladivostok  0.941848\n",
            "2       winwin  0.933435\n",
            "3       chijnk  0.929243\n",
            "4          lil  0.928379\n",
            "-------\n",
            "china\n",
            "        Word      Sims\n",
            "0       nuke  0.754648\n",
            "1     ukrain  0.745925\n",
            "2  territori  0.739215\n",
            "3         eu  0.733353\n",
            "4     occupi  0.729403\n",
            "-------\n",
            "chinese\n",
            "        Word      Sims\n",
            "0     reliev  0.681593\n",
            "1     korean  0.657833\n",
            "2   taiwanes  0.646920\n",
            "3  nonchines  0.637177\n",
            "4    japanes  0.629317\n",
            "-------\n"
          ]
        }
      ]
    },
    {
      "cell_type": "markdown",
      "source": [
        "## 將 目標字 移出 BOW 得到 X"
      ],
      "metadata": {
        "id": "N7MjNQAi5c0M"
      }
    },
    {
      "cell_type": "code",
      "source": [
        "# Defining all the conditions inside a function\n",
        "def remove_target(x):\n",
        "  return [word for word in x if word not in (asia_target + china_target)]\n",
        "\n",
        "# Applying the conditions\n",
        "data['lemmatized_cleaned'] = data['lemmatized_tokenized'].apply(remove_target)\n",
        "data['stemmed_cleaned'] = data['stemmed_tokenized'].apply(remove_target)\n",
        "data.head(3)"
      ],
      "metadata": {
        "id": "dqNOD5tD5rNT"
      },
      "execution_count": null,
      "outputs": []
    },
    {
      "cell_type": "markdown",
      "source": [
        "# 真正要跑的部分"
      ],
      "metadata": {
        "id": "71qHsSid7jEE"
      }
    },
    {
      "cell_type": "markdown",
      "source": [
        "說點什麼"
      ],
      "metadata": {
        "id": "UR6s_zgY8Piv"
      }
    },
    {
      "cell_type": "markdown",
      "source": [
        "## 先跑一次 Lasso，將非零的字詞當作 DoubleML 中的 Treatment"
      ],
      "metadata": {
        "id": "cTOy2_4b7po0"
      }
    },
    {
      "cell_type": "code",
      "source": [
        "from sklearn.linear_model import LassoCV\n",
        "\n",
        "clf = LassoCV()\n",
        "clf.fit(posts_matrix, np.array([1]* len(asian_topic_idx)))\n",
        "print(clf.coef_[:10])"
      ],
      "metadata": {
        "id": "iAQyEtBn8Ocs"
      },
      "execution_count": null,
      "outputs": []
    },
    {
      "cell_type": "code",
      "source": [
        "clf.coef_[clf.coef_!=0]"
      ],
      "metadata": {
        "id": "OxvDo4yXEXNS"
      },
      "execution_count": null,
      "outputs": []
    },
    {
      "cell_type": "markdown",
      "source": [
        "## 跑 DoubleML (根據上面得到的 Treatment 和 Control)"
      ],
      "metadata": {
        "id": "U3OzyZFg79mY"
      }
    },
    {
      "cell_type": "code",
      "source": [
        "!pip install -U DoubleML"
      ],
      "metadata": {
        "id": "LyiYZdfp8Nqs"
      },
      "execution_count": null,
      "outputs": []
    },
    {
      "cell_type": "code",
      "source": [
        "import doubleml as dml\n",
        "from sklearn.base import clone\n",
        "\n",
        "learner = Lasso(alpha=0.1)\n",
        "\n",
        "ml_l = clone(learner)\n",
        "\n",
        "ml_m = clone(learner)"
      ],
      "metadata": {
        "id": "BG7AdxS1EZ3h"
      },
      "execution_count": null,
      "outputs": []
    },
    {
      "cell_type": "markdown",
      "source": [
        "### 使符合套件要求的資料格式"
      ],
      "metadata": {
        "id": "w9iO_oMwFIQa"
      }
    },
    {
      "cell_type": "code",
      "source": [
        "data_stem = pd.concat([df.y, stemmed_df], ignore_index=True, sort=False)\n",
        "data_stem.rename(columns={0: 'y'}, inplace=True)\n",
        "data_stem = data_stem.fillna(0)\n",
        "data_stem.head(3)"
      ],
      "metadata": {
        "id": "_hytAZO2FHDq"
      },
      "execution_count": null,
      "outputs": []
    },
    {
      "cell_type": "code",
      "source": [
        "print(list(stemmed_df.columns[np.nonzero(lasso_stem.coef_)]))"
      ],
      "metadata": {
        "id": "izfFPV3dFTS3"
      },
      "execution_count": null,
      "outputs": []
    },
    {
      "cell_type": "code",
      "source": [
        "DoubleMLClusterData.from_arrays(x, y, d, cluster_vars, z)"
      ],
      "metadata": {
        "id": "vGk3IMbLIUzO"
      },
      "execution_count": null,
      "outputs": []
    },
    {
      "cell_type": "code",
      "source": [
        "obj_dml_data = dml.DoubleMLData(data_stem,\n",
        "                y_col = 'y',\n",
        "                d_cols = list(stemmed_df.columns[np.nonzero(lasso_stem.coef_)])\n",
        "                )\n",
        "\n",
        "dml_plr_obj = dml.DoubleMLPLR(obj_dml_data, ml_l, ml_m)\n",
        "\n",
        "dml_plr_obj.fit();\n",
        "\n",
        "print(dml_plr_obj)"
      ],
      "metadata": {
        "id": "vdnnHTrVFVaF"
      },
      "execution_count": null,
      "outputs": []
    },
    {
      "cell_type": "markdown",
      "source": [
        "### APE 和 CI"
      ],
      "metadata": {
        "id": "o2bsVTEU8UIO"
      }
    },
    {
      "cell_type": "markdown",
      "source": [
        "但其實APE好像不行捏"
      ],
      "metadata": {
        "id": "vkeotfDC8axN"
      }
    },
    {
      "cell_type": "code",
      "source": [],
      "metadata": {
        "id": "2G6pVILr8h93"
      },
      "execution_count": null,
      "outputs": []
    },
    {
      "cell_type": "markdown",
      "source": [
        "### 看看 stemming 和 lemmatization 的 CI ，用誰?"
      ],
      "metadata": {
        "id": "bOK2Bhpj8oIb"
      }
    }
  ]
}