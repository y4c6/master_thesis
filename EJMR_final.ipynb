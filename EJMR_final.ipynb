{
  "nbformat": 4,
  "nbformat_minor": 0,
  "metadata": {
    "colab": {
      "provenance": [],
      "toc_visible": true,
      "authorship_tag": "ABX9TyO+/9AEeArbzwEV/sL+jUdn",
      "include_colab_link": true
    },
    "kernelspec": {
      "name": "python3",
      "display_name": "Python 3"
    },
    "language_info": {
      "name": "python"
    }
  },
  "cells": [
    {
      "cell_type": "markdown",
      "metadata": {
        "id": "view-in-github",
        "colab_type": "text"
      },
      "source": [
        "<a href=\"https://colab.research.google.com/github/y4c6/master_thesis/blob/main/EJMR_final.ipynb\" target=\"_parent\"><img src=\"https://colab.research.google.com/assets/colab-badge.svg\" alt=\"Open In Colab\"/></a>"
      ]
    },
    {
      "cell_type": "markdown",
      "source": [
        "受夠自己亂七八糟的檔案，放過來整理。"
      ],
      "metadata": {
        "id": "I7n5zL2utQRl"
      }
    },
    {
      "cell_type": "markdown",
      "source": [
        "# 這些變數名稱需要心情不錯的時候整理一次"
      ],
      "metadata": {
        "id": "TE5t2h7DMDeR"
      }
    },
    {
      "cell_type": "markdown",
      "source": [
        "# 套件"
      ],
      "metadata": {
        "id": "p-Nr5T8HvJai"
      }
    },
    {
      "cell_type": "code",
      "source": [
        "from google.colab import drive\n",
        "# directory\n",
        "drive.mount('/content/gdrive')"
      ],
      "metadata": {
        "id": "c2vWTM7IvPwx",
        "colab": {
          "base_uri": "https://localhost:8080/"
        },
        "outputId": "b13cd6c8-ead7-4014-845d-da3ae210f4c0"
      },
      "execution_count": 1,
      "outputs": [
        {
          "output_type": "stream",
          "name": "stdout",
          "text": [
            "Mounted at /content/gdrive\n"
          ]
        }
      ]
    },
    {
      "cell_type": "code",
      "source": [
        "import numpy as np\n",
        "import pandas as pd\n",
        "import json"
      ],
      "metadata": {
        "id": "dDteai2K9123"
      },
      "execution_count": 2,
      "outputs": []
    },
    {
      "cell_type": "markdown",
      "source": [
        "# 準備 dataset"
      ],
      "metadata": {
        "id": "AAiv4nQXwKAO"
      }
    },
    {
      "cell_type": "markdown",
      "source": [
        "# 合併json檔案"
      ],
      "metadata": {
        "id": "oDU1pOH1tqYU"
      }
    },
    {
      "cell_type": "markdown",
      "source": [
        "## 合併檔案 ( 從 EJMRpostXX.json 到 EJMRpost_XX_XX.json )"
      ],
      "metadata": {
        "id": "CeQMXw2Wt_B1"
      }
    },
    {
      "cell_type": "markdown",
      "source": [
        "不是每次都要跑這個"
      ],
      "metadata": {
        "id": "0t2o8ElDLhL6"
      }
    },
    {
      "cell_type": "code",
      "source": [
        "import glob\n",
        "import json\n",
        "\n",
        "def list_json_files(path, start_with): \n",
        "    # get a list of json files that starts with specific word \n",
        "    json_files = glob.glob(path + f'/{start_with}*.json')\n",
        "    return json_files\n",
        "\n",
        "def concat_json_files(file_paths):\n",
        "    # concatenate the content of all the files in the list\n",
        "    data = {'topic':[], 'posts':[]}\n",
        "    for file_path in file_paths:\n",
        "        with open(file_path, 'r') as f:\n",
        "            file_data = json.load(f)\n",
        "            data['topic'].extend(file_data['topic'])\n",
        "            data['posts'].extend(file_data['posts'])\n",
        "    return data\n",
        "\n",
        "def concat_json_files_with_start(path, start_with):\n",
        "    json_files = list_json_files(path, start_with)\n",
        "    data = concat_json_files(json_files)\n",
        "    return data"
      ],
      "metadata": {
        "id": "2n_RcusDu8Qe"
      },
      "execution_count": 3,
      "outputs": []
    },
    {
      "cell_type": "code",
      "source": [
        "path = '/content/gdrive/MyDrive/論文相關材料/'\n",
        "start_with = 'EJMRpost_'\n",
        "\n",
        "data = concat_json_files_with_start(path, start_with)"
      ],
      "metadata": {
        "id": "cu3FcJaC98vx"
      },
      "execution_count": 4,
      "outputs": []
    },
    {
      "cell_type": "code",
      "source": [
        "## 確認合併成功\n",
        "len(data['topic'])"
      ],
      "metadata": {
        "id": "0DuXyYik-EPP",
        "colab": {
          "base_uri": "https://localhost:8080/"
        },
        "outputId": "93a81bf1-4399-4544-ccc5-3da09cbb5b88"
      },
      "execution_count": 5,
      "outputs": [
        {
          "output_type": "execute_result",
          "data": {
            "text/plain": [
              "220000"
            ]
          },
          "metadata": {},
          "execution_count": 5
        }
      ]
    },
    {
      "cell_type": "markdown",
      "source": [
        "下面跟上面的好像可以做到一樣的事情"
      ],
      "metadata": {
        "id": "9npU6Nr2jcbN"
      }
    },
    {
      "cell_type": "markdown",
      "source": [
        "## 合併檔案 ( 從 EJMRpost_XX_XX.json 到 data: dict )"
      ],
      "metadata": {
        "id": "PACj0Okzurz5"
      }
    },
    {
      "cell_type": "code",
      "source": [
        "with open('/content/gdrive/MyDrive/論文相關材料/EJMRpost_1_10.json', 'r') as f:\n",
        "    file1 = json.load(f)\n",
        "\n",
        "with open('/content/gdrive/MyDrive/論文相關材料/EJMRpost_11_20.json', 'r') as f:\n",
        "    file2 = json.load(f)\n",
        "\n",
        "with open('/content/gdrive/MyDrive/論文相關材料/EJMRpost_21_30.json', 'r') as f:\n",
        "    file3 = json.load(f)"
      ],
      "metadata": {
        "id": "mL10668wzNmz"
      },
      "execution_count": 6,
      "outputs": []
    },
    {
      "cell_type": "code",
      "execution_count": 9,
      "metadata": {
        "id": "dBGJvYNEtCls"
      },
      "outputs": [],
      "source": [
        "def concat_json_files(files: list):\n",
        "    # concatenate the file in the lists\n",
        "    data = {'topic':[], 'posts':[]}\n",
        "    for file in files:\n",
        "      data['topic'].extend(file['topic'])\n",
        "      data['posts'].extend(file['posts'])\n",
        "    return data"
      ]
    },
    {
      "cell_type": "code",
      "source": [
        "data = concat_json_files([file1, file2, file3])"
      ],
      "metadata": {
        "id": "N2GAv_68zRE6"
      },
      "execution_count": 10,
      "outputs": []
    },
    {
      "cell_type": "code",
      "source": [
        "## 確認合併成功\n",
        "len(data['topic'])"
      ],
      "metadata": {
        "id": "llxTx5M_zUKu",
        "colab": {
          "base_uri": "https://localhost:8080/"
        },
        "outputId": "67acae1c-edbd-4b3f-9725-4d30ec4ba4f5"
      },
      "execution_count": 11,
      "outputs": [
        {
          "output_type": "execute_result",
          "data": {
            "text/plain": [
              "220000"
            ]
          },
          "metadata": {},
          "execution_count": 11
        }
      ]
    },
    {
      "cell_type": "markdown",
      "source": [
        "# 將檔案轉成表格 (從 data: dict 到 df: pd.df)"
      ],
      "metadata": {
        "id": "mogyLjMzvjWW"
      }
    },
    {
      "cell_type": "code",
      "source": [
        "df = pd.DataFrame(data)\n",
        "df.head(3)"
      ],
      "metadata": {
        "id": "yVCbntoAv7kN",
        "colab": {
          "base_uri": "https://localhost:8080/",
          "height": 260
        },
        "outputId": "19101262-ee6f-48ed-8e5e-5587e101f597"
      },
      "execution_count": 12,
      "outputs": [
        {
          "output_type": "execute_result",
          "data": {
            "text/plain": [
              "                                               topic  \\\n",
              "0    https://www.econjobrumors.com/topic/rbb-or-kari   \n",
              "1  https://www.econjobrumors.com/topic/as-ian-ame...   \n",
              "2  https://www.econjobrumors.com/topic/russia-chi...   \n",
              "\n",
              "                                               posts  \n",
              "0  [Whose more of a dishonest cringe dooshbag?, I...  \n",
              "1  [https://www.nytimes.com/2022/03/06/nyregion/a...  \n",
              "2  [Is this the genius outcome the West was looki...  "
            ],
            "text/html": [
              "\n",
              "  <div id=\"df-33d668d3-67d4-4d7b-9a5d-0873707fb346\">\n",
              "    <div class=\"colab-df-container\">\n",
              "      <div>\n",
              "<style scoped>\n",
              "    .dataframe tbody tr th:only-of-type {\n",
              "        vertical-align: middle;\n",
              "    }\n",
              "\n",
              "    .dataframe tbody tr th {\n",
              "        vertical-align: top;\n",
              "    }\n",
              "\n",
              "    .dataframe thead th {\n",
              "        text-align: right;\n",
              "    }\n",
              "</style>\n",
              "<table border=\"1\" class=\"dataframe\">\n",
              "  <thead>\n",
              "    <tr style=\"text-align: right;\">\n",
              "      <th></th>\n",
              "      <th>topic</th>\n",
              "      <th>posts</th>\n",
              "    </tr>\n",
              "  </thead>\n",
              "  <tbody>\n",
              "    <tr>\n",
              "      <th>0</th>\n",
              "      <td>https://www.econjobrumors.com/topic/rbb-or-kari</td>\n",
              "      <td>[Whose more of a dishonest cringe dooshbag?, I...</td>\n",
              "    </tr>\n",
              "    <tr>\n",
              "      <th>1</th>\n",
              "      <td>https://www.econjobrumors.com/topic/as-ian-ame...</td>\n",
              "      <td>[https://www.nytimes.com/2022/03/06/nyregion/a...</td>\n",
              "    </tr>\n",
              "    <tr>\n",
              "      <th>2</th>\n",
              "      <td>https://www.econjobrumors.com/topic/russia-chi...</td>\n",
              "      <td>[Is this the genius outcome the West was looki...</td>\n",
              "    </tr>\n",
              "  </tbody>\n",
              "</table>\n",
              "</div>\n",
              "      <button class=\"colab-df-convert\" onclick=\"convertToInteractive('df-33d668d3-67d4-4d7b-9a5d-0873707fb346')\"\n",
              "              title=\"Convert this dataframe to an interactive table.\"\n",
              "              style=\"display:none;\">\n",
              "        \n",
              "  <svg xmlns=\"http://www.w3.org/2000/svg\" height=\"24px\"viewBox=\"0 0 24 24\"\n",
              "       width=\"24px\">\n",
              "    <path d=\"M0 0h24v24H0V0z\" fill=\"none\"/>\n",
              "    <path d=\"M18.56 5.44l.94 2.06.94-2.06 2.06-.94-2.06-.94-.94-2.06-.94 2.06-2.06.94zm-11 1L8.5 8.5l.94-2.06 2.06-.94-2.06-.94L8.5 2.5l-.94 2.06-2.06.94zm10 10l.94 2.06.94-2.06 2.06-.94-2.06-.94-.94-2.06-.94 2.06-2.06.94z\"/><path d=\"M17.41 7.96l-1.37-1.37c-.4-.4-.92-.59-1.43-.59-.52 0-1.04.2-1.43.59L10.3 9.45l-7.72 7.72c-.78.78-.78 2.05 0 2.83L4 21.41c.39.39.9.59 1.41.59.51 0 1.02-.2 1.41-.59l7.78-7.78 2.81-2.81c.8-.78.8-2.07 0-2.86zM5.41 20L4 18.59l7.72-7.72 1.47 1.35L5.41 20z\"/>\n",
              "  </svg>\n",
              "      </button>\n",
              "      \n",
              "  <style>\n",
              "    .colab-df-container {\n",
              "      display:flex;\n",
              "      flex-wrap:wrap;\n",
              "      gap: 12px;\n",
              "    }\n",
              "\n",
              "    .colab-df-convert {\n",
              "      background-color: #E8F0FE;\n",
              "      border: none;\n",
              "      border-radius: 50%;\n",
              "      cursor: pointer;\n",
              "      display: none;\n",
              "      fill: #1967D2;\n",
              "      height: 32px;\n",
              "      padding: 0 0 0 0;\n",
              "      width: 32px;\n",
              "    }\n",
              "\n",
              "    .colab-df-convert:hover {\n",
              "      background-color: #E2EBFA;\n",
              "      box-shadow: 0px 1px 2px rgba(60, 64, 67, 0.3), 0px 1px 3px 1px rgba(60, 64, 67, 0.15);\n",
              "      fill: #174EA6;\n",
              "    }\n",
              "\n",
              "    [theme=dark] .colab-df-convert {\n",
              "      background-color: #3B4455;\n",
              "      fill: #D2E3FC;\n",
              "    }\n",
              "\n",
              "    [theme=dark] .colab-df-convert:hover {\n",
              "      background-color: #434B5C;\n",
              "      box-shadow: 0px 1px 3px 1px rgba(0, 0, 0, 0.15);\n",
              "      filter: drop-shadow(0px 1px 2px rgba(0, 0, 0, 0.3));\n",
              "      fill: #FFFFFF;\n",
              "    }\n",
              "  </style>\n",
              "\n",
              "      <script>\n",
              "        const buttonEl =\n",
              "          document.querySelector('#df-33d668d3-67d4-4d7b-9a5d-0873707fb346 button.colab-df-convert');\n",
              "        buttonEl.style.display =\n",
              "          google.colab.kernel.accessAllowed ? 'block' : 'none';\n",
              "\n",
              "        async function convertToInteractive(key) {\n",
              "          const element = document.querySelector('#df-33d668d3-67d4-4d7b-9a5d-0873707fb346');\n",
              "          const dataTable =\n",
              "            await google.colab.kernel.invokeFunction('convertToInteractive',\n",
              "                                                     [key], {});\n",
              "          if (!dataTable) return;\n",
              "\n",
              "          const docLinkHtml = 'Like what you see? Visit the ' +\n",
              "            '<a target=\"_blank\" href=https://colab.research.google.com/notebooks/data_table.ipynb>data table notebook</a>'\n",
              "            + ' to learn more about interactive tables.';\n",
              "          element.innerHTML = '';\n",
              "          dataTable['output_type'] = 'display_data';\n",
              "          await google.colab.output.renderOutput(dataTable, element);\n",
              "          const docLink = document.createElement('div');\n",
              "          docLink.innerHTML = docLinkHtml;\n",
              "          element.appendChild(docLink);\n",
              "        }\n",
              "      </script>\n",
              "    </div>\n",
              "  </div>\n",
              "  "
            ]
          },
          "metadata": {},
          "execution_count": 12
        }
      ]
    },
    {
      "cell_type": "markdown",
      "source": [
        "### check duplicated value"
      ],
      "metadata": {
        "id": "4nN0zPx1-doO"
      }
    },
    {
      "cell_type": "code",
      "source": [
        "df[df.topic.duplicated()==True]"
      ],
      "metadata": {
        "colab": {
          "base_uri": "https://localhost:8080/",
          "height": 641
        },
        "id": "YuzLDzWPhwJ5",
        "outputId": "c471240c-9500-4c2e-aa7d-459e754daa2d"
      },
      "execution_count": 14,
      "outputs": [
        {
          "output_type": "execute_result",
          "data": {
            "text/plain": [
              "                                                    topic  \\\n",
              "11960   https://www.econjobrumors.com/topic/im-studyin...   \n",
              "20387   https://www.econjobrumors.com/topic/what-i%e2%...   \n",
              "20680   https://www.econjobrumors.com/topic/why-do-so-...   \n",
              "24228   https://www.econjobrumors.com/topic/what-i%e2%...   \n",
              "31255   https://www.econjobrumors.com/topic/what-i%e2%...   \n",
              "...                                                   ...   \n",
              "216483  https://www.econjobrumors.com/topic/what-i%e2%...   \n",
              "216809  https://www.econjobrumors.com/topic/my-convers...   \n",
              "217291  https://www.econjobrumors.com/topic/what-shoul...   \n",
              "218108  https://www.econjobrumors.com/topic/china-fact...   \n",
              "219423  https://www.econjobrumors.com/topic/china-fact...   \n",
              "\n",
              "                                                    posts  \n",
              "11960   [black Americans during the pandemic on Asian ...  \n",
              "20387   [1. Peter Sloterdijk, Selected Exaggerations: ...  \n",
              "20680   [https://haas.berkeley.edu/phd/careers/job-pla...  \n",
              "24228   [1. Peter Sloterdijk, Selected Exaggerations: ...  \n",
              "31255   [1. Peter Sloterdijk, Selected Exaggerations: ...  \n",
              "...                                                   ...  \n",
              "216483  [1. Peter Sloterdijk, Selected Exaggerations: ...  \n",
              "216809  [I will be interviewing him shortly, for the C...  \n",
              "217291  [I will be doing a Conversations with Tyler wi...  \n",
              "218108  [Wow. That just blew my mind., well done!!, Ar...  \n",
              "219423  [Wow. That just blew my mind., well done!!, Ar...  \n",
              "\n",
              "[1042 rows x 2 columns]"
            ],
            "text/html": [
              "\n",
              "  <div id=\"df-8255c89c-10dd-4f8b-821d-a2298f622f79\">\n",
              "    <div class=\"colab-df-container\">\n",
              "      <div>\n",
              "<style scoped>\n",
              "    .dataframe tbody tr th:only-of-type {\n",
              "        vertical-align: middle;\n",
              "    }\n",
              "\n",
              "    .dataframe tbody tr th {\n",
              "        vertical-align: top;\n",
              "    }\n",
              "\n",
              "    .dataframe thead th {\n",
              "        text-align: right;\n",
              "    }\n",
              "</style>\n",
              "<table border=\"1\" class=\"dataframe\">\n",
              "  <thead>\n",
              "    <tr style=\"text-align: right;\">\n",
              "      <th></th>\n",
              "      <th>topic</th>\n",
              "      <th>posts</th>\n",
              "    </tr>\n",
              "  </thead>\n",
              "  <tbody>\n",
              "    <tr>\n",
              "      <th>11960</th>\n",
              "      <td>https://www.econjobrumors.com/topic/im-studyin...</td>\n",
              "      <td>[black Americans during the pandemic on Asian ...</td>\n",
              "    </tr>\n",
              "    <tr>\n",
              "      <th>20387</th>\n",
              "      <td>https://www.econjobrumors.com/topic/what-i%e2%...</td>\n",
              "      <td>[1. Peter Sloterdijk, Selected Exaggerations: ...</td>\n",
              "    </tr>\n",
              "    <tr>\n",
              "      <th>20680</th>\n",
              "      <td>https://www.econjobrumors.com/topic/why-do-so-...</td>\n",
              "      <td>[https://haas.berkeley.edu/phd/careers/job-pla...</td>\n",
              "    </tr>\n",
              "    <tr>\n",
              "      <th>24228</th>\n",
              "      <td>https://www.econjobrumors.com/topic/what-i%e2%...</td>\n",
              "      <td>[1. Peter Sloterdijk, Selected Exaggerations: ...</td>\n",
              "    </tr>\n",
              "    <tr>\n",
              "      <th>31255</th>\n",
              "      <td>https://www.econjobrumors.com/topic/what-i%e2%...</td>\n",
              "      <td>[1. Peter Sloterdijk, Selected Exaggerations: ...</td>\n",
              "    </tr>\n",
              "    <tr>\n",
              "      <th>...</th>\n",
              "      <td>...</td>\n",
              "      <td>...</td>\n",
              "    </tr>\n",
              "    <tr>\n",
              "      <th>216483</th>\n",
              "      <td>https://www.econjobrumors.com/topic/what-i%e2%...</td>\n",
              "      <td>[1. Peter Sloterdijk, Selected Exaggerations: ...</td>\n",
              "    </tr>\n",
              "    <tr>\n",
              "      <th>216809</th>\n",
              "      <td>https://www.econjobrumors.com/topic/my-convers...</td>\n",
              "      <td>[I will be interviewing him shortly, for the C...</td>\n",
              "    </tr>\n",
              "    <tr>\n",
              "      <th>217291</th>\n",
              "      <td>https://www.econjobrumors.com/topic/what-shoul...</td>\n",
              "      <td>[I will be doing a Conversations with Tyler wi...</td>\n",
              "    </tr>\n",
              "    <tr>\n",
              "      <th>218108</th>\n",
              "      <td>https://www.econjobrumors.com/topic/china-fact...</td>\n",
              "      <td>[Wow. That just blew my mind., well done!!, Ar...</td>\n",
              "    </tr>\n",
              "    <tr>\n",
              "      <th>219423</th>\n",
              "      <td>https://www.econjobrumors.com/topic/china-fact...</td>\n",
              "      <td>[Wow. That just blew my mind., well done!!, Ar...</td>\n",
              "    </tr>\n",
              "  </tbody>\n",
              "</table>\n",
              "<p>1042 rows × 2 columns</p>\n",
              "</div>\n",
              "      <button class=\"colab-df-convert\" onclick=\"convertToInteractive('df-8255c89c-10dd-4f8b-821d-a2298f622f79')\"\n",
              "              title=\"Convert this dataframe to an interactive table.\"\n",
              "              style=\"display:none;\">\n",
              "        \n",
              "  <svg xmlns=\"http://www.w3.org/2000/svg\" height=\"24px\"viewBox=\"0 0 24 24\"\n",
              "       width=\"24px\">\n",
              "    <path d=\"M0 0h24v24H0V0z\" fill=\"none\"/>\n",
              "    <path d=\"M18.56 5.44l.94 2.06.94-2.06 2.06-.94-2.06-.94-.94-2.06-.94 2.06-2.06.94zm-11 1L8.5 8.5l.94-2.06 2.06-.94-2.06-.94L8.5 2.5l-.94 2.06-2.06.94zm10 10l.94 2.06.94-2.06 2.06-.94-2.06-.94-.94-2.06-.94 2.06-2.06.94z\"/><path d=\"M17.41 7.96l-1.37-1.37c-.4-.4-.92-.59-1.43-.59-.52 0-1.04.2-1.43.59L10.3 9.45l-7.72 7.72c-.78.78-.78 2.05 0 2.83L4 21.41c.39.39.9.59 1.41.59.51 0 1.02-.2 1.41-.59l7.78-7.78 2.81-2.81c.8-.78.8-2.07 0-2.86zM5.41 20L4 18.59l7.72-7.72 1.47 1.35L5.41 20z\"/>\n",
              "  </svg>\n",
              "      </button>\n",
              "      \n",
              "  <style>\n",
              "    .colab-df-container {\n",
              "      display:flex;\n",
              "      flex-wrap:wrap;\n",
              "      gap: 12px;\n",
              "    }\n",
              "\n",
              "    .colab-df-convert {\n",
              "      background-color: #E8F0FE;\n",
              "      border: none;\n",
              "      border-radius: 50%;\n",
              "      cursor: pointer;\n",
              "      display: none;\n",
              "      fill: #1967D2;\n",
              "      height: 32px;\n",
              "      padding: 0 0 0 0;\n",
              "      width: 32px;\n",
              "    }\n",
              "\n",
              "    .colab-df-convert:hover {\n",
              "      background-color: #E2EBFA;\n",
              "      box-shadow: 0px 1px 2px rgba(60, 64, 67, 0.3), 0px 1px 3px 1px rgba(60, 64, 67, 0.15);\n",
              "      fill: #174EA6;\n",
              "    }\n",
              "\n",
              "    [theme=dark] .colab-df-convert {\n",
              "      background-color: #3B4455;\n",
              "      fill: #D2E3FC;\n",
              "    }\n",
              "\n",
              "    [theme=dark] .colab-df-convert:hover {\n",
              "      background-color: #434B5C;\n",
              "      box-shadow: 0px 1px 3px 1px rgba(0, 0, 0, 0.15);\n",
              "      filter: drop-shadow(0px 1px 2px rgba(0, 0, 0, 0.3));\n",
              "      fill: #FFFFFF;\n",
              "    }\n",
              "  </style>\n",
              "\n",
              "      <script>\n",
              "        const buttonEl =\n",
              "          document.querySelector('#df-8255c89c-10dd-4f8b-821d-a2298f622f79 button.colab-df-convert');\n",
              "        buttonEl.style.display =\n",
              "          google.colab.kernel.accessAllowed ? 'block' : 'none';\n",
              "\n",
              "        async function convertToInteractive(key) {\n",
              "          const element = document.querySelector('#df-8255c89c-10dd-4f8b-821d-a2298f622f79');\n",
              "          const dataTable =\n",
              "            await google.colab.kernel.invokeFunction('convertToInteractive',\n",
              "                                                     [key], {});\n",
              "          if (!dataTable) return;\n",
              "\n",
              "          const docLinkHtml = 'Like what you see? Visit the ' +\n",
              "            '<a target=\"_blank\" href=https://colab.research.google.com/notebooks/data_table.ipynb>data table notebook</a>'\n",
              "            + ' to learn more about interactive tables.';\n",
              "          element.innerHTML = '';\n",
              "          dataTable['output_type'] = 'display_data';\n",
              "          await google.colab.output.renderOutput(dataTable, element);\n",
              "          const docLink = document.createElement('div');\n",
              "          docLink.innerHTML = docLinkHtml;\n",
              "          element.appendChild(docLink);\n",
              "        }\n",
              "      </script>\n",
              "    </div>\n",
              "  </div>\n",
              "  "
            ]
          },
          "metadata": {},
          "execution_count": 14
        }
      ]
    },
    {
      "cell_type": "markdown",
      "source": [
        "I have 1,042 duplicated rows in this data.\n",
        "maybe there are something wrong when i scraped,\n",
        "but the number is not too big related to the total nubmber of dataset (220,000).\n",
        "I think it would be okay to remove them here."
      ],
      "metadata": {
        "id": "cW4xK-C9p3_y"
      }
    },
    {
      "cell_type": "code",
      "source": [
        "df = df.drop_duplicates(subset=['topic'], keep=\"first\")\n",
        "\n",
        "df.head()"
      ],
      "metadata": {
        "colab": {
          "base_uri": "https://localhost:8080/",
          "height": 357
        },
        "id": "S_FaIklSo4FS",
        "outputId": "06377065-f7ff-4ccb-dde3-d82fc53f63cd"
      },
      "execution_count": 16,
      "outputs": [
        {
          "output_type": "execute_result",
          "data": {
            "text/plain": [
              "                                               topic  \\\n",
              "0    https://www.econjobrumors.com/topic/rbb-or-kari   \n",
              "1  https://www.econjobrumors.com/topic/as-ian-ame...   \n",
              "2  https://www.econjobrumors.com/topic/russia-chi...   \n",
              "3  https://www.econjobrumors.com/topic/just-found...   \n",
              "4  https://www.econjobrumors.com/topic/karen-and-...   \n",
              "\n",
              "                                               posts  \n",
              "0  [Whose more of a dishonest cringe dooshbag?, I...  \n",
              "1  [https://www.nytimes.com/2022/03/06/nyregion/a...  \n",
              "2  [Is this the genius outcome the West was looki...  \n",
              "3      [Why? Why would you ever study such a thing?]  \n",
              "4  [What happens next?, Mutant babies., Zhang pos...  "
            ],
            "text/html": [
              "\n",
              "  <div id=\"df-8c33caa1-48f0-4512-8aa7-e2a76215a902\">\n",
              "    <div class=\"colab-df-container\">\n",
              "      <div>\n",
              "<style scoped>\n",
              "    .dataframe tbody tr th:only-of-type {\n",
              "        vertical-align: middle;\n",
              "    }\n",
              "\n",
              "    .dataframe tbody tr th {\n",
              "        vertical-align: top;\n",
              "    }\n",
              "\n",
              "    .dataframe thead th {\n",
              "        text-align: right;\n",
              "    }\n",
              "</style>\n",
              "<table border=\"1\" class=\"dataframe\">\n",
              "  <thead>\n",
              "    <tr style=\"text-align: right;\">\n",
              "      <th></th>\n",
              "      <th>topic</th>\n",
              "      <th>posts</th>\n",
              "    </tr>\n",
              "  </thead>\n",
              "  <tbody>\n",
              "    <tr>\n",
              "      <th>0</th>\n",
              "      <td>https://www.econjobrumors.com/topic/rbb-or-kari</td>\n",
              "      <td>[Whose more of a dishonest cringe dooshbag?, I...</td>\n",
              "    </tr>\n",
              "    <tr>\n",
              "      <th>1</th>\n",
              "      <td>https://www.econjobrumors.com/topic/as-ian-ame...</td>\n",
              "      <td>[https://www.nytimes.com/2022/03/06/nyregion/a...</td>\n",
              "    </tr>\n",
              "    <tr>\n",
              "      <th>2</th>\n",
              "      <td>https://www.econjobrumors.com/topic/russia-chi...</td>\n",
              "      <td>[Is this the genius outcome the West was looki...</td>\n",
              "    </tr>\n",
              "    <tr>\n",
              "      <th>3</th>\n",
              "      <td>https://www.econjobrumors.com/topic/just-found...</td>\n",
              "      <td>[Why? Why would you ever study such a thing?]</td>\n",
              "    </tr>\n",
              "    <tr>\n",
              "      <th>4</th>\n",
              "      <td>https://www.econjobrumors.com/topic/karen-and-...</td>\n",
              "      <td>[What happens next?, Mutant babies., Zhang pos...</td>\n",
              "    </tr>\n",
              "  </tbody>\n",
              "</table>\n",
              "</div>\n",
              "      <button class=\"colab-df-convert\" onclick=\"convertToInteractive('df-8c33caa1-48f0-4512-8aa7-e2a76215a902')\"\n",
              "              title=\"Convert this dataframe to an interactive table.\"\n",
              "              style=\"display:none;\">\n",
              "        \n",
              "  <svg xmlns=\"http://www.w3.org/2000/svg\" height=\"24px\"viewBox=\"0 0 24 24\"\n",
              "       width=\"24px\">\n",
              "    <path d=\"M0 0h24v24H0V0z\" fill=\"none\"/>\n",
              "    <path d=\"M18.56 5.44l.94 2.06.94-2.06 2.06-.94-2.06-.94-.94-2.06-.94 2.06-2.06.94zm-11 1L8.5 8.5l.94-2.06 2.06-.94-2.06-.94L8.5 2.5l-.94 2.06-2.06.94zm10 10l.94 2.06.94-2.06 2.06-.94-2.06-.94-.94-2.06-.94 2.06-2.06.94z\"/><path d=\"M17.41 7.96l-1.37-1.37c-.4-.4-.92-.59-1.43-.59-.52 0-1.04.2-1.43.59L10.3 9.45l-7.72 7.72c-.78.78-.78 2.05 0 2.83L4 21.41c.39.39.9.59 1.41.59.51 0 1.02-.2 1.41-.59l7.78-7.78 2.81-2.81c.8-.78.8-2.07 0-2.86zM5.41 20L4 18.59l7.72-7.72 1.47 1.35L5.41 20z\"/>\n",
              "  </svg>\n",
              "      </button>\n",
              "      \n",
              "  <style>\n",
              "    .colab-df-container {\n",
              "      display:flex;\n",
              "      flex-wrap:wrap;\n",
              "      gap: 12px;\n",
              "    }\n",
              "\n",
              "    .colab-df-convert {\n",
              "      background-color: #E8F0FE;\n",
              "      border: none;\n",
              "      border-radius: 50%;\n",
              "      cursor: pointer;\n",
              "      display: none;\n",
              "      fill: #1967D2;\n",
              "      height: 32px;\n",
              "      padding: 0 0 0 0;\n",
              "      width: 32px;\n",
              "    }\n",
              "\n",
              "    .colab-df-convert:hover {\n",
              "      background-color: #E2EBFA;\n",
              "      box-shadow: 0px 1px 2px rgba(60, 64, 67, 0.3), 0px 1px 3px 1px rgba(60, 64, 67, 0.15);\n",
              "      fill: #174EA6;\n",
              "    }\n",
              "\n",
              "    [theme=dark] .colab-df-convert {\n",
              "      background-color: #3B4455;\n",
              "      fill: #D2E3FC;\n",
              "    }\n",
              "\n",
              "    [theme=dark] .colab-df-convert:hover {\n",
              "      background-color: #434B5C;\n",
              "      box-shadow: 0px 1px 3px 1px rgba(0, 0, 0, 0.15);\n",
              "      filter: drop-shadow(0px 1px 2px rgba(0, 0, 0, 0.3));\n",
              "      fill: #FFFFFF;\n",
              "    }\n",
              "  </style>\n",
              "\n",
              "      <script>\n",
              "        const buttonEl =\n",
              "          document.querySelector('#df-8c33caa1-48f0-4512-8aa7-e2a76215a902 button.colab-df-convert');\n",
              "        buttonEl.style.display =\n",
              "          google.colab.kernel.accessAllowed ? 'block' : 'none';\n",
              "\n",
              "        async function convertToInteractive(key) {\n",
              "          const element = document.querySelector('#df-8c33caa1-48f0-4512-8aa7-e2a76215a902');\n",
              "          const dataTable =\n",
              "            await google.colab.kernel.invokeFunction('convertToInteractive',\n",
              "                                                     [key], {});\n",
              "          if (!dataTable) return;\n",
              "\n",
              "          const docLinkHtml = 'Like what you see? Visit the ' +\n",
              "            '<a target=\"_blank\" href=https://colab.research.google.com/notebooks/data_table.ipynb>data table notebook</a>'\n",
              "            + ' to learn more about interactive tables.';\n",
              "          element.innerHTML = '';\n",
              "          dataTable['output_type'] = 'display_data';\n",
              "          await google.colab.output.renderOutput(dataTable, element);\n",
              "          const docLink = document.createElement('div');\n",
              "          docLink.innerHTML = docLinkHtml;\n",
              "          element.appendChild(docLink);\n",
              "        }\n",
              "      </script>\n",
              "    </div>\n",
              "  </div>\n",
              "  "
            ]
          },
          "metadata": {},
          "execution_count": 16
        }
      ]
    },
    {
      "cell_type": "code",
      "source": [
        "df.shape"
      ],
      "metadata": {
        "colab": {
          "base_uri": "https://localhost:8080/"
        },
        "id": "CjXPCdBIqddD",
        "outputId": "6307b783-fa2e-4de6-ebf0-45dae0b388a5"
      },
      "execution_count": 18,
      "outputs": [
        {
          "output_type": "execute_result",
          "data": {
            "text/plain": [
              "(218958, 2)"
            ]
          },
          "metadata": {},
          "execution_count": 18
        }
      ]
    },
    {
      "cell_type": "markdown",
      "source": [
        "# 準備 y, X"
      ],
      "metadata": {
        "id": "2k4UV5KFv8mK"
      }
    },
    {
      "cell_type": "markdown",
      "source": [
        "## 準備 y ( 利用condition()挑出 df.topic 中包含 關鍵字 的 df.posts(列) )"
      ],
      "metadata": {
        "id": "BEqXnUeowaFF"
      }
    },
    {
      "cell_type": "markdown",
      "source": [
        "### 準備 df.Target ( asia+china -> china -> asia)"
      ],
      "metadata": {
        "id": "XV5OPsQpxsKh"
      }
    },
    {
      "cell_type": "code",
      "source": [
        "asia_target = ['asian', 'asia', 'korea', 'korean', 'japan', 'japanese', 'taiwan', 'taiwanese', 'hongkong', 'tibet', 'xinjiang']\n",
        "china_target = ['china', 'chinese']"
      ],
      "metadata": {
        "id": "k4iFUb7F94tU"
      },
      "execution_count": 19,
      "outputs": []
    },
    {
      "cell_type": "code",
      "source": [
        "both_target = asia_target + china_target\n",
        "print(both_target)"
      ],
      "metadata": {
        "colab": {
          "base_uri": "https://localhost:8080/"
        },
        "id": "9QqEMOMHMumX",
        "outputId": "ba1dc0b2-cc50-43c0-c922-3c8cddeafe97"
      },
      "execution_count": 20,
      "outputs": [
        {
          "output_type": "stream",
          "name": "stdout",
          "text": [
            "['asian', 'asia', 'korea', 'korean', 'japan', 'japanese', 'taiwan', 'taiwanese', 'hongkong', 'tibet', 'xinjiang', 'china', 'chinese']\n"
          ]
        }
      ]
    },
    {
      "cell_type": "code",
      "source": [
        "# Defining all the conditions inside a function\n",
        "def condition(x):\n",
        "    if any( word in x for word in asia_target) and any( word in x for word in china_target): #series.str.contains('Mel').any()\n",
        "        return \"both\"\n",
        "    elif any( word in x for word in asia_target):\n",
        "        return \"asia\"\n",
        "    elif any( word in x for word in china_target):\n",
        "        return \"china\"\n",
        "    else:\n",
        "        return \"other\"\n",
        " \n",
        "# Applying the conditions\n",
        "df['Target'] = df['topic'].apply(condition)\n",
        "df.head(3)"
      ],
      "metadata": {
        "id": "nE1ijjfe9-Pu",
        "colab": {
          "base_uri": "https://localhost:8080/",
          "height": 364
        },
        "outputId": "c056df57-dd10-488d-c0f6-c398c599fcc4"
      },
      "execution_count": 21,
      "outputs": [
        {
          "output_type": "stream",
          "name": "stderr",
          "text": [
            "<ipython-input-21-d8f04e4cf6b9>:13: SettingWithCopyWarning: \n",
            "A value is trying to be set on a copy of a slice from a DataFrame.\n",
            "Try using .loc[row_indexer,col_indexer] = value instead\n",
            "\n",
            "See the caveats in the documentation: https://pandas.pydata.org/pandas-docs/stable/user_guide/indexing.html#returning-a-view-versus-a-copy\n",
            "  df['Target'] = df['topic'].apply(condition)\n"
          ]
        },
        {
          "output_type": "execute_result",
          "data": {
            "text/plain": [
              "                                               topic  \\\n",
              "0    https://www.econjobrumors.com/topic/rbb-or-kari   \n",
              "1  https://www.econjobrumors.com/topic/as-ian-ame...   \n",
              "2  https://www.econjobrumors.com/topic/russia-chi...   \n",
              "\n",
              "                                               posts Target  \n",
              "0  [Whose more of a dishonest cringe dooshbag?, I...  other  \n",
              "1  [https://www.nytimes.com/2022/03/06/nyregion/a...  other  \n",
              "2  [Is this the genius outcome the West was looki...  china  "
            ],
            "text/html": [
              "\n",
              "  <div id=\"df-489d557b-0445-47eb-9897-e8460a680fae\">\n",
              "    <div class=\"colab-df-container\">\n",
              "      <div>\n",
              "<style scoped>\n",
              "    .dataframe tbody tr th:only-of-type {\n",
              "        vertical-align: middle;\n",
              "    }\n",
              "\n",
              "    .dataframe tbody tr th {\n",
              "        vertical-align: top;\n",
              "    }\n",
              "\n",
              "    .dataframe thead th {\n",
              "        text-align: right;\n",
              "    }\n",
              "</style>\n",
              "<table border=\"1\" class=\"dataframe\">\n",
              "  <thead>\n",
              "    <tr style=\"text-align: right;\">\n",
              "      <th></th>\n",
              "      <th>topic</th>\n",
              "      <th>posts</th>\n",
              "      <th>Target</th>\n",
              "    </tr>\n",
              "  </thead>\n",
              "  <tbody>\n",
              "    <tr>\n",
              "      <th>0</th>\n",
              "      <td>https://www.econjobrumors.com/topic/rbb-or-kari</td>\n",
              "      <td>[Whose more of a dishonest cringe dooshbag?, I...</td>\n",
              "      <td>other</td>\n",
              "    </tr>\n",
              "    <tr>\n",
              "      <th>1</th>\n",
              "      <td>https://www.econjobrumors.com/topic/as-ian-ame...</td>\n",
              "      <td>[https://www.nytimes.com/2022/03/06/nyregion/a...</td>\n",
              "      <td>other</td>\n",
              "    </tr>\n",
              "    <tr>\n",
              "      <th>2</th>\n",
              "      <td>https://www.econjobrumors.com/topic/russia-chi...</td>\n",
              "      <td>[Is this the genius outcome the West was looki...</td>\n",
              "      <td>china</td>\n",
              "    </tr>\n",
              "  </tbody>\n",
              "</table>\n",
              "</div>\n",
              "      <button class=\"colab-df-convert\" onclick=\"convertToInteractive('df-489d557b-0445-47eb-9897-e8460a680fae')\"\n",
              "              title=\"Convert this dataframe to an interactive table.\"\n",
              "              style=\"display:none;\">\n",
              "        \n",
              "  <svg xmlns=\"http://www.w3.org/2000/svg\" height=\"24px\"viewBox=\"0 0 24 24\"\n",
              "       width=\"24px\">\n",
              "    <path d=\"M0 0h24v24H0V0z\" fill=\"none\"/>\n",
              "    <path d=\"M18.56 5.44l.94 2.06.94-2.06 2.06-.94-2.06-.94-.94-2.06-.94 2.06-2.06.94zm-11 1L8.5 8.5l.94-2.06 2.06-.94-2.06-.94L8.5 2.5l-.94 2.06-2.06.94zm10 10l.94 2.06.94-2.06 2.06-.94-2.06-.94-.94-2.06-.94 2.06-2.06.94z\"/><path d=\"M17.41 7.96l-1.37-1.37c-.4-.4-.92-.59-1.43-.59-.52 0-1.04.2-1.43.59L10.3 9.45l-7.72 7.72c-.78.78-.78 2.05 0 2.83L4 21.41c.39.39.9.59 1.41.59.51 0 1.02-.2 1.41-.59l7.78-7.78 2.81-2.81c.8-.78.8-2.07 0-2.86zM5.41 20L4 18.59l7.72-7.72 1.47 1.35L5.41 20z\"/>\n",
              "  </svg>\n",
              "      </button>\n",
              "      \n",
              "  <style>\n",
              "    .colab-df-container {\n",
              "      display:flex;\n",
              "      flex-wrap:wrap;\n",
              "      gap: 12px;\n",
              "    }\n",
              "\n",
              "    .colab-df-convert {\n",
              "      background-color: #E8F0FE;\n",
              "      border: none;\n",
              "      border-radius: 50%;\n",
              "      cursor: pointer;\n",
              "      display: none;\n",
              "      fill: #1967D2;\n",
              "      height: 32px;\n",
              "      padding: 0 0 0 0;\n",
              "      width: 32px;\n",
              "    }\n",
              "\n",
              "    .colab-df-convert:hover {\n",
              "      background-color: #E2EBFA;\n",
              "      box-shadow: 0px 1px 2px rgba(60, 64, 67, 0.3), 0px 1px 3px 1px rgba(60, 64, 67, 0.15);\n",
              "      fill: #174EA6;\n",
              "    }\n",
              "\n",
              "    [theme=dark] .colab-df-convert {\n",
              "      background-color: #3B4455;\n",
              "      fill: #D2E3FC;\n",
              "    }\n",
              "\n",
              "    [theme=dark] .colab-df-convert:hover {\n",
              "      background-color: #434B5C;\n",
              "      box-shadow: 0px 1px 3px 1px rgba(0, 0, 0, 0.15);\n",
              "      filter: drop-shadow(0px 1px 2px rgba(0, 0, 0, 0.3));\n",
              "      fill: #FFFFFF;\n",
              "    }\n",
              "  </style>\n",
              "\n",
              "      <script>\n",
              "        const buttonEl =\n",
              "          document.querySelector('#df-489d557b-0445-47eb-9897-e8460a680fae button.colab-df-convert');\n",
              "        buttonEl.style.display =\n",
              "          google.colab.kernel.accessAllowed ? 'block' : 'none';\n",
              "\n",
              "        async function convertToInteractive(key) {\n",
              "          const element = document.querySelector('#df-489d557b-0445-47eb-9897-e8460a680fae');\n",
              "          const dataTable =\n",
              "            await google.colab.kernel.invokeFunction('convertToInteractive',\n",
              "                                                     [key], {});\n",
              "          if (!dataTable) return;\n",
              "\n",
              "          const docLinkHtml = 'Like what you see? Visit the ' +\n",
              "            '<a target=\"_blank\" href=https://colab.research.google.com/notebooks/data_table.ipynb>data table notebook</a>'\n",
              "            + ' to learn more about interactive tables.';\n",
              "          element.innerHTML = '';\n",
              "          dataTable['output_type'] = 'display_data';\n",
              "          await google.colab.output.renderOutput(dataTable, element);\n",
              "          const docLink = document.createElement('div');\n",
              "          docLink.innerHTML = docLinkHtml;\n",
              "          element.appendChild(docLink);\n",
              "        }\n",
              "      </script>\n",
              "    </div>\n",
              "  </div>\n",
              "  "
            ]
          },
          "metadata": {},
          "execution_count": 21
        }
      ]
    },
    {
      "cell_type": "markdown",
      "source": [
        "### 準備 df.y"
      ],
      "metadata": {
        "id": "shuy5wP8xMEB"
      }
    },
    {
      "cell_type": "code",
      "source": [
        "df = df.drop(df[df['Target'] == 'other'].index)\n",
        "df.head(3)"
      ],
      "metadata": {
        "id": "193R5pYFxzfP",
        "colab": {
          "base_uri": "https://localhost:8080/",
          "height": 240
        },
        "outputId": "35ea0fea-83a7-4028-b589-b4f32eb4ad6d"
      },
      "execution_count": 22,
      "outputs": [
        {
          "output_type": "execute_result",
          "data": {
            "text/plain": [
              "                                                topic  \\\n",
              "2   https://www.econjobrumors.com/topic/russia-chi...   \n",
              "23  https://www.econjobrumors.com/topic/are-more-t...   \n",
              "44  https://www.econjobrumors.com/topic/reminder-c...   \n",
              "\n",
              "                                                posts Target  \n",
              "2   [Is this the genius outcome the West was looki...  china  \n",
              "23  [Not even accounting for Indians., All the qua...   asia  \n",
              "44                  [Never forget. Never forgive., .]  china  "
            ],
            "text/html": [
              "\n",
              "  <div id=\"df-6553f70d-509d-40af-848b-92627e85cb8c\">\n",
              "    <div class=\"colab-df-container\">\n",
              "      <div>\n",
              "<style scoped>\n",
              "    .dataframe tbody tr th:only-of-type {\n",
              "        vertical-align: middle;\n",
              "    }\n",
              "\n",
              "    .dataframe tbody tr th {\n",
              "        vertical-align: top;\n",
              "    }\n",
              "\n",
              "    .dataframe thead th {\n",
              "        text-align: right;\n",
              "    }\n",
              "</style>\n",
              "<table border=\"1\" class=\"dataframe\">\n",
              "  <thead>\n",
              "    <tr style=\"text-align: right;\">\n",
              "      <th></th>\n",
              "      <th>topic</th>\n",
              "      <th>posts</th>\n",
              "      <th>Target</th>\n",
              "    </tr>\n",
              "  </thead>\n",
              "  <tbody>\n",
              "    <tr>\n",
              "      <th>2</th>\n",
              "      <td>https://www.econjobrumors.com/topic/russia-chi...</td>\n",
              "      <td>[Is this the genius outcome the West was looki...</td>\n",
              "      <td>china</td>\n",
              "    </tr>\n",
              "    <tr>\n",
              "      <th>23</th>\n",
              "      <td>https://www.econjobrumors.com/topic/are-more-t...</td>\n",
              "      <td>[Not even accounting for Indians., All the qua...</td>\n",
              "      <td>asia</td>\n",
              "    </tr>\n",
              "    <tr>\n",
              "      <th>44</th>\n",
              "      <td>https://www.econjobrumors.com/topic/reminder-c...</td>\n",
              "      <td>[Never forget. Never forgive., .]</td>\n",
              "      <td>china</td>\n",
              "    </tr>\n",
              "  </tbody>\n",
              "</table>\n",
              "</div>\n",
              "      <button class=\"colab-df-convert\" onclick=\"convertToInteractive('df-6553f70d-509d-40af-848b-92627e85cb8c')\"\n",
              "              title=\"Convert this dataframe to an interactive table.\"\n",
              "              style=\"display:none;\">\n",
              "        \n",
              "  <svg xmlns=\"http://www.w3.org/2000/svg\" height=\"24px\"viewBox=\"0 0 24 24\"\n",
              "       width=\"24px\">\n",
              "    <path d=\"M0 0h24v24H0V0z\" fill=\"none\"/>\n",
              "    <path d=\"M18.56 5.44l.94 2.06.94-2.06 2.06-.94-2.06-.94-.94-2.06-.94 2.06-2.06.94zm-11 1L8.5 8.5l.94-2.06 2.06-.94-2.06-.94L8.5 2.5l-.94 2.06-2.06.94zm10 10l.94 2.06.94-2.06 2.06-.94-2.06-.94-.94-2.06-.94 2.06-2.06.94z\"/><path d=\"M17.41 7.96l-1.37-1.37c-.4-.4-.92-.59-1.43-.59-.52 0-1.04.2-1.43.59L10.3 9.45l-7.72 7.72c-.78.78-.78 2.05 0 2.83L4 21.41c.39.39.9.59 1.41.59.51 0 1.02-.2 1.41-.59l7.78-7.78 2.81-2.81c.8-.78.8-2.07 0-2.86zM5.41 20L4 18.59l7.72-7.72 1.47 1.35L5.41 20z\"/>\n",
              "  </svg>\n",
              "      </button>\n",
              "      \n",
              "  <style>\n",
              "    .colab-df-container {\n",
              "      display:flex;\n",
              "      flex-wrap:wrap;\n",
              "      gap: 12px;\n",
              "    }\n",
              "\n",
              "    .colab-df-convert {\n",
              "      background-color: #E8F0FE;\n",
              "      border: none;\n",
              "      border-radius: 50%;\n",
              "      cursor: pointer;\n",
              "      display: none;\n",
              "      fill: #1967D2;\n",
              "      height: 32px;\n",
              "      padding: 0 0 0 0;\n",
              "      width: 32px;\n",
              "    }\n",
              "\n",
              "    .colab-df-convert:hover {\n",
              "      background-color: #E2EBFA;\n",
              "      box-shadow: 0px 1px 2px rgba(60, 64, 67, 0.3), 0px 1px 3px 1px rgba(60, 64, 67, 0.15);\n",
              "      fill: #174EA6;\n",
              "    }\n",
              "\n",
              "    [theme=dark] .colab-df-convert {\n",
              "      background-color: #3B4455;\n",
              "      fill: #D2E3FC;\n",
              "    }\n",
              "\n",
              "    [theme=dark] .colab-df-convert:hover {\n",
              "      background-color: #434B5C;\n",
              "      box-shadow: 0px 1px 3px 1px rgba(0, 0, 0, 0.15);\n",
              "      filter: drop-shadow(0px 1px 2px rgba(0, 0, 0, 0.3));\n",
              "      fill: #FFFFFF;\n",
              "    }\n",
              "  </style>\n",
              "\n",
              "      <script>\n",
              "        const buttonEl =\n",
              "          document.querySelector('#df-6553f70d-509d-40af-848b-92627e85cb8c button.colab-df-convert');\n",
              "        buttonEl.style.display =\n",
              "          google.colab.kernel.accessAllowed ? 'block' : 'none';\n",
              "\n",
              "        async function convertToInteractive(key) {\n",
              "          const element = document.querySelector('#df-6553f70d-509d-40af-848b-92627e85cb8c');\n",
              "          const dataTable =\n",
              "            await google.colab.kernel.invokeFunction('convertToInteractive',\n",
              "                                                     [key], {});\n",
              "          if (!dataTable) return;\n",
              "\n",
              "          const docLinkHtml = 'Like what you see? Visit the ' +\n",
              "            '<a target=\"_blank\" href=https://colab.research.google.com/notebooks/data_table.ipynb>data table notebook</a>'\n",
              "            + ' to learn more about interactive tables.';\n",
              "          element.innerHTML = '';\n",
              "          dataTable['output_type'] = 'display_data';\n",
              "          await google.colab.output.renderOutput(dataTable, element);\n",
              "          const docLink = document.createElement('div');\n",
              "          docLink.innerHTML = docLinkHtml;\n",
              "          element.appendChild(docLink);\n",
              "        }\n",
              "      </script>\n",
              "    </div>\n",
              "  </div>\n",
              "  "
            ]
          },
          "metadata": {},
          "execution_count": 22
        }
      ]
    },
    {
      "cell_type": "code",
      "source": [
        "df.Target.shape"
      ],
      "metadata": {
        "colab": {
          "base_uri": "https://localhost:8080/"
        },
        "id": "4Q7Pj64MPyzX",
        "outputId": "5aae4a66-e8f8-4beb-c8cc-1222806f28ba"
      },
      "execution_count": 23,
      "outputs": [
        {
          "output_type": "execute_result",
          "data": {
            "text/plain": [
              "(6657,)"
            ]
          },
          "metadata": {},
          "execution_count": 23
        }
      ]
    },
    {
      "cell_type": "code",
      "source": [
        "df.Target[df.Target == 'both'].shape"
      ],
      "metadata": {
        "colab": {
          "base_uri": "https://localhost:8080/"
        },
        "id": "Au09sxdSO3-l",
        "outputId": "08212115-4837-4736-a977-d8029ace5130"
      },
      "execution_count": 24,
      "outputs": [
        {
          "output_type": "execute_result",
          "data": {
            "text/plain": [
              "(253,)"
            ]
          },
          "metadata": {},
          "execution_count": 24
        }
      ]
    },
    {
      "cell_type": "code",
      "source": [
        "df.Target[df.Target == 'china'].shape"
      ],
      "metadata": {
        "colab": {
          "base_uri": "https://localhost:8080/"
        },
        "id": "eYRSqtUnPXxc",
        "outputId": "2257d6e1-fa70-4ae5-dccd-0469c4dc7274"
      },
      "execution_count": 25,
      "outputs": [
        {
          "output_type": "execute_result",
          "data": {
            "text/plain": [
              "(4408,)"
            ]
          },
          "metadata": {},
          "execution_count": 25
        }
      ]
    },
    {
      "cell_type": "code",
      "source": [
        "df.Target[df.Target == 'asia'].shape"
      ],
      "metadata": {
        "colab": {
          "base_uri": "https://localhost:8080/"
        },
        "id": "BhTFzJK-PXhE",
        "outputId": "f7d3645f-8221-4bd2-e8e5-e350a0a286b4"
      },
      "execution_count": 26,
      "outputs": [
        {
          "output_type": "execute_result",
          "data": {
            "text/plain": [
              "(1996,)"
            ]
          },
          "metadata": {},
          "execution_count": 26
        }
      ]
    },
    {
      "cell_type": "code",
      "source": [
        "df.groupby('Target').size()"
      ],
      "metadata": {
        "colab": {
          "base_uri": "https://localhost:8080/"
        },
        "id": "e87UO1K5QVvt",
        "outputId": "d85e4e3b-0b66-43cf-d95d-3ce1c4915816"
      },
      "execution_count": 27,
      "outputs": [
        {
          "output_type": "execute_result",
          "data": {
            "text/plain": [
              "Target\n",
              "asia     1996\n",
              "both      253\n",
              "china    4408\n",
              "dtype: int64"
            ]
          },
          "metadata": {},
          "execution_count": 27
        }
      ]
    },
    {
      "cell_type": "markdown",
      "source": [
        "? Both 要怎麼處理比較好?"
      ],
      "metadata": {
        "id": "IK-ZP8iUrVmV"
      }
    },
    {
      "cell_type": "code",
      "source": [
        "df['y'] = df['Target'].apply(lambda x: 1 if x == 'china' else 0)\n",
        "df.head(3)"
      ],
      "metadata": {
        "id": "EJj96XN--Ddc",
        "colab": {
          "base_uri": "https://localhost:8080/",
          "height": 240
        },
        "outputId": "e1fe1dfe-309e-46fb-f152-a9facd2a82fe"
      },
      "execution_count": 28,
      "outputs": [
        {
          "output_type": "execute_result",
          "data": {
            "text/plain": [
              "                                                topic  \\\n",
              "2   https://www.econjobrumors.com/topic/russia-chi...   \n",
              "23  https://www.econjobrumors.com/topic/are-more-t...   \n",
              "44  https://www.econjobrumors.com/topic/reminder-c...   \n",
              "\n",
              "                                                posts Target  y  \n",
              "2   [Is this the genius outcome the West was looki...  china  1  \n",
              "23  [Not even accounting for Indians., All the qua...   asia  0  \n",
              "44                  [Never forget. Never forgive., .]  china  1  "
            ],
            "text/html": [
              "\n",
              "  <div id=\"df-6f64f179-0cea-4a2e-a258-a09e855ad7ee\">\n",
              "    <div class=\"colab-df-container\">\n",
              "      <div>\n",
              "<style scoped>\n",
              "    .dataframe tbody tr th:only-of-type {\n",
              "        vertical-align: middle;\n",
              "    }\n",
              "\n",
              "    .dataframe tbody tr th {\n",
              "        vertical-align: top;\n",
              "    }\n",
              "\n",
              "    .dataframe thead th {\n",
              "        text-align: right;\n",
              "    }\n",
              "</style>\n",
              "<table border=\"1\" class=\"dataframe\">\n",
              "  <thead>\n",
              "    <tr style=\"text-align: right;\">\n",
              "      <th></th>\n",
              "      <th>topic</th>\n",
              "      <th>posts</th>\n",
              "      <th>Target</th>\n",
              "      <th>y</th>\n",
              "    </tr>\n",
              "  </thead>\n",
              "  <tbody>\n",
              "    <tr>\n",
              "      <th>2</th>\n",
              "      <td>https://www.econjobrumors.com/topic/russia-chi...</td>\n",
              "      <td>[Is this the genius outcome the West was looki...</td>\n",
              "      <td>china</td>\n",
              "      <td>1</td>\n",
              "    </tr>\n",
              "    <tr>\n",
              "      <th>23</th>\n",
              "      <td>https://www.econjobrumors.com/topic/are-more-t...</td>\n",
              "      <td>[Not even accounting for Indians., All the qua...</td>\n",
              "      <td>asia</td>\n",
              "      <td>0</td>\n",
              "    </tr>\n",
              "    <tr>\n",
              "      <th>44</th>\n",
              "      <td>https://www.econjobrumors.com/topic/reminder-c...</td>\n",
              "      <td>[Never forget. Never forgive., .]</td>\n",
              "      <td>china</td>\n",
              "      <td>1</td>\n",
              "    </tr>\n",
              "  </tbody>\n",
              "</table>\n",
              "</div>\n",
              "      <button class=\"colab-df-convert\" onclick=\"convertToInteractive('df-6f64f179-0cea-4a2e-a258-a09e855ad7ee')\"\n",
              "              title=\"Convert this dataframe to an interactive table.\"\n",
              "              style=\"display:none;\">\n",
              "        \n",
              "  <svg xmlns=\"http://www.w3.org/2000/svg\" height=\"24px\"viewBox=\"0 0 24 24\"\n",
              "       width=\"24px\">\n",
              "    <path d=\"M0 0h24v24H0V0z\" fill=\"none\"/>\n",
              "    <path d=\"M18.56 5.44l.94 2.06.94-2.06 2.06-.94-2.06-.94-.94-2.06-.94 2.06-2.06.94zm-11 1L8.5 8.5l.94-2.06 2.06-.94-2.06-.94L8.5 2.5l-.94 2.06-2.06.94zm10 10l.94 2.06.94-2.06 2.06-.94-2.06-.94-.94-2.06-.94 2.06-2.06.94z\"/><path d=\"M17.41 7.96l-1.37-1.37c-.4-.4-.92-.59-1.43-.59-.52 0-1.04.2-1.43.59L10.3 9.45l-7.72 7.72c-.78.78-.78 2.05 0 2.83L4 21.41c.39.39.9.59 1.41.59.51 0 1.02-.2 1.41-.59l7.78-7.78 2.81-2.81c.8-.78.8-2.07 0-2.86zM5.41 20L4 18.59l7.72-7.72 1.47 1.35L5.41 20z\"/>\n",
              "  </svg>\n",
              "      </button>\n",
              "      \n",
              "  <style>\n",
              "    .colab-df-container {\n",
              "      display:flex;\n",
              "      flex-wrap:wrap;\n",
              "      gap: 12px;\n",
              "    }\n",
              "\n",
              "    .colab-df-convert {\n",
              "      background-color: #E8F0FE;\n",
              "      border: none;\n",
              "      border-radius: 50%;\n",
              "      cursor: pointer;\n",
              "      display: none;\n",
              "      fill: #1967D2;\n",
              "      height: 32px;\n",
              "      padding: 0 0 0 0;\n",
              "      width: 32px;\n",
              "    }\n",
              "\n",
              "    .colab-df-convert:hover {\n",
              "      background-color: #E2EBFA;\n",
              "      box-shadow: 0px 1px 2px rgba(60, 64, 67, 0.3), 0px 1px 3px 1px rgba(60, 64, 67, 0.15);\n",
              "      fill: #174EA6;\n",
              "    }\n",
              "\n",
              "    [theme=dark] .colab-df-convert {\n",
              "      background-color: #3B4455;\n",
              "      fill: #D2E3FC;\n",
              "    }\n",
              "\n",
              "    [theme=dark] .colab-df-convert:hover {\n",
              "      background-color: #434B5C;\n",
              "      box-shadow: 0px 1px 3px 1px rgba(0, 0, 0, 0.15);\n",
              "      filter: drop-shadow(0px 1px 2px rgba(0, 0, 0, 0.3));\n",
              "      fill: #FFFFFF;\n",
              "    }\n",
              "  </style>\n",
              "\n",
              "      <script>\n",
              "        const buttonEl =\n",
              "          document.querySelector('#df-6f64f179-0cea-4a2e-a258-a09e855ad7ee button.colab-df-convert');\n",
              "        buttonEl.style.display =\n",
              "          google.colab.kernel.accessAllowed ? 'block' : 'none';\n",
              "\n",
              "        async function convertToInteractive(key) {\n",
              "          const element = document.querySelector('#df-6f64f179-0cea-4a2e-a258-a09e855ad7ee');\n",
              "          const dataTable =\n",
              "            await google.colab.kernel.invokeFunction('convertToInteractive',\n",
              "                                                     [key], {});\n",
              "          if (!dataTable) return;\n",
              "\n",
              "          const docLinkHtml = 'Like what you see? Visit the ' +\n",
              "            '<a target=\"_blank\" href=https://colab.research.google.com/notebooks/data_table.ipynb>data table notebook</a>'\n",
              "            + ' to learn more about interactive tables.';\n",
              "          element.innerHTML = '';\n",
              "          dataTable['output_type'] = 'display_data';\n",
              "          await google.colab.output.renderOutput(dataTable, element);\n",
              "          const docLink = document.createElement('div');\n",
              "          docLink.innerHTML = docLinkHtml;\n",
              "          element.appendChild(docLink);\n",
              "        }\n",
              "      </script>\n",
              "    </div>\n",
              "  </div>\n",
              "  "
            ]
          },
          "metadata": {},
          "execution_count": 28
        }
      ]
    },
    {
      "cell_type": "markdown",
      "source": [
        "### y的視覺化 "
      ],
      "metadata": {
        "id": "C2J40wccy0Gm"
      }
    },
    {
      "cell_type": "code",
      "source": [
        "df.groupby('Target').size().plot(kind = 'pie',\n",
        "                subplots = False,\n",
        "                ylabel = 'Target',\n",
        "                autopct = '%1.0f%%',\n",
        "                title = 'Ratio of labels')"
      ],
      "metadata": {
        "colab": {
          "base_uri": "https://localhost:8080/",
          "height": 281
        },
        "id": "qF6JktofRShm",
        "outputId": "ea6c70ff-814c-4ac8-b8d9-cd52fde14a8e"
      },
      "execution_count": 29,
      "outputs": [
        {
          "output_type": "execute_result",
          "data": {
            "text/plain": [
              "<Axes: title={'center': 'Ratio of labels'}, ylabel='Target'>"
            ]
          },
          "metadata": {},
          "execution_count": 29
        },
        {
          "output_type": "display_data",
          "data": {
            "text/plain": [
              "<Figure size 432x288 with 1 Axes>"
            ],
            "image/png": "[encoded data removed]"
          },
          "metadata": {}
        }
      ]
    },
    {
      "cell_type": "markdown",
      "source": [
        "## 準備 X (做 NLP 前處理， Stemming/Lemmatization)"
      ],
      "metadata": {
        "id": "XvhFBZxZx1Sz"
      }
    },
    {
      "cell_type": "code",
      "source": [
        "import nltk\n",
        "nltk.download('punkt') #this is download for tonkenizer\n",
        "nltk.download('wordnet')  # this is download for lemmatizer\n",
        "nltk.download('stopwords')\n",
        "nltk.download('omw-1.4')  # this is download for lemmatizer"
      ],
      "metadata": {
        "id": "9SdETRGADmUj",
        "colab": {
          "base_uri": "https://localhost:8080/"
        },
        "outputId": "27710b6f-c591-4f81-f236-dd1814b0ff5c"
      },
      "execution_count": 30,
      "outputs": [
        {
          "output_type": "stream",
          "name": "stderr",
          "text": [
            "[nltk_data] Downloading package punkt to /root/nltk_data...\n",
            "[nltk_data]   Unzipping tokenizers/punkt.zip.\n",
            "[nltk_data] Downloading package wordnet to /root/nltk_data...\n",
            "[nltk_data] Downloading package stopwords to /root/nltk_data...\n",
            "[nltk_data]   Unzipping corpora/stopwords.zip.\n",
            "[nltk_data] Downloading package omw-1.4 to /root/nltk_data...\n"
          ]
        },
        {
          "output_type": "execute_result",
          "data": {
            "text/plain": [
              "True"
            ]
          },
          "metadata": {},
          "execution_count": 30
        }
      ]
    },
    {
      "cell_type": "code",
      "source": [
        "# 寫 Preprocessor 的 params functions"
      ],
      "metadata": {
        "id": "LVSC_Woxy_LM"
      },
      "execution_count": null,
      "outputs": []
    },
    {
      "cell_type": "code",
      "source": [
        "import string\n",
        "import re\n",
        "from nltk.corpus import stopwords\n",
        "from nltk.corpus import wordnet\n",
        "from nltk.tokenize import word_tokenize\n",
        "from nltk.stem import PorterStemmer\n",
        "from nltk.stem import WordNetLemmatizer\n",
        "\n",
        "# Define a function to preprocess text\n",
        "def preprocess_text(text):\n",
        "  # Lowercase all characters\n",
        "  text = text.lower()\n",
        "\n",
        "  # Remove non-English sentences\n",
        "  pattern = re.compile(r'[^\\x00-\\x7F]+')\n",
        "  text = re.sub(pattern, '', text)\n",
        "\n",
        "  # Remove URLs\n",
        "  text = re.sub(r'https?://\\S+', '', text)\n",
        "\n",
        "  # Remove digits\n",
        "  text = text.translate(str.maketrans('', '', string.digits))\n",
        "\n",
        "  # Remove punctuation\n",
        "  text = text.translate(str.maketrans('', '', string.punctuation))\n",
        "\n",
        "  return text\n",
        "\n",
        "\n",
        "# Define a function to tokenize and remove stopwords from text and stemmer\n",
        "def stemmer_tokenize_and_remove_stopwords(text):\n",
        "  # Tokenize the article\n",
        "  text_tokens = word_tokenize(text)\n",
        "\n",
        "  # Load English stopwords\n",
        "  stop_words = set(stopwords.words('english'))\n",
        "\n",
        "  # Remove stopwords\n",
        "  tokens = [token for token in text_tokens if token not in stop_words]\n",
        "\n",
        "  # Stem the tokens\n",
        "  stemmer = PorterStemmer()\n",
        "  tokens = [stemmer.stem(token) for token in tokens]\n",
        "\n",
        "  return tokens\n",
        "\n",
        "\n",
        "# Define a function to tokenize and remove stopwords from text and lemmatize\n",
        "def lemmatizer_tokenize_and_remove_stopwords(text):\n",
        "  # Tokenize the article\n",
        "  text_tokens = word_tokenize(text)\n",
        "\n",
        "  # Load English stopwords\n",
        "  stop_words = set(stopwords.words('english'))\n",
        "\n",
        "  # Remove stopwords\n",
        "  tokens = [token for token in text_tokens if token not in stop_words]\n",
        "\n",
        "  # Lemmatize the tokens\n",
        "  lemmatizer = WordNetLemmatizer()\n",
        "  tokens = [lemmatizer.lemmatize(token) for token in tokens]\n",
        "\n",
        "  return tokens\n"
      ],
      "metadata": {
        "id": "Npqb55Nyy_nw"
      },
      "execution_count": 31,
      "outputs": []
    },
    {
      "cell_type": "code",
      "source": [
        "## check library\n",
        "import gensim\n",
        "\n",
        "## ignore warnings\n",
        "import warnings\n",
        "warnings.filterwarnings('ignore')\n",
        "\n",
        "# # if you want to see the training messages, you can use it\n",
        "# import logging\n",
        "# logging.basicConfig(format='%(asctime)s : %(levelname)s : %(message)s', level=logging.INFO)\n",
        "\n",
        "## the input type\n",
        "df['stemmed_tokenized'] = df['posts'].apply(lambda x: stemmer_tokenize_and_remove_stopwords(preprocess_text( ' '.join(x) ))) \n",
        "df['lemmatized_tokenized'] = df['posts'].apply(lambda x: lemmatizer_tokenize_and_remove_stopwords(preprocess_text( ' '.join(x) ))) \n",
        "df[['y', 'stemmed_tokenized', 'lemmatized_tokenized']].head(3)"
      ],
      "metadata": {
        "id": "1QTB6ou8D3kZ",
        "colab": {
          "base_uri": "https://localhost:8080/",
          "height": 222
        },
        "outputId": "be2c757b-cc0a-4ce5-9939-e7ac5d4f3e0c"
      },
      "execution_count": 32,
      "outputs": [
        {
          "output_type": "execute_result",
          "data": {
            "text/plain": [
              "    y                                  stemmed_tokenized  \\\n",
              "2   1  [geniu, outcom, west, look, russian, financ, t...   \n",
              "23  0  [even, account, indian, quant, club, univers, ...   \n",
              "44  1                     [never, forget, never, forgiv]   \n",
              "\n",
              "                                 lemmatized_tokenized  \n",
              "2   [genius, outcome, west, looking, russian, fina...  \n",
              "23  [even, accounting, indian, quant, club, univer...  \n",
              "44                    [never, forget, never, forgive]  "
            ],
            "text/html": [
              "\n",
              "  <div id=\"df-a3f85c1d-3767-458f-942b-264785553b12\">\n",
              "    <div class=\"colab-df-container\">\n",
              "      <div>\n",
              "<style scoped>\n",
              "    .dataframe tbody tr th:only-of-type {\n",
              "        vertical-align: middle;\n",
              "    }\n",
              "\n",
              "    .dataframe tbody tr th {\n",
              "        vertical-align: top;\n",
              "    }\n",
              "\n",
              "    .dataframe thead th {\n",
              "        text-align: right;\n",
              "    }\n",
              "</style>\n",
              "<table border=\"1\" class=\"dataframe\">\n",
              "  <thead>\n",
              "    <tr style=\"text-align: right;\">\n",
              "      <th></th>\n",
              "      <th>y</th>\n",
              "      <th>stemmed_tokenized</th>\n",
              "      <th>lemmatized_tokenized</th>\n",
              "    </tr>\n",
              "  </thead>\n",
              "  <tbody>\n",
              "    <tr>\n",
              "      <th>2</th>\n",
              "      <td>1</td>\n",
              "      <td>[geniu, outcom, west, look, russian, financ, t...</td>\n",
              "      <td>[genius, outcome, west, looking, russian, fina...</td>\n",
              "    </tr>\n",
              "    <tr>\n",
              "      <th>23</th>\n",
              "      <td>0</td>\n",
              "      <td>[even, account, indian, quant, club, univers, ...</td>\n",
              "      <td>[even, accounting, indian, quant, club, univer...</td>\n",
              "    </tr>\n",
              "    <tr>\n",
              "      <th>44</th>\n",
              "      <td>1</td>\n",
              "      <td>[never, forget, never, forgiv]</td>\n",
              "      <td>[never, forget, never, forgive]</td>\n",
              "    </tr>\n",
              "  </tbody>\n",
              "</table>\n",
              "</div>\n",
              "      <button class=\"colab-df-convert\" onclick=\"convertToInteractive('df-a3f85c1d-3767-458f-942b-264785553b12')\"\n",
              "              title=\"Convert this dataframe to an interactive table.\"\n",
              "              style=\"display:none;\">\n",
              "        \n",
              "  <svg xmlns=\"http://www.w3.org/2000/svg\" height=\"24px\"viewBox=\"0 0 24 24\"\n",
              "       width=\"24px\">\n",
              "    <path d=\"M0 0h24v24H0V0z\" fill=\"none\"/>\n",
              "    <path d=\"M18.56 5.44l.94 2.06.94-2.06 2.06-.94-2.06-.94-.94-2.06-.94 2.06-2.06.94zm-11 1L8.5 8.5l.94-2.06 2.06-.94-2.06-.94L8.5 2.5l-.94 2.06-2.06.94zm10 10l.94 2.06.94-2.06 2.06-.94-2.06-.94-.94-2.06-.94 2.06-2.06.94z\"/><path d=\"M17.41 7.96l-1.37-1.37c-.4-.4-.92-.59-1.43-.59-.52 0-1.04.2-1.43.59L10.3 9.45l-7.72 7.72c-.78.78-.78 2.05 0 2.83L4 21.41c.39.39.9.59 1.41.59.51 0 1.02-.2 1.41-.59l7.78-7.78 2.81-2.81c.8-.78.8-2.07 0-2.86zM5.41 20L4 18.59l7.72-7.72 1.47 1.35L5.41 20z\"/>\n",
              "  </svg>\n",
              "      </button>\n",
              "      \n",
              "  <style>\n",
              "    .colab-df-container {\n",
              "      display:flex;\n",
              "      flex-wrap:wrap;\n",
              "      gap: 12px;\n",
              "    }\n",
              "\n",
              "    .colab-df-convert {\n",
              "      background-color: #E8F0FE;\n",
              "      border: none;\n",
              "      border-radius: 50%;\n",
              "      cursor: pointer;\n",
              "      display: none;\n",
              "      fill: #1967D2;\n",
              "      height: 32px;\n",
              "      padding: 0 0 0 0;\n",
              "      width: 32px;\n",
              "    }\n",
              "\n",
              "    .colab-df-convert:hover {\n",
              "      background-color: #E2EBFA;\n",
              "      box-shadow: 0px 1px 2px rgba(60, 64, 67, 0.3), 0px 1px 3px 1px rgba(60, 64, 67, 0.15);\n",
              "      fill: #174EA6;\n",
              "    }\n",
              "\n",
              "    [theme=dark] .colab-df-convert {\n",
              "      background-color: #3B4455;\n",
              "      fill: #D2E3FC;\n",
              "    }\n",
              "\n",
              "    [theme=dark] .colab-df-convert:hover {\n",
              "      background-color: #434B5C;\n",
              "      box-shadow: 0px 1px 3px 1px rgba(0, 0, 0, 0.15);\n",
              "      filter: drop-shadow(0px 1px 2px rgba(0, 0, 0, 0.3));\n",
              "      fill: #FFFFFF;\n",
              "    }\n",
              "  </style>\n",
              "\n",
              "      <script>\n",
              "        const buttonEl =\n",
              "          document.querySelector('#df-a3f85c1d-3767-458f-942b-264785553b12 button.colab-df-convert');\n",
              "        buttonEl.style.display =\n",
              "          google.colab.kernel.accessAllowed ? 'block' : 'none';\n",
              "\n",
              "        async function convertToInteractive(key) {\n",
              "          const element = document.querySelector('#df-a3f85c1d-3767-458f-942b-264785553b12');\n",
              "          const dataTable =\n",
              "            await google.colab.kernel.invokeFunction('convertToInteractive',\n",
              "                                                     [key], {});\n",
              "          if (!dataTable) return;\n",
              "\n",
              "          const docLinkHtml = 'Like what you see? Visit the ' +\n",
              "            '<a target=\"_blank\" href=https://colab.research.google.com/notebooks/data_table.ipynb>data table notebook</a>'\n",
              "            + ' to learn more about interactive tables.';\n",
              "          element.innerHTML = '';\n",
              "          dataTable['output_type'] = 'display_data';\n",
              "          await google.colab.output.renderOutput(dataTable, element);\n",
              "          const docLink = document.createElement('div');\n",
              "          docLink.innerHTML = docLinkHtml;\n",
              "          element.appendChild(docLink);\n",
              "        }\n",
              "      </script>\n",
              "    </div>\n",
              "  </div>\n",
              "  "
            ]
          },
          "metadata": {},
          "execution_count": 32
        }
      ]
    },
    {
      "cell_type": "markdown",
      "source": [
        "## Word2Vec (和 目標字 有關的w2v)"
      ],
      "metadata": {
        "id": "sWbGYJauzD1t"
      }
    },
    {
      "cell_type": "code",
      "source": [
        "from gensim.models import Word2Vec\n",
        "\n",
        "## setting\n",
        "vector_dim = 100\n",
        "window_size = 5\n",
        "min_count = 1\n",
        "training_epochs = 20"
      ],
      "metadata": {
        "id": "x0pkeBl75r-v"
      },
      "execution_count": 34,
      "outputs": []
    },
    {
      "cell_type": "code",
      "source": [
        "gensim.__version__"
      ],
      "metadata": {
        "colab": {
          "base_uri": "https://localhost:8080/",
          "height": 35
        },
        "id": "L3FPWcH1Vg-M",
        "outputId": "31297ec2-e72c-4b27-f176-6bb5963f8293"
      },
      "execution_count": null,
      "outputs": [
        {
          "output_type": "execute_result",
          "data": {
            "text/plain": [
              "'3.6.0'"
            ],
            "application/vnd.google.colaboratory.intrinsic+json": {
              "type": "string"
            }
          },
          "metadata": {},
          "execution_count": 47
        }
      ]
    },
    {
      "cell_type": "code",
      "source": [
        "corpus_lemmatized = df['lemmatized_tokenized'].values\n",
        "corpus_stemmed = df['stemmed_tokenized'].values"
      ],
      "metadata": {
        "id": "_IqeU3UOVLLb"
      },
      "execution_count": 35,
      "outputs": []
    },
    {
      "cell_type": "code",
      "source": [
        "topn = 10"
      ],
      "metadata": {
        "id": "lz3jMSYwcp60"
      },
      "execution_count": 36,
      "outputs": []
    },
    {
      "cell_type": "code",
      "source": [
        "## model\n",
        "word2vec_lemmatized = Word2Vec(sentences=corpus_lemmatized, size=vector_dim) \n",
        "#, window=window_size, min_count=min_count, epochs=training_epochs)\n",
        "\n",
        "# Get the most similar words\n",
        "for word in both_target:\n",
        "  print(word)\n",
        "  print(pd.DataFrame(word2vec_lemmatized.wv.most_similar(word, topn=topn), columns=['Word', 'Sims']).head())\n",
        "  print('-------')"
      ],
      "metadata": {
        "id": "vuGPn6e7FjD0",
        "colab": {
          "base_uri": "https://localhost:8080/"
        },
        "outputId": "c5c58e00-277a-41a9-a50e-7d263c4aedea"
      },
      "execution_count": 37,
      "outputs": [
        {
          "output_type": "stream",
          "name": "stdout",
          "text": [
            "asian\n",
            "             Word      Sims\n",
            "0            azns  0.742632\n",
            "1           white  0.738213\n",
            "2   discriminated  0.735266\n",
            "3             azn  0.727110\n",
            "4  asianamericans  0.723568\n",
            "-------\n",
            "asia\n",
            "        Word      Sims\n",
            "0      coast  0.743176\n",
            "1     africa  0.740554\n",
            "2  turkestan  0.739789\n",
            "3  continent  0.727882\n",
            "4  southeast  0.726559\n",
            "-------\n",
            "korea\n",
            "        Word      Sims\n",
            "0     dakota  0.833116\n",
            "1       racm  0.789976\n",
            "2   carolina  0.723521\n",
            "3  absorbing  0.712165\n",
            "4        sea  0.709048\n",
            "-------\n",
            "korean\n",
            "         Word      Sims\n",
            "0    japanese  0.790914\n",
            "1  vietnamese  0.727459\n",
            "2       anime  0.664929\n",
            "3     rooftop  0.639541\n",
            "4    relegate  0.633234\n",
            "-------\n",
            "japan\n",
            "          Word      Sims\n",
            "0         buts  0.735450\n",
            "1      jakarta  0.731506\n",
            "2  playstation  0.717228\n",
            "3        north  0.717144\n",
            "4        south  0.713752\n",
            "-------\n",
            "japanese\n",
            "         Word      Sims\n",
            "0      korean  0.790914\n",
            "1      german  0.757607\n",
            "2  vietnamese  0.734235\n",
            "3       anime  0.716392\n",
            "4    alphabet  0.680953\n",
            "-------\n",
            "taiwan\n",
            "           Word      Sims\n",
            "0       prchina  0.806609\n",
            "1            tw  0.794259\n",
            "2            hk  0.792776\n",
            "3  independence  0.774948\n",
            "4   independent  0.759491\n",
            "-------\n",
            "taiwanese\n",
            "          Word      Sims\n",
            "0        hkers  0.867586\n",
            "1     mainland  0.795936\n",
            "2  mainlanders  0.769355\n",
            "3      prchina  0.756396\n",
            "4           tw  0.735029\n",
            "-------\n",
            "hongkong\n",
            "       Word      Sims\n",
            "0    kinmen  0.900916\n",
            "1     facto  0.891441\n",
            "2   annexed  0.889085\n",
            "3     macao  0.885321\n",
            "4  airspace  0.884799\n",
            "-------\n",
            "tibet\n",
            "           Word      Sims\n",
            "0  independence  0.921346\n",
            "1       qinghai  0.874562\n",
            "2         facto  0.849201\n",
            "3            de  0.846460\n",
            "4      mongolia  0.839171\n",
            "-------\n",
            "xinjiang\n",
            "        Word      Sims\n",
            "0       lama  0.833668\n",
            "1    qinghai  0.831887\n",
            "2    protest  0.820168\n",
            "3  tiananmen  0.817663\n",
            "4      dalai  0.812364\n",
            "-------\n",
            "china\n",
            "          Word      Sims\n",
            "0     recovers  0.670621\n",
            "1           eu  0.616643\n",
            "2  chinarussia  0.607839\n",
            "3         ally  0.592630\n",
            "4       invade  0.592273\n",
            "-------\n",
            "chinese\n",
            "            Word      Sims\n",
            "0      taiwanese  0.579595\n",
            "1       ordinary  0.577251\n",
            "2         fellow  0.573433\n",
            "3  indoctrinated  0.556736\n",
            "4    mainlanders  0.549567\n",
            "-------\n"
          ]
        }
      ]
    },
    {
      "cell_type": "code",
      "source": [
        "## model\n",
        "word2vec_stemmed = Word2Vec(sentences=corpus_stemmed, size=vector_dim) \n",
        "#, window=window_size, min_count=min_count, epochs=training_epochs)\n",
        "\n",
        "# Because the corpus are stemmed, so my key  words also need to be stemmed\n",
        "stemmer = PorterStemmer()\n",
        "\n",
        "# Get the most similar words\n",
        "for word in both_target:\n",
        "  print(word)\n",
        "  print(pd.DataFrame(word2vec_stemmed.wv.most_similar( stemmer.stem(word), topn=topn), columns=['Word', 'Sims']).head())\n",
        "  print('-------')"
      ],
      "metadata": {
        "colab": {
          "base_uri": "https://localhost:8080/"
        },
        "id": "i00giiwFX5Mp",
        "outputId": "db3d703f-5aed-43af-f9ce-9b5530ea80c0"
      },
      "execution_count": 38,
      "outputs": [
        {
          "output_type": "stream",
          "name": "stdout",
          "text": [
            "asian\n",
            "            Word      Sims\n",
            "0            azn  0.753271\n",
            "1  asianamerican  0.729429\n",
            "2         hispan  0.690721\n",
            "3          white  0.688823\n",
            "4          whyte  0.684244\n",
            "-------\n",
            "asia\n",
            "        Word      Sims\n",
            "0  southeast  0.740897\n",
            "1      coast  0.724076\n",
            "2     africa  0.716428\n",
            "3  turkestan  0.710794\n",
            "4      middl  0.682531\n",
            "-------\n",
            "korea\n",
            "       Word      Sims\n",
            "0    dakota  0.797821\n",
            "1      racm  0.745077\n",
            "2       sea  0.692496\n",
            "3  carolina  0.685464\n",
            "4        sk  0.651708\n",
            "-------\n",
            "korean\n",
            "        Word      Sims\n",
            "0    japanes  0.739704\n",
            "1  vietnames  0.701383\n",
            "2       racm  0.581422\n",
            "3      korea  0.569096\n",
            "4  popcultur  0.564451\n",
            "-------\n",
            "japan\n",
            "     Word      Sims\n",
            "0   north  0.694120\n",
            "1      sk  0.691655\n",
            "2  skorea  0.678523\n",
            "3   south  0.669943\n",
            "4  sankyo  0.661711\n",
            "-------\n",
            "japanese\n",
            "        Word      Sims\n",
            "0     korean  0.739704\n",
            "1  vietnames  0.706698\n",
            "2     german  0.691044\n",
            "3      hanja  0.644969\n",
            "4        hst  0.635503\n",
            "-------\n",
            "taiwan\n",
            "       Word      Sims\n",
            "0   prchina  0.765010\n",
            "1  independ  0.760901\n",
            "2        tw  0.740273\n",
            "3        hk  0.736930\n",
            "4  hongkong  0.720651\n",
            "-------\n",
            "taiwanese\n",
            "       Word      Sims\n",
            "0      hker  0.834507\n",
            "1  mainland  0.826479\n",
            "2   prchina  0.758492\n",
            "3    terrif  0.757091\n",
            "4        tw  0.727466\n",
            "-------\n",
            "hongkong\n",
            "      Word      Sims\n",
            "0  airspac  0.885167\n",
            "1    annex  0.884096\n",
            "2    facto  0.875496\n",
            "3     exil  0.872599\n",
            "4       tw  0.871603\n",
            "-------\n",
            "tibet\n",
            "        Word      Sims\n",
            "0      facto  0.838401\n",
            "1   hongkong  0.822279\n",
            "2        roc  0.822185\n",
            "3         de  0.815224\n",
            "4  territori  0.802165\n",
            "-------\n",
            "xinjiang\n",
            "        Word      Sims\n",
            "0  tiananmen  0.852513\n",
            "1      squar  0.831267\n",
            "2    protest  0.827507\n",
            "3       lama  0.803875\n",
            "4      dalai  0.792377\n",
            "-------\n",
            "china\n",
            "        Word      Sims\n",
            "0       alli  0.593427\n",
            "1         eu  0.578386\n",
            "2   sanction  0.575975\n",
            "3     taiwan  0.573481\n",
            "4  territori  0.573301\n",
            "-------\n",
            "chinese\n",
            "        Word      Sims\n",
            "0   ordinari  0.611204\n",
            "1   taiwanes  0.581730\n",
            "2  nonchines  0.541875\n",
            "3  brainwash  0.536316\n",
            "4    waaaaah  0.527841\n",
            "-------\n"
          ]
        }
      ]
    },
    {
      "cell_type": "markdown",
      "source": [
        "## 得到經過 CountVectorizer 的 BOW"
      ],
      "metadata": {
        "id": "Af9vyCgO1UMi"
      }
    },
    {
      "cell_type": "code",
      "source": [
        "from sklearn.feature_extraction.text import CountVectorizer\n",
        "\n",
        "# I've have the tokens, so i pass dummy function in cv.\n",
        "def dummy(doc):\n",
        "    return doc\n",
        "\n",
        "# Create a matrix using CountVectorizer\n",
        "vectorizer = CountVectorizer(preprocessor = dummy, \n",
        "            tokenizer = dummy, \n",
        "            strip_accents = 'ascii',\n",
        "            max_features = 10000)"
      ],
      "metadata": {
        "id": "xFRhyW0pEz_8"
      },
      "execution_count": 44,
      "outputs": []
    },
    {
      "cell_type": "markdown",
      "source": [
        "## 將 目標字 移出 BOW"
      ],
      "metadata": {
        "id": "N7MjNQAi5c0M"
      }
    },
    {
      "cell_type": "code",
      "source": [
        "# Defining all the conditions inside a function\n",
        "def remove_target(x):\n",
        "  return [word for word in x if word not in (asia_target + china_target)]\n",
        "\n",
        "# Applying the conditions\n",
        "df['lemmatized_cleaned'] = df['lemmatized_tokenized'].apply(remove_target)\n",
        "df['stemmed_cleaned'] = df['stemmed_tokenized'].apply(remove_target)\n",
        "df.head(3)"
      ],
      "metadata": {
        "id": "dqNOD5tD5rNT",
        "colab": {
          "base_uri": "https://localhost:8080/",
          "height": 433
        },
        "outputId": "562a7af5-cf6d-4511-8e88-5f76c09f559b"
      },
      "execution_count": 40,
      "outputs": [
        {
          "output_type": "execute_result",
          "data": {
            "text/plain": [
              "                                                topic  \\\n",
              "2   https://www.econjobrumors.com/topic/russia-chi...   \n",
              "23  https://www.econjobrumors.com/topic/are-more-t...   \n",
              "44  https://www.econjobrumors.com/topic/reminder-c...   \n",
              "\n",
              "                                                posts Target  y  \\\n",
              "2   [Is this the genius outcome the West was looki...  china  1   \n",
              "23  [Not even accounting for Indians., All the qua...   asia  0   \n",
              "44                  [Never forget. Never forgive., .]  china  1   \n",
              "\n",
              "                                    stemmed_tokenized  \\\n",
              "2   [geniu, outcom, west, look, russian, financ, t...   \n",
              "23  [even, account, indian, quant, club, univers, ...   \n",
              "44                     [never, forget, never, forgiv]   \n",
              "\n",
              "                                 lemmatized_tokenized  \\\n",
              "2   [genius, outcome, west, looking, russian, fina...   \n",
              "23  [even, accounting, indian, quant, club, univer...   \n",
              "44                    [never, forget, never, forgive]   \n",
              "\n",
              "                                   lemmatized_cleaned  \\\n",
              "2   [genius, outcome, west, looking, russian, fina...   \n",
              "23  [even, accounting, indian, quant, club, univer...   \n",
              "44                    [never, forget, never, forgive]   \n",
              "\n",
              "                                      stemmed_cleaned  \n",
              "2   [geniu, outcom, west, look, russian, financ, t...  \n",
              "23  [even, account, indian, quant, club, univers, ...  \n",
              "44                     [never, forget, never, forgiv]  "
            ],
            "text/html": [
              "\n",
              "  <div id=\"df-7b3183b7-760d-4db6-a6df-5cd2265c1fb1\">\n",
              "    <div class=\"colab-df-container\">\n",
              "      <div>\n",
              "<style scoped>\n",
              "    .dataframe tbody tr th:only-of-type {\n",
              "        vertical-align: middle;\n",
              "    }\n",
              "\n",
              "    .dataframe tbody tr th {\n",
              "        vertical-align: top;\n",
              "    }\n",
              "\n",
              "    .dataframe thead th {\n",
              "        text-align: right;\n",
              "    }\n",
              "</style>\n",
              "<table border=\"1\" class=\"dataframe\">\n",
              "  <thead>\n",
              "    <tr style=\"text-align: right;\">\n",
              "      <th></th>\n",
              "      <th>topic</th>\n",
              "      <th>posts</th>\n",
              "      <th>Target</th>\n",
              "      <th>y</th>\n",
              "      <th>stemmed_tokenized</th>\n",
              "      <th>lemmatized_tokenized</th>\n",
              "      <th>lemmatized_cleaned</th>\n",
              "      <th>stemmed_cleaned</th>\n",
              "    </tr>\n",
              "  </thead>\n",
              "  <tbody>\n",
              "    <tr>\n",
              "      <th>2</th>\n",
              "      <td>https://www.econjobrumors.com/topic/russia-chi...</td>\n",
              "      <td>[Is this the genius outcome the West was looki...</td>\n",
              "      <td>china</td>\n",
              "      <td>1</td>\n",
              "      <td>[geniu, outcom, west, look, russian, financ, t...</td>\n",
              "      <td>[genius, outcome, west, looking, russian, fina...</td>\n",
              "      <td>[genius, outcome, west, looking, russian, fina...</td>\n",
              "      <td>[geniu, outcom, west, look, russian, financ, t...</td>\n",
              "    </tr>\n",
              "    <tr>\n",
              "      <th>23</th>\n",
              "      <td>https://www.econjobrumors.com/topic/are-more-t...</td>\n",
              "      <td>[Not even accounting for Indians., All the qua...</td>\n",
              "      <td>asia</td>\n",
              "      <td>0</td>\n",
              "      <td>[even, account, indian, quant, club, univers, ...</td>\n",
              "      <td>[even, accounting, indian, quant, club, univer...</td>\n",
              "      <td>[even, accounting, indian, quant, club, univer...</td>\n",
              "      <td>[even, account, indian, quant, club, univers, ...</td>\n",
              "    </tr>\n",
              "    <tr>\n",
              "      <th>44</th>\n",
              "      <td>https://www.econjobrumors.com/topic/reminder-c...</td>\n",
              "      <td>[Never forget. Never forgive., .]</td>\n",
              "      <td>china</td>\n",
              "      <td>1</td>\n",
              "      <td>[never, forget, never, forgiv]</td>\n",
              "      <td>[never, forget, never, forgive]</td>\n",
              "      <td>[never, forget, never, forgive]</td>\n",
              "      <td>[never, forget, never, forgiv]</td>\n",
              "    </tr>\n",
              "  </tbody>\n",
              "</table>\n",
              "</div>\n",
              "      <button class=\"colab-df-convert\" onclick=\"convertToInteractive('df-7b3183b7-760d-4db6-a6df-5cd2265c1fb1')\"\n",
              "              title=\"Convert this dataframe to an interactive table.\"\n",
              "              style=\"display:none;\">\n",
              "        \n",
              "  <svg xmlns=\"http://www.w3.org/2000/svg\" height=\"24px\"viewBox=\"0 0 24 24\"\n",
              "       width=\"24px\">\n",
              "    <path d=\"M0 0h24v24H0V0z\" fill=\"none\"/>\n",
              "    <path d=\"M18.56 5.44l.94 2.06.94-2.06 2.06-.94-2.06-.94-.94-2.06-.94 2.06-2.06.94zm-11 1L8.5 8.5l.94-2.06 2.06-.94-2.06-.94L8.5 2.5l-.94 2.06-2.06.94zm10 10l.94 2.06.94-2.06 2.06-.94-2.06-.94-.94-2.06-.94 2.06-2.06.94z\"/><path d=\"M17.41 7.96l-1.37-1.37c-.4-.4-.92-.59-1.43-.59-.52 0-1.04.2-1.43.59L10.3 9.45l-7.72 7.72c-.78.78-.78 2.05 0 2.83L4 21.41c.39.39.9.59 1.41.59.51 0 1.02-.2 1.41-.59l7.78-7.78 2.81-2.81c.8-.78.8-2.07 0-2.86zM5.41 20L4 18.59l7.72-7.72 1.47 1.35L5.41 20z\"/>\n",
              "  </svg>\n",
              "      </button>\n",
              "      \n",
              "  <style>\n",
              "    .colab-df-container {\n",
              "      display:flex;\n",
              "      flex-wrap:wrap;\n",
              "      gap: 12px;\n",
              "    }\n",
              "\n",
              "    .colab-df-convert {\n",
              "      background-color: #E8F0FE;\n",
              "      border: none;\n",
              "      border-radius: 50%;\n",
              "      cursor: pointer;\n",
              "      display: none;\n",
              "      fill: #1967D2;\n",
              "      height: 32px;\n",
              "      padding: 0 0 0 0;\n",
              "      width: 32px;\n",
              "    }\n",
              "\n",
              "    .colab-df-convert:hover {\n",
              "      background-color: #E2EBFA;\n",
              "      box-shadow: 0px 1px 2px rgba(60, 64, 67, 0.3), 0px 1px 3px 1px rgba(60, 64, 67, 0.15);\n",
              "      fill: #174EA6;\n",
              "    }\n",
              "\n",
              "    [theme=dark] .colab-df-convert {\n",
              "      background-color: #3B4455;\n",
              "      fill: #D2E3FC;\n",
              "    }\n",
              "\n",
              "    [theme=dark] .colab-df-convert:hover {\n",
              "      background-color: #434B5C;\n",
              "      box-shadow: 0px 1px 3px 1px rgba(0, 0, 0, 0.15);\n",
              "      filter: drop-shadow(0px 1px 2px rgba(0, 0, 0, 0.3));\n",
              "      fill: #FFFFFF;\n",
              "    }\n",
              "  </style>\n",
              "\n",
              "      <script>\n",
              "        const buttonEl =\n",
              "          document.querySelector('#df-7b3183b7-760d-4db6-a6df-5cd2265c1fb1 button.colab-df-convert');\n",
              "        buttonEl.style.display =\n",
              "          google.colab.kernel.accessAllowed ? 'block' : 'none';\n",
              "\n",
              "        async function convertToInteractive(key) {\n",
              "          const element = document.querySelector('#df-7b3183b7-760d-4db6-a6df-5cd2265c1fb1');\n",
              "          const dataTable =\n",
              "            await google.colab.kernel.invokeFunction('convertToInteractive',\n",
              "                                                     [key], {});\n",
              "          if (!dataTable) return;\n",
              "\n",
              "          const docLinkHtml = 'Like what you see? Visit the ' +\n",
              "            '<a target=\"_blank\" href=https://colab.research.google.com/notebooks/data_table.ipynb>data table notebook</a>'\n",
              "            + ' to learn more about interactive tables.';\n",
              "          element.innerHTML = '';\n",
              "          dataTable['output_type'] = 'display_data';\n",
              "          await google.colab.output.renderOutput(dataTable, element);\n",
              "          const docLink = document.createElement('div');\n",
              "          docLink.innerHTML = docLinkHtml;\n",
              "          element.appendChild(docLink);\n",
              "        }\n",
              "      </script>\n",
              "    </div>\n",
              "  </div>\n",
              "  "
            ]
          },
          "metadata": {},
          "execution_count": 40
        }
      ]
    },
    {
      "cell_type": "markdown",
      "source": [
        "## 得到 lemmatized 或 stemmed 的 X"
      ],
      "metadata": {
        "id": "ltdIYdqWDaMg"
      }
    },
    {
      "cell_type": "code",
      "source": [
        "lemmatized_matrix = vectorizer.fit_transform(df['lemmatized_cleaned'])\n",
        "\n",
        "# Print the matrix\n",
        "print(lemmatized_matrix.toarray())"
      ],
      "metadata": {
        "colab": {
          "base_uri": "https://localhost:8080/"
        },
        "id": "jaz8F2RrCTIy",
        "outputId": "b9ae0d15-cdc6-47ac-ae8b-190b87ffbc76"
      },
      "execution_count": 45,
      "outputs": [
        {
          "output_type": "stream",
          "name": "stdout",
          "text": [
            "[[0 0 0 ... 0 0 0]\n",
            " [0 0 0 ... 0 0 0]\n",
            " [0 0 0 ... 0 0 0]\n",
            " ...\n",
            " [0 0 0 ... 0 0 0]\n",
            " [0 0 0 ... 0 0 0]\n",
            " [0 0 0 ... 0 0 0]]\n"
          ]
        }
      ]
    },
    {
      "cell_type": "code",
      "source": [
        "stemmed_matrix = vectorizer.fit_transform(df['stemmed_cleaned'])\n",
        "\n",
        "# Print the matrix\n",
        "print(stemmed_matrix.toarray())"
      ],
      "metadata": {
        "colab": {
          "base_uri": "https://localhost:8080/"
        },
        "id": "dK0wwaaSDpxU",
        "outputId": "e8dd7493-9af9-4507-a319-1380fc315b72"
      },
      "execution_count": 46,
      "outputs": [
        {
          "output_type": "stream",
          "name": "stdout",
          "text": [
            "[[0 0 0 ... 0 0 0]\n",
            " [0 0 0 ... 0 0 0]\n",
            " [0 0 0 ... 0 0 0]\n",
            " ...\n",
            " [0 0 0 ... 0 0 0]\n",
            " [0 0 0 ... 0 0 0]\n",
            " [0 0 0 ... 0 0 0]]\n"
          ]
        }
      ]
    },
    {
      "cell_type": "markdown",
      "source": [
        "# 真正要跑的部分"
      ],
      "metadata": {
        "id": "71qHsSid7jEE"
      }
    },
    {
      "cell_type": "markdown",
      "source": [
        "說點什麼"
      ],
      "metadata": {
        "id": "UR6s_zgY8Piv"
      }
    },
    {
      "cell_type": "markdown",
      "source": [
        "## 先跑一次 Lasso，將非零的字詞當作 DoubleML 中的 Treatment"
      ],
      "metadata": {
        "id": "cTOy2_4b7po0"
      }
    },
    {
      "cell_type": "code",
      "source": [
        "from sklearn.linear_model import Lasso\n",
        "\n",
        "clf = Lasso()\n",
        "clf.fit(lemmatized_matrix, df.y)\n",
        "print(clf.coef_[:10])"
      ],
      "metadata": {
        "id": "iAQyEtBn8Ocs",
        "colab": {
          "base_uri": "https://localhost:8080/"
        },
        "outputId": "0cbe7a39-e0a0-4d40-d90d-fae43e89bf6d"
      },
      "execution_count": 47,
      "outputs": [
        {
          "output_type": "stream",
          "name": "stdout",
          "text": [
            "[-0.  0.  0. -0.  0.  0. -0.  0.  0. -0.]\n"
          ]
        }
      ]
    },
    {
      "cell_type": "code",
      "source": [
        "lemmatized_lasso_coef = clf.coef_\n",
        "lemmatized_D = clf.coef_[clf.coef_!=0]\n",
        "print(len(lemmatized_D))"
      ],
      "metadata": {
        "id": "OxvDo4yXEXNS",
        "colab": {
          "base_uri": "https://localhost:8080/"
        },
        "outputId": "610d1d52-bdb8-456b-b047-b443bcd2b99a"
      },
      "execution_count": 49,
      "outputs": [
        {
          "output_type": "stream",
          "name": "stdout",
          "text": [
            "80\n"
          ]
        }
      ]
    },
    {
      "cell_type": "code",
      "source": [
        "vectorizer.get_feature_names_out()[clf.coef_!=0]"
      ],
      "metadata": {
        "colab": {
          "base_uri": "https://localhost:8080/"
        },
        "id": "64l6j07RZze_",
        "outputId": "a63619f3-cd32-451d-db9b-bc0df32f634f"
      },
      "execution_count": 51,
      "outputs": [
        {
          "output_type": "execute_result",
          "data": {
            "text/plain": [
              "array(['advers', 'africanamerican', 'angri', 'az', 'bastard', 'biologist',\n",
              "       'bodybuild', 'cent', 'chino', 'chinq', 'comprehens', 'data',\n",
              "       'decor', 'dementia', 'deter', 'dl', 'entrepreneur', 'equiti',\n",
              "       'faulti', 'g', 'gain', 'graham', 'hahahaha', 'handl', 'happier',\n",
              "       'hidden', 'hors', 'hype', 'ihr', 'implant', 'insensit', 'iran',\n",
              "       'karl', 'kisdi', 'lead', 'lebanon', 'lesotho', 'less', 'mainland',\n",
              "       'matthew', 'mcdonald', 'menac', 'mill', 'mindset', 'missil',\n",
              "       'oecd', 'pen', 'perri', 'polyu', 'predominantli', 'present',\n",
              "       'recogniz', 'reconfigur', 'regim', 'resettl', 'selfcensorship',\n",
              "       'septemb', 'situat', 'somali', 'sputnik', 'statesponsor', 'sux',\n",
              "       'theyd', 'toxic', 'true', 'twist', 'uniqlo', 'vil', 'warhead',\n",
              "       'wat', 'wb', 'winwin', 'writer', 'wth', 'wut', 'xiamen', 'xt',\n",
              "       'yanke', 'yllw', 'zhinah'], dtype=object)"
            ]
          },
          "metadata": {},
          "execution_count": 51
        }
      ]
    },
    {
      "cell_type": "markdown",
      "source": [
        "## 跑 DoubleML (根據上面得到的 Treatment 和 Control)"
      ],
      "metadata": {
        "id": "U3OzyZFg79mY"
      }
    },
    {
      "cell_type": "code",
      "source": [
        "!pip install -U DoubleML"
      ],
      "metadata": {
        "id": "LyiYZdfp8Nqs",
        "colab": {
          "base_uri": "https://localhost:8080/"
        },
        "outputId": "28cec0f2-a9e3-4efa-c62f-cf77cb7b031d"
      },
      "execution_count": 52,
      "outputs": [
        {
          "output_type": "stream",
          "name": "stdout",
          "text": [
            "Looking in indexes: https://pypi.org/simple, https://us-python.pkg.dev/colab-wheels/public/simple/\n",
            "Collecting DoubleML\n",
            "  Downloading DoubleML-0.5.2-py3-none-any.whl (126 kB)\n",
            "\u001b[2K     \u001b[90m━━━━━━━━━━━━━━━━━━━━━━━━━━━━━━━━━━━━━━━\u001b[0m \u001b[32m126.4/126.4 KB\u001b[0m \u001b[31m4.0 MB/s\u001b[0m eta \u001b[36m0:00:00\u001b[0m\n",
            "\u001b[?25hRequirement already satisfied: joblib in /usr/local/lib/python3.9/dist-packages (from DoubleML) (1.1.1)\n",
            "Requirement already satisfied: scipy in /usr/local/lib/python3.9/dist-packages (from DoubleML) (1.10.1)\n",
            "Requirement already satisfied: numpy in /usr/local/lib/python3.9/dist-packages (from DoubleML) (1.22.4)\n",
            "Requirement already satisfied: pandas in /usr/local/lib/python3.9/dist-packages (from DoubleML) (1.4.4)\n",
            "Requirement already satisfied: statsmodels in /usr/local/lib/python3.9/dist-packages (from DoubleML) (0.13.5)\n",
            "Requirement already satisfied: scikit-learn in /usr/local/lib/python3.9/dist-packages (from DoubleML) (1.2.2)\n",
            "Requirement already satisfied: pytz>=2020.1 in /usr/local/lib/python3.9/dist-packages (from pandas->DoubleML) (2022.7.1)\n",
            "Requirement already satisfied: python-dateutil>=2.8.1 in /usr/local/lib/python3.9/dist-packages (from pandas->DoubleML) (2.8.2)\n",
            "Requirement already satisfied: threadpoolctl>=2.0.0 in /usr/local/lib/python3.9/dist-packages (from scikit-learn->DoubleML) (3.1.0)\n",
            "Requirement already satisfied: packaging>=21.3 in /usr/local/lib/python3.9/dist-packages (from statsmodels->DoubleML) (23.0)\n",
            "Requirement already satisfied: patsy>=0.5.2 in /usr/local/lib/python3.9/dist-packages (from statsmodels->DoubleML) (0.5.3)\n",
            "Requirement already satisfied: six in /usr/local/lib/python3.9/dist-packages (from patsy>=0.5.2->statsmodels->DoubleML) (1.15.0)\n",
            "Installing collected packages: DoubleML\n",
            "Successfully installed DoubleML-0.5.2\n"
          ]
        }
      ]
    },
    {
      "cell_type": "code",
      "source": [
        "import doubleml as dml\n",
        "from sklearn.base import clone\n",
        "from sklearn.linear_model import Lasso\n",
        "\n",
        "learner = Lasso(alpha=0.1)\n",
        "\n",
        "ml_l = clone(learner)\n",
        "\n",
        "ml_m = clone(learner)"
      ],
      "metadata": {
        "id": "BG7AdxS1EZ3h"
      },
      "execution_count": 54,
      "outputs": []
    },
    {
      "cell_type": "markdown",
      "source": [
        "### 使符合套件要求的資料格式"
      ],
      "metadata": {
        "id": "w9iO_oMwFIQa"
      }
    },
    {
      "cell_type": "code",
      "source": [
        "len(vectorizer.get_feature_names_out())"
      ],
      "metadata": {
        "colab": {
          "base_uri": "https://localhost:8080/"
        },
        "id": "gqDtOlW1gmsR",
        "outputId": "f852405a-60c9-4c95-cb89-660c06066262"
      },
      "execution_count": 60,
      "outputs": [
        {
          "output_type": "execute_result",
          "data": {
            "text/plain": [
              "10000"
            ]
          },
          "metadata": {},
          "execution_count": 60
        }
      ]
    },
    {
      "cell_type": "code",
      "source": [
        "data_lemma = pd.concat([df.y, pd.DataFrame(lemmatized_matrix.toarray(), columns = vectorizer.get_feature_names_out())], ignore_index=True, sort=False)\n",
        "#data_lemma.rename(columns={0: 'y'}, inplace=True)\n",
        "data_lemma = data_lemma.fillna(0)\n",
        "data_lemma.head(3)"
      ],
      "metadata": {
        "id": "_hytAZO2FHDq",
        "colab": {
          "base_uri": "https://localhost:8080/",
          "height": 237
        },
        "outputId": "5a20f697-a9f2-41ed-c2ee-625e4afdba22"
      },
      "execution_count": 61,
      "outputs": [
        {
          "output_type": "execute_result",
          "data": {
            "text/plain": [
              "     0   aa  aapi   ab  abandon  abc  abduct  abe  abel  abenom  ...  zone  \\\n",
              "0  1.0  0.0   0.0  0.0      0.0  0.0     0.0  0.0   0.0     0.0  ...   0.0   \n",
              "1  0.0  0.0   0.0  0.0      0.0  0.0     0.0  0.0   0.0     0.0  ...   0.0   \n",
              "2  1.0  0.0   0.0  0.0      0.0  0.0     0.0  0.0   0.0     0.0  ...   0.0   \n",
              "\n",
              "   zoo  zoom  zoomer  zou  zscaler   zu  zuckerberg  zuel  zurich  \n",
              "0  0.0   0.0     0.0  0.0      0.0  0.0         0.0   0.0     0.0  \n",
              "1  0.0   0.0     0.0  0.0      0.0  0.0         0.0   0.0     0.0  \n",
              "2  0.0   0.0     0.0  0.0      0.0  0.0         0.0   0.0     0.0  \n",
              "\n",
              "[3 rows x 10001 columns]"
            ],
            "text/html": [
              "\n",
              "  <div id=\"df-82c4dc96-5062-4a3c-a967-9443404d945f\">\n",
              "    <div class=\"colab-df-container\">\n",
              "      <div>\n",
              "<style scoped>\n",
              "    .dataframe tbody tr th:only-of-type {\n",
              "        vertical-align: middle;\n",
              "    }\n",
              "\n",
              "    .dataframe tbody tr th {\n",
              "        vertical-align: top;\n",
              "    }\n",
              "\n",
              "    .dataframe thead th {\n",
              "        text-align: right;\n",
              "    }\n",
              "</style>\n",
              "<table border=\"1\" class=\"dataframe\">\n",
              "  <thead>\n",
              "    <tr style=\"text-align: right;\">\n",
              "      <th></th>\n",
              "      <th>0</th>\n",
              "      <th>aa</th>\n",
              "      <th>aapi</th>\n",
              "      <th>ab</th>\n",
              "      <th>abandon</th>\n",
              "      <th>abc</th>\n",
              "      <th>abduct</th>\n",
              "      <th>abe</th>\n",
              "      <th>abel</th>\n",
              "      <th>abenom</th>\n",
              "      <th>...</th>\n",
              "      <th>zone</th>\n",
              "      <th>zoo</th>\n",
              "      <th>zoom</th>\n",
              "      <th>zoomer</th>\n",
              "      <th>zou</th>\n",
              "      <th>zscaler</th>\n",
              "      <th>zu</th>\n",
              "      <th>zuckerberg</th>\n",
              "      <th>zuel</th>\n",
              "      <th>zurich</th>\n",
              "    </tr>\n",
              "  </thead>\n",
              "  <tbody>\n",
              "    <tr>\n",
              "      <th>0</th>\n",
              "      <td>1.0</td>\n",
              "      <td>0.0</td>\n",
              "      <td>0.0</td>\n",
              "      <td>0.0</td>\n",
              "      <td>0.0</td>\n",
              "      <td>0.0</td>\n",
              "      <td>0.0</td>\n",
              "      <td>0.0</td>\n",
              "      <td>0.0</td>\n",
              "      <td>0.0</td>\n",
              "      <td>...</td>\n",
              "      <td>0.0</td>\n",
              "      <td>0.0</td>\n",
              "      <td>0.0</td>\n",
              "      <td>0.0</td>\n",
              "      <td>0.0</td>\n",
              "      <td>0.0</td>\n",
              "      <td>0.0</td>\n",
              "      <td>0.0</td>\n",
              "      <td>0.0</td>\n",
              "      <td>0.0</td>\n",
              "    </tr>\n",
              "    <tr>\n",
              "      <th>1</th>\n",
              "      <td>0.0</td>\n",
              "      <td>0.0</td>\n",
              "      <td>0.0</td>\n",
              "      <td>0.0</td>\n",
              "      <td>0.0</td>\n",
              "      <td>0.0</td>\n",
              "      <td>0.0</td>\n",
              "      <td>0.0</td>\n",
              "      <td>0.0</td>\n",
              "      <td>0.0</td>\n",
              "      <td>...</td>\n",
              "      <td>0.0</td>\n",
              "      <td>0.0</td>\n",
              "      <td>0.0</td>\n",
              "      <td>0.0</td>\n",
              "      <td>0.0</td>\n",
              "      <td>0.0</td>\n",
              "      <td>0.0</td>\n",
              "      <td>0.0</td>\n",
              "      <td>0.0</td>\n",
              "      <td>0.0</td>\n",
              "    </tr>\n",
              "    <tr>\n",
              "      <th>2</th>\n",
              "      <td>1.0</td>\n",
              "      <td>0.0</td>\n",
              "      <td>0.0</td>\n",
              "      <td>0.0</td>\n",
              "      <td>0.0</td>\n",
              "      <td>0.0</td>\n",
              "      <td>0.0</td>\n",
              "      <td>0.0</td>\n",
              "      <td>0.0</td>\n",
              "      <td>0.0</td>\n",
              "      <td>...</td>\n",
              "      <td>0.0</td>\n",
              "      <td>0.0</td>\n",
              "      <td>0.0</td>\n",
              "      <td>0.0</td>\n",
              "      <td>0.0</td>\n",
              "      <td>0.0</td>\n",
              "      <td>0.0</td>\n",
              "      <td>0.0</td>\n",
              "      <td>0.0</td>\n",
              "      <td>0.0</td>\n",
              "    </tr>\n",
              "  </tbody>\n",
              "</table>\n",
              "<p>3 rows × 10001 columns</p>\n",
              "</div>\n",
              "      <button class=\"colab-df-convert\" onclick=\"convertToInteractive('df-82c4dc96-5062-4a3c-a967-9443404d945f')\"\n",
              "              title=\"Convert this dataframe to an interactive table.\"\n",
              "              style=\"display:none;\">\n",
              "        \n",
              "  <svg xmlns=\"http://www.w3.org/2000/svg\" height=\"24px\"viewBox=\"0 0 24 24\"\n",
              "       width=\"24px\">\n",
              "    <path d=\"M0 0h24v24H0V0z\" fill=\"none\"/>\n",
              "    <path d=\"M18.56 5.44l.94 2.06.94-2.06 2.06-.94-2.06-.94-.94-2.06-.94 2.06-2.06.94zm-11 1L8.5 8.5l.94-2.06 2.06-.94-2.06-.94L8.5 2.5l-.94 2.06-2.06.94zm10 10l.94 2.06.94-2.06 2.06-.94-2.06-.94-.94-2.06-.94 2.06-2.06.94z\"/><path d=\"M17.41 7.96l-1.37-1.37c-.4-.4-.92-.59-1.43-.59-.52 0-1.04.2-1.43.59L10.3 9.45l-7.72 7.72c-.78.78-.78 2.05 0 2.83L4 21.41c.39.39.9.59 1.41.59.51 0 1.02-.2 1.41-.59l7.78-7.78 2.81-2.81c.8-.78.8-2.07 0-2.86zM5.41 20L4 18.59l7.72-7.72 1.47 1.35L5.41 20z\"/>\n",
              "  </svg>\n",
              "      </button>\n",
              "      \n",
              "  <style>\n",
              "    .colab-df-container {\n",
              "      display:flex;\n",
              "      flex-wrap:wrap;\n",
              "      gap: 12px;\n",
              "    }\n",
              "\n",
              "    .colab-df-convert {\n",
              "      background-color: #E8F0FE;\n",
              "      border: none;\n",
              "      border-radius: 50%;\n",
              "      cursor: pointer;\n",
              "      display: none;\n",
              "      fill: #1967D2;\n",
              "      height: 32px;\n",
              "      padding: 0 0 0 0;\n",
              "      width: 32px;\n",
              "    }\n",
              "\n",
              "    .colab-df-convert:hover {\n",
              "      background-color: #E2EBFA;\n",
              "      box-shadow: 0px 1px 2px rgba(60, 64, 67, 0.3), 0px 1px 3px 1px rgba(60, 64, 67, 0.15);\n",
              "      fill: #174EA6;\n",
              "    }\n",
              "\n",
              "    [theme=dark] .colab-df-convert {\n",
              "      background-color: #3B4455;\n",
              "      fill: #D2E3FC;\n",
              "    }\n",
              "\n",
              "    [theme=dark] .colab-df-convert:hover {\n",
              "      background-color: #434B5C;\n",
              "      box-shadow: 0px 1px 3px 1px rgba(0, 0, 0, 0.15);\n",
              "      filter: drop-shadow(0px 1px 2px rgba(0, 0, 0, 0.3));\n",
              "      fill: #FFFFFF;\n",
              "    }\n",
              "  </style>\n",
              "\n",
              "      <script>\n",
              "        const buttonEl =\n",
              "          document.querySelector('#df-82c4dc96-5062-4a3c-a967-9443404d945f button.colab-df-convert');\n",
              "        buttonEl.style.display =\n",
              "          google.colab.kernel.accessAllowed ? 'block' : 'none';\n",
              "\n",
              "        async function convertToInteractive(key) {\n",
              "          const element = document.querySelector('#df-82c4dc96-5062-4a3c-a967-9443404d945f');\n",
              "          const dataTable =\n",
              "            await google.colab.kernel.invokeFunction('convertToInteractive',\n",
              "                                                     [key], {});\n",
              "          if (!dataTable) return;\n",
              "\n",
              "          const docLinkHtml = 'Like what you see? Visit the ' +\n",
              "            '<a target=\"_blank\" href=https://colab.research.google.com/notebooks/data_table.ipynb>data table notebook</a>'\n",
              "            + ' to learn more about interactive tables.';\n",
              "          element.innerHTML = '';\n",
              "          dataTable['output_type'] = 'display_data';\n",
              "          await google.colab.output.renderOutput(dataTable, element);\n",
              "          const docLink = document.createElement('div');\n",
              "          docLink.innerHTML = docLinkHtml;\n",
              "          element.appendChild(docLink);\n",
              "        }\n",
              "      </script>\n",
              "    </div>\n",
              "  </div>\n",
              "  "
            ]
          },
          "metadata": {},
          "execution_count": 61
        }
      ]
    },
    {
      "cell_type": "code",
      "source": [
        "print(list(data_lemma.columns[np.nonzero(lasso_stem.coef_)]))"
      ],
      "metadata": {
        "id": "izfFPV3dFTS3"
      },
      "execution_count": null,
      "outputs": []
    },
    {
      "cell_type": "code",
      "source": [
        "DoubleMLClusterData.from_arrays(x, y, d, cluster_vars, z)"
      ],
      "metadata": {
        "id": "vGk3IMbLIUzO"
      },
      "execution_count": null,
      "outputs": []
    },
    {
      "cell_type": "code",
      "source": [
        "obj_dml_data = dml.DoubleMLData(data_stem,\n",
        "                y_col = 'y',\n",
        "                d_cols = list(stemmed_df.columns[np.nonzero(lasso_stem.coef_)])\n",
        "                )\n",
        "\n",
        "dml_plr_obj = dml.DoubleMLPLR(obj_dml_data, ml_l, ml_m)\n",
        "\n",
        "dml_plr_obj.fit();\n",
        "\n",
        "print(dml_plr_obj)"
      ],
      "metadata": {
        "id": "vdnnHTrVFVaF"
      },
      "execution_count": null,
      "outputs": []
    },
    {
      "cell_type": "markdown",
      "source": [
        "### APE 和 CI"
      ],
      "metadata": {
        "id": "o2bsVTEU8UIO"
      }
    },
    {
      "cell_type": "markdown",
      "source": [
        "但其實APE好像不行捏"
      ],
      "metadata": {
        "id": "vkeotfDC8axN"
      }
    },
    {
      "cell_type": "code",
      "source": [],
      "metadata": {
        "id": "2G6pVILr8h93"
      },
      "execution_count": null,
      "outputs": []
    },
    {
      "cell_type": "markdown",
      "source": [
        "### 看看 stemming 和 lemmatization 的 CI ，用誰?"
      ],
      "metadata": {
        "id": "bOK2Bhpj8oIb"
      }
    }
  ]
}