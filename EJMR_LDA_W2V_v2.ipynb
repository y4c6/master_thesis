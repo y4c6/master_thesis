{
  "nbformat": 4,
  "nbformat_minor": 0,
  "metadata": {
    "colab": {
      "provenance": [],
      "authorship_tag": "ABX9TyNW9fz61vjQLbEph77Z7bXu",
      "include_colab_link": true
    },
    "kernelspec": {
      "name": "python3",
      "display_name": "Python 3"
    },
    "language_info": {
      "name": "python"
    }
  },
  "cells": [
    {
      "cell_type": "markdown",
      "metadata": {
        "id": "view-in-github",
        "colab_type": "text"
      },
      "source": [
        "<a href=\"https://colab.research.google.com/github/y4c6/master_thesis/blob/main/EJMR_LDA_W2V_v2.ipynb\" target=\"_parent\"><img src=\"https://colab.research.google.com/assets/colab-badge.svg\" alt=\"Open In Colab\"/></a>"
      ]
    },
    {
      "cell_type": "markdown",
      "source": [
        "Install packages"
      ],
      "metadata": {
        "id": "VfPRH4ning08"
      }
    },
    {
      "cell_type": "code",
      "source": [
        "import numpy as np\n",
        "import pandas as pd\n",
        "import json"
      ],
      "metadata": {
        "id": "Szt4Jmx9nefB"
      },
      "execution_count": null,
      "outputs": []
    },
    {
      "cell_type": "code",
      "source": [
        "from google.colab import drive\n",
        "# directory\n",
        "drive.mount('/content/gdrive')"
      ],
      "metadata": {
        "id": "t_nQjIXLngET"
      },
      "execution_count": null,
      "outputs": []
    },
    {
      "cell_type": "markdown",
      "source": [
        "Read the pickle file"
      ],
      "metadata": {
        "id": "Qr7MrZBinkTq"
      }
    },
    {
      "cell_type": "code",
      "execution_count": null,
      "metadata": {
        "id": "u7mNM0VZmUtT"
      },
      "outputs": [],
      "source": [
        "df = pd.read_pickle(\"./MyDrive/Thesis_Data&Result/EJMR_ao2_tokens_a0613.pkl\")\")\n",
        "df.head(3)"
      ]
    },
    {
      "cell_type": "code",
      "source": [
        "## create the training corpus\n",
        "corpus_lemmatized = df['lemmatized_tokenized'].values\n",
        "corpus_stemmed = df['stemmed_tokenized'].values"
      ],
      "metadata": {
        "id": "i7e_KH3vnAk5"
      },
      "execution_count": null,
      "outputs": []
    },
    {
      "cell_type": "markdown",
      "source": [
        "## Word-embedding (Word2vec) & Topic Modelling (LDA)"
      ],
      "metadata": {
        "id": "J5RXa-A9RsF0"
      }
    },
    {
      "cell_type": "markdown",
      "source": [
        "It is worth noting that this method is not widely used and there are other ways to combine LDA and word2vec such as using word2vec vectors as priors for LDA or using LDA topics as features for word2vec.\n",
        "Also, LDA is unsupervised method while word2vec is supervised method, so the way you combine them is important and it depends on your application.\n",
        "It is recommended to consult with experts in this field and validate the results to see whether this approach is beneficial for your task or not."
      ],
      "metadata": {
        "id": "4-5YCtsb8gcu"
      }
    },
    {
      "cell_type": "code",
      "source": [
        "gensim.__version__"
      ],
      "metadata": {
        "colab": {
          "base_uri": "https://localhost:8080/",
          "height": 35
        },
        "id": "Og_8wlU_dwFL",
        "outputId": "c91711ca-9a29-4392-a758-78ee5755060a"
      },
      "execution_count": null,
      "outputs": [
        {
          "output_type": "execute_result",
          "data": {
            "text/plain": [
              "'3.6.0'"
            ],
            "application/vnd.google.colaboratory.intrinsic+json": {
              "type": "string"
            }
          },
          "metadata": {},
          "execution_count": 28
        }
      ]
    },
    {
      "cell_type": "code",
      "source": [
        "# !pip install --upgrade gensim"
      ],
      "metadata": {
        "id": "T7hg4XxQeTWv"
      },
      "execution_count": null,
      "outputs": []
    },
    {
      "cell_type": "markdown",
      "source": [
        "### Word2Vec"
      ],
      "metadata": {
        "id": "c5GQMqPDg7sr"
      }
    },
    {
      "cell_type": "code",
      "source": [
        "from gensim.models import Word2Vec\n",
        "\n",
        "## setting\n",
        "vector_dim = 100\n",
        "window_size = 5\n",
        "min_count = 1\n",
        "training_epochs = 20\n",
        "\n",
        "## model\n",
        "word2vec_model = Word2Vec(sentences=corpus, size=vector_dim) #, window=window_size, min_count=min_count, epochs=training_epochs)"
      ],
      "metadata": {
        "id": "rQdUcnhuPTOc"
      },
      "execution_count": null,
      "outputs": []
    },
    {
      "cell_type": "code",
      "source": [
        "# Get the most similar words\n",
        "word = 'china'\n",
        "topn = 30\n",
        "w2v_china = pd.DataFrame(word2vec_model.wv.most_similar(word, topn=topn))\n",
        "w2v_china.columns = ['Word', 'Sims']\n",
        "\n",
        "w2v_china.head(3)"
      ],
      "metadata": {
        "colab": {
          "base_uri": "https://localhost:8080/",
          "height": 990
        },
        "id": "7C6CEX_bPZIJ",
        "outputId": "d5bd848b-06ab-48f4-b06f-5b8874bf13f0"
      },
      "execution_count": null,
      "outputs": [
        {
          "output_type": "execute_result",
          "data": {
            "text/plain": [
              "            Word      Sims\n",
              "0      territory  0.808221\n",
              "1         invade  0.798980\n",
              "2          tibet  0.798434\n",
              "3         island  0.798132\n",
              "4          facto  0.779776\n",
              "5          nukes  0.775288\n",
              "6            roc  0.772613\n",
              "7        belongs  0.772110\n",
              "8       invasion  0.771001\n",
              "9           lost  0.763442\n",
              "10  independence  0.763318\n",
              "11       invaded  0.760158\n",
              "12   independent  0.759936\n",
              "13        taiwan  0.758103\n",
              "14           prc  0.753573\n",
              "15        planes  0.753031\n",
              "16          nato  0.752791\n",
              "17      republic  0.752113\n",
              "18   distracting  0.747419\n",
              "19        tuuurd  0.743754\n",
              "20           jpn  0.741374\n",
              "21          land  0.740496\n",
              "22       invades  0.740440\n",
              "23      recovers  0.738072\n",
              "24       weapons  0.737383\n",
              "25      mongolia  0.736830\n",
              "26   accountable  0.730299\n",
              "27          nuke  0.726214\n",
              "28        regime  0.723698\n",
              "29         annex  0.721221"
            ],
            "text/html": [
              "\n",
              "  <div id=\"df-fb5211cd-18d6-4952-bde7-16ebf1a6a197\">\n",
              "    <div class=\"colab-df-container\">\n",
              "      <div>\n",
              "<style scoped>\n",
              "    .dataframe tbody tr th:only-of-type {\n",
              "        vertical-align: middle;\n",
              "    }\n",
              "\n",
              "    .dataframe tbody tr th {\n",
              "        vertical-align: top;\n",
              "    }\n",
              "\n",
              "    .dataframe thead th {\n",
              "        text-align: right;\n",
              "    }\n",
              "</style>\n",
              "<table border=\"1\" class=\"dataframe\">\n",
              "  <thead>\n",
              "    <tr style=\"text-align: right;\">\n",
              "      <th></th>\n",
              "      <th>Word</th>\n",
              "      <th>Sims</th>\n",
              "    </tr>\n",
              "  </thead>\n",
              "  <tbody>\n",
              "    <tr>\n",
              "      <th>0</th>\n",
              "      <td>territory</td>\n",
              "      <td>0.808221</td>\n",
              "    </tr>\n",
              "    <tr>\n",
              "      <th>1</th>\n",
              "      <td>invade</td>\n",
              "      <td>0.798980</td>\n",
              "    </tr>\n",
              "    <tr>\n",
              "      <th>2</th>\n",
              "      <td>tibet</td>\n",
              "      <td>0.798434</td>\n",
              "    </tr>\n",
              "    <tr>\n",
              "      <th>3</th>\n",
              "      <td>island</td>\n",
              "      <td>0.798132</td>\n",
              "    </tr>\n",
              "    <tr>\n",
              "      <th>4</th>\n",
              "      <td>facto</td>\n",
              "      <td>0.779776</td>\n",
              "    </tr>\n",
              "    <tr>\n",
              "      <th>5</th>\n",
              "      <td>nukes</td>\n",
              "      <td>0.775288</td>\n",
              "    </tr>\n",
              "    <tr>\n",
              "      <th>6</th>\n",
              "      <td>roc</td>\n",
              "      <td>0.772613</td>\n",
              "    </tr>\n",
              "    <tr>\n",
              "      <th>7</th>\n",
              "      <td>belongs</td>\n",
              "      <td>0.772110</td>\n",
              "    </tr>\n",
              "    <tr>\n",
              "      <th>8</th>\n",
              "      <td>invasion</td>\n",
              "      <td>0.771001</td>\n",
              "    </tr>\n",
              "    <tr>\n",
              "      <th>9</th>\n",
              "      <td>lost</td>\n",
              "      <td>0.763442</td>\n",
              "    </tr>\n",
              "    <tr>\n",
              "      <th>10</th>\n",
              "      <td>independence</td>\n",
              "      <td>0.763318</td>\n",
              "    </tr>\n",
              "    <tr>\n",
              "      <th>11</th>\n",
              "      <td>invaded</td>\n",
              "      <td>0.760158</td>\n",
              "    </tr>\n",
              "    <tr>\n",
              "      <th>12</th>\n",
              "      <td>independent</td>\n",
              "      <td>0.759936</td>\n",
              "    </tr>\n",
              "    <tr>\n",
              "      <th>13</th>\n",
              "      <td>taiwan</td>\n",
              "      <td>0.758103</td>\n",
              "    </tr>\n",
              "    <tr>\n",
              "      <th>14</th>\n",
              "      <td>prc</td>\n",
              "      <td>0.753573</td>\n",
              "    </tr>\n",
              "    <tr>\n",
              "      <th>15</th>\n",
              "      <td>planes</td>\n",
              "      <td>0.753031</td>\n",
              "    </tr>\n",
              "    <tr>\n",
              "      <th>16</th>\n",
              "      <td>nato</td>\n",
              "      <td>0.752791</td>\n",
              "    </tr>\n",
              "    <tr>\n",
              "      <th>17</th>\n",
              "      <td>republic</td>\n",
              "      <td>0.752113</td>\n",
              "    </tr>\n",
              "    <tr>\n",
              "      <th>18</th>\n",
              "      <td>distracting</td>\n",
              "      <td>0.747419</td>\n",
              "    </tr>\n",
              "    <tr>\n",
              "      <th>19</th>\n",
              "      <td>tuuurd</td>\n",
              "      <td>0.743754</td>\n",
              "    </tr>\n",
              "    <tr>\n",
              "      <th>20</th>\n",
              "      <td>jpn</td>\n",
              "      <td>0.741374</td>\n",
              "    </tr>\n",
              "    <tr>\n",
              "      <th>21</th>\n",
              "      <td>land</td>\n",
              "      <td>0.740496</td>\n",
              "    </tr>\n",
              "    <tr>\n",
              "      <th>22</th>\n",
              "      <td>invades</td>\n",
              "      <td>0.740440</td>\n",
              "    </tr>\n",
              "    <tr>\n",
              "      <th>23</th>\n",
              "      <td>recovers</td>\n",
              "      <td>0.738072</td>\n",
              "    </tr>\n",
              "    <tr>\n",
              "      <th>24</th>\n",
              "      <td>weapons</td>\n",
              "      <td>0.737383</td>\n",
              "    </tr>\n",
              "    <tr>\n",
              "      <th>25</th>\n",
              "      <td>mongolia</td>\n",
              "      <td>0.736830</td>\n",
              "    </tr>\n",
              "    <tr>\n",
              "      <th>26</th>\n",
              "      <td>accountable</td>\n",
              "      <td>0.730299</td>\n",
              "    </tr>\n",
              "    <tr>\n",
              "      <th>27</th>\n",
              "      <td>nuke</td>\n",
              "      <td>0.726214</td>\n",
              "    </tr>\n",
              "    <tr>\n",
              "      <th>28</th>\n",
              "      <td>regime</td>\n",
              "      <td>0.723698</td>\n",
              "    </tr>\n",
              "    <tr>\n",
              "      <th>29</th>\n",
              "      <td>annex</td>\n",
              "      <td>0.721221</td>\n",
              "    </tr>\n",
              "  </tbody>\n",
              "</table>\n",
              "</div>\n",
              "      <button class=\"colab-df-convert\" onclick=\"convertToInteractive('df-fb5211cd-18d6-4952-bde7-16ebf1a6a197')\"\n",
              "              title=\"Convert this dataframe to an interactive table.\"\n",
              "              style=\"display:none;\">\n",
              "        \n",
              "  <svg xmlns=\"http://www.w3.org/2000/svg\" height=\"24px\"viewBox=\"0 0 24 24\"\n",
              "       width=\"24px\">\n",
              "    <path d=\"M0 0h24v24H0V0z\" fill=\"none\"/>\n",
              "    <path d=\"M18.56 5.44l.94 2.06.94-2.06 2.06-.94-2.06-.94-.94-2.06-.94 2.06-2.06.94zm-11 1L8.5 8.5l.94-2.06 2.06-.94-2.06-.94L8.5 2.5l-.94 2.06-2.06.94zm10 10l.94 2.06.94-2.06 2.06-.94-2.06-.94-.94-2.06-.94 2.06-2.06.94z\"/><path d=\"M17.41 7.96l-1.37-1.37c-.4-.4-.92-.59-1.43-.59-.52 0-1.04.2-1.43.59L10.3 9.45l-7.72 7.72c-.78.78-.78 2.05 0 2.83L4 21.41c.39.39.9.59 1.41.59.51 0 1.02-.2 1.41-.59l7.78-7.78 2.81-2.81c.8-.78.8-2.07 0-2.86zM5.41 20L4 18.59l7.72-7.72 1.47 1.35L5.41 20z\"/>\n",
              "  </svg>\n",
              "      </button>\n",
              "      \n",
              "  <style>\n",
              "    .colab-df-container {\n",
              "      display:flex;\n",
              "      flex-wrap:wrap;\n",
              "      gap: 12px;\n",
              "    }\n",
              "\n",
              "    .colab-df-convert {\n",
              "      background-color: #E8F0FE;\n",
              "      border: none;\n",
              "      border-radius: 50%;\n",
              "      cursor: pointer;\n",
              "      display: none;\n",
              "      fill: #1967D2;\n",
              "      height: 32px;\n",
              "      padding: 0 0 0 0;\n",
              "      width: 32px;\n",
              "    }\n",
              "\n",
              "    .colab-df-convert:hover {\n",
              "      background-color: #E2EBFA;\n",
              "      box-shadow: 0px 1px 2px rgba(60, 64, 67, 0.3), 0px 1px 3px 1px rgba(60, 64, 67, 0.15);\n",
              "      fill: #174EA6;\n",
              "    }\n",
              "\n",
              "    [theme=dark] .colab-df-convert {\n",
              "      background-color: #3B4455;\n",
              "      fill: #D2E3FC;\n",
              "    }\n",
              "\n",
              "    [theme=dark] .colab-df-convert:hover {\n",
              "      background-color: #434B5C;\n",
              "      box-shadow: 0px 1px 3px 1px rgba(0, 0, 0, 0.15);\n",
              "      filter: drop-shadow(0px 1px 2px rgba(0, 0, 0, 0.3));\n",
              "      fill: #FFFFFF;\n",
              "    }\n",
              "  </style>\n",
              "\n",
              "      <script>\n",
              "        const buttonEl =\n",
              "          document.querySelector('#df-fb5211cd-18d6-4952-bde7-16ebf1a6a197 button.colab-df-convert');\n",
              "        buttonEl.style.display =\n",
              "          google.colab.kernel.accessAllowed ? 'block' : 'none';\n",
              "\n",
              "        async function convertToInteractive(key) {\n",
              "          const element = document.querySelector('#df-fb5211cd-18d6-4952-bde7-16ebf1a6a197');\n",
              "          const dataTable =\n",
              "            await google.colab.kernel.invokeFunction('convertToInteractive',\n",
              "                                                     [key], {});\n",
              "          if (!dataTable) return;\n",
              "\n",
              "          const docLinkHtml = 'Like what you see? Visit the ' +\n",
              "            '<a target=\"_blank\" href=https://colab.research.google.com/notebooks/data_table.ipynb>data table notebook</a>'\n",
              "            + ' to learn more about interactive tables.';\n",
              "          element.innerHTML = '';\n",
              "          dataTable['output_type'] = 'display_data';\n",
              "          await google.colab.output.renderOutput(dataTable, element);\n",
              "          const docLink = document.createElement('div');\n",
              "          docLink.innerHTML = docLinkHtml;\n",
              "          element.appendChild(docLink);\n",
              "        }\n",
              "      </script>\n",
              "    </div>\n",
              "  </div>\n",
              "  "
            ]
          },
          "metadata": {},
          "execution_count": 56
        }
      ]
    },
    {
      "cell_type": "code",
      "source": [
        "# Get the most similar words\n",
        "word = 'chinese'\n",
        "topn = 30\n",
        "w2v_asia = pd.DataFrame(word2vec_model.wv.most_similar(word, topn=topn))\n",
        "w2v_asia.columns = ['Word', 'Sims']\n",
        "\n",
        "w2v_asia.head(3)"
      ],
      "metadata": {
        "colab": {
          "base_uri": "https://localhost:8080/",
          "height": 990
        },
        "id": "tEkjl-hRgi3R",
        "outputId": "322ffb39-46af-4576-eab4-0d9f0d565384"
      },
      "execution_count": null,
      "outputs": [
        {
          "output_type": "execute_result",
          "data": {
            "text/plain": [
              "            Word      Sims\n",
              "0   sympathizers  0.712218\n",
              "1      taiwanese  0.669642\n",
              "2            han  0.666017\n",
              "3         korean  0.660809\n",
              "4           hold  0.637837\n",
              "5          twers  0.635374\n",
              "6       distrust  0.624216\n",
              "7    brainwashed  0.622997\n",
              "8    nationality  0.622318\n",
              "9       japanese  0.621930\n",
              "10      taiwanhk  0.620747\n",
              "11          type  0.619785\n",
              "12        candle  0.617911\n",
              "13          must  0.611975\n",
              "14    nonchinese  0.608184\n",
              "15      chineses  0.606137\n",
              "16   princelings  0.603735\n",
              "17      mandarin  0.600209\n",
              "18      parlance  0.591640\n",
              "19      spelling  0.591286\n",
              "20       xnjiang  0.589479\n",
              "21      offerred  0.586135\n",
              "22        culled  0.584997\n",
              "23       koreans  0.584972\n",
              "24       account  0.580581\n",
              "25          lure  0.579703\n",
              "26      optional  0.577029\n",
              "27     accessing  0.576156\n",
              "28          lows  0.575135\n",
              "29    internment  0.574832"
            ],
            "text/html": [
              "\n",
              "  <div id=\"df-0158e4c7-ac90-4c10-a14f-9c19eb6bfd73\">\n",
              "    <div class=\"colab-df-container\">\n",
              "      <div>\n",
              "<style scoped>\n",
              "    .dataframe tbody tr th:only-of-type {\n",
              "        vertical-align: middle;\n",
              "    }\n",
              "\n",
              "    .dataframe tbody tr th {\n",
              "        vertical-align: top;\n",
              "    }\n",
              "\n",
              "    .dataframe thead th {\n",
              "        text-align: right;\n",
              "    }\n",
              "</style>\n",
              "<table border=\"1\" class=\"dataframe\">\n",
              "  <thead>\n",
              "    <tr style=\"text-align: right;\">\n",
              "      <th></th>\n",
              "      <th>Word</th>\n",
              "      <th>Sims</th>\n",
              "    </tr>\n",
              "  </thead>\n",
              "  <tbody>\n",
              "    <tr>\n",
              "      <th>0</th>\n",
              "      <td>sympathizers</td>\n",
              "      <td>0.712218</td>\n",
              "    </tr>\n",
              "    <tr>\n",
              "      <th>1</th>\n",
              "      <td>taiwanese</td>\n",
              "      <td>0.669642</td>\n",
              "    </tr>\n",
              "    <tr>\n",
              "      <th>2</th>\n",
              "      <td>han</td>\n",
              "      <td>0.666017</td>\n",
              "    </tr>\n",
              "    <tr>\n",
              "      <th>3</th>\n",
              "      <td>korean</td>\n",
              "      <td>0.660809</td>\n",
              "    </tr>\n",
              "    <tr>\n",
              "      <th>4</th>\n",
              "      <td>hold</td>\n",
              "      <td>0.637837</td>\n",
              "    </tr>\n",
              "    <tr>\n",
              "      <th>5</th>\n",
              "      <td>twers</td>\n",
              "      <td>0.635374</td>\n",
              "    </tr>\n",
              "    <tr>\n",
              "      <th>6</th>\n",
              "      <td>distrust</td>\n",
              "      <td>0.624216</td>\n",
              "    </tr>\n",
              "    <tr>\n",
              "      <th>7</th>\n",
              "      <td>brainwashed</td>\n",
              "      <td>0.622997</td>\n",
              "    </tr>\n",
              "    <tr>\n",
              "      <th>8</th>\n",
              "      <td>nationality</td>\n",
              "      <td>0.622318</td>\n",
              "    </tr>\n",
              "    <tr>\n",
              "      <th>9</th>\n",
              "      <td>japanese</td>\n",
              "      <td>0.621930</td>\n",
              "    </tr>\n",
              "    <tr>\n",
              "      <th>10</th>\n",
              "      <td>taiwanhk</td>\n",
              "      <td>0.620747</td>\n",
              "    </tr>\n",
              "    <tr>\n",
              "      <th>11</th>\n",
              "      <td>type</td>\n",
              "      <td>0.619785</td>\n",
              "    </tr>\n",
              "    <tr>\n",
              "      <th>12</th>\n",
              "      <td>candle</td>\n",
              "      <td>0.617911</td>\n",
              "    </tr>\n",
              "    <tr>\n",
              "      <th>13</th>\n",
              "      <td>must</td>\n",
              "      <td>0.611975</td>\n",
              "    </tr>\n",
              "    <tr>\n",
              "      <th>14</th>\n",
              "      <td>nonchinese</td>\n",
              "      <td>0.608184</td>\n",
              "    </tr>\n",
              "    <tr>\n",
              "      <th>15</th>\n",
              "      <td>chineses</td>\n",
              "      <td>0.606137</td>\n",
              "    </tr>\n",
              "    <tr>\n",
              "      <th>16</th>\n",
              "      <td>princelings</td>\n",
              "      <td>0.603735</td>\n",
              "    </tr>\n",
              "    <tr>\n",
              "      <th>17</th>\n",
              "      <td>mandarin</td>\n",
              "      <td>0.600209</td>\n",
              "    </tr>\n",
              "    <tr>\n",
              "      <th>18</th>\n",
              "      <td>parlance</td>\n",
              "      <td>0.591640</td>\n",
              "    </tr>\n",
              "    <tr>\n",
              "      <th>19</th>\n",
              "      <td>spelling</td>\n",
              "      <td>0.591286</td>\n",
              "    </tr>\n",
              "    <tr>\n",
              "      <th>20</th>\n",
              "      <td>xnjiang</td>\n",
              "      <td>0.589479</td>\n",
              "    </tr>\n",
              "    <tr>\n",
              "      <th>21</th>\n",
              "      <td>offerred</td>\n",
              "      <td>0.586135</td>\n",
              "    </tr>\n",
              "    <tr>\n",
              "      <th>22</th>\n",
              "      <td>culled</td>\n",
              "      <td>0.584997</td>\n",
              "    </tr>\n",
              "    <tr>\n",
              "      <th>23</th>\n",
              "      <td>koreans</td>\n",
              "      <td>0.584972</td>\n",
              "    </tr>\n",
              "    <tr>\n",
              "      <th>24</th>\n",
              "      <td>account</td>\n",
              "      <td>0.580581</td>\n",
              "    </tr>\n",
              "    <tr>\n",
              "      <th>25</th>\n",
              "      <td>lure</td>\n",
              "      <td>0.579703</td>\n",
              "    </tr>\n",
              "    <tr>\n",
              "      <th>26</th>\n",
              "      <td>optional</td>\n",
              "      <td>0.577029</td>\n",
              "    </tr>\n",
              "    <tr>\n",
              "      <th>27</th>\n",
              "      <td>accessing</td>\n",
              "      <td>0.576156</td>\n",
              "    </tr>\n",
              "    <tr>\n",
              "      <th>28</th>\n",
              "      <td>lows</td>\n",
              "      <td>0.575135</td>\n",
              "    </tr>\n",
              "    <tr>\n",
              "      <th>29</th>\n",
              "      <td>internment</td>\n",
              "      <td>0.574832</td>\n",
              "    </tr>\n",
              "  </tbody>\n",
              "</table>\n",
              "</div>\n",
              "      <button class=\"colab-df-convert\" onclick=\"convertToInteractive('df-0158e4c7-ac90-4c10-a14f-9c19eb6bfd73')\"\n",
              "              title=\"Convert this dataframe to an interactive table.\"\n",
              "              style=\"display:none;\">\n",
              "        \n",
              "  <svg xmlns=\"http://www.w3.org/2000/svg\" height=\"24px\"viewBox=\"0 0 24 24\"\n",
              "       width=\"24px\">\n",
              "    <path d=\"M0 0h24v24H0V0z\" fill=\"none\"/>\n",
              "    <path d=\"M18.56 5.44l.94 2.06.94-2.06 2.06-.94-2.06-.94-.94-2.06-.94 2.06-2.06.94zm-11 1L8.5 8.5l.94-2.06 2.06-.94-2.06-.94L8.5 2.5l-.94 2.06-2.06.94zm10 10l.94 2.06.94-2.06 2.06-.94-2.06-.94-.94-2.06-.94 2.06-2.06.94z\"/><path d=\"M17.41 7.96l-1.37-1.37c-.4-.4-.92-.59-1.43-.59-.52 0-1.04.2-1.43.59L10.3 9.45l-7.72 7.72c-.78.78-.78 2.05 0 2.83L4 21.41c.39.39.9.59 1.41.59.51 0 1.02-.2 1.41-.59l7.78-7.78 2.81-2.81c.8-.78.8-2.07 0-2.86zM5.41 20L4 18.59l7.72-7.72 1.47 1.35L5.41 20z\"/>\n",
              "  </svg>\n",
              "      </button>\n",
              "      \n",
              "  <style>\n",
              "    .colab-df-container {\n",
              "      display:flex;\n",
              "      flex-wrap:wrap;\n",
              "      gap: 12px;\n",
              "    }\n",
              "\n",
              "    .colab-df-convert {\n",
              "      background-color: #E8F0FE;\n",
              "      border: none;\n",
              "      border-radius: 50%;\n",
              "      cursor: pointer;\n",
              "      display: none;\n",
              "      fill: #1967D2;\n",
              "      height: 32px;\n",
              "      padding: 0 0 0 0;\n",
              "      width: 32px;\n",
              "    }\n",
              "\n",
              "    .colab-df-convert:hover {\n",
              "      background-color: #E2EBFA;\n",
              "      box-shadow: 0px 1px 2px rgba(60, 64, 67, 0.3), 0px 1px 3px 1px rgba(60, 64, 67, 0.15);\n",
              "      fill: #174EA6;\n",
              "    }\n",
              "\n",
              "    [theme=dark] .colab-df-convert {\n",
              "      background-color: #3B4455;\n",
              "      fill: #D2E3FC;\n",
              "    }\n",
              "\n",
              "    [theme=dark] .colab-df-convert:hover {\n",
              "      background-color: #434B5C;\n",
              "      box-shadow: 0px 1px 3px 1px rgba(0, 0, 0, 0.15);\n",
              "      filter: drop-shadow(0px 1px 2px rgba(0, 0, 0, 0.3));\n",
              "      fill: #FFFFFF;\n",
              "    }\n",
              "  </style>\n",
              "\n",
              "      <script>\n",
              "        const buttonEl =\n",
              "          document.querySelector('#df-0158e4c7-ac90-4c10-a14f-9c19eb6bfd73 button.colab-df-convert');\n",
              "        buttonEl.style.display =\n",
              "          google.colab.kernel.accessAllowed ? 'block' : 'none';\n",
              "\n",
              "        async function convertToInteractive(key) {\n",
              "          const element = document.querySelector('#df-0158e4c7-ac90-4c10-a14f-9c19eb6bfd73');\n",
              "          const dataTable =\n",
              "            await google.colab.kernel.invokeFunction('convertToInteractive',\n",
              "                                                     [key], {});\n",
              "          if (!dataTable) return;\n",
              "\n",
              "          const docLinkHtml = 'Like what you see? Visit the ' +\n",
              "            '<a target=\"_blank\" href=https://colab.research.google.com/notebooks/data_table.ipynb>data table notebook</a>'\n",
              "            + ' to learn more about interactive tables.';\n",
              "          element.innerHTML = '';\n",
              "          dataTable['output_type'] = 'display_data';\n",
              "          await google.colab.output.renderOutput(dataTable, element);\n",
              "          const docLink = document.createElement('div');\n",
              "          docLink.innerHTML = docLinkHtml;\n",
              "          element.appendChild(docLink);\n",
              "        }\n",
              "      </script>\n",
              "    </div>\n",
              "  </div>\n",
              "  "
            ]
          },
          "metadata": {},
          "execution_count": 57
        }
      ]
    },
    {
      "cell_type": "markdown",
      "source": [
        "### LDA"
      ],
      "metadata": {
        "id": "AGRRunN4hFGH"
      }
    },
    {
      "cell_type": "code",
      "source": [
        "from sklearn.feature_extraction.text import CountVectorizer\n",
        "\n",
        "# Create a matrix using CountVectorizer\n",
        "cv = CountVectorizer(preprocessor = preprocess_text,\n",
        "            tokenizer = tokenize_and_remove_stopwords,\n",
        "            max_features = 10000)"
      ],
      "metadata": {
        "id": "8OXEBsrTkswr"
      },
      "execution_count": null,
      "outputs": []
    },
    {
      "cell_type": "code",
      "source": [
        "data_matrix = cv.fit_transform(df['posts'].apply(lambda x: ' '.join(x)))\n",
        "\n",
        "# Print the matrix\n",
        "print(data_matrix.toarray())"
      ],
      "metadata": {
        "colab": {
          "base_uri": "https://localhost:8080/"
        },
        "id": "tPTxUJLElZPl",
        "outputId": "3e748e30-b206-4f64-c5c8-c5aad580501c"
      },
      "execution_count": null,
      "outputs": [
        {
          "output_type": "stream",
          "name": "stdout",
          "text": [
            "[[0 0 0 ... 0 0 0]\n",
            " [0 0 0 ... 0 0 0]\n",
            " [0 0 0 ... 0 0 0]\n",
            " ...\n",
            " [0 0 0 ... 0 0 0]\n",
            " [0 0 0 ... 0 0 0]\n",
            " [0 0 0 ... 0 0 0]]\n"
          ]
        }
      ]
    },
    {
      "cell_type": "markdown",
      "source": [
        "use LDA from sklearn"
      ],
      "metadata": {
        "id": "j5_jduKTEPtz"
      }
    },
    {
      "cell_type": "code",
      "source": [
        "from sklearn.decomposition import LatentDirichletAllocation\n",
        "\n",
        "LDA = LatentDirichletAllocation(n_components=5, random_state=42)\n",
        "LDA.fit(data_matrix)"
      ],
      "metadata": {
        "colab": {
          "base_uri": "https://localhost:8080/"
        },
        "id": "HlNw5ntpD62M",
        "outputId": "1ea68b45-c6ec-4620-c057-fb8a1efae118"
      },
      "execution_count": null,
      "outputs": [
        {
          "output_type": "execute_result",
          "data": {
            "text/plain": [
              "LatentDirichletAllocation(n_components=5, random_state=42)"
            ]
          },
          "metadata": {},
          "execution_count": 23
        }
      ]
    },
    {
      "cell_type": "code",
      "source": [
        "for i,topic in enumerate(LDA.components_):\n",
        "    print(f\"TOP 10 WORDS PER TOPIC #{i}\")\n",
        "    print([cv.get_feature_names()[index] for index in topic.argsort()[-10:]])"
      ],
      "metadata": {
        "colab": {
          "base_uri": "https://localhost:8080/"
        },
        "id": "35-cl-SREbne",
        "outputId": "2772f4b4-06fa-49f3-9676-76be002c1d21"
      },
      "execution_count": null,
      "outputs": [
        {
          "output_type": "stream",
          "name": "stdout",
          "text": [
            "TOP 10 WORDS PER TOPIC #0\n"
          ]
        },
        {
          "output_type": "stream",
          "name": "stderr",
          "text": [
            "/usr/local/lib/python3.8/dist-packages/sklearn/utils/deprecation.py:87: FutureWarning: Function get_feature_names is deprecated; get_feature_names is deprecated in 1.0 and will be removed in 1.2. Please use get_feature_names_out instead.\n",
            "  warnings.warn(msg, category=FutureWarning)\n"
          ]
        },
        {
          "output_type": "stream",
          "name": "stdout",
          "text": [
            "['people', 'like', '’', 'culture', 'japan', 'japanese', 'korean', 'china', 'korea', 'chinese']\n",
            "TOP 10 WORDS PER TOPIC #1\n",
            "['know', 'email', 'would', 'anyone', 'test', 'got', 'one', 'offer', 'u', 'w']\n",
            "TOP 10 WORDS PER TOPIC #2\n",
            "['americans', 'get', 'would', 'dont', 'us', 'asians', 'like', 'people', '’', 'asian']\n",
            "TOP 10 WORDS PER TOPIC #3\n",
            "['’', 'dont', 'get', 'like', 'china', 'people', 'good', 'us', 'students', 'chinese']\n",
            "TOP 10 WORDS PER TOPIC #4\n",
            "['world', 'like', 'ccp', 'taiwan', 'would', 'people', '’', 'chinese', 'us', 'china']\n"
          ]
        }
      ]
    },
    {
      "cell_type": "markdown",
      "source": [
        "use LDA from gensim"
      ],
      "metadata": {
        "id": "OBceFxAgEU7I"
      }
    },
    {
      "cell_type": "code",
      "source": [
        "import gensim.corpora as corpora\n",
        "# Create Dictionary\n",
        "id2word = corpora.Dictionary(df['text_tokenized'])\n",
        "\n",
        "# Create Corpus\n",
        "texts = df['text_tokenized']\n",
        "\n",
        "# Term Document Frequency\n",
        "corpus = [id2word.doc2bow(text) for text in texts]"
      ],
      "metadata": {
        "id": "UBgGg6i-FayA"
      },
      "execution_count": null,
      "outputs": []
    },
    {
      "cell_type": "code",
      "source": [
        "corpus[0][:15]"
      ],
      "metadata": {
        "colab": {
          "base_uri": "https://localhost:8080/"
        },
        "id": "LFxZsoeeHOJq",
        "outputId": "98133588-1aa4-41ed-d3c8-fb952e1499d7"
      },
      "execution_count": null,
      "outputs": [
        {
          "output_type": "execute_result",
          "data": {
            "text/plain": [
              "[(0, 1),\n",
              " (1, 1),\n",
              " (2, 1),\n",
              " (3, 1),\n",
              " (4, 3),\n",
              " (5, 3),\n",
              " (6, 2),\n",
              " (7, 1),\n",
              " (8, 2),\n",
              " (9, 1),\n",
              " (10, 3),\n",
              " (11, 2),\n",
              " (12, 1),\n",
              " (13, 2),\n",
              " (14, 1)]"
            ]
          },
          "metadata": {},
          "execution_count": 35
        }
      ]
    },
    {
      "cell_type": "code",
      "source": [
        "# Human readable format of corpus (term-frequency)\n",
        "[[(id2word[id], freq) for id, freq in cp] for cp in corpus[:1]][0][:15]"
      ],
      "metadata": {
        "colab": {
          "base_uri": "https://localhost:8080/"
        },
        "id": "DHveW7VCJR-a",
        "outputId": "0e764dc6-1d39-4840-cccd-22d159ab8e47"
      },
      "execution_count": null,
      "outputs": [
        {
          "output_type": "execute_result",
          "data": {
            "text/plain": [
              "[('action', 1),\n",
              " ('actually', 1),\n",
              " ('agree', 1),\n",
              " ('aid', 1),\n",
              " ('al', 3),\n",
              " ('allies', 3),\n",
              " ('ally', 2),\n",
              " ('alone', 1),\n",
              " ('already', 2),\n",
              " ('also', 1),\n",
              " ('alternatives', 3),\n",
              " ('always', 2),\n",
              " ('anything', 1),\n",
              " ('arent', 2),\n",
              " ('assumed', 1)]"
            ]
          },
          "metadata": {},
          "execution_count": 46
        }
      ]
    },
    {
      "cell_type": "code",
      "source": [
        "from gensim.models import LdaModel\n",
        "\n",
        "# Train the model on the corpus.\n",
        "lda = LdaModel(corpus,\n",
        "        id2word=id2word,\n",
        "        num_topics=10,\n",
        "        random_state=42)"
      ],
      "metadata": {
        "colab": {
          "base_uri": "https://localhost:8080/"
        },
        "id": "fWmqa-OahHK7",
        "outputId": "26ca5f88-4162-40fe-f6bc-4ed8d20a20ea"
      },
      "execution_count": null,
      "outputs": [
        {
          "output_type": "stream",
          "name": "stderr",
          "text": [
            "WARNING:gensim.models.ldamodel:too few updates, training might not converge; consider increasing the number of passes or iterations to improve accuracy\n"
          ]
        }
      ]
    },
    {
      "cell_type": "code",
      "source": [
        "lda.print_topics(num_topics=5, num_words=10)"
      ],
      "metadata": {
        "colab": {
          "base_uri": "https://localhost:8080/"
        },
        "id": "0wtBKUQeHpD2",
        "outputId": "1e62fca1-5cb2-43c6-df27-ccb852070c62"
      },
      "execution_count": null,
      "outputs": [
        {
          "output_type": "execute_result",
          "data": {
            "text/plain": [
              "[(0,\n",
              "  '0.011*\"chinese\" + 0.010*\"people\" + 0.007*\"china\" + 0.007*\"’\" + 0.006*\"like\" + 0.005*\"dont\" + 0.005*\"would\" + 0.004*\"us\" + 0.004*\"even\" + 0.004*\"korea\"'),\n",
              " (1,\n",
              "  '0.026*\"china\" + 0.017*\"us\" + 0.007*\"people\" + 0.007*\"chinese\" + 0.007*\"would\" + 0.006*\"country\" + 0.006*\"’\" + 0.006*\"world\" + 0.005*\"like\" + 0.005*\"ccp\"'),\n",
              " (2,\n",
              "  '0.009*\"people\" + 0.008*\"chinese\" + 0.007*\"’\" + 0.007*\"asian\" + 0.006*\"dont\" + 0.005*\"china\" + 0.005*\"women\" + 0.005*\"one\" + 0.005*\"even\" + 0.004*\"also\"'),\n",
              " (3,\n",
              "  '0.017*\"china\" + 0.010*\"chinese\" + 0.006*\"’\" + 0.005*\"people\" + 0.005*\"good\" + 0.004*\"like\" + 0.004*\"also\" + 0.004*\"covid\" + 0.004*\"one\" + 0.004*\"know\"'),\n",
              " (4,\n",
              "  '0.010*\"’\" + 0.008*\"people\" + 0.007*\"china\" + 0.006*\"chinese\" + 0.005*\"like\" + 0.004*\"dont\" + 0.004*\"country\" + 0.003*\"”\" + 0.003*\"asian\" + 0.003*\"“\"'),\n",
              " (5,\n",
              "  '0.010*\"japan\" + 0.008*\"like\" + 0.008*\"people\" + 0.007*\"’\" + 0.005*\"asian\" + 0.005*\"get\" + 0.004*\"think\" + 0.004*\"japanese\" + 0.004*\"china\" + 0.004*\"chinese\"'),\n",
              " (6,\n",
              "  '0.020*\"china\" + 0.014*\"chinese\" + 0.008*\"’\" + 0.006*\"would\" + 0.005*\"taiwan\" + 0.005*\"dont\" + 0.005*\"like\" + 0.005*\"one\" + 0.005*\"us\" + 0.004*\"vaccine\"'),\n",
              " (7,\n",
              "  '0.013*\"chinese\" + 0.008*\"’\" + 0.008*\"us\" + 0.008*\"asian\" + 0.007*\"like\" + 0.007*\"people\" + 0.007*\"get\" + 0.006*\"students\" + 0.005*\"dont\" + 0.005*\"china\"'),\n",
              " (8,\n",
              "  '0.012*\"w\" + 0.009*\"offer\" + 0.009*\"china\" + 0.008*\"“\" + 0.008*\"”\" + 0.006*\"like\" + 0.006*\"’\" + 0.006*\"econ\" + 0.006*\"university\" + 0.005*\"u\"'),\n",
              " (9,\n",
              "  '0.008*\"chinese\" + 0.006*\"china\" + 0.005*\"people\" + 0.005*\"would\" + 0.004*\"like\" + 0.004*\"good\" + 0.004*\"’\" + 0.004*\"dont\" + 0.004*\"think\" + 0.004*\"one\"')]"
            ]
          },
          "metadata": {},
          "execution_count": 50
        }
      ]
    }
  ]
}